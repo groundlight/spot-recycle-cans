{
 "cells": [
  {
   "cell_type": "markdown",
   "id": "c51a6d92",
   "metadata": {},
   "source": [
    "## Imports"
   ]
  },
  {
   "cell_type": "code",
   "execution_count": 1,
   "id": "00eab6de",
   "metadata": {},
   "outputs": [],
   "source": [
    "import bosdyn.client\n",
    "import bosdyn.client.util\n",
    "import bosdyn.client.robot_command as bdcrc\n",
    "from bosdyn.client.robot_command import RobotCommandClient\n",
    "from bosdyn.geometry import EulerZXY\n",
    "from bosdyn.client.robot_command import RobotCommandBuilder\n",
    "from bosdyn.client.image import ImageClient\n",
    "from bosdyn.util import seconds_to_duration\n",
    "\n",
    "from bosdyn.api import (arm_command_pb2, geometry_pb2, robot_command_pb2, synchronized_command_pb2,\n",
    "                        trajectory_pb2)\n",
    "\n",
    "import cv2\n",
    "from groundlight import Groundlight\n",
    "import pdb \n",
    "import time\n",
    "import numpy as np\n",
    "import matplotlib.pyplot as plt\n",
    "\n",
    "from copy import deepcopy\n",
    "\n",
    "from PIL import Image\n",
    "import io\n",
    "np.random.seed(0)"
   ]
  },
  {
   "cell_type": "markdown",
   "id": "3006b08c",
   "metadata": {},
   "source": [
    "## Setup"
   ]
  },
  {
   "cell_type": "code",
   "execution_count": 2,
   "id": "c517f412",
   "metadata": {},
   "outputs": [],
   "source": [
    "#Setup\n",
    "sdk = bosdyn.client.create_standard_sdk('ASTRO')\n",
    "robot = sdk.create_robot('192.168.50.3')\n",
    "id_client = robot.ensure_client('robot-id')\n",
    "\n",
    "#Authenticate\n",
    "\n",
    "#works in python but not in notebook\n",
    "#bosdyn.client.util.authenticate(robot)\n",
    "\n",
    "#works everywhere\n",
    "robot.authenticate('user', 'r4kr99yw3hje')\n",
    "\n",
    "#State\n",
    "robot_state_client = robot.ensure_client('robot-state')\n",
    "\n",
    "#Create command client\n",
    "command_client = robot.ensure_client(RobotCommandClient.default_service_name)\n",
    "\n",
    "#image client\n",
    "image_client = robot.ensure_client(ImageClient.default_service_name)"
   ]
  },
  {
   "cell_type": "markdown",
   "id": "214aca9c",
   "metadata": {},
   "source": [
    "## Battery Checks"
   ]
  },
  {
   "cell_type": "code",
   "execution_count": 3,
   "id": "d997725e",
   "metadata": {},
   "outputs": [],
   "source": [
    "#Battery\n",
    "\n",
    "def getBattInfo():\n",
    "    \n",
    "    robot_state = robot_state_client.get_robot_state()\n",
    "    \n",
    "    battery_state = robot_state.battery_states[0]\n",
    "    \n",
    "    chargePercent = battery_state.charge_percentage\n",
    "    \n",
    "    runtimeRemaining = battery_state.estimated_runtime\n",
    "    \n",
    "    return chargePercent.value, runtimeRemaining.seconds"
   ]
  },
  {
   "cell_type": "code",
   "execution_count": 71,
   "id": "6a597a8a",
   "metadata": {},
   "outputs": [
    {
     "name": "stdout",
     "output_type": "stream",
     "text": [
      "Battery at: 62.0 %. Robot has 3516 seconds left\n"
     ]
    }
   ],
   "source": [
    "chargePercent, runtimeRemaining = getBattInfo()\n",
    "\n",
    "print(\"Battery at:\", chargePercent, \"%. Robot has\", runtimeRemaining, \"seconds left\")"
   ]
  },
  {
   "cell_type": "markdown",
   "id": "f2abb3fb",
   "metadata": {},
   "source": [
    "## Lease"
   ]
  },
  {
   "cell_type": "code",
   "execution_count": 5,
   "id": "f5e3e2ea",
   "metadata": {},
   "outputs": [],
   "source": [
    "lease_client = robot.ensure_client('lease')\n",
    "lease = lease_client.acquire()\n",
    "lease_keep_alive = bosdyn.client.lease.LeaseKeepAlive(lease_client)"
   ]
  },
  {
   "cell_type": "markdown",
   "id": "d3dca99e",
   "metadata": {},
   "source": [
    "## Power"
   ]
  },
  {
   "cell_type": "code",
   "execution_count": 73,
   "id": "0f324726",
   "metadata": {},
   "outputs": [
    {
     "name": "stdout",
     "output_type": "stream",
     "text": [
      "True\n"
     ]
    }
   ],
   "source": [
    "#Power on and time_sync\n",
    "\n",
    "robot.power_on(timeout_sec=20)\n",
    "\n",
    "print(robot.is_powered_on())\n",
    "\n",
    "robot.time_sync.wait_for_sync()"
   ]
  },
  {
   "cell_type": "markdown",
   "id": "6793c005",
   "metadata": {},
   "source": [
    "## Movement"
   ]
  },
  {
   "cell_type": "code",
   "execution_count": 56,
   "id": "2e4d06a3",
   "metadata": {},
   "outputs": [],
   "source": [
    "# SIT\n",
    "cmd = RobotCommandBuilder.synchro_sit_command()"
   ]
  },
  {
   "cell_type": "code",
   "execution_count": 10,
   "id": "9f753732",
   "metadata": {},
   "outputs": [],
   "source": [
    "# STAND\n",
    "cmd = RobotCommandBuilder.synchro_stand_command()"
   ]
  },
  {
   "cell_type": "code",
   "execution_count": 27,
   "id": "23f88792",
   "metadata": {},
   "outputs": [],
   "source": [
    "# SELFRIGHT\n",
    "cmd = RobotCommandBuilder.selfright_command()"
   ]
  },
  {
   "cell_type": "code",
   "execution_count": 67,
   "id": "86980cb5",
   "metadata": {},
   "outputs": [],
   "source": [
    "#Also requires end_time_secs info\n",
    "frameTreeSnapshot = robot.get_frame_tree_snapshot()\n",
    "cmd = RobotCommandBuilder.synchro_trajectory_command_in_body_frame(0, 0, 0.1, frame_tree_snapshot = frameTreeSnapshot)"
   ]
  },
  {
   "cell_type": "code",
   "execution_count": 68,
   "id": "8bc7cbf9",
   "metadata": {},
   "outputs": [],
   "source": [
    "cmd_id = command_client.robot_command(cmd, end_time_secs = time.time()+5)"
   ]
  },
  {
   "cell_type": "markdown",
   "id": "38c08b73",
   "metadata": {},
   "source": [
    "## Spin and take images"
   ]
  },
  {
   "cell_type": "code",
   "execution_count": 16,
   "id": "c3724227",
   "metadata": {},
   "outputs": [],
   "source": [
    "def moveToAndLookAt(moveTo, lookAt, blocking = True):\n",
    "    \"\"\"Takes in two 3 element arrays\n",
    "        First is the coordinates for the gripper to move to\n",
    "        Second is the coordinates for the gripper to look at\n",
    "    \"\"\"\n",
    "\n",
    "    arm_pos_list = [moveTo[0],moveTo[1],moveTo[2]]\n",
    "    dur_sec = 3\n",
    "\n",
    "    duration = seconds_to_duration(dur_sec)\n",
    "\n",
    "\n",
    "    arm_pos = geometry_pb2.Vec3(x=arm_pos_list[0], \n",
    "                                y=arm_pos_list[1], \n",
    "                                z=arm_pos_list[2])\n",
    "    hand_pose = geometry_pb2.SE3Pose(position=arm_pos)\n",
    "    hand_pose_traj_point = trajectory_pb2.SE3TrajectoryPoint(pose=hand_pose,\n",
    "                                                             time_since_reference=duration)\n",
    "    hand_traj = trajectory_pb2.SE3Trajectory(points=[hand_pose_traj_point])\n",
    "\n",
    "\n",
    "    gaze_pos_list = [lookAt[0],lookAt[1],lookAt[2]]\n",
    "    gaze_pos = geometry_pb2.Vec3(x=gaze_pos_list[0],\n",
    "                                 y=gaze_pos_list[1],\n",
    "                                 z=gaze_pos_list[2])\n",
    "    gaze_pos_traj_point = trajectory_pb2.Vec3TrajectoryPoint(point=gaze_pos)\n",
    "    gaze_traj = trajectory_pb2.Vec3Trajectory(points=[gaze_pos_traj_point])\n",
    "\n",
    "    gaze_cmd = arm_command_pb2.GazeCommand.Request(target_trajectory_in_frame1=gaze_traj,\n",
    "                                                   frame1_name='body',\n",
    "                                                   tool_trajectory_in_frame2=hand_traj,\n",
    "                                                   frame2_name='body')\n",
    "\n",
    "    arm_command = arm_command_pb2.ArmCommand.Request(arm_gaze_command=gaze_cmd)\n",
    "    synchronized_command = synchronized_command_pb2.SynchronizedCommand.Request(arm_command=arm_command)\n",
    "    command = robot_command_pb2.RobotCommand(synchronized_command=synchronized_command)\n",
    "    gaze_command_id = command_client.robot_command(command)\n",
    "    if(blocking):\n",
    "        bdcrc.block_until_arm_arrives(command_client, gaze_command_id, timeout_sec = time.time() + 3.0)"
   ]
  },
  {
   "cell_type": "code",
   "execution_count": 17,
   "id": "ae10cdc9",
   "metadata": {},
   "outputs": [],
   "source": [
    "def blocking_stow():\n",
    "    cmd = RobotCommandBuilder.arm_stow_command()\n",
    "    cmd_id = command_client.robot_command(cmd)\n",
    "    bdcrc.block_until_arm_arrives(command_client, cmd_id, timeout_sec = time.time() + 3.0)"
   ]
  },
  {
   "cell_type": "code",
   "execution_count": 18,
   "id": "2f10d7c0",
   "metadata": {},
   "outputs": [],
   "source": [
    "def capAndShowImage(image_client, saveName):\n",
    "    \n",
    "    image_response = image_client.get_image_from_sources([\"hand_color_image\"])[0]\n",
    "    image = Image.open(io.BytesIO(image_response.shot.image.data))\n",
    "    image.save(saveName)"
   ]
  },
  {
   "cell_type": "code",
   "execution_count": 53,
   "id": "a25b771f",
   "metadata": {},
   "outputs": [],
   "source": [
    "#Self right and stand up\n",
    "bdcrc.blocking_selfright(command_client, timeout_sec = 10)\n",
    "bdcrc.blocking_stand(command_client)"
   ]
  },
  {
   "cell_type": "code",
   "execution_count": null,
   "id": "f2510fef",
   "metadata": {},
   "outputs": [],
   "source": []
  },
  {
   "cell_type": "code",
   "execution_count": 34,
   "id": "94676327",
   "metadata": {},
   "outputs": [],
   "source": [
    "GROUNDLIGHT_API_TOKEN = 'api_2AaZ8QiCOvUFeHLJWGg8NTCPOAJ_uBTv8nu8U82Nv59ZHhi134HkAAirX4dwZw'\n",
    "\n",
    "gl = Groundlight(api_token=GROUNDLIGHT_API_TOKEN)\n",
    "\n",
    "# Call an API method (e.g., retrieve a list of detectors)\n",
    "detectors = gl.list_detectors()\n",
    "\n",
    "det = detectors.results[0]"
   ]
  },
  {
   "cell_type": "code",
   "execution_count": 41,
   "id": "e4a18072",
   "metadata": {},
   "outputs": [],
   "source": []
  },
  {
   "cell_type": "code",
   "execution_count": 74,
   "id": "355169b0",
   "metadata": {},
   "outputs": [
    {
     "name": "stdout",
     "output_type": "stream",
     "text": [
      "[0.8824133114119497, 0.23936206988191333, 0.467403143180112]\n",
      "[0.8622863899874842, -0.16558377239376265, 0.6640491997816265]\n",
      "[0.7853630075752571, -0.38941051379288044, 0.21251016613899762]\n",
      "[0.6444422582844495, 0.3854635118546026, 0.3305332763359893]\n",
      "[0.7492174096495988, 0.11157801311897886, 0.2317261455166558]\n",
      "[0.6410700815056797, 0.25769418655539644, 0.07086312071248216]\n",
      "[0.7533956947639369, -0.2205463768202086, -0.011939963955369365]\n",
      "[0.8586574552265049, 0.37833559121850424, 0.7647511922567002]\n",
      "[0.8719666497663536, 0.21923786615891105, 0.19983063682577776]\n",
      "[0.624330416996399, -0.07420706286895412, 0.10901072795384847]\n",
      "[0.6397462904273948, -0.35725825457053983, 0.5530349277895209]\n",
      "[0.6034282375875093, 0.21646459880222102, 0.03225198086033754]\n",
      "[0.6238566247760267, -0.3283175726091157, 0.5048430266185231]\n",
      "[0.6736101629558534, -0.06356842665592122, 0.4016319121915253]\n",
      "[0.8581653521486381, 0.1816354101690626, 0.14329511471484319]\n",
      "[0.6394448397873382, -0.35570054366304166, 0.17143877103284824]\n",
      "[0.6786354447719034, -0.03508754655961627, 0.5149532019929124]\n",
      "[0.8086876336916572, -0.1731849227342667, 0.24193426031010842]\n",
      "[0.6543452885210709, 0.23083640984521503, -0.04883673121008373]\n",
      "[0.8090991725174962, 0.22295631675288274, 0.5996668056638779]\n",
      "[0.6778267693036064, -0.10094948965395084, 0.4288396716767502]\n",
      "[0.6818465707273401, -0.10331776062568904, 0.07734885216707568]\n",
      "[0.7379567651268022, -0.36431015899670877, 0.6198162961135563]\n",
      "[0.6230869340959898, 0.01506811906522082, 0.1761290895906765]\n",
      "[0.7732628846494126, 0.3675466726667401, 0.4810132200104035]\n",
      "[0.6106087307266472, -0.055678048393551005, 0.3590151670864252]\n",
      "[0.7608532484110356, 0.14511400848307032, 0.14983648795858948]\n",
      "[0.6386581696398961, -0.08585945876232454, 0.760765150516354]\n",
      "[0.6561392675252534, 0.3231871639425896, 0.38942535506959375]\n",
      "[0.7370734264937298, 0.30563312818391164, 0.31274356559172733]\n"
     ]
    }
   ],
   "source": [
    "#Self right and stand up\n",
    "bdcrc.blocking_selfright(command_client, timeout_sec = 10)\n",
    "bdcrc.blocking_stand(command_client)\n",
    "\n",
    "cmd = RobotCommandBuilder.claw_gripper_open_fraction_command(1.0)\n",
    "cmd_id = command_client.robot_command(cmd, end_time_secs = time.time()+5)\n",
    "\n",
    "#Set the look at position\n",
    "lookAt = [1.5, 0, -0.5]\n",
    "\n",
    "for i in range(6):\n",
    "    \n",
    "    for i in range(5):\n",
    "        #Move Arm to random position \n",
    "        xPosRand = np.random.uniform(0.6,0.9)\n",
    "        yPosRand = np.random.uniform(-0.4,0.4)\n",
    "        zPosRand = np.random.uniform(-0.1,0.8)\n",
    "\n",
    "        moveTo = [xPosRand, yPosRand, zPosRand]\n",
    "        moveToAndLookAt(moveTo, lookAt, blocking = True)\n",
    "\n",
    "        print(moveTo)\n",
    "\n",
    "        #CAP IMAGE AND CALL GL DETECTOR HERE\n",
    "        capAndShowImage(image_client, 'handColorImage.jpg')\n",
    "        image_query = gl.submit_image_query(detector_id=det.id, image = \"handColorImage.jpg\")\n",
    "    \n",
    "    blocking_stow()\n",
    "    \n",
    "    #Also requires end_time_secs info\n",
    "    frameTreeSnapshot = robot.get_frame_tree_snapshot()\n",
    "    rotate_cmd = RobotCommandBuilder.synchro_trajectory_command_in_body_frame(0, 0, 2*np.pi/3, frame_tree_snapshot = frameTreeSnapshot)\n",
    "    rotate_cmd_id = command_client.robot_command(rotate_cmd, end_time_secs = time.time()+5)\n",
    "    bdcrc.block_for_trajectory_cmd(command_client, rotate_cmd_id)\n",
    "    \n",
    "    \n",
    "bdcrc.blocking_sit(command_client)\n",
    "    "
   ]
  },
  {
   "cell_type": "code",
   "execution_count": 50,
   "id": "8c52092b",
   "metadata": {},
   "outputs": [],
   "source": [
    "bdcrc.blocking_sit(command_client)"
   ]
  },
  {
   "cell_type": "code",
   "execution_count": null,
   "id": "e1981457",
   "metadata": {},
   "outputs": [],
   "source": []
  }
 ],
 "metadata": {
  "kernelspec": {
   "display_name": "Python 3 (ipykernel)",
   "language": "python",
   "name": "python3"
  },
  "language_info": {
   "codemirror_mode": {
    "name": "ipython",
    "version": 3
   },
   "file_extension": ".py",
   "mimetype": "text/x-python",
   "name": "python",
   "nbconvert_exporter": "python",
   "pygments_lexer": "ipython3",
   "version": "3.7.12"
  }
 },
 "nbformat": 4,
 "nbformat_minor": 5
}
