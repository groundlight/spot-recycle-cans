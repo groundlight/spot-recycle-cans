{
 "cells": [
  {
   "cell_type": "code",
   "execution_count": 1,
   "id": "7136e119",
   "metadata": {},
   "outputs": [],
   "source": [
    "%load_ext autoreload\n",
    "%autoreload 2"
   ]
  },
  {
   "cell_type": "code",
   "execution_count": 191,
   "id": "a57c0099",
   "metadata": {},
   "outputs": [],
   "source": [
    "import os\n",
    "import sys\n",
    "module_path = os.path.abspath(os.path.join('..'))\n",
    "if module_path not in sys.path:\n",
    "    sys.path.append(module_path)\n",
    "\n",
    "from spot_gl.spot_basic import *\n",
    "from spot_gl.spot_arm import *\n",
    "from spot_gl.spot_graph_nav import *\n",
    "from spot_gl.gl_functions import *"
   ]
  },
  {
   "cell_type": "code",
   "execution_count": 3,
   "id": "dfcb1016",
   "metadata": {},
   "outputs": [],
   "source": [
    "# sdk, robot, id_client, \\\n",
    "# robot_state_client, command_client, \\\n",
    "# image_client, graph_nav_client, \\\n",
    "# world_object_client, manipulation_api_client = init_robot('192.168.50.3')"
   ]
  },
  {
   "cell_type": "code",
   "execution_count": 4,
   "id": "b633e720",
   "metadata": {},
   "outputs": [],
   "source": [
    "# lease_client, lease, lease_keep_alive = get_lease(robot)"
   ]
  },
  {
   "cell_type": "code",
   "execution_count": 5,
   "id": "375e1824",
   "metadata": {},
   "outputs": [],
   "source": [
    "# Initialize Groundlight API\n",
    "gl = gl_init()\n",
    "detectors = gl.list_detectors()\n",
    "\n",
    "chair_stem_det = detectors.results[0]\n",
    "hand_raise_det = detectors.results[2]"
   ]
  },
  {
   "cell_type": "code",
   "execution_count": 455,
   "id": "1b530b61",
   "metadata": {},
   "outputs": [
    {
     "name": "stdout",
     "output_type": "stream",
     "text": [
      "Battery at: 8.0 %. Robot has 450 seconds left\n"
     ]
    },
    {
     "data": {
      "text/plain": [
       "(8.0, 450)"
      ]
     },
     "execution_count": 455,
     "metadata": {},
     "output_type": "execute_result"
    }
   ],
   "source": [
    "get_batt_info(robot_state_client)"
   ]
  },
  {
   "cell_type": "code",
   "execution_count": 457,
   "id": "e5a6b665",
   "metadata": {},
   "outputs": [],
   "source": [
    "cmd = RobotCommandBuilder.battery_change_pose_command(dir_hint=1)\n",
    "cmd_id = command_client.robot_command(cmd, end_time_secs = time.time()+timeout_sec)"
   ]
  },
  {
   "cell_type": "code",
   "execution_count": 198,
   "id": "04273a37",
   "metadata": {},
   "outputs": [],
   "source": [
    "success = power_on(robot)"
   ]
  },
  {
   "cell_type": "code",
   "execution_count": 456,
   "id": "19aa1ac1",
   "metadata": {},
   "outputs": [],
   "source": [
    "bdcrc.blocking_selfright(command_client)"
   ]
  },
  {
   "cell_type": "code",
   "execution_count": 263,
   "id": "fc823017",
   "metadata": {},
   "outputs": [],
   "source": [
    "bdcrc.blocking_stand(command_client)"
   ]
  },
  {
   "cell_type": "code",
   "execution_count": 14,
   "id": "e7b176d7",
   "metadata": {},
   "outputs": [],
   "source": [
    "# move_robot_relative(command_client, robot, -1, -0.3, 0)"
   ]
  },
  {
   "cell_type": "code",
   "execution_count": 9,
   "id": "569ca916",
   "metadata": {},
   "outputs": [],
   "source": [
    "# upload_graph_and_snapshots(graph_nav_client, graph_upload_filepath)\n",
    "# success = graph_localize_fiducial(command_client, graph_nav_client, robot_state_client, robot)\n",
    "# waypoint_list = create_waypoint_list(graph_nav_client) \n",
    "\n",
    "# nav_to_cmd_id = graph_nav_client.navigate_to(waypoint_list[14], cmd_duration = 15)\n",
    "# wait_until_finished_nav(graph_nav_client, nav_to_cmd_id)"
   ]
  },
  {
   "cell_type": "code",
   "execution_count": 15,
   "id": "b321ee2c",
   "metadata": {},
   "outputs": [],
   "source": [
    "def get_fid_info(world_object_client, fid_num):\n",
    "    request_fiducials = [world_object_pb2.WORLD_OBJECT_APRILTAG]\n",
    "    fiducial_objects = world_object_client.list_world_objects(\n",
    "                object_type=request_fiducials).world_objects\n",
    "    time.sleep(0.5)\n",
    "\n",
    "    fid = None\n",
    "    for fiducial_obj in fiducial_objects:\n",
    "        if fiducial_obj.apriltag_properties.tag_id == fid_num:\n",
    "            fid = fiducial_obj\n",
    "    if fid is None:\n",
    "        logging.error(\"COULD NOT FIND FIDUCIAL {}\".format(fid_num))\n",
    "        return None\n",
    "    fid_tree_snapshot = fid.transforms_snapshot\n",
    "    vision_tform_fid = get_a_tform_b(fid_tree_snapshot, \n",
    "                                         frame_a = 'vision', \n",
    "                                         frame_b ='filtered_fiducial_{}'.format(fid_num))\n",
    "    fid_loc = {'fid_tree_snapshot': fid_tree_snapshot,\n",
    "               'vision_tform_fid': vision_tform_fid}\n",
    "    \n",
    "    return fid_loc"
   ]
  },
  {
   "cell_type": "code",
   "execution_count": 16,
   "id": "f2267f5a",
   "metadata": {},
   "outputs": [],
   "source": [
    "def robot_go_to_in_fid_frame(command_client, vision_tform_fid, x, y, z):\n",
    "    robot_rot = np.array([0,1,0])\n",
    "\n",
    "    robot_rot_obj = sciRot.from_euler('xyz',np.pi/2*robot_rot)\n",
    "    robot_rot_mtx = robot_rot_obj.as_matrix()\n",
    "    robot_rot_quat = bdcmh.Quat.from_matrix(robot_rot_mtx)\n",
    "\n",
    "    robot_pose_fid_frame_proto = geometry_pb2.SE3Pose(\n",
    "        position = geometry_pb2.Vec3(x = x, y = y, z = z),\n",
    "        rotation = robot_rot_quat.to_proto()\n",
    "    )\n",
    "\n",
    "    robot_pose_fid_frame_se3 = bdcmh.SE3Pose.from_proto(robot_pose_fid_frame_proto)\n",
    "\n",
    "    robot_pose_vision_frame_se3 = (vision_tform_fid * robot_pose_fid_frame_se3)\n",
    "\n",
    "    flat_robot_pose_vision_frame_se2 = bdcmh.SE2Pose.flatten(robot_pose_vision_frame_se3)\n",
    "    flat_robot_pose_vision_frame_se2.to_proto()\n",
    "\n",
    "    cmd = RobotCommandBuilder.synchro_se2_trajectory_command(\n",
    "        goal_se2 = flat_robot_pose_vision_frame_se2.to_proto(), \n",
    "        frame_name = 'vision'\n",
    "    )\n",
    "\n",
    "    cmd_id = command_client.robot_command(cmd, end_time_secs = time.time()+timeout_sec)\n",
    "    bdcrc.block_for_trajectory_cmd(command_client, cmd_id, timeout_sec = timeout_sec)"
   ]
  },
  {
   "cell_type": "code",
   "execution_count": 414,
   "id": "9608bf9a",
   "metadata": {},
   "outputs": [],
   "source": [
    "def hand_go_to_in_fid_frame(command_client, \n",
    "                            vision_tform_fid, x, y, z, \n",
    "                            hand_rot = np.array([0,1,0])*np.pi/2, \n",
    "                            blocking = True, follow = False):\n",
    "    \n",
    "    rotObj = sciRot.from_euler('xyz',hand_rot)\n",
    "    rot_mtx = rotObj.as_matrix()\n",
    "    rot_quat = bdcmh.Quat.from_matrix(rot_mtx)\n",
    "\n",
    "    hand_pose_fid_frame_proto = geometry_pb2.SE3Pose(\n",
    "        position = geometry_pb2.Vec3(x = x, y = y, z = z), \n",
    "        rotation = rot_quat.to_proto())\n",
    "\n",
    "    hand_pose_fid_frame_se3 = bdcmh.SE3Pose.from_proto(hand_pose_fid_frame_proto)\n",
    "\n",
    "    hand_pose_vision_frame_se3 = (vision_tform_fid * hand_pose_fid_frame_se3)\n",
    "    \n",
    "    body_cmd = RobotCommandBuilder.follow_arm_command()\n",
    "    cmd = RobotCommandBuilder.arm_pose_command(x = hand_pose_vision_frame_se3.x,\n",
    "                                               y = hand_pose_vision_frame_se3.y,\n",
    "                                               z = hand_pose_vision_frame_se3.z,\n",
    "                                               qw = hand_pose_vision_frame_se3.rotation.w,\n",
    "                                               qx = hand_pose_vision_frame_se3.rotation.x,\n",
    "                                               qy = hand_pose_vision_frame_se3.rotation.y,\n",
    "                                               qz = hand_pose_vision_frame_se3.rotation.z,\n",
    "                                               frame_name = 'vision')\n",
    "    if follow:\n",
    "        cmd = RobotCommandBuilder.build_synchro_command(body_cmd, cmd)\n",
    "\n",
    "    cmd_id = command_client.robot_command(cmd, end_time_secs = time.time()+timeout_sec)\n",
    "    \n",
    "    if blocking:\n",
    "        bdcrc.block_until_arm_arrives(command_client, cmd_id, timeout_sec = timeout_sec)"
   ]
  },
  {
   "cell_type": "code",
   "execution_count": 415,
   "id": "f8e6bceb",
   "metadata": {},
   "outputs": [],
   "source": [
    "def gripper_close_with_torque(command_client, torque):\n",
    "    \n",
    "    \"\"\"torque can range from 0-16.25 N*m\"\"\"\n",
    "    # robot_state = robot_state_client.get_robot_state()\n",
    "    # print(robot_state.kinematic_state.joint_states[-1].load)\n",
    "    gripper_traj_point = trajectory_pb2.ScalarTrajectoryPoint(point = 0)\n",
    "\n",
    "    gripper_traj = trajectory_pb2.ScalarTrajectory(points = [gripper_traj_point])\n",
    "\n",
    "    claw_gripper_command = gripper_command_pb2. \\\n",
    "        ClawGripperCommand.Request(trajectory = gripper_traj,\n",
    "                                   maximum_torque = wrappers_pb2.DoubleValue(value = torque))\n",
    "\n",
    "    gripper_command = gripper_command_pb2. \\\n",
    "        GripperCommand.Request(claw_gripper_command = claw_gripper_command)\n",
    "\n",
    "    synchronized_command = synchronized_command_pb2.SynchronizedCommand.Request(\n",
    "        gripper_command = gripper_command)\n",
    "\n",
    "    gripper_close_command = robot_command_pb2.RobotCommand(synchronized_command = synchronized_command)\n",
    "\n",
    "    gripper_cmd_id = command_client.robot_command(gripper_close_command, \n",
    "                                              end_time_secs = time.time()+timeout_sec)"
   ]
  },
  {
   "cell_type": "code",
   "execution_count": null,
   "id": "e46b7347",
   "metadata": {},
   "outputs": [],
   "source": []
  },
  {
   "cell_type": "code",
   "execution_count": 441,
   "id": "835d6b0c",
   "metadata": {},
   "outputs": [
    {
     "data": {
      "text/plain": [
       "True"
      ]
     },
     "execution_count": 441,
     "metadata": {},
     "output_type": "execute_result"
    }
   ],
   "source": [
    "gripper_open(command_client)\n",
    "blocking_stow(command_client)"
   ]
  },
  {
   "cell_type": "code",
   "execution_count": 442,
   "id": "e9a13ecd",
   "metadata": {},
   "outputs": [],
   "source": [
    "body_orientation = bosdyn.geometry.EulerZXY(yaw = 0, roll = 0, pitch = -np.pi/4)\n",
    "cmd = RobotCommandBuilder.synchro_stand_command(body_height = 0.15,\n",
    "                                                footprint_R_body = body_orientation)\n",
    "cmd_id = command_client.robot_command(cmd, end_time_secs = time.time()+timeout_sec)\n",
    "time.sleep(1)"
   ]
  },
  {
   "cell_type": "code",
   "execution_count": 443,
   "id": "861fe9e8",
   "metadata": {},
   "outputs": [],
   "source": [
    "fid_loc_14 = get_fid_info(world_object_client, 14)\n",
    "vision_tform_fid_14 = fid_loc_14['vision_tform_fid']"
   ]
  },
  {
   "cell_type": "code",
   "execution_count": 444,
   "id": "3bcea189",
   "metadata": {},
   "outputs": [],
   "source": [
    "robot_go_to_in_fid_frame(command_client, vision_tform_fid_14, \n",
    "                        -0.2, 0.0, 0.6)"
   ]
  },
  {
   "cell_type": "code",
   "execution_count": 64,
   "id": "852140dd",
   "metadata": {},
   "outputs": [],
   "source": [
    "# cmd = RobotCommandBuilder.synchro_stand_command(body_height = -0.2)\n",
    "# cmd_id = command_client.robot_command(cmd, end_time_secs = time.time()+timeout_sec)"
   ]
  },
  {
   "cell_type": "code",
   "execution_count": null,
   "id": "62516a24",
   "metadata": {},
   "outputs": [],
   "source": []
  },
  {
   "cell_type": "code",
   "execution_count": 445,
   "id": "2b06a85e",
   "metadata": {},
   "outputs": [],
   "source": [
    "hand_go_to_in_fid_frame(command_client, vision_tform_fid_14, \n",
    "                        -0.43, -0.2, 0.1, \n",
    "                        hand_rot = np.array([-0.5,0,1])*np.pi/2,\n",
    "                        follow = False)\n",
    "\n",
    "time.sleep(0.5)"
   ]
  },
  {
   "cell_type": "code",
   "execution_count": 446,
   "id": "240dbb74",
   "metadata": {},
   "outputs": [],
   "source": [
    "hand_go_to_in_fid_frame(command_client, vision_tform_fid_14, \n",
    "                        -0.43, -0.2, -0.05, \n",
    "                        hand_rot = np.array([-0.5,0,1])*np.pi/2,\n",
    "                        follow = False)\n",
    "\n",
    "time.sleep(0.5)"
   ]
  },
  {
   "cell_type": "code",
   "execution_count": 447,
   "id": "ca0f7114",
   "metadata": {},
   "outputs": [],
   "source": [
    "hand_go_to_in_fid_frame(command_client, vision_tform_fid_14, \n",
    "                        -0.43, 0, -0.05, \n",
    "                        hand_rot = np.array([-0.5,0,1])*np.pi/2,\n",
    "                        follow = False)\n",
    "\n",
    "time.sleep(0.5)"
   ]
  },
  {
   "cell_type": "code",
   "execution_count": 450,
   "id": "5de069c0",
   "metadata": {},
   "outputs": [
    {
     "name": "stdout",
     "output_type": "stream",
     "text": [
      "value: 11.309733390808105\n",
      "\n"
     ]
    }
   ],
   "source": [
    "gripper_close_with_torque(command_client, torque = 16.25)\n",
    "time.sleep(1)\n",
    "robot_state = robot_state_client.get_robot_state()\n",
    "print(robot_state.kinematic_state.joint_states[-1].load)"
   ]
  },
  {
   "cell_type": "code",
   "execution_count": 451,
   "id": "ef334cf2",
   "metadata": {},
   "outputs": [],
   "source": [
    "#def arm_drag_command(command_client):\n",
    "arm_drag_command_request = basic_command_pb2.ArmDragCommand.Request()\n",
    "arm_drag_command = arm_command_pb2.ArmCommand.Request(arm_drag_command = arm_drag_command_request)\n",
    "synchro_arm_drag_command = synchronized_command_pb2.SynchronizedCommand.Request(\n",
    "    arm_command=arm_drag_command)\n",
    "arm_cmd = robot_command_pb2.RobotCommand(synchronized_command=synchro_arm_drag_command)\n",
    "arm_cmd_id = command_client.robot_command(arm_cmd, end_time_secs = time.time()+timeout_sec)"
   ]
  },
  {
   "cell_type": "code",
   "execution_count": 294,
   "id": "5ec6ee1a",
   "metadata": {},
   "outputs": [
    {
     "data": {
      "text/plain": [
       "True"
      ]
     },
     "execution_count": 294,
     "metadata": {},
     "output_type": "execute_result"
    }
   ],
   "source": [
    "blocking_stow(command_client)"
   ]
  },
  {
   "cell_type": "code",
   "execution_count": 411,
   "id": "fa40720d",
   "metadata": {},
   "outputs": [],
   "source": []
  },
  {
   "cell_type": "code",
   "execution_count": null,
   "id": "f87d783d",
   "metadata": {},
   "outputs": [],
   "source": []
  },
  {
   "cell_type": "code",
   "execution_count": null,
   "id": "5319b315",
   "metadata": {},
   "outputs": [],
   "source": []
  },
  {
   "cell_type": "code",
   "execution_count": 433,
   "id": "fb9a8826",
   "metadata": {},
   "outputs": [],
   "source": [
    "move_robot_relative(command_client, robot, 0.2, 0.5, -np.pi/2)"
   ]
  },
  {
   "cell_type": "code",
   "execution_count": 454,
   "id": "bdbb5ea2",
   "metadata": {},
   "outputs": [],
   "source": [
    "move_robot_relative(command_client, robot, 0, 0.3, -np.pi/4)"
   ]
  },
  {
   "cell_type": "code",
   "execution_count": 145,
   "id": "a68f4124",
   "metadata": {},
   "outputs": [
    {
     "ename": "TypeError",
     "evalue": "'Request' object is not callable",
     "output_type": "error",
     "traceback": [
      "\u001b[0;31m---------------------------------------------------------------------------\u001b[0m",
      "\u001b[0;31mTypeError\u001b[0m                                 Traceback (most recent call last)",
      "\u001b[0;32m/tmp/ipykernel_8611/2127527265.py\u001b[0m in \u001b[0;36m<module>\u001b[0;34m\u001b[0m\n\u001b[0;32m----> 1\u001b[0;31m \u001b[0marm_drag_command\u001b[0m\u001b[0;34m(\u001b[0m\u001b[0mcommand_client\u001b[0m\u001b[0;34m)\u001b[0m\u001b[0;34m\u001b[0m\u001b[0;34m\u001b[0m\u001b[0m\n\u001b[0m",
      "\u001b[0;31mTypeError\u001b[0m: 'Request' object is not callable"
     ]
    }
   ],
   "source": [
    "arm_drag_command(command_client)"
   ]
  },
  {
   "cell_type": "code",
   "execution_count": 143,
   "id": "6cc41ba1",
   "metadata": {},
   "outputs": [],
   "source": [
    "gripper_close(command_client)"
   ]
  },
  {
   "cell_type": "code",
   "execution_count": 13,
   "id": "65d9e266",
   "metadata": {},
   "outputs": [],
   "source": [
    "prev_graph_state = graph_del_save_state(graph_nav_client, robot)"
   ]
  },
  {
   "cell_type": "code",
   "execution_count": 43,
   "id": "c62215a7",
   "metadata": {},
   "outputs": [],
   "source": [
    "move_robot_relative(command_client, robot, 0, -0.3, np.pi/6)"
   ]
  },
  {
   "cell_type": "code",
   "execution_count": 30,
   "id": "57c5d1c6",
   "metadata": {},
   "outputs": [
    {
     "name": "stderr",
     "output_type": "stream",
     "text": [
      "WARNING:root:ARM already at desired location and orientation\n"
     ]
    }
   ],
   "source": [
    "move_to_and_look_at(command_client, np.array([0.8, 0, -0.2]), \n",
    "                    np.array([3, 0, -0.2]))\n",
    "gripper_open(command_client)\n",
    "\n",
    "hand_color_image, image_response = cap_hand_image(image_client, 'hand_color_image')"
   ]
  },
  {
   "cell_type": "code",
   "execution_count": null,
   "id": "935f9b79",
   "metadata": {},
   "outputs": [],
   "source": []
  },
  {
   "cell_type": "code",
   "execution_count": 190,
   "id": "92fd3bbe",
   "metadata": {},
   "outputs": [
    {
     "data": {
      "text/plain": [
       "False"
      ]
     },
     "execution_count": 190,
     "metadata": {},
     "output_type": "execute_result"
    }
   ],
   "source": [
    "gripper_open(command_client)\n",
    "blocking_stow(command_client)"
   ]
  },
  {
   "cell_type": "code",
   "execution_count": 1,
   "id": "c9fc6021",
   "metadata": {},
   "outputs": [],
   "source": [
    "# px_tree = sweep_localize(gl, chair_stem_det, hand_color_image, verbose = True)"
   ]
  },
  {
   "cell_type": "code",
   "execution_count": null,
   "id": "c6687d24",
   "metadata": {},
   "outputs": [],
   "source": []
  },
  {
   "cell_type": "code",
   "execution_count": null,
   "id": "7e9cc5d5",
   "metadata": {},
   "outputs": [],
   "source": []
  },
  {
   "cell_type": "code",
   "execution_count": 40,
   "id": "8f1703c8",
   "metadata": {},
   "outputs": [
    {
     "data": {
      "text/plain": [
       "True"
      ]
     },
     "execution_count": 40,
     "metadata": {},
     "output_type": "execute_result"
    }
   ],
   "source": [
    "blocking_stow(command_client)"
   ]
  },
  {
   "cell_type": "code",
   "execution_count": 13,
   "id": "abbb6f66",
   "metadata": {},
   "outputs": [],
   "source": [
    "prev_graph_state = graph_del_save_state(graph_nav_client, robot)"
   ]
  },
  {
   "cell_type": "code",
   "execution_count": 2,
   "id": "6a309e27",
   "metadata": {},
   "outputs": [],
   "source": [
    "gripper_open(command_client)\n",
    "\n",
    "for i in range(1):\n",
    "    \n",
    "    time.sleep(4)\n",
    "    \n",
    "    move_noise = np.random.rand(3)*0.4 - 0.2\n",
    "    look_noise = np.random.rand(3)*0.5 - 0.25\n",
    "    \n",
    "    move_to_and_look_at(command_client, np.array([0.8, 0, -0.2]) + move_noise, \n",
    "                        np.array([3, 0, -0.2]) + look_noise)\n",
    "    \n",
    "    hand_color_image, image_response = cap_hand_image(image_client, 'hand_color_image')\n",
    "\n",
    "    sweep_localize(gl, chair_stem_det, hand_color_image, verbose = True)"
   ]
  },
  {
   "cell_type": "code",
   "execution_count": 3,
   "id": "65de1e4c",
   "metadata": {},
   "outputs": [],
   "source": [
    "sweep_localize(gl, chair_stem_det, hand_color_image, verbose = True)"
   ]
  },
  {
   "cell_type": "code",
   "execution_count": null,
   "id": "55ae5465",
   "metadata": {},
   "outputs": [],
   "source": [
    "image_query = mat_thru_det(gl, hand_raise_det, hand_color_image)"
   ]
  },
  {
   "cell_type": "code",
   "execution_count": 24,
   "id": "2ccec8f1",
   "metadata": {},
   "outputs": [],
   "source": [
    "move_robot_relative(command_client, robot, -1, 0.5, np.pi)"
   ]
  },
  {
   "cell_type": "code",
   "execution_count": 72,
   "id": "1d9599ad",
   "metadata": {},
   "outputs": [
    {
     "data": {
      "text/plain": [
       "True"
      ]
     },
     "execution_count": 72,
     "metadata": {},
     "output_type": "execute_result"
    }
   ],
   "source": [
    "image_query.result.label == 'PASS'"
   ]
  },
  {
   "cell_type": "code",
   "execution_count": 75,
   "id": "020c00df",
   "metadata": {},
   "outputs": [
    {
     "data": {
      "text/plain": [
       "1.0"
      ]
     },
     "execution_count": 75,
     "metadata": {},
     "output_type": "execute_result"
    }
   ],
   "source": [
    "image_query.result.confidence"
   ]
  },
  {
   "cell_type": "code",
   "execution_count": 60,
   "id": "18307969",
   "metadata": {},
   "outputs": [],
   "source": [
    "noise = np.random.rand(3)"
   ]
  },
  {
   "cell_type": "code",
   "execution_count": 62,
   "id": "e94f6d2f",
   "metadata": {},
   "outputs": [
    {
     "data": {
      "text/plain": [
       "array([0.0195254 , 0.08607575, 0.04110535])"
      ]
     },
     "execution_count": 62,
     "metadata": {},
     "output_type": "execute_result"
    }
   ],
   "source": [
    "noise"
   ]
  },
  {
   "cell_type": "code",
   "execution_count": 4,
   "id": "459ce198",
   "metadata": {},
   "outputs": [],
   "source": [
    "# plt.imshow(hand_color_image)"
   ]
  },
  {
   "cell_type": "code",
   "execution_count": 5,
   "id": "26cf2849",
   "metadata": {},
   "outputs": [],
   "source": [
    "# sweep_localize(gl, chair_stem_det, hand_color_image, verbose = True)"
   ]
  },
  {
   "cell_type": "code",
   "execution_count": null,
   "id": "9329c484",
   "metadata": {},
   "outputs": [],
   "source": []
  }
 ],
 "metadata": {
  "kernelspec": {
   "display_name": "Python 3 (ipykernel)",
   "language": "python",
   "name": "python3"
  },
  "language_info": {
   "codemirror_mode": {
    "name": "ipython",
    "version": 3
   },
   "file_extension": ".py",
   "mimetype": "text/x-python",
   "name": "python",
   "nbconvert_exporter": "python",
   "pygments_lexer": "ipython3",
   "version": "3.7.12"
  }
 },
 "nbformat": 4,
 "nbformat_minor": 5
}
