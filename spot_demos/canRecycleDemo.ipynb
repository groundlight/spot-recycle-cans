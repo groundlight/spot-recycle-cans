{
 "cells": [
  {
   "cell_type": "code",
   "execution_count": 7,
   "id": "f6ba47c2",
   "metadata": {},
   "outputs": [
    {
     "name": "stdout",
     "output_type": "stream",
     "text": [
      "The autoreload extension is already loaded. To reload it, use:\n",
      "  %reload_ext autoreload\n"
     ]
    }
   ],
   "source": [
    "%load_ext autoreload\n",
    "%autoreload 2"
   ]
  },
  {
   "cell_type": "code",
   "execution_count": 11,
   "id": "cbf519cc",
   "metadata": {},
   "outputs": [],
   "source": [
    "import os\n",
    "import sys\n",
    "module_path = os.path.abspath(os.path.join('..'))\n",
    "if module_path not in sys.path:\n",
    "    sys.path.append(module_path)\n",
    "\n",
    "from spot_gl.spot_basic import *\n",
    "from spot_gl.spot_arm import *\n",
    "from spot_gl.spot_graph_nav import *\n",
    "from spot_gl.gl_functions import *"
   ]
  },
  {
   "cell_type": "code",
   "execution_count": 3,
   "id": "2b3b5715",
   "metadata": {},
   "outputs": [],
   "source": [
    "#### CONSTANTS ####\n",
    "obj_search_cam_coords = [{'moveTo':[0.35, 0.4, 0.5], 'lookAt':[0.35, 0.6, -0.5]}, \n",
    "                      {'moveTo':[0.6, 0.0, 0.5],  'lookAt':[1.0, 0.0, -0.5]},\n",
    "                      {'moveTo':[0.35, -0.4, 0.5],'lookAt':[0.35, -0.6, -0.5]}]"
   ]
  },
  {
   "cell_type": "code",
   "execution_count": 4,
   "id": "f35482df",
   "metadata": {},
   "outputs": [],
   "source": [
    "sdk, robot, id_client, \\\n",
    "robot_state_client, command_client, \\\n",
    "image_client, graph_nav_client, \\\n",
    "world_object_client, manipulation_api_client = init_robot('192.168.50.3')"
   ]
  },
  {
   "cell_type": "code",
   "execution_count": 5,
   "id": "4370e239",
   "metadata": {},
   "outputs": [],
   "source": [
    "lease_client, lease, lease_keep_alive = get_lease(robot)"
   ]
  },
  {
   "cell_type": "code",
   "execution_count": 6,
   "id": "29db2461",
   "metadata": {},
   "outputs": [],
   "source": [
    "# Initialize Groundlight API\n",
    "gl = Groundlight(api_token=os.environ.get(\"GROUNDLIGHT_API_TOKEN\"))\n",
    "detectors = gl.list_detectors()\n",
    "can_det = detectors.results[0]"
   ]
  },
  {
   "cell_type": "code",
   "execution_count": 1,
   "id": "0393ee45",
   "metadata": {},
   "outputs": [
    {
     "ename": "NameError",
     "evalue": "name 'get_batt_info' is not defined",
     "output_type": "error",
     "traceback": [
      "\u001b[0;31m---------------------------------------------------------------------------\u001b[0m",
      "\u001b[0;31mNameError\u001b[0m                                 Traceback (most recent call last)",
      "\u001b[0;32m/tmp/ipykernel_16363/1379737671.py\u001b[0m in \u001b[0;36m<module>\u001b[0;34m\u001b[0m\n\u001b[0;32m----> 1\u001b[0;31m \u001b[0mget_batt_info\u001b[0m\u001b[0;34m(\u001b[0m\u001b[0mrobot_state_client\u001b[0m\u001b[0;34m)\u001b[0m\u001b[0;34m\u001b[0m\u001b[0;34m\u001b[0m\u001b[0m\n\u001b[0m",
      "\u001b[0;31mNameError\u001b[0m: name 'get_batt_info' is not defined"
     ]
    }
   ],
   "source": [
    "get_batt_info(robot_state_client)"
   ]
  },
  {
   "cell_type": "code",
   "execution_count": 36,
   "id": "4e258ade",
   "metadata": {
    "scrolled": true
   },
   "outputs": [],
   "source": [
    "success = power_on(robot)"
   ]
  },
  {
   "cell_type": "code",
   "execution_count": 37,
   "id": "14fb0b1c",
   "metadata": {},
   "outputs": [],
   "source": [
    "bdcrc.blocking_selfright(command_client, timeout_sec = 20)"
   ]
  },
  {
   "cell_type": "code",
   "execution_count": 11,
   "id": "8bc46c84",
   "metadata": {},
   "outputs": [],
   "source": [
    "def obj_search(command_client, image_client, gl, obj_det, verbose = False):\n",
    "    tree = None\n",
    "    hand_color = None\n",
    "\n",
    "    for hand_pos_ind in range(len(obj_search_cam_coords)):\n",
    "\n",
    "        cmd = RobotCommandBuilder.claw_gripper_open_fraction_command(1.0)\n",
    "        cmd_id = command_client.robot_command(cmd, end_time_secs = time.time()+timeout_sec)\n",
    "\n",
    "        move_to_and_look_at(command_client, \n",
    "                        obj_search_cam_coords[hand_pos_ind]['moveTo'], \n",
    "                        obj_search_cam_coords[hand_pos_ind]['lookAt'])\n",
    "        time.sleep(0.5)\n",
    "        hand_color_img, image_response = cap_hand_image(image_client, 'hand_color_image')\n",
    "        time.sleep(0.1)\n",
    "        tree = sweep_localize(gl, obj_det, hand_color_img, verbose = verbose)\n",
    "\n",
    "        if tree is not None:\n",
    "            print('found OBJ')\n",
    "            return tree, hand_color_img, image_response\n",
    "    print('FAILED TO FIND OBJ')\n",
    "    return None, None, None"
   ]
  },
  {
   "cell_type": "code",
   "execution_count": 12,
   "id": "851bc551",
   "metadata": {
    "scrolled": true
   },
   "outputs": [],
   "source": [
    "# tree, hand_color_img, image_response = obj_search(command_client, image_client, gl, can_det, verbose = True)\n",
    "# fig, ax = plt.subplots(1,1, figsize = (10,8))\n",
    "# plot_tree_on_image(ax, tree, hand_color_img)"
   ]
  },
  {
   "cell_type": "code",
   "execution_count": 38,
   "id": "cf803010",
   "metadata": {},
   "outputs": [
    {
     "name": "stderr",
     "output_type": "stream",
     "text": [
      "WARNING:root:Upload complete! The robot is currently not localized to the map; please localize\n",
      "WARNING:root:FAILED: could not perform fidicial init, will shift and re-attempt\n",
      "WARNING:root:FAILED: could not perform fidicial init, will shift and re-attempt\n",
      "WARNING:root:FAILED: could not perform fidicial init, will shift and re-attempt\n"
     ]
    }
   ],
   "source": [
    "graph_upload_filepath = \"/home/gluser/groundlight/bdspot/spot/loopGraph\"\n",
    "upload_graph_and_snapshots(graph_nav_client, graph_upload_filepath)\n",
    "success = graph_localize_fiducial(command_client, graph_nav_client, robot_state_client, robot)\n",
    "waypoint_list = create_waypoint_list(graph_nav_client)"
   ]
  },
  {
   "cell_type": "code",
   "execution_count": 41,
   "id": "28b1855a",
   "metadata": {},
   "outputs": [],
   "source": [
    "nav_to_cmd_id = graph_nav_client.navigate_to(waypoint_list[0], cmd_duration = 15)"
   ]
  },
  {
   "cell_type": "code",
   "execution_count": 49,
   "id": "5b544c01",
   "metadata": {},
   "outputs": [
    {
     "data": {
      "text/plain": [
       "True"
      ]
     },
     "execution_count": 49,
     "metadata": {},
     "output_type": "execute_result"
    }
   ],
   "source": [
    "frame_tree_snapshot = robot.get_frame_tree_snapshot()\n",
    "cmd = RobotCommandBuilder. \\\n",
    "synchro_trajectory_command_in_body_frame(-3, \n",
    "                                         0, \n",
    "                                         0,\n",
    "                                         frame_tree_snapshot = frame_tree_snapshot,\n",
    "                                         locomotion_hint = 0)\n",
    "cmd_id = cmd_id = command_client.robot_command(cmd, end_time_secs = time.time()+timeout_sec)\n",
    "bdcrc.block_for_trajectory_cmd(command_client, cmd_id, timeout_sec = timeout_sec)"
   ]
  },
  {
   "cell_type": "code",
   "execution_count": null,
   "id": "0bd98221",
   "metadata": {},
   "outputs": [],
   "source": [
    "    frame_tree_snapshot = robot.get_frame_tree_snapshot()\n",
    "    cmd = RobotCommandBuilder.synchro_trajectory_command_in_body_frame(x_meters, y_meters, theta_rad, frame_tree_snapshot = frame_tree_snapshot)\n",
    "    cmd_id = cmd_id = command_client.robot_command(cmd, end_time_secs = time.time()+timeout_sec)\n",
    "    if blocking:\n",
    "        bdcrc.block_for_trajectory_cmd(command_client, cmd_id, timeout_sec = timeout_sec)"
   ]
  },
  {
   "cell_type": "code",
   "execution_count": 19,
   "id": "3bf69046",
   "metadata": {},
   "outputs": [
    {
     "name": "stdout",
     "output_type": "stream",
     "text": [
      "25\n",
      "5\n",
      "6\n",
      "9\n",
      "10\n",
      "12\n",
      "15\n",
      "17\n",
      "18\n",
      "19\n",
      "20\n",
      "21\n",
      "23\n",
      "24\n"
     ]
    }
   ],
   "source": [
    "# loop_waypoints = [25, 5, 6, 9, 10, 12, 15, 17, 18, 19, 20, 21, 23, 24]\n",
    "\n",
    "# for wp in loop_waypoints:\n",
    "#     print(wp)\n",
    "#     nav_to_cmd_id = graph_nav_client.navigate_to(waypoint_list[wp], cmd_duration = 15)\n",
    "#     wait_until_finished_nav(graph_nav_client, nav_to_cmd_id)"
   ]
  },
  {
   "cell_type": "code",
   "execution_count": 22,
   "id": "283e9ac0",
   "metadata": {},
   "outputs": [],
   "source": [
    "#loop_waypoints = [25, 5, 6, 9, 10, 12, 15, 17, 18, 19, 20, 21, 23, 24]\n",
    "\n",
    "def loop_until_grasp(graph_nav_client, \n",
    "                     command_client, \n",
    "                     image_client, \n",
    "                     manipulation_api_client,\n",
    "                     loop_waypoints = [9, 10, 12],\n",
    "                     verbose = False):\n",
    "    while True:\n",
    "        for waypoint_ind in loop_waypoints:\n",
    "            nav_to_cmd_id = graph_nav_client.navigate_to(waypoint_list[waypoint_ind], cmd_duration = 15)\n",
    "            wait_until_finished_nav(graph_nav_client, nav_to_cmd_id)\n",
    "\n",
    "            wp_loc_proto = graph_del_get_graph_loc(graph_nav_client)\n",
    "\n",
    "            tree, hand_color_img, image_response = obj_search(command_client, image_client, gl, can_det, verbose = verbose)\n",
    "            \n",
    "            cmd = RobotCommandBuilder.arm_stow_command()\n",
    "            cmd_id = command_client.robot_command(cmd, end_time_secs = time.time()+5)\n",
    "\n",
    "            if tree is None:\n",
    "                upload_graph_and_snapshots(graph_nav_client, upload_filepath)\n",
    "#                 try:\n",
    "#                     print('attempting to localize with guess')\n",
    "#                     graph_localize_guess(graph_nav_client, robot_state_client, wp_loc_proto)\n",
    "#                 except bosdyn.client.graph_nav.RequestFailedError as e:\n",
    "#                     print('FAILED TO LOCALIZE WITH GUESS, FINDING FIDUCIAL NOW')\n",
    "                graph_localize_fiducial(command_client, graph_nav_client, robot_state_client, robot)\n",
    "                continue\n",
    "\n",
    "            pxLoc = assemble_px_tree(tree)\n",
    "            pick_vec = geometry_pb2.Vec2(x=pxLoc[0], y=pxLoc[1])\n",
    "            grasp = manipulation_api_pb2.PickObjectInImage(\n",
    "                pixel_xy=pick_vec, transforms_snapshot_for_camera=image_response.shot.transforms_snapshot,\n",
    "                frame_name_image_sensor=image_response.shot.frame_name_image_sensor,\n",
    "                camera_model=image_response.source.pinhole)#, grasp_params = graspParams)\n",
    "            grasp_request = manipulation_api_pb2.ManipulationApiRequest(pick_object_in_image=grasp)\n",
    "            response, success = make_grasp(grasp_request, manipulation_api_client, command_client, graph_nav_client, verbose = verbose)\n",
    "        \n",
    "            return response, success, tree, hand_color_img\n",
    "\n",
    "    "
   ]
  },
  {
   "cell_type": "code",
   "execution_count": 27,
   "id": "b236c53c",
   "metadata": {},
   "outputs": [
    {
     "name": "stdout",
     "output_type": "stream",
     "text": [
      "found OBJ\n"
     ]
    }
   ],
   "source": [
    "response, success, tree, hand_color_img = loop_until_grasp(graph_nav_client, command_client, image_client, manipulation_api_client)"
   ]
  },
  {
   "cell_type": "code",
   "execution_count": 29,
   "id": "7bce0b67",
   "metadata": {},
   "outputs": [],
   "source": [
    "def get_recycle_coords(world_object_client,):\n",
    "    request_fiducials = [world_object_pb2.WORLD_OBJECT_APRILTAG]\n",
    "    fiducial_objects = world_object_client.list_world_objects(\n",
    "                object_type=request_fiducials).world_objects\n",
    "\n",
    "    fid = None\n",
    "    for fiducial_obj in fiducial_objects:\n",
    "        if fiducial_obj.apriltag_properties.tag_id == 579:\n",
    "            fid = fiducial_obj\n",
    "\n",
    "    if fid is None:\n",
    "        print(\"COULD NOT FIND RECYCLING CAN RETURNING NONE\")\n",
    "        return None\n",
    "\n",
    "\n",
    "    fid_tree_snapshot = fid.transforms_snapshot\n",
    "    frame_tree_snapshot = robot.get_frame_tree_snapshot()\n",
    "\n",
    "    #get_a_tform_b returns transformation such that a_coords = tform * b_coords\n",
    "\n",
    "    fid_to_vision = bosdyn.client.frame_helpers.get_a_tform_b(fid_tree_snapshot, frame_a = 'vision', frame_b ='filtered_fiducial_579')\n",
    "    \n",
    "    return fid_to_vision"
   ]
  },
  {
   "cell_type": "code",
   "execution_count": 30,
   "id": "ec7c7b66",
   "metadata": {},
   "outputs": [],
   "source": [
    "fid_to_vision = get_recycle_coords(world_object_client)"
   ]
  },
  {
   "cell_type": "code",
   "execution_count": 31,
   "id": "f0826bc4",
   "metadata": {},
   "outputs": [],
   "source": [
    "drop_pose_fid_frame_proto = geometry_pb2.SE3Pose(\n",
    "    position = geometry_pb2.Vec3(x = 0.3, y = 0, z = -0.1), \n",
    "    rotation = bosdyn.client.math_helpers.Quat(w = 0, \n",
    "                                               x = 0, \n",
    "                                               y = -(1/2)**0.5, \n",
    "                                               z = (1/2)**0.5).to_proto())\n",
    "    #rotation = (bosdyn.client.math_helpers.Quat(1, 0, 0, 0).normalize()).to_obj())\n",
    "    #rotation = geometry_pb2.Quaternion(w = , x = 0, y = 0, z = 0))\n",
    "\n",
    "drop_pose_fid_frame_se3 = bosdyn.client.math_helpers.SE3Pose.from_proto(drop_pose_fid_frame_proto)\n",
    "\n",
    "drop_pose_vision_frame_se3 = (fid_to_vision * drop_pose_fid_frame_se3)"
   ]
  },
  {
   "cell_type": "code",
   "execution_count": 32,
   "id": "3c732220",
   "metadata": {},
   "outputs": [
    {
     "name": "stdout",
     "output_type": "stream",
     "text": [
      "pitch 1.4894474512941542\n",
      "roll 1.388678107933378\n",
      "yaw 1.388678107933378\n"
     ]
    }
   ],
   "source": [
    "print(\"pitch\", drop_pose_vision_frame_se3.rotation.to_pitch())\n",
    "print(\"roll\", drop_pose_vision_frame_se3.rotation.to_roll())\n",
    "print(\"yaw\", drop_pose_vision_frame_se3.rotation.to_roll())"
   ]
  },
  {
   "cell_type": "code",
   "execution_count": 33,
   "id": "c773347e",
   "metadata": {},
   "outputs": [],
   "source": [
    "body_cmd = RobotCommandBuilder.follow_arm_command()\n",
    "arm_cmd = RobotCommandBuilder.arm_pose_command(x = drop_pose_vision_frame_se3.x,\n",
    "                                           y = drop_pose_vision_frame_se3.y,\n",
    "                                           z = drop_pose_vision_frame_se3.z,\n",
    "                                           qw = drop_pose_vision_frame_se3.rotation.w,\n",
    "                                           qx = drop_pose_vision_frame_se3.rotation.x,\n",
    "                                           qy = drop_pose_vision_frame_se3.rotation.y,\n",
    "                                           qz = drop_pose_vision_frame_se3.rotation.z,\n",
    "                                           frame_name = 'vision')\n",
    "cmd = RobotCommandBuilder.build_synchro_command(body_cmd, arm_cmd)\n",
    "\n",
    "cmd_id = command_client.robot_command(cmd, end_time_secs = time.time()+timeout_sec)"
   ]
  },
  {
   "cell_type": "code",
   "execution_count": 34,
   "id": "5e9d5df3",
   "metadata": {},
   "outputs": [],
   "source": [
    "cmd = RobotCommandBuilder.claw_gripper_open_fraction_command(1.0)\n",
    "cmd_id = command_client.robot_command(cmd, end_time_secs = time.time()+timeout_sec)\n",
    "time.sleep(1.0)\n",
    "\n",
    "cmd = RobotCommandBuilder.arm_stow_command()\n",
    "cmd_id = command_client.robot_command(cmd, end_time_secs = time.time()+5)"
   ]
  },
  {
   "cell_type": "code",
   "execution_count": 50,
   "id": "5c841344",
   "metadata": {},
   "outputs": [],
   "source": [
    "bosdyn.client.power.safe_power_off(command_client, robot_state_client)"
   ]
  },
  {
   "cell_type": "code",
   "execution_count": 19,
   "id": "dfcdecc5",
   "metadata": {},
   "outputs": [
    {
     "name": "stderr",
     "output_type": "stream",
     "text": [
      "WARNING:root:Generic exception for  during check-in:\n",
      "No lease for resource \"body\"\n",
      "    (resuming check-in)\n",
      "WARNING:root:Generic exception for  during check-in:\n",
      "No lease for resource \"body\"\n",
      "    (resuming check-in)\n",
      "WARNING:root:Generic exception for  during check-in:\n",
      "No lease for resource \"body\"\n",
      "    (resuming check-in)\n"
     ]
    }
   ],
   "source": [
    "response = lease_client.return_lease(lease)"
   ]
  },
  {
   "cell_type": "code",
   "execution_count": null,
   "id": "da76cb31",
   "metadata": {},
   "outputs": [],
   "source": [
    "### DEMO ENDS HERE ### Helfpul lines below"
   ]
  },
  {
   "cell_type": "code",
   "execution_count": 1,
   "id": "e75b61e6",
   "metadata": {},
   "outputs": [],
   "source": [
    "# nav_to_cmd_id = graph_nav_client.navigate_to(waypoint_list[9], cmd_duration = 15)"
   ]
  },
  {
   "cell_type": "code",
   "execution_count": 90,
   "id": "42592cc0",
   "metadata": {},
   "outputs": [],
   "source": [
    "wp_loc_proto = graph_del_get_graph_loc(graph_nav_client)"
   ]
  },
  {
   "cell_type": "code",
   "execution_count": null,
   "id": "4089effa",
   "metadata": {},
   "outputs": [],
   "source": [
    "def random_cube_drop(command_client):\n",
    "    randomLookDir = [((np.random.rand() * 2) - 1) * 2, \n",
    "                 (((np.random.rand()) * 2) - 1) * 3, \n",
    "                 np.random.rand() * (-2)  ]\n",
    "\n",
    "    move_to_and_look_at(command_client, [0.8,0,-0.35],randomLookDir, True)\n",
    "    \n",
    "    time.sleep(0.5)\n",
    "\n",
    "    cmd = RobotCommandBuilder.claw_gripper_open_fraction_command(1.0)\n",
    "    cmd_id = command_client.robot_command(cmd, end_time_secs = time.time()+timeout_sec)\n",
    "\n",
    "    time.sleep(0.5)\n",
    "\n",
    "    cmd = RobotCommandBuilder.arm_stow_command()\n",
    "    cmd_id = command_client.robot_command(cmd, end_time_secs = time.time()+5)"
   ]
  },
  {
   "cell_type": "code",
   "execution_count": 57,
   "id": "b7ba5ef9",
   "metadata": {},
   "outputs": [],
   "source": [
    "# move_robot_relative(command_client, robot, 0.5, 0.2, 0)"
   ]
  },
  {
   "cell_type": "code",
   "execution_count": 43,
   "id": "4c57c9c3",
   "metadata": {},
   "outputs": [
    {
     "name": "stdout",
     "output_type": "stream",
     "text": [
      "Loading the graph from disk into local storage...\n",
      "Loaded graph has 27 waypoints and 29 edges\n",
      "Uploading the graph and snapshots to the robot...\n",
      "\n",
      "\n",
      "Upload complete! The robot is currently not localized to the map; please localize\n"
     ]
    }
   ],
   "source": [
    "# upload_graph_and_snapshots(graph_nav_client, upload_filepath)\n",
    "# response = graphLocalizeGuess(graph_nav_client, wp_loc_proto)"
   ]
  },
  {
   "cell_type": "code",
   "execution_count": null,
   "id": "24580512",
   "metadata": {},
   "outputs": [],
   "source": []
  }
 ],
 "metadata": {
  "kernelspec": {
   "display_name": "Python 3 (ipykernel)",
   "language": "python",
   "name": "python3"
  },
  "language_info": {
   "codemirror_mode": {
    "name": "ipython",
    "version": 3
   },
   "file_extension": ".py",
   "mimetype": "text/x-python",
   "name": "python",
   "nbconvert_exporter": "python",
   "pygments_lexer": "ipython3",
   "version": "3.7.12"
  }
 },
 "nbformat": 4,
 "nbformat_minor": 5
}
