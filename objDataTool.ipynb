{
 "cells": [
  {
   "cell_type": "code",
   "execution_count": 1,
   "id": "0f280976",
   "metadata": {},
   "outputs": [],
   "source": [
    "%load_ext autoreload\n",
    "%autoreload 2"
   ]
  },
  {
   "cell_type": "code",
   "execution_count": 1,
   "id": "7c2aec7b",
   "metadata": {},
   "outputs": [],
   "source": [
    "from gl_functions import *\n",
    "from spot_functions import *\n",
    "from constants import timeout_sec\n",
    "from scipy.spatial.transform import Rotation as sciRot"
   ]
  },
  {
   "cell_type": "code",
   "execution_count": 2,
   "id": "fb178052",
   "metadata": {},
   "outputs": [],
   "source": [
    "#### CONSTANTS ####\n",
    "look_at_locs = np.array([[1.1, 0, -0.5],[0, 1.1, -0.5]])\n",
    "\n",
    "obj_pos_body = geometry_pb2.Vec3(x = 0.8, y = 0, z = -0.5)\n",
    "\n",
    "arm_pos_bounds  = {'x': {'lower':  0.6, 'upper': 0.9},\n",
    "                   'y': {'lower': -0.4, 'upper': 0.4},\n",
    "                   'z': {'lower': -0.1, 'upper': 0.8}}\n",
    "\n",
    "drop_rots = np.array([\n",
    "    [1,0,0],\n",
    "    [-1,0,0],\n",
    "    [1,0,1],\n",
    "    [-1,0,1],\n",
    "    [1,0,-1],\n",
    "    [-1,0,-1],\n",
    "    [0,1,0],\n",
    "    [0,1,1],\n",
    "    [0,1,2],\n",
    "    [0,1,3]\n",
    "])"
   ]
  },
  {
   "cell_type": "code",
   "execution_count": 3,
   "id": "6009f194",
   "metadata": {},
   "outputs": [],
   "source": [
    "sdk, robot, id_client, \\\n",
    "robot_state_client, command_client, \\\n",
    "image_client, graph_nav_client, \\\n",
    "world_object_client, manipulation_api_client = init_robot('192.168.50.3')"
   ]
  },
  {
   "cell_type": "code",
   "execution_count": 4,
   "id": "e81bd79d",
   "metadata": {},
   "outputs": [],
   "source": [
    "lease_client, lease, lease_keep_alive = get_lease(robot)"
   ]
  },
  {
   "cell_type": "code",
   "execution_count": 5,
   "id": "30bc8b57",
   "metadata": {},
   "outputs": [],
   "source": [
    "# Initialize Groundlight API\n",
    "\n",
    "GROUNDLIGHT_API_TOKEN = 'api_2Au8NPiTMbSLQ73Vjr2eMhX2qUh_pt4EEKhtDNgnjN3dUAr89YANDcYsmBkJZV'\n",
    "gl = Groundlight(api_token=GROUNDLIGHT_API_TOKEN)\n",
    "detectors = gl.list_detectors()\n",
    "eraser_det = detectors.results[0]"
   ]
  },
  {
   "cell_type": "code",
   "execution_count": 6,
   "id": "f73814d2",
   "metadata": {},
   "outputs": [],
   "source": [
    "rubiks_det = detectors.results[4]"
   ]
  },
  {
   "cell_type": "code",
   "execution_count": 7,
   "id": "483ad515",
   "metadata": {},
   "outputs": [
    {
     "name": "stdout",
     "output_type": "stream",
     "text": [
      "Battery at: 100.0 %. Robot has 5627 seconds left\n"
     ]
    },
    {
     "data": {
      "text/plain": [
       "(100.0, 5627)"
      ]
     },
     "execution_count": 7,
     "metadata": {},
     "output_type": "execute_result"
    }
   ],
   "source": [
    "get_batt_info(robot_state_client)"
   ]
  },
  {
   "cell_type": "code",
   "execution_count": 8,
   "id": "bafaa9fb",
   "metadata": {},
   "outputs": [],
   "source": [
    "success = power_on(robot)"
   ]
  },
  {
   "cell_type": "code",
   "execution_count": 9,
   "id": "f302da50",
   "metadata": {},
   "outputs": [],
   "source": [
    "bdcrc.blocking_selfright(command_client, timeout_sec = 20)"
   ]
  },
  {
   "cell_type": "code",
   "execution_count": 10,
   "id": "ed2aa13e",
   "metadata": {},
   "outputs": [],
   "source": [
    "bdcrc.blocking_stand(command_client, timeout_sec = timeout_sec)"
   ]
  },
  {
   "cell_type": "code",
   "execution_count": 319,
   "id": "0f3b75d3",
   "metadata": {},
   "outputs": [],
   "source": [
    "move_robot_relative(command_client, robot, 0, 0, 0)"
   ]
  },
  {
   "cell_type": "code",
   "execution_count": 475,
   "id": "4593f3a1",
   "metadata": {},
   "outputs": [],
   "source": [
    "# cmd = RobotCommandBuilder.battery_change_pose_command()\n",
    "# cmd_id = command_client.robot_command(cmd, end_time_secs = time.time()+timeout_sec)"
   ]
  },
  {
   "cell_type": "code",
   "execution_count": 69,
   "id": "280d1ff9",
   "metadata": {},
   "outputs": [],
   "source": [
    "# def gripper_open_to_zero_force(command_client, \n",
    "#                                robot_state_client, \n",
    "#                                force_threshold_newtons = 1):\n",
    "#     for gripper_pos in np.arange(0,1, 0.1):\n",
    "#         robot_state = robot_state_client.get_robot_state()\n",
    "#         gripper_load_newtons = robot_state.kinematic_state.joint_states[-1].load.value\n",
    "\n",
    "#         print(np.round(gripper_pos,2), np.round(gripper_load_newtons,2))\n",
    "        \n",
    "#         if np.abs(gripper_load_newtons) < force_threshold_newtons:\n",
    "#             break\n",
    "\n",
    "#         cmd = RobotCommandBuilder.claw_gripper_open_fraction_command(gripper_pos)\n",
    "#         cmd_id = command_client.robot_command(cmd, end_time_secs = time.time()+timeout_sec)\n",
    "        \n",
    "#         time.sleep(1)\n",
    "        \n",
    "#     cmd = RobotCommandBuilder.claw_gripper_open_fraction_command(gripper_pos + 0.05)\n",
    "#     cmd_id = command_client.robot_command(cmd, end_time_secs = time.time()+timeout_sec)\n",
    "#     return {'angle': gripper_pos, 'load' : gripper_load_newtons}\n",
    "#         #bdcrc.block_until_arm_arrives(command_client, cmd_id, timeout_sec = time.time() + timeout_sec)"
   ]
  },
  {
   "cell_type": "code",
   "execution_count": null,
   "id": "801b44de",
   "metadata": {},
   "outputs": [],
   "source": []
  },
  {
   "cell_type": "code",
   "execution_count": 52,
   "id": "c8f4a88e",
   "metadata": {},
   "outputs": [],
   "source": [
    "# def random_obj_drop(command_client, robot_state_client = None):\n",
    "#     random_look_dir = np.array([((np.random.rand() * 2) - 1) * 2, \n",
    "#                  (((np.random.rand()) * 2) - 1) * 3, \n",
    "#                  np.random.rand() * (-2)  ])\n",
    "\n",
    "# #    print(random_look_dir)\n",
    "#     move_to_and_look_at(command_client, [0.8,0,-0.45],random_look_dir, True)\n",
    "    \n",
    "#     time.sleep(0.5)\n",
    "\n",
    "#     if robot_state_client is None:\n",
    "#         cmd = RobotCommandBuilder.claw_gripper_open_fraction_command(1.0)\n",
    "#         cmd_id = command_client.robot_command(cmd, end_time_secs = time.time()+timeout_sec)\n",
    "#     else:\n",
    "#         gripper_open_to_zero_force(command_client, robot_state_client)\n",
    "#         time.sleep(0.5)\n",
    "#         move_to_and_look_at(command_client, [0.8,0,-0.3],random_look_dir + np.array([0.8,0,-2]), True)\n",
    "\n",
    "#     time.sleep(1)\n",
    "    \n",
    "#     move_to_and_look_at(command_client, [0.8,0,-0.2],random_look_dir + np.array([0,0,-0.3]), True)\n",
    "\n",
    "#     cmd = RobotCommandBuilder.arm_stow_command()\n",
    "#     cmd_id = command_client.robot_command(cmd, end_time_secs = time.time()+5)\n",
    "#     bdcrc.block_until_arm_arrives(command_client, cmd_id, timeout_sec = time.time() + 3.0)\n",
    "    \n",
    "#     cmd = RobotCommandBuilder.claw_gripper_open_fraction_command(1.0)\n",
    "#     cmd_id = command_client.robot_command(cmd, end_time_secs = time.time()+timeout_sec)"
   ]
  },
  {
   "cell_type": "code",
   "execution_count": 110,
   "id": "be91a879",
   "metadata": {},
   "outputs": [],
   "source": [
    "def gripper_slow_open(command_client):\n",
    "    \n",
    "    gripper_angles = np.linspace(0, 1, 1000)\n",
    "    \n",
    "    for gripper_angle in gripper_angles:\n",
    "        cmd = RobotCommandBuilder.claw_gripper_open_fraction_command(gripper_angle)\n",
    "        cmd_id = command_client.robot_command(cmd, end_time_secs = time.time()+timeout_sec)\n",
    "        time.sleep(1/gripper_angles.shape[0])"
   ]
  },
  {
   "cell_type": "code",
   "execution_count": 111,
   "id": "56df405a",
   "metadata": {},
   "outputs": [],
   "source": [
    "gripper_slow_open(command_client)"
   ]
  },
  {
   "cell_type": "code",
   "execution_count": 82,
   "id": "906fbf94",
   "metadata": {},
   "outputs": [
    {
     "data": {
      "text/plain": [
       "array([0.        , 0.01586663, 0.03173326, 0.04759989, 0.06346652,\n",
       "       0.07933315, 0.09519978, 0.11106641, 0.12693304, 0.14279967,\n",
       "       0.1586663 , 0.17453293, 0.19039955, 0.20626618, 0.22213281,\n",
       "       0.23799944, 0.25386607, 0.2697327 , 0.28559933, 0.30146596,\n",
       "       0.31733259, 0.33319922, 0.34906585, 0.36493248, 0.38079911,\n",
       "       0.39666574, 0.41253237, 0.428399  , 0.44426563, 0.46013226,\n",
       "       0.47599889, 0.49186552, 0.50773215, 0.52359878, 0.53946541,\n",
       "       0.55533203, 0.57119866, 0.58706529, 0.60293192, 0.61879855,\n",
       "       0.63466518, 0.65053181, 0.66639844, 0.68226507, 0.6981317 ,\n",
       "       0.71399833, 0.72986496, 0.74573159, 0.76159822, 0.77746485,\n",
       "       0.79333148, 0.80919811, 0.82506474, 0.84093137, 0.856798  ,\n",
       "       0.87266463, 0.88853126, 0.90439789, 0.92026451, 0.93613114,\n",
       "       0.95199777, 0.9678644 , 0.98373103, 0.99959766, 1.01546429,\n",
       "       1.03133092, 1.04719755, 1.06306418, 1.07893081, 1.09479744,\n",
       "       1.11066407, 1.1265307 , 1.14239733, 1.15826396, 1.17413059,\n",
       "       1.18999722, 1.20586385, 1.22173048, 1.23759711, 1.25346374,\n",
       "       1.26933037, 1.28519699, 1.30106362, 1.31693025, 1.33279688,\n",
       "       1.34866351, 1.36453014, 1.38039677, 1.3962634 , 1.41213003,\n",
       "       1.42799666, 1.44386329, 1.45972992, 1.47559655, 1.49146318,\n",
       "       1.50732981, 1.52319644, 1.53906307, 1.5549297 , 1.57079633])"
      ]
     },
     "execution_count": 82,
     "metadata": {},
     "output_type": "execute_result"
    }
   ],
   "source": [
    "np.linspace(0, np.pi/2, 100)"
   ]
  },
  {
   "cell_type": "code",
   "execution_count": null,
   "id": "471b4c20",
   "metadata": {},
   "outputs": [],
   "source": [
    "def arm_move_to_pose(command_client, )\n",
    "    "
   ]
  },
  {
   "cell_type": "code",
   "execution_count": null,
   "id": "4adcfdcb",
   "metadata": {},
   "outputs": [],
   "source": [
    "def random_rot_drop(command_client, robot_state_client = None):\n",
    "    drop_rot_ind = np.random.randint(drop_rots.shape[0])\n",
    "    drop_rot = drop_rots[drop_rot_ind, :]\n",
    "    "
   ]
  },
  {
   "cell_type": "code",
   "execution_count": 15,
   "id": "a8d18788",
   "metadata": {},
   "outputs": [],
   "source": [
    "move_to_and_look_at(command_client, np.array([0.8,0,-0.45]), np.array([0.8,0,-2]))"
   ]
  },
  {
   "cell_type": "code",
   "execution_count": 20,
   "id": "eaeb1b71",
   "metadata": {},
   "outputs": [],
   "source": [
    "move_to_and_look_at(command_client, np.array([0.8,0,-0.3]), np.array([2.8,0,-0.45]))"
   ]
  },
  {
   "cell_type": "code",
   "execution_count": 168,
   "id": "f69e056a",
   "metadata": {},
   "outputs": [
    {
     "data": {
      "text/plain": [
       "array([[-2.22044605e-16, -2.46519033e-32, -1.00000000e+00],\n",
       "       [ 1.22464680e-16, -1.00000000e+00,  0.00000000e+00],\n",
       "       [-1.00000000e+00, -1.22464680e-16,  2.22044605e-16]])"
      ]
     },
     "execution_count": 168,
     "metadata": {},
     "output_type": "execute_result"
    }
   ],
   "source": [
    "rot_quat.to_matrix()"
   ]
  },
  {
   "cell_type": "code",
   "execution_count": 119,
   "id": "6e8ddd91",
   "metadata": {},
   "outputs": [],
   "source": [
    "override_response = stowable_override(manipulation_api_client)"
   ]
  },
  {
   "cell_type": "code",
   "execution_count": 120,
   "id": "0abe12e6",
   "metadata": {},
   "outputs": [
    {
     "data": {
      "text/plain": [
       "False"
      ]
     },
     "execution_count": 120,
     "metadata": {},
     "output_type": "execute_result"
    }
   ],
   "source": [
    "cmd = RobotCommandBuilder.arm_stow_command()\n",
    "cmd_id = command_client.robot_command(cmd, end_time_secs = time.time()+timeout_sec)\n",
    "bdcrc.block_until_arm_arrives(command_client, cmd_id, timeout_sec = time.time() + 3.0)"
   ]
  },
  {
   "cell_type": "code",
   "execution_count": 114,
   "id": "272afbf3",
   "metadata": {},
   "outputs": [],
   "source": [
    "gripper_open(command_client)"
   ]
  },
  {
   "cell_type": "code",
   "execution_count": 118,
   "id": "656bb712",
   "metadata": {},
   "outputs": [],
   "source": [
    "gripper_close(command_client)"
   ]
  },
  {
   "cell_type": "code",
   "execution_count": 121,
   "id": "78b599ed",
   "metadata": {},
   "outputs": [
    {
     "name": "stdout",
     "output_type": "stream",
     "text": [
      "[1 0 0]\n",
      "[-1  0  0]\n",
      "[1 0 1]\n",
      "[-1  0  1]\n",
      "[ 1  0 -1]\n"
     ]
    },
    {
     "name": "stderr",
     "output_type": "stream",
     "text": [
      "WARNING:root:Generic exception for  during check-in:\n",
      "bosdyn.api.RetainLeaseResponse (LeaseUseError): \n",
      "    (resuming check-in)\n"
     ]
    },
    {
     "name": "stdout",
     "output_type": "stream",
     "text": [
      "[-1  0 -1]\n",
      "[0 1 0]\n",
      "[0 1 1]\n",
      "[0 1 2]\n"
     ]
    },
    {
     "ename": "KeyboardInterrupt",
     "evalue": "",
     "output_type": "error",
     "traceback": [
      "\u001b[0;31m---------------------------------------------------------------------------\u001b[0m",
      "\u001b[0;31mKeyboardInterrupt\u001b[0m                         Traceback (most recent call last)",
      "\u001b[0;32m/tmp/ipykernel_4895/3921087953.py\u001b[0m in \u001b[0;36m<module>\u001b[0;34m\u001b[0m\n\u001b[1;32m     21\u001b[0m     \u001b[0mcmd\u001b[0m \u001b[0;34m=\u001b[0m \u001b[0mRobotCommandBuilder\u001b[0m\u001b[0;34m.\u001b[0m\u001b[0mbuild_synchro_command\u001b[0m\u001b[0;34m(\u001b[0m\u001b[0marm_cmd\u001b[0m\u001b[0;34m,\u001b[0m \u001b[0mbody_cmd\u001b[0m\u001b[0;34m)\u001b[0m\u001b[0;34m\u001b[0m\u001b[0;34m\u001b[0m\u001b[0m\n\u001b[1;32m     22\u001b[0m     \u001b[0mcmd_id\u001b[0m \u001b[0;34m=\u001b[0m \u001b[0mcommand_client\u001b[0m\u001b[0;34m.\u001b[0m\u001b[0mrobot_command\u001b[0m\u001b[0;34m(\u001b[0m\u001b[0mcmd\u001b[0m\u001b[0;34m,\u001b[0m \u001b[0mend_time_secs\u001b[0m \u001b[0;34m=\u001b[0m \u001b[0mtime\u001b[0m\u001b[0;34m.\u001b[0m\u001b[0mtime\u001b[0m\u001b[0;34m(\u001b[0m\u001b[0;34m)\u001b[0m\u001b[0;34m+\u001b[0m\u001b[0mtimeout_sec\u001b[0m\u001b[0;34m)\u001b[0m\u001b[0;34m\u001b[0m\u001b[0;34m\u001b[0m\u001b[0m\n\u001b[0;32m---> 23\u001b[0;31m     \u001b[0mbdcrc\u001b[0m\u001b[0;34m.\u001b[0m\u001b[0mblock_until_arm_arrives\u001b[0m\u001b[0;34m(\u001b[0m\u001b[0mcommand_client\u001b[0m\u001b[0;34m,\u001b[0m \u001b[0mcmd_id\u001b[0m\u001b[0;34m,\u001b[0m \u001b[0mtimeout_sec\u001b[0m \u001b[0;34m=\u001b[0m \u001b[0mtime\u001b[0m\u001b[0;34m.\u001b[0m\u001b[0mtime\u001b[0m\u001b[0;34m(\u001b[0m\u001b[0;34m)\u001b[0m \u001b[0;34m+\u001b[0m \u001b[0;36m3.0\u001b[0m\u001b[0;34m)\u001b[0m\u001b[0;34m\u001b[0m\u001b[0;34m\u001b[0m\u001b[0m\n\u001b[0m\u001b[1;32m     24\u001b[0m \u001b[0;34m\u001b[0m\u001b[0m\n\u001b[1;32m     25\u001b[0m     \u001b[0mtime\u001b[0m\u001b[0;34m.\u001b[0m\u001b[0msleep\u001b[0m\u001b[0;34m(\u001b[0m\u001b[0;36m0.5\u001b[0m\u001b[0;34m)\u001b[0m\u001b[0;34m\u001b[0m\u001b[0;34m\u001b[0m\u001b[0m\n",
      "\u001b[0;32m~/mambaforge/envs/spotenv/lib/python3.7/site-packages/bosdyn/client/robot_command.py\u001b[0m in \u001b[0;36mblock_until_arm_arrives\u001b[0;34m(command_client, cmd_id, timeout_sec)\u001b[0m\n\u001b[1;32m   1759\u001b[0m                 \u001b[0;32mreturn\u001b[0m \u001b[0;32mFalse\u001b[0m\u001b[0;34m\u001b[0m\u001b[0;34m\u001b[0m\u001b[0m\n\u001b[1;32m   1760\u001b[0m \u001b[0;34m\u001b[0m\u001b[0m\n\u001b[0;32m-> 1761\u001b[0;31m         \u001b[0mtime\u001b[0m\u001b[0;34m.\u001b[0m\u001b[0msleep\u001b[0m\u001b[0;34m(\u001b[0m\u001b[0;36m0.1\u001b[0m\u001b[0;34m)\u001b[0m\u001b[0;34m\u001b[0m\u001b[0;34m\u001b[0m\u001b[0m\n\u001b[0m\u001b[1;32m   1762\u001b[0m         \u001b[0mnow\u001b[0m \u001b[0;34m=\u001b[0m \u001b[0mtime\u001b[0m\u001b[0;34m.\u001b[0m\u001b[0mtime\u001b[0m\u001b[0;34m(\u001b[0m\u001b[0;34m)\u001b[0m\u001b[0;34m\u001b[0m\u001b[0;34m\u001b[0m\u001b[0m\n\u001b[1;32m   1763\u001b[0m     \u001b[0;32mreturn\u001b[0m \u001b[0;32mFalse\u001b[0m\u001b[0;34m\u001b[0m\u001b[0;34m\u001b[0m\u001b[0m\n",
      "\u001b[0;31mKeyboardInterrupt\u001b[0m: "
     ]
    }
   ],
   "source": [
    "for drop_rot in drop_rots:\n",
    "    print(drop_rot)\n",
    "\n",
    "    rotObj = sciRot.from_euler('xyz',np.pi/2*drop_rot)\n",
    "    rot_mtx = rotObj.as_matrix()\n",
    "    rot_quat = bosdyn.client.math_helpers.Quat.from_matrix(rot_mtx)\n",
    "    drop_pose_body_frame_proto = geometry_pb2.SE3Pose(\n",
    "        position = geometry_pb2.Vec3(x = 0.8, y = 0, z = -0.3),  \n",
    "        rotation = rot_quat.to_proto())\n",
    "    drop_pose_body_frame_se3 = bosdyn.client.math_helpers.SE3Pose.from_proto(drop_pose_body_frame_proto)\n",
    "    arm_cmd = RobotCommandBuilder.arm_pose_command(x = drop_pose_body_frame_se3.x,\n",
    "                                               y = drop_pose_body_frame_se3.y,\n",
    "                                               z = drop_pose_body_frame_se3.z,\n",
    "                                               qw = drop_pose_body_frame_se3.rotation.w,\n",
    "                                               qx = drop_pose_body_frame_se3.rotation.x,\n",
    "                                               qy = drop_pose_body_frame_se3.rotation.y,\n",
    "                                               qz = drop_pose_body_frame_se3.rotation.z,\n",
    "                                               frame_name = 'body')\n",
    "\n",
    "    body_cmd = RobotCommandBuilder.synchro_stand_command(body_height = -0.3)\n",
    "    cmd = RobotCommandBuilder.build_synchro_command(arm_cmd, body_cmd)\n",
    "    cmd_id = command_client.robot_command(cmd, end_time_secs = time.time()+timeout_sec)\n",
    "    bdcrc.block_until_arm_arrives(command_client, cmd_id, timeout_sec = time.time() + 3.0)\n",
    "\n",
    "    time.sleep(0.5)\n",
    "    \n",
    "    gripper_slow_open(command_client)\n",
    "    \n",
    "    time.sleep(0.5)\n",
    "\n",
    "    gripper_close(command_client)\n",
    "\n",
    "    time.sleep(1)\n",
    "\n",
    "    success = blocking_stow(command_client, timeout_sec = 3)\n",
    "\n",
    "    override_response = stowable_override(manipulation_api_client)\n",
    "\n",
    "    time.sleep(2)"
   ]
  },
  {
   "cell_type": "code",
   "execution_count": 23,
   "id": "77991393",
   "metadata": {},
   "outputs": [
    {
     "data": {
      "text/plain": [
       "{'angle': 0.0, 'load': 0.032243531197309494}"
      ]
     },
     "execution_count": 23,
     "metadata": {},
     "output_type": "execute_result"
    }
   ],
   "source": [
    "gripper_stats"
   ]
  },
  {
   "cell_type": "code",
   "execution_count": 45,
   "id": "0a56f205",
   "metadata": {},
   "outputs": [],
   "source": [
    "body_cmd = RobotCommandBuilder.synchro_stand_command(body_height = -0.2)\n",
    "cmd_id = command_client.robot_command(body_cmd, end_time_secs = time.time()+timeout_sec)"
   ]
  },
  {
   "cell_type": "code",
   "execution_count": null,
   "id": "66049a3d",
   "metadata": {},
   "outputs": [],
   "source": []
  },
  {
   "cell_type": "code",
   "execution_count": null,
   "id": "34a0b0c6",
   "metadata": {},
   "outputs": [],
   "source": []
  },
  {
   "cell_type": "code",
   "execution_count": null,
   "id": "d77104d5",
   "metadata": {},
   "outputs": [],
   "source": []
  },
  {
   "cell_type": "code",
   "execution_count": 200,
   "id": "977bdebe",
   "metadata": {},
   "outputs": [
    {
     "name": "stdout",
     "output_type": "stream",
     "text": [
      "FINAL POS, LOAD 0.3 0.051263704895973206\n"
     ]
    }
   ],
   "source": [
    "random_obj_drop(command_client, robot_state_client)"
   ]
  },
  {
   "cell_type": "code",
   "execution_count": 15,
   "id": "8aadc64c",
   "metadata": {},
   "outputs": [
    {
     "name": "stdout",
     "output_type": "stream",
     "text": [
      "[ 0.19525402  1.2911362  -1.20552675]\n"
     ]
    }
   ],
   "source": [
    "# random_obj_drop(command_client)"
   ]
  },
  {
   "cell_type": "code",
   "execution_count": 206,
   "id": "9a855102",
   "metadata": {},
   "outputs": [],
   "source": [
    "cmd = RobotCommandBuilder.claw_gripper_open_fraction_command(1.0)\n",
    "cmd_id = command_client.robot_command(cmd, end_time_secs = time.time()+timeout_sec)"
   ]
  },
  {
   "cell_type": "code",
   "execution_count": 202,
   "id": "9872d095",
   "metadata": {},
   "outputs": [],
   "source": [
    "cmd = RobotCommandBuilder.claw_gripper_open_fraction_command(0.0)\n",
    "cmd_id = command_client.robot_command(cmd, end_time_secs = time.time()+timeout_sec)"
   ]
  },
  {
   "cell_type": "code",
   "execution_count": 61,
   "id": "35449b3f",
   "metadata": {},
   "outputs": [],
   "source": [
    "def rand_imgs_thru_det(command_client, image_client, gl, det):\n",
    "    for j in range(len(look_at_locs)):\n",
    "        look_at = look_at_locs[j]\n",
    "        for i in range(3):\n",
    "            #Move Arm to random position\n",
    "            x_pos_rand = np.random.uniform(arm_pos_bounds['x']['lower'],arm_pos_bounds['x']['upper'])\n",
    "            y_pos_rand = np.random.uniform(arm_pos_bounds['y']['lower'],arm_pos_bounds['y']['upper'])\n",
    "            z_pos_rand = np.random.uniform(arm_pos_bounds['z']['lower'],arm_pos_bounds['z']['upper'])\n",
    "\n",
    "            move_to = np.array([x_pos_rand, y_pos_rand, z_pos_rand])\n",
    "            move_to_and_look_at(command_client, move_to, look_at, blocking = True)\n",
    "\n",
    "            time.sleep(0.4)\n",
    "\n",
    "            hand_color_img, img_response = cap_hand_image(image_client, source = 'hand_color_image')\n",
    "            image_query = mat_thru_det(gl, det, hand_color_img)"
   ]
  },
  {
   "cell_type": "code",
   "execution_count": 67,
   "id": "c7329f01",
   "metadata": {},
   "outputs": [],
   "source": [
    "def multiAttemptGrasp(*, manipulation_api_client, command_client, graph_nav_client, obj_pos_vision):\n",
    "    for i in range(5):\n",
    "        print(i)\n",
    "        grasp = manipulation_api_pb2.PickObject(frame_name = 'vision',\n",
    "                                                object_rt_frame = obj_pos_vision)\n",
    "        grasp_request = manipulation_api_pb2.ManipulationApiRequest(pick_object=grasp)\n",
    "        response, success = make_grasp(grasp_request, manipulation_api_client, \n",
    "                                       command_client, graph_nav_client, verbose = True)\n",
    "\n",
    "        curState = robot_state_client.get_robot_state()\n",
    "        wrist_pos_rads = np.abs(curState.kinematic_state.joint_states[-1].position.value)\n",
    "\n",
    "        if wrist_pos_rads < np.pi/36 or not success:\n",
    "#            print(response, success)\n",
    "            blocking_stow(command_client, timeout_sec = 15)\n",
    "            time.sleep(3)\n",
    "            continue\n",
    "        else:\n",
    "            return True\n",
    "\n",
    "            \n",
    "            print('GRIPPER IS CLOSED. FAILED TO GRAB CUBE')\n",
    "        \n",
    "    logging.warning('FAILED TO GRAB CUBE')\n",
    "    return False"
   ]
  },
  {
   "cell_type": "code",
   "execution_count": 68,
   "id": "2ada3448",
   "metadata": {},
   "outputs": [],
   "source": [
    "#TODO: REMOVE\n",
    "det = rubiks_det"
   ]
  },
  {
   "cell_type": "code",
   "execution_count": 173,
   "id": "8796d9cf",
   "metadata": {},
   "outputs": [],
   "source": [
    "def drop_cap_grasp(*, manipulation_api_client, command_client, image_client, robot_state_client, gl, det):\n",
    "    random_obj_drop(command_client, robot_state_client)\n",
    "\n",
    "    #get_a_tform_b returns transformation such that a_coords = tform * b_coords\n",
    "    frame_tree_snapshot = robot.get_frame_tree_snapshot()\n",
    "    body_to_vision = bosdyn.client.frame_helpers.get_a_tform_b(frame_tree_snapshot, frame_a = 'vision', frame_b ='body')\n",
    "    obj_pos_body_se3_proto = geometry_pb2.SE3Pose(\n",
    "        position = obj_pos_body,\n",
    "        rotation = bosdyn.client.math_helpers.Quat(w = 0, \n",
    "                                               x = 0, \n",
    "                                               y = -(1/2)**0.5, \n",
    "                                               z = (1/2)**0.5).to_proto())\n",
    "    obj_pos_body_se3 = bosdyn.client.math_helpers.SE3Pose.from_proto(obj_pos_body_se3_proto)\n",
    "    obj_pos_vision_se3 = body_to_vision * obj_pos_body_se3\n",
    "\n",
    "    move_robot_relative(command_client, robot, -0.3, 0, 0)\n",
    "\n",
    "    rand_imgs_thru_det(command_client, image_client, gl, rubiks_det)\n",
    "\n",
    "    blocking_stow(command_client)\n",
    "\n",
    "    multiAttemptGrasp(manipulation_api_client = manipulation_api_client,\n",
    "                      command_client = command_client,\n",
    "                      graph_nav_client = graph_nav_client,\n",
    "                      obj_pos_vision = obj_pos_vision_se3.position)\n",
    "\n",
    "    cmd = RobotCommandBuilder.arm_stow_command()\n",
    "    cmd_id = command_client.robot_command(cmd, end_time_secs = time.time()+timeout_sec)"
   ]
  },
  {
   "cell_type": "code",
   "execution_count": 174,
   "id": "af9ffe41",
   "metadata": {},
   "outputs": [
    {
     "name": "stdout",
     "output_type": "stream",
     "text": [
      "0\n",
      "1\n",
      "2\n",
      "3\n",
      "4\n"
     ]
    },
    {
     "name": "stderr",
     "output_type": "stream",
     "text": [
      "WARNING:root:FAILED TO GRAB CUBE\n"
     ]
    }
   ],
   "source": [
    "drop_cap_grasp(manipulation_api_client = manipulation_api_client,\n",
    "               command_client = command_client,\n",
    "               image_client = image_client,\n",
    "               robot_state_client = robot_state_client,\n",
    "               gl = gl,\n",
    "               det = det)"
   ]
  },
  {
   "cell_type": "code",
   "execution_count": 83,
   "id": "d755cdb0",
   "metadata": {},
   "outputs": [],
   "source": [
    "move_robot_relative(command_client, robot, 0, 0, np.pi/2)"
   ]
  },
  {
   "cell_type": "code",
   "execution_count": 69,
   "id": "5bd72b4a",
   "metadata": {},
   "outputs": [
    {
     "name": "stdout",
     "output_type": "stream",
     "text": [
      "0\n",
      "1\n",
      "2\n",
      "3\n",
      "4\n"
     ]
    },
    {
     "name": "stderr",
     "output_type": "stream",
     "text": [
      "WARNING:root:FAILED TO GRAB CUBE\n"
     ]
    }
   ],
   "source": [
    "success = multiAttemptGrasp(manipulation_api_client = manipulation_api_client, \n",
    "                            command_client = command_client, \n",
    "                            graph_nav_client = graph_nav_client, \n",
    "                            obj_pos_vision = obj_pos_vision_se3.position)"
   ]
  },
  {
   "cell_type": "code",
   "execution_count": 169,
   "id": "ae6deef5",
   "metadata": {},
   "outputs": [],
   "source": [
    "wp_loc_proto = graph_del_get_graph_loc(graph_nav_client)"
   ]
  },
  {
   "cell_type": "code",
   "execution_count": null,
   "id": "f860e97d",
   "metadata": {},
   "outputs": [],
   "source": []
  },
  {
   "cell_type": "code",
   "execution_count": 81,
   "id": "cfa2556f",
   "metadata": {},
   "outputs": [
    {
     "name": "stdout",
     "output_type": "stream",
     "text": [
      "0\n"
     ]
    },
    {
     "ename": "TypeError",
     "evalue": "Parameter to MergeFrom() must be instance of same class: expected bosdyn.api.Vec3 got str.",
     "output_type": "error",
     "traceback": [
      "\u001b[0;31m---------------------------------------------------------------------------\u001b[0m",
      "\u001b[0;31mTypeError\u001b[0m                                 Traceback (most recent call last)",
      "\u001b[0;32m/tmp/ipykernel_24955/2445034045.py\u001b[0m in \u001b[0;36m<module>\u001b[0;34m\u001b[0m\n\u001b[0;32m----> 1\u001b[0;31m \u001b[0mmultiAttemptGrasp\u001b[0m\u001b[0;34m(\u001b[0m\u001b[0mmanipulation_api_client\u001b[0m\u001b[0;34m,\u001b[0m \u001b[0mcommand_client\u001b[0m\u001b[0;34m,\u001b[0m \u001b[0mgraph_nav_client\u001b[0m\u001b[0;34m)\u001b[0m\u001b[0;34m\u001b[0m\u001b[0;34m\u001b[0m\u001b[0m\n\u001b[0m",
      "\u001b[0;32m/tmp/ipykernel_24955/3804474487.py\u001b[0m in \u001b[0;36mmultiAttemptGrasp\u001b[0;34m(manipulation_api_client, command_client, graph_nav_client, obj_pos_vision_se3)\u001b[0m\n\u001b[1;32m      3\u001b[0m         \u001b[0mprint\u001b[0m\u001b[0;34m(\u001b[0m\u001b[0mi\u001b[0m\u001b[0;34m)\u001b[0m\u001b[0;34m\u001b[0m\u001b[0;34m\u001b[0m\u001b[0m\n\u001b[1;32m      4\u001b[0m         grasp = manipulation_api_pb2.PickObject(frame_name = 'vision',\n\u001b[0;32m----> 5\u001b[0;31m                                                 object_rt_frame = obj_pos_vision_se3)\n\u001b[0m\u001b[1;32m      6\u001b[0m         \u001b[0mgrasp_request\u001b[0m \u001b[0;34m=\u001b[0m \u001b[0mmanipulation_api_pb2\u001b[0m\u001b[0;34m.\u001b[0m\u001b[0mManipulationApiRequest\u001b[0m\u001b[0;34m(\u001b[0m\u001b[0mpick_object\u001b[0m\u001b[0;34m=\u001b[0m\u001b[0mgrasp\u001b[0m\u001b[0;34m)\u001b[0m\u001b[0;34m\u001b[0m\u001b[0;34m\u001b[0m\u001b[0m\n\u001b[1;32m      7\u001b[0m         response, success = make_grasp(grasp_request, manipulation_api_client, \n",
      "\u001b[0;31mTypeError\u001b[0m: Parameter to MergeFrom() must be instance of same class: expected bosdyn.api.Vec3 got str."
     ]
    }
   ],
   "source": [
    "multiAttemptGrasp(manipulation_api_client, command_client, graph_nav_client)"
   ]
  },
  {
   "cell_type": "code",
   "execution_count": 170,
   "id": "ddb29acd",
   "metadata": {},
   "outputs": [],
   "source": [
    "cmd = RobotCommandBuilder.arm_stow_command()\n",
    "cmd_id = command_client.robot_command(cmd, end_time_secs = time.time()+timeout_sec)"
   ]
  },
  {
   "cell_type": "code",
   "execution_count": null,
   "id": "b52e893c",
   "metadata": {},
   "outputs": [],
   "source": [
    "move()"
   ]
  },
  {
   "cell_type": "code",
   "execution_count": 97,
   "id": "63417668",
   "metadata": {},
   "outputs": [],
   "source": []
  },
  {
   "cell_type": "code",
   "execution_count": 101,
   "id": "44f3bd44",
   "metadata": {},
   "outputs": [],
   "source": []
  },
  {
   "cell_type": "code",
   "execution_count": 57,
   "id": "b7c358b4",
   "metadata": {},
   "outputs": [],
   "source": []
  },
  {
   "cell_type": "code",
   "execution_count": 110,
   "id": "e4bb2995",
   "metadata": {},
   "outputs": [],
   "source": []
  },
  {
   "cell_type": "code",
   "execution_count": 86,
   "id": "d11187cb",
   "metadata": {},
   "outputs": [],
   "source": [
    "logging.getLogger().setLevel(logging.WARNING)"
   ]
  },
  {
   "cell_type": "code",
   "execution_count": 12,
   "id": "24564fef",
   "metadata": {},
   "outputs": [
    {
     "name": "stderr",
     "output_type": "stream",
     "text": [
      "WARNING:root:Upload complete! The robot is currently not localized to the map; please localize\n"
     ]
    }
   ],
   "source": [
    "upload_filepath = \"/home/gluser/groundlight/bdspot/spot/loopGraph\"\n",
    "upload_graph_and_snapshots(graph_nav_client, upload_filepath)\n",
    "success = graph_localize_fiducial(command_client, graph_nav_client, robot_state_client, robot)\n",
    "waypoint_list = create_waypoint_list(graph_nav_client)"
   ]
  },
  {
   "cell_type": "code",
   "execution_count": 13,
   "id": "8aa771bd",
   "metadata": {},
   "outputs": [],
   "source": [
    "nav_to_cmd_id = graph_nav_client.navigate_to(waypoint_list[8], cmd_duration = 15)"
   ]
  },
  {
   "cell_type": "code",
   "execution_count": 15,
   "id": "570443c4",
   "metadata": {},
   "outputs": [],
   "source": [
    "init_guess_loc_proto = graph_del_get_graph_loc(graph_nav_client)"
   ]
  },
  {
   "cell_type": "code",
   "execution_count": 26,
   "id": "01389fc0",
   "metadata": {},
   "outputs": [],
   "source": [
    "move_to = np.array([0.8, 0,-0.4])\n",
    "look_at = np.array([0.8, 0, -3])"
   ]
  },
  {
   "cell_type": "code",
   "execution_count": 27,
   "id": "67bbaf12",
   "metadata": {},
   "outputs": [],
   "source": [
    "move_to_and_look_at(command_client, move_to, look_at)"
   ]
  },
  {
   "cell_type": "code",
   "execution_count": 90,
   "id": "fde3df1b",
   "metadata": {},
   "outputs": [],
   "source": [
    "def get_walking_params(max_linear_vel, max_rotation_vel):\n",
    "    max_vel_linear = geometry_pb2.Vec2(x=max_linear_vel, y=max_linear_vel)\n",
    "    max_vel_se2 = geometry_pb2.SE2Velocity(linear=max_vel_linear,\n",
    "                                           angular=max_rotation_vel)\n",
    "    vel_limit = geometry_pb2.SE2VelocityLimit(max_vel=max_vel_se2)\n",
    "    params = RobotCommandBuilder.mobility_params()\n",
    "    params.vel_limit.CopyFrom(vel_limit)\n",
    "    return params"
   ]
  },
  {
   "cell_type": "code",
   "execution_count": 130,
   "id": "18713a2f",
   "metadata": {},
   "outputs": [],
   "source": [
    "params = get_walking_params(2,1.55)"
   ]
  },
  {
   "cell_type": "code",
   "execution_count": 183,
   "id": "116e9e63",
   "metadata": {},
   "outputs": [],
   "source": [
    "cmd = RobotCommandBuilder.battery_change_pose_command()\n",
    "cmd_id = command_client.robot_command(cmd, end_time_secs = time.time()+timeout_sec)"
   ]
  },
  {
   "cell_type": "code",
   "execution_count": 19,
   "id": "0db6c242",
   "metadata": {},
   "outputs": [],
   "source": [
    "move_robot_relative(command_client, robot, 1, 0, 0)"
   ]
  },
  {
   "cell_type": "code",
   "execution_count": 17,
   "id": "d38a252e",
   "metadata": {},
   "outputs": [
    {
     "data": {
      "text/plain": [
       "<function spot_functions.move_robot_relative(command_client, robot, x_meters, y_meters, theta_rad, timeout_sec=10, blocking=True)>"
      ]
     },
     "execution_count": 17,
     "metadata": {},
     "output_type": "execute_result"
    }
   ],
   "source": [
    "move_robot_relative"
   ]
  },
  {
   "cell_type": "code",
   "execution_count": null,
   "id": "71b9e763",
   "metadata": {},
   "outputs": [],
   "source": []
  }
 ],
 "metadata": {
  "kernelspec": {
   "display_name": "Python 3 (ipykernel)",
   "language": "python",
   "name": "python3"
  },
  "language_info": {
   "codemirror_mode": {
    "name": "ipython",
    "version": 3
   },
   "file_extension": ".py",
   "mimetype": "text/x-python",
   "name": "python",
   "nbconvert_exporter": "python",
   "pygments_lexer": "ipython3",
   "version": "3.7.12"
  }
 },
 "nbformat": 4,
 "nbformat_minor": 5
}
