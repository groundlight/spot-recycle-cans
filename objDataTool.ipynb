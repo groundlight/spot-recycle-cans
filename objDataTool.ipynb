{
 "cells": [
  {
   "cell_type": "code",
   "execution_count": 1,
   "id": "0f280976",
   "metadata": {},
   "outputs": [],
   "source": [
    "%load_ext autoreload\n",
    "%autoreload 2"
   ]
  },
  {
   "cell_type": "code",
   "execution_count": 2,
   "id": "7c2aec7b",
   "metadata": {},
   "outputs": [],
   "source": [
    "from gl_functions import *\n",
    "from spot_functions import *\n",
    "from constants import timeout_sec\n",
    "from scipy.spatial.transform import Rotation as sciRot"
   ]
  },
  {
   "cell_type": "code",
   "execution_count": 3,
   "id": "fb178052",
   "metadata": {},
   "outputs": [],
   "source": [
    "#### CONSTANTS ####\n",
    "look_at_locs = np.array([[1.1, 0, -0.5],[0, 1.1, -0.5]])\n",
    "\n",
    "obj_pos_body = geometry_pb2.Vec3(x = 0.8, y = 0, z = -0.55)\n",
    "\n",
    "arm_pos_bounds  = {'x': {'lower':  0.6, 'upper': 0.9},\n",
    "                   'y': {'lower': -0.4, 'upper': 0.4},\n",
    "                   'z': {'lower': -0.1, 'upper': 0.8}}\n",
    "\n",
    "drop_rots = np.array([\n",
    "    [1,0,0],\n",
    "    [-1,0,0],\n",
    "    [1,0,1],\n",
    "    [-1,0,1],\n",
    "    [1,0,-1],\n",
    "    [-1,0,-1],\n",
    "    [0,1,0],\n",
    "    [0,1,1],\n",
    "    [0,1,2],\n",
    "    [0,1,3]\n",
    "])\n",
    "\n",
    "upload_filepath = \"/home/gluser/groundlight/bdspot/spot/loopGraph\"\n",
    "\n",
    "clear_waypoints = np.array([9, 10, 12, 25])"
   ]
  },
  {
   "cell_type": "code",
   "execution_count": 4,
   "id": "bd23bef5",
   "metadata": {},
   "outputs": [
    {
     "data": {
      "text/plain": [
       "10"
      ]
     },
     "execution_count": 4,
     "metadata": {},
     "output_type": "execute_result"
    }
   ],
   "source": [
    "drop_rots.shape[0]"
   ]
  },
  {
   "cell_type": "code",
   "execution_count": 6,
   "id": "6009f194",
   "metadata": {},
   "outputs": [],
   "source": [
    "sdk, robot, id_client, \\\n",
    "robot_state_client, command_client, \\\n",
    "image_client, graph_nav_client, \\\n",
    "world_object_client, manipulation_api_client = init_robot('192.168.50.3')"
   ]
  },
  {
   "cell_type": "code",
   "execution_count": 7,
   "id": "e81bd79d",
   "metadata": {},
   "outputs": [],
   "source": [
    "lease_client, lease, lease_keep_alive = get_lease(robot)"
   ]
  },
  {
   "cell_type": "code",
   "execution_count": 8,
   "id": "30bc8b57",
   "metadata": {},
   "outputs": [],
   "source": [
    "# Initialize Groundlight API\n",
    "\n",
    "GROUNDLIGHT_API_TOKEN = 'api_2Au8NPiTMbSLQ73Vjr2eMhX2qUh_pt4EEKhtDNgnjN3dUAr89YANDcYsmBkJZV'\n",
    "gl = Groundlight(api_token=GROUNDLIGHT_API_TOKEN)\n",
    "detectors = gl.list_detectors()\n",
    "eraser_det = detectors.results[0]"
   ]
  },
  {
   "cell_type": "code",
   "execution_count": 9,
   "id": "f73814d2",
   "metadata": {},
   "outputs": [],
   "source": [
    "rubiks_det = detectors.results[4]"
   ]
  },
  {
   "cell_type": "code",
   "execution_count": 10,
   "id": "483ad515",
   "metadata": {},
   "outputs": [
    {
     "name": "stdout",
     "output_type": "stream",
     "text": [
      "Battery at: 81.0 %. Robot has 4567 seconds left\n"
     ]
    },
    {
     "data": {
      "text/plain": [
       "(81.0, 4567)"
      ]
     },
     "execution_count": 10,
     "metadata": {},
     "output_type": "execute_result"
    }
   ],
   "source": [
    "get_batt_info(robot_state_client)"
   ]
  },
  {
   "cell_type": "code",
   "execution_count": 32,
   "id": "bafaa9fb",
   "metadata": {},
   "outputs": [],
   "source": [
    "success = power_on(robot)"
   ]
  },
  {
   "cell_type": "code",
   "execution_count": 33,
   "id": "f302da50",
   "metadata": {},
   "outputs": [],
   "source": [
    "bdcrc.blocking_selfright(command_client, timeout_sec = 20)"
   ]
  },
  {
   "cell_type": "code",
   "execution_count": 14,
   "id": "ed2aa13e",
   "metadata": {},
   "outputs": [],
   "source": [
    "bdcrc.blocking_stand(command_client, timeout_sec = timeout_sec)"
   ]
  },
  {
   "cell_type": "code",
   "execution_count": 23,
   "id": "0f3b75d3",
   "metadata": {},
   "outputs": [],
   "source": [
    "move_robot_relative(command_client, robot, 0, -1, 0)"
   ]
  },
  {
   "cell_type": "code",
   "execution_count": 15,
   "id": "be91a879",
   "metadata": {},
   "outputs": [],
   "source": [
    "def gripper_slow_open(command_client):\n",
    "    \n",
    "    gripper_angles = np.linspace(0, 1, 1000)\n",
    "    \n",
    "    for gripper_angle in gripper_angles:\n",
    "        cmd = RobotCommandBuilder.claw_gripper_open_fraction_command(gripper_angle)\n",
    "        cmd_id = command_client.robot_command(cmd, end_time_secs = time.time()+timeout_sec)\n",
    "        time.sleep(1/gripper_angles.shape[0])"
   ]
  },
  {
   "cell_type": "code",
   "execution_count": 16,
   "id": "4adcfdcb",
   "metadata": {},
   "outputs": [],
   "source": [
    "def random_rot_drop(command_client, manipulation_api_client):\n",
    "    drop_rot_ind = np.random.randint(drop_rots.shape[0])\n",
    "    drop_rot = drop_rots[drop_rot_ind, :]\n",
    "    \n",
    "    rotObj = sciRot.from_euler('xyz',np.pi/2*drop_rot)\n",
    "    rot_mtx = rotObj.as_matrix()\n",
    "    rot_quat = bosdyn.client.math_helpers.Quat.from_matrix(rot_mtx)\n",
    "    drop_pose_body_frame_proto = geometry_pb2.SE3Pose(\n",
    "        position = geometry_pb2.Vec3(x = 0.8, y = 0, z = -0.3),  \n",
    "        rotation = rot_quat.to_proto())\n",
    "    drop_pose_body_frame_se3 = bosdyn.client.math_helpers.SE3Pose.from_proto(drop_pose_body_frame_proto)\n",
    "    arm_cmd = RobotCommandBuilder.arm_pose_command(x = drop_pose_body_frame_se3.x,\n",
    "                                               y = drop_pose_body_frame_se3.y,\n",
    "                                               z = drop_pose_body_frame_se3.z,\n",
    "                                               qw = drop_pose_body_frame_se3.rotation.w,\n",
    "                                               qx = drop_pose_body_frame_se3.rotation.x,\n",
    "                                               qy = drop_pose_body_frame_se3.rotation.y,\n",
    "                                               qz = drop_pose_body_frame_se3.rotation.z,\n",
    "                                               frame_name = 'body')\n",
    "\n",
    "    body_cmd = RobotCommandBuilder.synchro_stand_command(body_height = -0.3)\n",
    "    cmd = RobotCommandBuilder.build_synchro_command(arm_cmd, body_cmd)\n",
    "    cmd_id = command_client.robot_command(cmd, end_time_secs = time.time()+timeout_sec)\n",
    "    bdcrc.block_until_arm_arrives(command_client, cmd_id, timeout_sec = time.time() + 3.0)\n",
    "    time.sleep(0.5)\n",
    "    \n",
    "    gripper_slow_open(command_client)\n",
    "    time.sleep(0.5)\n",
    "\n",
    "    body_cmd = RobotCommandBuilder.synchro_stand_command(body_height = 0)\n",
    "    cmd_id = command_client.robot_command(body_cmd, end_time_secs = time.time()+timeout_sec)\n",
    "    time.sleep(1)\n",
    "\n",
    "    success = blocking_stow(command_client, timeout_sec = 3)\n",
    "    override_response = stowable_override(manipulation_api_client)\n",
    "    time.sleep(2)"
   ]
  },
  {
   "cell_type": "code",
   "execution_count": 17,
   "id": "35449b3f",
   "metadata": {},
   "outputs": [],
   "source": [
    "def rand_imgs_thru_det(command_client, image_client, gl, det):\n",
    "    for j in range(len(look_at_locs)):\n",
    "        look_at = look_at_locs[j]\n",
    "        for i in range(3):\n",
    "            #Move Arm to random position\n",
    "            x_pos_rand = np.random.uniform(arm_pos_bounds['x']['lower'],arm_pos_bounds['x']['upper'])\n",
    "            y_pos_rand = np.random.uniform(arm_pos_bounds['y']['lower'],arm_pos_bounds['y']['upper'])\n",
    "            z_pos_rand = np.random.uniform(arm_pos_bounds['z']['lower'],arm_pos_bounds['z']['upper'])\n",
    "\n",
    "            move_to = np.array([x_pos_rand, y_pos_rand, z_pos_rand])\n",
    "            move_to_and_look_at(command_client, move_to, look_at, blocking = True)\n",
    "\n",
    "            time.sleep(0.4)\n",
    "\n",
    "            hand_color_img, img_response = cap_hand_image(image_client, source = 'hand_color_image')\n",
    "            image_query = mat_thru_det(gl, det, hand_color_img)"
   ]
  },
  {
   "cell_type": "code",
   "execution_count": 18,
   "id": "c7329f01",
   "metadata": {},
   "outputs": [],
   "source": [
    "def multiAttemptGrasp(*, manipulation_api_client, command_client, graph_nav_client, obj_pos_vision):\n",
    "    for i in range(5):\n",
    "        print(i)\n",
    "        \n",
    "        grasp_params = manipulation_api_pb2.GraspParams(grasp_palm_to_fingertip = 0)\n",
    "        grasp = manipulation_api_pb2.PickObject(frame_name = 'vision',\n",
    "                                                object_rt_frame = obj_pos_vision,\n",
    "                                                grasp_params = grasp_params)\n",
    "        \n",
    "        grasp_request = manipulation_api_pb2.ManipulationApiRequest(pick_object=grasp)\n",
    "        response, success = make_grasp(grasp_request, manipulation_api_client, \n",
    "                                       command_client, graph_nav_client, verbose = True)\n",
    "\n",
    "        curState = robot_state_client.get_robot_state()\n",
    "        wrist_pos_rads = np.abs(curState.kinematic_state.joint_states[-1].position.value)\n",
    "\n",
    "        if wrist_pos_rads < np.pi/36 or not success:\n",
    "#            print(response, success)\n",
    "            blocking_stow(command_client, timeout_sec = 15)\n",
    "            time.sleep(3)\n",
    "            continue\n",
    "        else:\n",
    "            return True\n",
    "\n",
    "            \n",
    "            print('GRIPPER IS CLOSED. FAILED TO GRAB CUBE')\n",
    "        \n",
    "    logging.warning('FAILED TO GRAB CUBE')\n",
    "    return False"
   ]
  },
  {
   "cell_type": "code",
   "execution_count": 20,
   "id": "8796d9cf",
   "metadata": {},
   "outputs": [],
   "source": [
    "def drop_cap_grasp(*, manipulation_api_client, command_client, image_client, robot_state_client, gl, det):\n",
    "    random_rot_drop(command_client, manipulation_api_client)\n",
    "\n",
    "    #get_a_tform_b returns transformation such that a_coords = tform * b_coords\n",
    "    frame_tree_snapshot = robot.get_frame_tree_snapshot()\n",
    "    body_to_vision = bosdyn.client.frame_helpers.get_a_tform_b(frame_tree_snapshot, frame_a = 'vision', frame_b ='body')\n",
    "    obj_pos_body_se3_proto = geometry_pb2.SE3Pose(\n",
    "        position = obj_pos_body,\n",
    "        rotation = bosdyn.client.math_helpers.Quat(w = 0, \n",
    "                                               x = 0, \n",
    "                                               y = -(1/2)**0.5, \n",
    "                                               z = (1/2)**0.5).to_proto())\n",
    "    obj_pos_body_se3 = bosdyn.client.math_helpers.SE3Pose.from_proto(obj_pos_body_se3_proto)\n",
    "    obj_pos_vision_se3 = body_to_vision * obj_pos_body_se3\n",
    "\n",
    "    move_robot_relative(command_client, robot, -0.3, 0, 0)\n",
    "\n",
    "    rand_imgs_thru_det(command_client, image_client, gl, rubiks_det)\n",
    "\n",
    "    blocking_stow(command_client)\n",
    "\n",
    "    multiAttemptGrasp(manipulation_api_client = manipulation_api_client,\n",
    "                      command_client = command_client,\n",
    "                      graph_nav_client = graph_nav_client,\n",
    "                      obj_pos_vision = obj_pos_vision_se3.position)\n",
    "\n",
    "    cmd = RobotCommandBuilder.arm_stow_command()\n",
    "    cmd_id = command_client.robot_command(cmd, end_time_secs = time.time()+timeout_sec)"
   ]
  },
  {
   "cell_type": "code",
   "execution_count": 26,
   "id": "1d97c26b",
   "metadata": {},
   "outputs": [],
   "source": [
    "gripper_open(command_client)"
   ]
  },
  {
   "cell_type": "code",
   "execution_count": 137,
   "id": "6b3da071",
   "metadata": {},
   "outputs": [],
   "source": [
    "gripper_close(command_client)"
   ]
  },
  {
   "cell_type": "code",
   "execution_count": 34,
   "id": "7490bc2a",
   "metadata": {},
   "outputs": [
    {
     "name": "stderr",
     "output_type": "stream",
     "text": [
      "WARNING:root:Upload complete! The robot is currently not localized to the map; please localize\n",
      "WARNING:root:FAILED: could not perform fidicial init, will shift and re-attempt\n",
      "WARNING:root:FAILED: could not perform fidicial init, will shift and re-attempt\n",
      "WARNING:root:FAILED: could not perform fidicial init, will shift and re-attempt\n",
      "WARNING:root:FAILED: could not perform fidicial init, will shift and re-attempt\n"
     ]
    }
   ],
   "source": [
    "    upload_graph_and_snapshots(graph_nav_client, upload_filepath)\n",
    "    success = graph_localize_fiducial(command_client, graph_nav_client, robot_state_client, robot)\n",
    "    waypoint_list = create_waypoint_list(graph_nav_client)"
   ]
  },
  {
   "cell_type": "code",
   "execution_count": 27,
   "id": "20d76f16",
   "metadata": {},
   "outputs": [
    {
     "name": "stdout",
     "output_type": "stream",
     "text": [
      "0\n",
      "1\n"
     ]
    },
    {
     "name": "stderr",
     "output_type": "stream",
     "text": [
      "WARNING:root:GRASP TOOK TOO LONG, STOPPING NOW\n"
     ]
    },
    {
     "ename": "KeyboardInterrupt",
     "evalue": "",
     "output_type": "error",
     "traceback": [
      "\u001b[0;31m---------------------------------------------------------------------------\u001b[0m",
      "\u001b[0;31mKeyboardInterrupt\u001b[0m                         Traceback (most recent call last)",
      "\u001b[0;32m/tmp/ipykernel_8984/4197064744.py\u001b[0m in \u001b[0;36m<module>\u001b[0;34m\u001b[0m\n\u001b[1;32m      5\u001b[0m                \u001b[0mrobot_state_client\u001b[0m \u001b[0;34m=\u001b[0m \u001b[0mrobot_state_client\u001b[0m\u001b[0;34m,\u001b[0m\u001b[0;34m\u001b[0m\u001b[0;34m\u001b[0m\u001b[0m\n\u001b[1;32m      6\u001b[0m                \u001b[0mgl\u001b[0m \u001b[0;34m=\u001b[0m \u001b[0mgl\u001b[0m\u001b[0;34m,\u001b[0m\u001b[0;34m\u001b[0m\u001b[0;34m\u001b[0m\u001b[0m\n\u001b[0;32m----> 7\u001b[0;31m                det = rubiks_det)\n\u001b[0m\u001b[1;32m      8\u001b[0m \u001b[0;34m\u001b[0m\u001b[0m\n\u001b[1;32m      9\u001b[0m     \u001b[0mupload_graph_and_snapshots\u001b[0m\u001b[0;34m(\u001b[0m\u001b[0mgraph_nav_client\u001b[0m\u001b[0;34m,\u001b[0m \u001b[0mupload_filepath\u001b[0m\u001b[0;34m)\u001b[0m\u001b[0;34m\u001b[0m\u001b[0;34m\u001b[0m\u001b[0m\n",
      "\u001b[0;32m/tmp/ipykernel_8984/2195189582.py\u001b[0m in \u001b[0;36mdrop_cap_grasp\u001b[0;34m(manipulation_api_client, command_client, image_client, robot_state_client, gl, det)\u001b[0m\n\u001b[1;32m     23\u001b[0m                       \u001b[0mcommand_client\u001b[0m \u001b[0;34m=\u001b[0m \u001b[0mcommand_client\u001b[0m\u001b[0;34m,\u001b[0m\u001b[0;34m\u001b[0m\u001b[0;34m\u001b[0m\u001b[0m\n\u001b[1;32m     24\u001b[0m                       \u001b[0mgraph_nav_client\u001b[0m \u001b[0;34m=\u001b[0m \u001b[0mgraph_nav_client\u001b[0m\u001b[0;34m,\u001b[0m\u001b[0;34m\u001b[0m\u001b[0;34m\u001b[0m\u001b[0m\n\u001b[0;32m---> 25\u001b[0;31m                       obj_pos_vision = obj_pos_vision_se3.position)\n\u001b[0m\u001b[1;32m     26\u001b[0m \u001b[0;34m\u001b[0m\u001b[0m\n\u001b[1;32m     27\u001b[0m     \u001b[0mcmd\u001b[0m \u001b[0;34m=\u001b[0m \u001b[0mRobotCommandBuilder\u001b[0m\u001b[0;34m.\u001b[0m\u001b[0marm_stow_command\u001b[0m\u001b[0;34m(\u001b[0m\u001b[0;34m)\u001b[0m\u001b[0;34m\u001b[0m\u001b[0;34m\u001b[0m\u001b[0m\n",
      "\u001b[0;32m/tmp/ipykernel_8984/1126474998.py\u001b[0m in \u001b[0;36mmultiAttemptGrasp\u001b[0;34m(manipulation_api_client, command_client, graph_nav_client, obj_pos_vision)\u001b[0m\n\u001b[1;32m     17\u001b[0m         \u001b[0;32mif\u001b[0m \u001b[0mwrist_pos_rads\u001b[0m \u001b[0;34m<\u001b[0m \u001b[0mnp\u001b[0m\u001b[0;34m.\u001b[0m\u001b[0mpi\u001b[0m\u001b[0;34m/\u001b[0m\u001b[0;36m36\u001b[0m \u001b[0;32mor\u001b[0m \u001b[0;32mnot\u001b[0m \u001b[0msuccess\u001b[0m\u001b[0;34m:\u001b[0m\u001b[0;34m\u001b[0m\u001b[0;34m\u001b[0m\u001b[0m\n\u001b[1;32m     18\u001b[0m \u001b[0;31m#            print(response, success)\u001b[0m\u001b[0;34m\u001b[0m\u001b[0;34m\u001b[0m\u001b[0;34m\u001b[0m\u001b[0m\n\u001b[0;32m---> 19\u001b[0;31m             \u001b[0mblocking_stow\u001b[0m\u001b[0;34m(\u001b[0m\u001b[0mcommand_client\u001b[0m\u001b[0;34m,\u001b[0m \u001b[0mtimeout_sec\u001b[0m \u001b[0;34m=\u001b[0m \u001b[0;36m15\u001b[0m\u001b[0;34m)\u001b[0m\u001b[0;34m\u001b[0m\u001b[0;34m\u001b[0m\u001b[0m\n\u001b[0m\u001b[1;32m     20\u001b[0m             \u001b[0mtime\u001b[0m\u001b[0;34m.\u001b[0m\u001b[0msleep\u001b[0m\u001b[0;34m(\u001b[0m\u001b[0;36m3\u001b[0m\u001b[0;34m)\u001b[0m\u001b[0;34m\u001b[0m\u001b[0;34m\u001b[0m\u001b[0m\n\u001b[1;32m     21\u001b[0m             \u001b[0;32mcontinue\u001b[0m\u001b[0;34m\u001b[0m\u001b[0;34m\u001b[0m\u001b[0m\n",
      "\u001b[0;32m~/groundlight/bdspot/spot/spot_functions.py\u001b[0m in \u001b[0;36mblocking_stow\u001b[0;34m(command_client, timeout_sec)\u001b[0m\n\u001b[1;32m    275\u001b[0m     \u001b[0mcmd_id\u001b[0m \u001b[0;34m=\u001b[0m \u001b[0mcommand_client\u001b[0m\u001b[0;34m.\u001b[0m\u001b[0mrobot_command\u001b[0m\u001b[0;34m(\u001b[0m\u001b[0mcmd\u001b[0m\u001b[0;34m,\u001b[0m \u001b[0mend_time_secs\u001b[0m \u001b[0;34m=\u001b[0m \u001b[0mtime\u001b[0m\u001b[0;34m.\u001b[0m\u001b[0mtime\u001b[0m\u001b[0;34m(\u001b[0m\u001b[0;34m)\u001b[0m \u001b[0;34m+\u001b[0m \u001b[0mtimeout_sec\u001b[0m\u001b[0;34m)\u001b[0m\u001b[0;34m\u001b[0m\u001b[0;34m\u001b[0m\u001b[0m\n\u001b[1;32m    276\u001b[0m     success = bdcrc.block_until_arm_arrives(command_client, cmd_id, \n\u001b[0;32m--> 277\u001b[0;31m                                             timeout_sec = time.time() + timeout_sec)\n\u001b[0m\u001b[1;32m    278\u001b[0m     \u001b[0;32mreturn\u001b[0m \u001b[0msuccess\u001b[0m\u001b[0;34m\u001b[0m\u001b[0;34m\u001b[0m\u001b[0m\n\u001b[1;32m    279\u001b[0m \u001b[0;34m\u001b[0m\u001b[0m\n",
      "\u001b[0;32m~/mambaforge/envs/spotenv/lib/python3.7/site-packages/bosdyn/client/robot_command.py\u001b[0m in \u001b[0;36mblock_until_arm_arrives\u001b[0;34m(command_client, cmd_id, timeout_sec)\u001b[0m\n\u001b[1;32m   1759\u001b[0m                 \u001b[0;32mreturn\u001b[0m \u001b[0;32mFalse\u001b[0m\u001b[0;34m\u001b[0m\u001b[0;34m\u001b[0m\u001b[0m\n\u001b[1;32m   1760\u001b[0m \u001b[0;34m\u001b[0m\u001b[0m\n\u001b[0;32m-> 1761\u001b[0;31m         \u001b[0mtime\u001b[0m\u001b[0;34m.\u001b[0m\u001b[0msleep\u001b[0m\u001b[0;34m(\u001b[0m\u001b[0;36m0.1\u001b[0m\u001b[0;34m)\u001b[0m\u001b[0;34m\u001b[0m\u001b[0;34m\u001b[0m\u001b[0m\n\u001b[0m\u001b[1;32m   1762\u001b[0m         \u001b[0mnow\u001b[0m \u001b[0;34m=\u001b[0m \u001b[0mtime\u001b[0m\u001b[0;34m.\u001b[0m\u001b[0mtime\u001b[0m\u001b[0;34m(\u001b[0m\u001b[0;34m)\u001b[0m\u001b[0;34m\u001b[0m\u001b[0;34m\u001b[0m\u001b[0m\n\u001b[1;32m   1763\u001b[0m     \u001b[0;32mreturn\u001b[0m \u001b[0;32mFalse\u001b[0m\u001b[0;34m\u001b[0m\u001b[0;34m\u001b[0m\u001b[0m\n",
      "\u001b[0;31mKeyboardInterrupt\u001b[0m: "
     ]
    }
   ],
   "source": [
    "for i in range(4):\n",
    "    drop_cap_grasp(manipulation_api_client = manipulation_api_client,\n",
    "               command_client = command_client,\n",
    "               image_client = image_client,\n",
    "               robot_state_client = robot_state_client,\n",
    "               gl = gl,\n",
    "               det = rubiks_det)\n",
    "\n",
    "    upload_graph_and_snapshots(graph_nav_client, upload_filepath)\n",
    "    success = graph_localize_fiducial(command_client, graph_nav_client, robot_state_client, robot)\n",
    "    waypoint_list = create_waypoint_list(graph_nav_client)\n",
    "    \n",
    "    wp_ind = np.random.choice(clear_waypoints)\n",
    "    print(wp_ind)\n",
    "    nav_to_cmd_id = graph_nav_client.navigate_to(waypoint_list[wp_ind], cmd_duration = 15)\n",
    "    wait_until_finished_nav(nav_to_cmd_id)\n",
    "    \n",
    "    wp_loc_proto = graph_del_get_graph_loc(graph_nav_client)"
   ]
  },
  {
   "cell_type": "code",
   "execution_count": 36,
   "id": "cbcea41d",
   "metadata": {},
   "outputs": [],
   "source": [
    "    nav_to_cmd_id = graph_nav_client.navigate_to(waypoint_list[25], cmd_duration = 15)\n",
    "    wait_until_finished_nav(graph_nav_client, nav_to_cmd_id)"
   ]
  },
  {
   "cell_type": "code",
   "execution_count": 138,
   "id": "af9ffe41",
   "metadata": {},
   "outputs": [
    {
     "name": "stdout",
     "output_type": "stream",
     "text": [
      "0\n"
     ]
    }
   ],
   "source": []
  },
  {
   "cell_type": "code",
   "execution_count": 24,
   "id": "9afcb5b1",
   "metadata": {},
   "outputs": [
    {
     "name": "stderr",
     "output_type": "stream",
     "text": [
      "WARNING:root:Upload complete! The robot is currently not localized to the map; please localize\n"
     ]
    }
   ],
   "source": []
  },
  {
   "cell_type": "code",
   "execution_count": 25,
   "id": "9abfeb57",
   "metadata": {},
   "outputs": [
    {
     "name": "stdout",
     "output_type": "stream",
     "text": [
      "9\n"
     ]
    }
   ],
   "source": []
  },
  {
   "cell_type": "code",
   "execution_count": 122,
   "id": "97b91345",
   "metadata": {},
   "outputs": [],
   "source": []
  },
  {
   "cell_type": "code",
   "execution_count": null,
   "id": "862df0f2",
   "metadata": {},
   "outputs": [],
   "source": []
  },
  {
   "cell_type": "code",
   "execution_count": null,
   "id": "d2933f0a",
   "metadata": {},
   "outputs": [],
   "source": []
  },
  {
   "cell_type": "code",
   "execution_count": 114,
   "id": "5bd72b4a",
   "metadata": {},
   "outputs": [
    {
     "ename": "NameError",
     "evalue": "name 'obj_pos_vision_se3' is not defined",
     "output_type": "error",
     "traceback": [
      "\u001b[0;31m---------------------------------------------------------------------------\u001b[0m",
      "\u001b[0;31mNameError\u001b[0m                                 Traceback (most recent call last)",
      "\u001b[0;32m/tmp/ipykernel_9007/3140582784.py\u001b[0m in \u001b[0;36m<module>\u001b[0;34m\u001b[0m\n\u001b[1;32m      2\u001b[0m                             \u001b[0mcommand_client\u001b[0m \u001b[0;34m=\u001b[0m \u001b[0mcommand_client\u001b[0m\u001b[0;34m,\u001b[0m\u001b[0;34m\u001b[0m\u001b[0;34m\u001b[0m\u001b[0m\n\u001b[1;32m      3\u001b[0m                             \u001b[0mgraph_nav_client\u001b[0m \u001b[0;34m=\u001b[0m \u001b[0mgraph_nav_client\u001b[0m\u001b[0;34m,\u001b[0m\u001b[0;34m\u001b[0m\u001b[0;34m\u001b[0m\u001b[0m\n\u001b[0;32m----> 4\u001b[0;31m                             obj_pos_vision = obj_pos_vision_se3.position)\n\u001b[0m",
      "\u001b[0;31mNameError\u001b[0m: name 'obj_pos_vision_se3' is not defined"
     ]
    }
   ],
   "source": [
    "success = multiAttemptGrasp(manipulation_api_client = manipulation_api_client, \n",
    "                            command_client = command_client, \n",
    "                            graph_nav_client = graph_nav_client, \n",
    "                            obj_pos_vision = obj_pos_vision_se3.position)"
   ]
  },
  {
   "cell_type": "code",
   "execution_count": null,
   "id": "aee80296",
   "metadata": {},
   "outputs": [],
   "source": []
  },
  {
   "cell_type": "code",
   "execution_count": 169,
   "id": "ae6deef5",
   "metadata": {},
   "outputs": [],
   "source": []
  },
  {
   "cell_type": "code",
   "execution_count": null,
   "id": "f860e97d",
   "metadata": {},
   "outputs": [],
   "source": []
  },
  {
   "cell_type": "code",
   "execution_count": 81,
   "id": "cfa2556f",
   "metadata": {},
   "outputs": [
    {
     "name": "stdout",
     "output_type": "stream",
     "text": [
      "0\n"
     ]
    },
    {
     "ename": "TypeError",
     "evalue": "Parameter to MergeFrom() must be instance of same class: expected bosdyn.api.Vec3 got str.",
     "output_type": "error",
     "traceback": [
      "\u001b[0;31m---------------------------------------------------------------------------\u001b[0m",
      "\u001b[0;31mTypeError\u001b[0m                                 Traceback (most recent call last)",
      "\u001b[0;32m/tmp/ipykernel_24955/2445034045.py\u001b[0m in \u001b[0;36m<module>\u001b[0;34m\u001b[0m\n\u001b[0;32m----> 1\u001b[0;31m \u001b[0mmultiAttemptGrasp\u001b[0m\u001b[0;34m(\u001b[0m\u001b[0mmanipulation_api_client\u001b[0m\u001b[0;34m,\u001b[0m \u001b[0mcommand_client\u001b[0m\u001b[0;34m,\u001b[0m \u001b[0mgraph_nav_client\u001b[0m\u001b[0;34m)\u001b[0m\u001b[0;34m\u001b[0m\u001b[0;34m\u001b[0m\u001b[0m\n\u001b[0m",
      "\u001b[0;32m/tmp/ipykernel_24955/3804474487.py\u001b[0m in \u001b[0;36mmultiAttemptGrasp\u001b[0;34m(manipulation_api_client, command_client, graph_nav_client, obj_pos_vision_se3)\u001b[0m\n\u001b[1;32m      3\u001b[0m         \u001b[0mprint\u001b[0m\u001b[0;34m(\u001b[0m\u001b[0mi\u001b[0m\u001b[0;34m)\u001b[0m\u001b[0;34m\u001b[0m\u001b[0;34m\u001b[0m\u001b[0m\n\u001b[1;32m      4\u001b[0m         grasp = manipulation_api_pb2.PickObject(frame_name = 'vision',\n\u001b[0;32m----> 5\u001b[0;31m                                                 object_rt_frame = obj_pos_vision_se3)\n\u001b[0m\u001b[1;32m      6\u001b[0m         \u001b[0mgrasp_request\u001b[0m \u001b[0;34m=\u001b[0m \u001b[0mmanipulation_api_pb2\u001b[0m\u001b[0;34m.\u001b[0m\u001b[0mManipulationApiRequest\u001b[0m\u001b[0;34m(\u001b[0m\u001b[0mpick_object\u001b[0m\u001b[0;34m=\u001b[0m\u001b[0mgrasp\u001b[0m\u001b[0;34m)\u001b[0m\u001b[0;34m\u001b[0m\u001b[0;34m\u001b[0m\u001b[0m\n\u001b[1;32m      7\u001b[0m         response, success = make_grasp(grasp_request, manipulation_api_client, \n",
      "\u001b[0;31mTypeError\u001b[0m: Parameter to MergeFrom() must be instance of same class: expected bosdyn.api.Vec3 got str."
     ]
    }
   ],
   "source": [
    "multiAttemptGrasp(manipulation_api_client, command_client, graph_nav_client)"
   ]
  },
  {
   "cell_type": "code",
   "execution_count": 170,
   "id": "ddb29acd",
   "metadata": {},
   "outputs": [],
   "source": [
    "cmd = RobotCommandBuilder.arm_stow_command()\n",
    "cmd_id = command_client.robot_command(cmd, end_time_secs = time.time()+timeout_sec)"
   ]
  },
  {
   "cell_type": "code",
   "execution_count": null,
   "id": "b52e893c",
   "metadata": {},
   "outputs": [],
   "source": [
    "move()"
   ]
  },
  {
   "cell_type": "code",
   "execution_count": 97,
   "id": "63417668",
   "metadata": {},
   "outputs": [],
   "source": []
  },
  {
   "cell_type": "code",
   "execution_count": 101,
   "id": "44f3bd44",
   "metadata": {},
   "outputs": [],
   "source": []
  },
  {
   "cell_type": "code",
   "execution_count": 57,
   "id": "b7c358b4",
   "metadata": {},
   "outputs": [],
   "source": []
  },
  {
   "cell_type": "code",
   "execution_count": 110,
   "id": "e4bb2995",
   "metadata": {},
   "outputs": [],
   "source": []
  },
  {
   "cell_type": "code",
   "execution_count": 86,
   "id": "d11187cb",
   "metadata": {},
   "outputs": [],
   "source": [
    "logging.getLogger().setLevel(logging.WARNING)"
   ]
  },
  {
   "cell_type": "code",
   "execution_count": 45,
   "id": "24564fef",
   "metadata": {},
   "outputs": [
    {
     "name": "stderr",
     "output_type": "stream",
     "text": [
      "WARNING:root:Upload complete! The robot is currently not localized to the map; please localize\n"
     ]
    }
   ],
   "source": []
  },
  {
   "cell_type": "code",
   "execution_count": 46,
   "id": "8aa771bd",
   "metadata": {},
   "outputs": [],
   "source": [
    "nav_to_cmd_id = graph_nav_client.navigate_to(waypoint_list[8], cmd_duration = 15)"
   ]
  },
  {
   "cell_type": "code",
   "execution_count": 15,
   "id": "570443c4",
   "metadata": {},
   "outputs": [],
   "source": []
  },
  {
   "cell_type": "code",
   "execution_count": 26,
   "id": "01389fc0",
   "metadata": {},
   "outputs": [],
   "source": [
    "move_to = np.array([0.8, 0,-0.4])\n",
    "look_at = np.array([0.8, 0, -3])"
   ]
  },
  {
   "cell_type": "code",
   "execution_count": 27,
   "id": "67bbaf12",
   "metadata": {},
   "outputs": [],
   "source": [
    "move_to_and_look_at(command_client, move_to, look_at)"
   ]
  },
  {
   "cell_type": "code",
   "execution_count": 90,
   "id": "fde3df1b",
   "metadata": {},
   "outputs": [],
   "source": [
    "def get_walking_params(max_linear_vel, max_rotation_vel):\n",
    "    max_vel_linear = geometry_pb2.Vec2(x=max_linear_vel, y=max_linear_vel)\n",
    "    max_vel_se2 = geometry_pb2.SE2Velocity(linear=max_vel_linear,\n",
    "                                           angular=max_rotation_vel)\n",
    "    vel_limit = geometry_pb2.SE2VelocityLimit(max_vel=max_vel_se2)\n",
    "    params = RobotCommandBuilder.mobility_params()\n",
    "    params.vel_limit.CopyFrom(vel_limit)\n",
    "    return params"
   ]
  },
  {
   "cell_type": "code",
   "execution_count": 130,
   "id": "18713a2f",
   "metadata": {},
   "outputs": [],
   "source": [
    "params = get_walking_params(2,1.55)"
   ]
  },
  {
   "cell_type": "code",
   "execution_count": 183,
   "id": "116e9e63",
   "metadata": {},
   "outputs": [],
   "source": [
    "cmd = RobotCommandBuilder.battery_change_pose_command()\n",
    "cmd_id = command_client.robot_command(cmd, end_time_secs = time.time()+timeout_sec)"
   ]
  },
  {
   "cell_type": "code",
   "execution_count": 19,
   "id": "0db6c242",
   "metadata": {},
   "outputs": [],
   "source": [
    "move_robot_relative(command_client, robot, 1, 0, 0)"
   ]
  },
  {
   "cell_type": "code",
   "execution_count": 17,
   "id": "d38a252e",
   "metadata": {},
   "outputs": [
    {
     "data": {
      "text/plain": [
       "<function spot_functions.move_robot_relative(command_client, robot, x_meters, y_meters, theta_rad, timeout_sec=10, blocking=True)>"
      ]
     },
     "execution_count": 17,
     "metadata": {},
     "output_type": "execute_result"
    }
   ],
   "source": [
    "move_robot_relative"
   ]
  },
  {
   "cell_type": "code",
   "execution_count": null,
   "id": "71b9e763",
   "metadata": {},
   "outputs": [],
   "source": []
  }
 ],
 "metadata": {
  "kernelspec": {
   "display_name": "Python 3 (ipykernel)",
   "language": "python",
   "name": "python3"
  },
  "language_info": {
   "codemirror_mode": {
    "name": "ipython",
    "version": 3
   },
   "file_extension": ".py",
   "mimetype": "text/x-python",
   "name": "python",
   "nbconvert_exporter": "python",
   "pygments_lexer": "ipython3",
   "version": "3.7.12"
  }
 },
 "nbformat": 4,
 "nbformat_minor": 5
}
