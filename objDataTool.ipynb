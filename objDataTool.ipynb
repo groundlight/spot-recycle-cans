{
 "cells": [
  {
   "cell_type": "code",
   "execution_count": 81,
   "id": "0f280976",
   "metadata": {},
   "outputs": [
    {
     "name": "stdout",
     "output_type": "stream",
     "text": [
      "The autoreload extension is already loaded. To reload it, use:\n",
      "  %reload_ext autoreload\n"
     ]
    }
   ],
   "source": [
    "%load_ext autoreload\n",
    "%autoreload 2"
   ]
  },
  {
   "cell_type": "code",
   "execution_count": 82,
   "id": "7c2aec7b",
   "metadata": {},
   "outputs": [],
   "source": [
    "from gl_functions import *\n",
    "from spot_functions import *\n",
    "from constants import timeout_sec, upload_filepath\n",
    "from scipy.spatial.transform import Rotation as sciRot"
   ]
  },
  {
   "cell_type": "markdown",
   "id": "df83b6be",
   "metadata": {},
   "source": [
    "## Learnings:\n",
    "\n",
    "1. SE3 transformation multiplication is commutative:  \n",
    "\n",
    "frame1_to_frame2 * frame2_to_frame3 =  frame2_to_frame3 * frame1_to_frame2 = frame1_to_frame3\n",
    "\n"
   ]
  },
  {
   "cell_type": "code",
   "execution_count": 3,
   "id": "fb178052",
   "metadata": {},
   "outputs": [],
   "source": [
    "#### CONSTANTS ####\n",
    "look_at_locs = np.array([[1.1, 0, -0.5],[0, 1.1, -0.5]])\n",
    "\n",
    "obj_pos_body = geometry_pb2.Vec3(x = 0.8, y = 0, z = -0.55)\n",
    "\n",
    "arm_pos_bounds  = {'x': {'lower':  0.6, 'upper': 0.9},\n",
    "                   'y': {'lower': -0.4, 'upper': 0.4},\n",
    "                   'z': {'lower': -0.1, 'upper': 0.8}}\n",
    "\n",
    "drop_rots = np.array([\n",
    "    [1,0,0],\n",
    "    [-1,0,0],\n",
    "    [1,0,1],\n",
    "    [-1,0,1],\n",
    "    [1,0,-1],\n",
    "    [-1,0,-1],\n",
    "    [0,1,0],\n",
    "    [0,1,1],\n",
    "    [0,1,2],\n",
    "    [0,1,3]\n",
    "])\n",
    "\n",
    "clear_waypoints = np.array([9, 10, 12, 25])"
   ]
  },
  {
   "cell_type": "code",
   "execution_count": 4,
   "id": "6009f194",
   "metadata": {},
   "outputs": [],
   "source": [
    "sdk, robot, id_client, \\\n",
    "robot_state_client, command_client, \\\n",
    "image_client, graph_nav_client, \\\n",
    "world_object_client, manipulation_api_client = init_robot('192.168.50.3')"
   ]
  },
  {
   "cell_type": "code",
   "execution_count": 5,
   "id": "e81bd79d",
   "metadata": {},
   "outputs": [],
   "source": [
    "lease_client, lease, lease_keep_alive = get_lease(robot)"
   ]
  },
  {
   "cell_type": "code",
   "execution_count": 86,
   "id": "aed84369",
   "metadata": {},
   "outputs": [],
   "source": [
    "os.environ.get(\"GROUNDLIGHT_API_TOKEN\")"
   ]
  },
  {
   "cell_type": "code",
   "execution_count": 87,
   "id": "30bc8b57",
   "metadata": {},
   "outputs": [],
   "source": [
    "# Initialize Groundlight API\n",
    "gl = Groundlight(api_token='api_2BdhzIXUiSKRCjMaB2xyYtOTxsm_5Xvr8eDFZVFEfRZq4GRk53iCXNrZ5UHZEN')\n",
    "detectors = gl.list_detectors()\n",
    "eraser_det = detectors.results[0]"
   ]
  },
  {
   "cell_type": "code",
   "execution_count": 7,
   "id": "f73814d2",
   "metadata": {},
   "outputs": [],
   "source": [
    "rubiks_det = detectors.results[4]"
   ]
  },
  {
   "cell_type": "code",
   "execution_count": 63,
   "id": "483ad515",
   "metadata": {},
   "outputs": [
    {
     "name": "stdout",
     "output_type": "stream",
     "text": [
      "Battery at: 55.0 %. Robot has 3113 seconds left\n"
     ]
    },
    {
     "data": {
      "text/plain": [
       "(55.0, 3113)"
      ]
     },
     "execution_count": 63,
     "metadata": {},
     "output_type": "execute_result"
    }
   ],
   "source": [
    "get_batt_info(robot_state_client)"
   ]
  },
  {
   "cell_type": "code",
   "execution_count": 62,
   "id": "bafaa9fb",
   "metadata": {},
   "outputs": [],
   "source": [
    "success = power_on(robot)"
   ]
  },
  {
   "cell_type": "code",
   "execution_count": 64,
   "id": "f302da50",
   "metadata": {},
   "outputs": [],
   "source": [
    "bdcrc.blocking_selfright(command_client, timeout_sec = 20)"
   ]
  },
  {
   "cell_type": "code",
   "execution_count": 11,
   "id": "ed2aa13e",
   "metadata": {},
   "outputs": [],
   "source": [
    "bdcrc.blocking_stand(command_client, timeout_sec = timeout_sec)"
   ]
  },
  {
   "cell_type": "code",
   "execution_count": 12,
   "id": "0f3b75d3",
   "metadata": {},
   "outputs": [],
   "source": [
    "move_robot_relative(command_client, robot, 0, 0, 0)"
   ]
  },
  {
   "cell_type": "code",
   "execution_count": 13,
   "id": "be91a879",
   "metadata": {},
   "outputs": [],
   "source": [
    "def gripper_slow_open(command_client):\n",
    "    \n",
    "    gripper_angles = np.linspace(0, 1, 1000)\n",
    "    \n",
    "    for gripper_angle in gripper_angles:\n",
    "        cmd = RobotCommandBuilder.claw_gripper_open_fraction_command(gripper_angle)\n",
    "        cmd_id = command_client.robot_command(cmd, end_time_secs = time.time()+timeout_sec)\n",
    "        time.sleep(1/gripper_angles.shape[0])"
   ]
  },
  {
   "cell_type": "code",
   "execution_count": 14,
   "id": "4adcfdcb",
   "metadata": {},
   "outputs": [],
   "source": [
    "def random_rot_drop(command_client, manipulation_api_client):\n",
    "    drop_rot_ind = np.random.randint(drop_rots.shape[0])\n",
    "    drop_rot = drop_rots[drop_rot_ind, :]\n",
    "    \n",
    "    rotObj = sciRot.from_euler('xyz',np.pi/2*drop_rot)\n",
    "    rot_mtx = rotObj.as_matrix()\n",
    "    rot_quat = bosdyn.client.math_helpers.Quat.from_matrix(rot_mtx)\n",
    "    drop_pose_body_frame_proto = geometry_pb2.SE3Pose(\n",
    "        position = geometry_pb2.Vec3(x = 0.8, y = 0, z = -0.3),  \n",
    "        rotation = rot_quat.to_proto())\n",
    "    drop_pose_body_frame_se3 = bosdyn.client.math_helpers.SE3Pose.from_proto(drop_pose_body_frame_proto)\n",
    "    arm_cmd = RobotCommandBuilder.arm_pose_command(x = drop_pose_body_frame_se3.x,\n",
    "                                               y = drop_pose_body_frame_se3.y,\n",
    "                                               z = drop_pose_body_frame_se3.z,\n",
    "                                               qw = drop_pose_body_frame_se3.rotation.w,\n",
    "                                               qx = drop_pose_body_frame_se3.rotation.x,\n",
    "                                               qy = drop_pose_body_frame_se3.rotation.y,\n",
    "                                               qz = drop_pose_body_frame_se3.rotation.z,\n",
    "                                               frame_name = 'body')\n",
    "\n",
    "    body_cmd = RobotCommandBuilder.synchro_stand_command(body_height = -0.3)\n",
    "    cmd = RobotCommandBuilder.build_synchro_command(arm_cmd, body_cmd)\n",
    "    cmd_id = command_client.robot_command(cmd, end_time_secs = time.time()+timeout_sec)\n",
    "    bdcrc.block_until_arm_arrives(command_client, cmd_id, timeout_sec = time.time() + 3.0)\n",
    "    time.sleep(0.5)\n",
    "    \n",
    "    gripper_slow_open(command_client)\n",
    "    time.sleep(0.5)\n",
    "\n",
    "    body_cmd = RobotCommandBuilder.synchro_stand_command(body_height = 0)\n",
    "    cmd_id = command_client.robot_command(body_cmd, end_time_secs = time.time()+timeout_sec)\n",
    "    time.sleep(1)\n",
    "\n",
    "    success = blocking_stow(command_client, timeout_sec = 3)\n",
    "    override_response = stowable_override(manipulation_api_client)\n",
    "    time.sleep(2)"
   ]
  },
  {
   "cell_type": "code",
   "execution_count": 70,
   "id": "35449b3f",
   "metadata": {},
   "outputs": [],
   "source": [
    "def rand_imgs_thru_det(command_client, image_client, gl, det):\n",
    "    for j in range(len(look_at_locs)):\n",
    "        look_at = look_at_locs[j]\n",
    "        for i in range(3):\n",
    "            #Move Arm to random position\n",
    "            x_pos_rand = np.random.uniform(arm_pos_bounds['x']['lower'],arm_pos_bounds['x']['upper'])\n",
    "            y_pos_rand = np.random.uniform(arm_pos_bounds['y']['lower'],arm_pos_bounds['y']['upper'])\n",
    "            z_pos_rand = np.random.uniform(arm_pos_bounds['z']['lower'],arm_pos_bounds['z']['upper'])\n",
    "\n",
    "            move_to = np.array([x_pos_rand, y_pos_rand, z_pos_rand])\n",
    "            move_to_and_look_at(command_client, move_to, look_at, blocking = True)\n",
    "\n",
    "            time.sleep(0.4)\n",
    "\n",
    "            hand_color_img, img_response = cap_hand_image(image_client, source = 'hand_color_image')\n",
    "            image_query = mat_thru_det(gl, det, hand_color_img)"
   ]
  },
  {
   "cell_type": "code",
   "execution_count": 18,
   "id": "c7329f01",
   "metadata": {},
   "outputs": [],
   "source": [
    "def multiAttemptGrasp(*, manipulation_api_client, command_client, graph_nav_client, obj_pos_vision):\n",
    "    for i in range(5):\n",
    "        print(i)\n",
    "        \n",
    "        #grasp_params = manipulation_api_pb2.GraspParams(grasp_palm_to_fingertip = 1)\n",
    "        grasp = manipulation_api_pb2.PickObject(frame_name = 'vision',\n",
    "                                                object_rt_frame = obj_pos_vision)\n",
    "        \n",
    "        grasp_request = manipulation_api_pb2.ManipulationApiRequest(pick_object=grasp)\n",
    "        response, success = make_grasp(grasp_request, manipulation_api_client, \n",
    "                                       command_client, graph_nav_client, verbose = True)\n",
    "\n",
    "        curState = robot_state_client.get_robot_state()\n",
    "        wrist_pos_rads = np.abs(curState.kinematic_state.joint_states[-1].position.value)\n",
    "\n",
    "        if wrist_pos_rads < np.pi/36 or not success:\n",
    "#            print(response, success)\n",
    "            blocking_stow(command_client, timeout_sec = 15)\n",
    "            time.sleep(3)\n",
    "            continue\n",
    "        else:\n",
    "            return True\n",
    "\n",
    "            \n",
    "            print('GRIPPER IS CLOSED. FAILED TO GRAB CUBE')\n",
    "        \n",
    "    logging.warning('FAILED TO GRAB CUBE')\n",
    "    return False"
   ]
  },
  {
   "cell_type": "code",
   "execution_count": 20,
   "id": "62c5effb",
   "metadata": {},
   "outputs": [],
   "source": [
    "# def eulerToQuat():\n",
    "    "
   ]
  },
  {
   "cell_type": "code",
   "execution_count": 21,
   "id": "8796d9cf",
   "metadata": {},
   "outputs": [],
   "source": [
    "def drop_cap_grasp(*, manipulation_api_client, command_client, image_client, robot_state_client, gl, det):\n",
    "    random_rot_drop(command_client, manipulation_api_client)\n",
    "\n",
    "    #get_a_tform_b returns transformation such that a_coords = tform * b_coords\n",
    "    frame_tree_snapshot = robot.get_frame_tree_snapshot()\n",
    "    body_to_vision = bosdyn.client.frame_helpers.get_a_tform_b(frame_tree_snapshot, frame_a = 'vision', frame_b ='body')\n",
    "    obj_pos_body_se3_proto = geometry_pb2.SE3Pose(\n",
    "        position = obj_pos_body,\n",
    "        rotation = bosdyn.client.math_helpers.Quat(w = 0, \n",
    "                                               x = 0, \n",
    "                                               y = -(1/2)**0.5, \n",
    "                                               z = (1/2)**0.5).to_proto())\n",
    "    obj_pos_body_se3 = bosdyn.client.math_helpers.SE3Pose.from_proto(obj_pos_body_se3_proto)\n",
    "    obj_pos_vision_se3 = body_to_vision * obj_pos_body_se3\n",
    "\n",
    "    move_robot_relative(command_client, robot, -0.3, 0, 0)\n",
    "\n",
    "    #rand_imgs_thru_det(command_client, image_client, gl, rubiks_det)\n",
    "\n",
    "    blocking_stow(command_client)\n",
    "    \n",
    "    #### EXPERIMENTAL\n",
    "    \n",
    "    body_cmd = RobotCommandBuilder.follow_arm_command()\n",
    "    arm_cmd = RobotCommandBuilder.arm_pose_command(x = obj_pos_vision_se3.x,\n",
    "                                               y = obj_pos_vision_se3.y,\n",
    "                                               z = obj_pos_vision_se3.z + 0.5,\n",
    "                                               qw = -(1/2)**0.5,\n",
    "                                               qx = 0,\n",
    "                                               qy = -(1/2)**0.5,\n",
    "                                               qz = 0,\n",
    "                                               frame_name = 'vision')\n",
    "    cmd = RobotCommandBuilder.build_synchro_command(body_cmd, arm_cmd)\n",
    "    cmd_id = command_client.robot_command(cmd, end_time_secs = time.time()+timeout_sec)\n",
    "    \n",
    "    bdcrc.block_until_arm_arrives(command_client, cmd_id, timeout_sec = time.time() + 3.0)\n",
    "    \n",
    "    #EXXPERIMENAL END\n",
    "    \n",
    "    \n",
    "\n",
    "    multiAttemptGrasp(manipulation_api_client = manipulation_api_client,\n",
    "                      command_client = command_client,\n",
    "                      graph_nav_client = graph_nav_client,\n",
    "                      obj_pos_vision = obj_pos_vision_se3.position)\n",
    "\n",
    "    cmd = RobotCommandBuilder.arm_stow_command()\n",
    "    cmd_id = command_client.robot_command(cmd, end_time_secs = time.time()+timeout_sec)"
   ]
  },
  {
   "cell_type": "code",
   "execution_count": 50,
   "id": "dea94ffe",
   "metadata": {},
   "outputs": [],
   "source": [
    "    random_rot_drop(command_client, manipulation_api_client)\n",
    "\n",
    "    #get_a_tform_b returns transformation such that a_coords = tform * b_coords\n",
    "    frame_tree_snapshot = robot.get_frame_tree_snapshot()\n",
    "    body_to_vision = bosdyn.client.frame_helpers.get_a_tform_b(frame_tree_snapshot, frame_a = 'vision', frame_b ='body')\n",
    "    obj_pos_body_se3_proto = geometry_pb2.SE3Pose(\n",
    "        position = obj_pos_body,\n",
    "        rotation = bosdyn.client.math_helpers.Quat(w = 0, \n",
    "                                               x = 0, \n",
    "                                               y = -(1/2)**0.5, \n",
    "                                               z = (1/2)**0.5).to_proto())\n",
    "    obj_pos_body_se3 = bosdyn.client.math_helpers.SE3Pose.from_proto(obj_pos_body_se3_proto)\n",
    "    obj_pos_vision_se3 = body_to_vision * obj_pos_body_se3\n"
   ]
  },
  {
   "cell_type": "code",
   "execution_count": 51,
   "id": "e0c409b2",
   "metadata": {},
   "outputs": [],
   "source": [
    "    move_robot_relative(command_client, robot, -0.3, 0, 0)\n",
    "\n"
   ]
  },
  {
   "cell_type": "code",
   "execution_count": 78,
   "id": "64dfd186",
   "metadata": {},
   "outputs": [
    {
     "data": {
      "text/plain": [
       "True"
      ]
     },
     "execution_count": 78,
     "metadata": {},
     "output_type": "execute_result"
    }
   ],
   "source": [
    "    #rand_imgs_thru_det(command_client, image_client, gl, rubiks_det)\n",
    "\n",
    "    blocking_stow(command_client)"
   ]
  },
  {
   "cell_type": "code",
   "execution_count": 76,
   "id": "c4ddaa54",
   "metadata": {},
   "outputs": [],
   "source": []
  },
  {
   "cell_type": "code",
   "execution_count": null,
   "id": "aba3f1e2",
   "metadata": {},
   "outputs": [],
   "source": []
  },
  {
   "cell_type": "code",
   "execution_count": 79,
   "id": "1d97c26b",
   "metadata": {},
   "outputs": [],
   "source": [
    "gripper_open(command_client)"
   ]
  },
  {
   "cell_type": "code",
   "execution_count": 80,
   "id": "6b3da071",
   "metadata": {},
   "outputs": [],
   "source": [
    "gripper_close(command_client)"
   ]
  },
  {
   "cell_type": "code",
   "execution_count": 41,
   "id": "d2562fc7",
   "metadata": {},
   "outputs": [],
   "source": [
    "wp_loc_proto = graph_del_get_graph_loc(graph_nav_client)"
   ]
  },
  {
   "cell_type": "code",
   "execution_count": 86,
   "id": "d3874c0c",
   "metadata": {},
   "outputs": [
    {
     "name": "stdout",
     "output_type": "stream",
     "text": [
      "0\n",
      "1\n",
      "2\n"
     ]
    },
    {
     "ename": "KeyboardInterrupt",
     "evalue": "",
     "output_type": "error",
     "traceback": [
      "\u001b[0;31m---------------------------------------------------------------------------\u001b[0m",
      "\u001b[0;31mKeyboardInterrupt\u001b[0m                         Traceback (most recent call last)",
      "\u001b[0;32m/tmp/ipykernel_9102/750119980.py\u001b[0m in \u001b[0;36m<module>\u001b[0;34m\u001b[0m\n\u001b[1;32m      4\u001b[0m            \u001b[0mrobot_state_client\u001b[0m \u001b[0;34m=\u001b[0m \u001b[0mrobot_state_client\u001b[0m\u001b[0;34m,\u001b[0m\u001b[0;34m\u001b[0m\u001b[0;34m\u001b[0m\u001b[0m\n\u001b[1;32m      5\u001b[0m            \u001b[0mgl\u001b[0m \u001b[0;34m=\u001b[0m \u001b[0mgl\u001b[0m\u001b[0;34m,\u001b[0m\u001b[0;34m\u001b[0m\u001b[0;34m\u001b[0m\u001b[0m\n\u001b[0;32m----> 6\u001b[0;31m            det = rubiks_det)\n\u001b[0m",
      "\u001b[0;32m/tmp/ipykernel_9102/3569979650.py\u001b[0m in \u001b[0;36mdrop_cap_grasp\u001b[0;34m(manipulation_api_client, command_client, image_client, robot_state_client, gl, det)\u001b[0m\n\u001b[1;32m     43\u001b[0m                       \u001b[0mcommand_client\u001b[0m \u001b[0;34m=\u001b[0m \u001b[0mcommand_client\u001b[0m\u001b[0;34m,\u001b[0m\u001b[0;34m\u001b[0m\u001b[0;34m\u001b[0m\u001b[0m\n\u001b[1;32m     44\u001b[0m                       \u001b[0mgraph_nav_client\u001b[0m \u001b[0;34m=\u001b[0m \u001b[0mgraph_nav_client\u001b[0m\u001b[0;34m,\u001b[0m\u001b[0;34m\u001b[0m\u001b[0;34m\u001b[0m\u001b[0m\n\u001b[0;32m---> 45\u001b[0;31m                       obj_pos_vision = obj_pos_vision_se3.position)\n\u001b[0m\u001b[1;32m     46\u001b[0m \u001b[0;34m\u001b[0m\u001b[0m\n\u001b[1;32m     47\u001b[0m     \u001b[0mcmd\u001b[0m \u001b[0;34m=\u001b[0m \u001b[0mRobotCommandBuilder\u001b[0m\u001b[0;34m.\u001b[0m\u001b[0marm_stow_command\u001b[0m\u001b[0;34m(\u001b[0m\u001b[0;34m)\u001b[0m\u001b[0;34m\u001b[0m\u001b[0;34m\u001b[0m\u001b[0m\n",
      "\u001b[0;32m/tmp/ipykernel_9102/2722952721.py\u001b[0m in \u001b[0;36mmultiAttemptGrasp\u001b[0;34m(manipulation_api_client, command_client, graph_nav_client, obj_pos_vision)\u001b[0m\n\u001b[1;32m     17\u001b[0m \u001b[0;31m#            print(response, success)\u001b[0m\u001b[0;34m\u001b[0m\u001b[0;34m\u001b[0m\u001b[0;34m\u001b[0m\u001b[0m\n\u001b[1;32m     18\u001b[0m             \u001b[0mblocking_stow\u001b[0m\u001b[0;34m(\u001b[0m\u001b[0mcommand_client\u001b[0m\u001b[0;34m,\u001b[0m \u001b[0mtimeout_sec\u001b[0m \u001b[0;34m=\u001b[0m \u001b[0;36m15\u001b[0m\u001b[0;34m)\u001b[0m\u001b[0;34m\u001b[0m\u001b[0;34m\u001b[0m\u001b[0m\n\u001b[0;32m---> 19\u001b[0;31m             \u001b[0mtime\u001b[0m\u001b[0;34m.\u001b[0m\u001b[0msleep\u001b[0m\u001b[0;34m(\u001b[0m\u001b[0;36m3\u001b[0m\u001b[0;34m)\u001b[0m\u001b[0;34m\u001b[0m\u001b[0;34m\u001b[0m\u001b[0m\n\u001b[0m\u001b[1;32m     20\u001b[0m             \u001b[0;32mcontinue\u001b[0m\u001b[0;34m\u001b[0m\u001b[0;34m\u001b[0m\u001b[0m\n\u001b[1;32m     21\u001b[0m         \u001b[0;32melse\u001b[0m\u001b[0;34m:\u001b[0m\u001b[0;34m\u001b[0m\u001b[0;34m\u001b[0m\u001b[0m\n",
      "\u001b[0;31mKeyboardInterrupt\u001b[0m: "
     ]
    }
   ],
   "source": [
    "    drop_cap_grasp(manipulation_api_client = manipulation_api_client,\n",
    "               command_client = command_client,\n",
    "               image_client = image_client,\n",
    "               robot_state_client = robot_state_client,\n",
    "               gl = gl,\n",
    "               det = rubiks_det)"
   ]
  },
  {
   "cell_type": "code",
   "execution_count": 34,
   "id": "20d76f16",
   "metadata": {
    "collapsed": true
   },
   "outputs": [
    {
     "name": "stdout",
     "output_type": "stream",
     "text": [
      "0\n"
     ]
    },
    {
     "name": "stderr",
     "output_type": "stream",
     "text": [
      "WARNING:root:Upload complete! The robot is currently not localized to the map; please localize\n"
     ]
    },
    {
     "name": "stdout",
     "output_type": "stream",
     "text": [
      "9\n"
     ]
    },
    {
     "name": "stderr",
     "output_type": "stream",
     "text": [
      "WARNING:root:Generic exception for  during check-in:\n",
      "bosdyn.api.RetainLeaseResponse (LeaseUseError): \n",
      "    (resuming check-in)\n"
     ]
    },
    {
     "name": "stdout",
     "output_type": "stream",
     "text": [
      "0\n"
     ]
    },
    {
     "name": "stderr",
     "output_type": "stream",
     "text": [
      "WARNING:root:Upload complete! The robot is currently not localized to the map; please localize\n",
      "WARNING:root:FAILED: could not perform fidicial init, will shift and re-attempt\n"
     ]
    },
    {
     "name": "stdout",
     "output_type": "stream",
     "text": [
      "10\n",
      "0\n",
      "1\n",
      "2\n",
      "3\n",
      "4\n"
     ]
    },
    {
     "name": "stderr",
     "output_type": "stream",
     "text": [
      "WARNING:root:FAILED TO GRAB CUBE\n",
      "WARNING:root:Upload complete! The robot is currently not localized to the map; please localize\n",
      "WARNING:root:FAILED: could not perform fidicial init, will shift and re-attempt\n",
      "WARNING:root:FAILED: could not perform fidicial init, will shift and re-attempt\n"
     ]
    },
    {
     "name": "stdout",
     "output_type": "stream",
     "text": [
      "12\n"
     ]
    },
    {
     "ename": "KeyboardInterrupt",
     "evalue": "",
     "output_type": "error",
     "traceback": [
      "\u001b[0;31m---------------------------------------------------------------------------\u001b[0m",
      "\u001b[0;31mKeyboardInterrupt\u001b[0m                         Traceback (most recent call last)",
      "\u001b[0;32m/tmp/ipykernel_9102/3087088717.py\u001b[0m in \u001b[0;36m<module>\u001b[0;34m\u001b[0m\n\u001b[1;32m      5\u001b[0m                \u001b[0mrobot_state_client\u001b[0m \u001b[0;34m=\u001b[0m \u001b[0mrobot_state_client\u001b[0m\u001b[0;34m,\u001b[0m\u001b[0;34m\u001b[0m\u001b[0;34m\u001b[0m\u001b[0m\n\u001b[1;32m      6\u001b[0m                \u001b[0mgl\u001b[0m \u001b[0;34m=\u001b[0m \u001b[0mgl\u001b[0m\u001b[0;34m,\u001b[0m\u001b[0;34m\u001b[0m\u001b[0;34m\u001b[0m\u001b[0m\n\u001b[0;32m----> 7\u001b[0;31m                det = rubiks_det)\n\u001b[0m\u001b[1;32m      8\u001b[0m \u001b[0;34m\u001b[0m\u001b[0m\n\u001b[1;32m      9\u001b[0m     \u001b[0mupload_graph_and_snapshots\u001b[0m\u001b[0;34m(\u001b[0m\u001b[0mgraph_nav_client\u001b[0m\u001b[0;34m,\u001b[0m \u001b[0mupload_filepath\u001b[0m\u001b[0;34m)\u001b[0m\u001b[0;34m\u001b[0m\u001b[0;34m\u001b[0m\u001b[0m\n",
      "\u001b[0;32m/tmp/ipykernel_9102/2195189582.py\u001b[0m in \u001b[0;36mdrop_cap_grasp\u001b[0;34m(manipulation_api_client, command_client, image_client, robot_state_client, gl, det)\u001b[0m\n\u001b[1;32m      1\u001b[0m \u001b[0;32mdef\u001b[0m \u001b[0mdrop_cap_grasp\u001b[0m\u001b[0;34m(\u001b[0m\u001b[0;34m*\u001b[0m\u001b[0;34m,\u001b[0m \u001b[0mmanipulation_api_client\u001b[0m\u001b[0;34m,\u001b[0m \u001b[0mcommand_client\u001b[0m\u001b[0;34m,\u001b[0m \u001b[0mimage_client\u001b[0m\u001b[0;34m,\u001b[0m \u001b[0mrobot_state_client\u001b[0m\u001b[0;34m,\u001b[0m \u001b[0mgl\u001b[0m\u001b[0;34m,\u001b[0m \u001b[0mdet\u001b[0m\u001b[0;34m)\u001b[0m\u001b[0;34m:\u001b[0m\u001b[0;34m\u001b[0m\u001b[0;34m\u001b[0m\u001b[0m\n\u001b[0;32m----> 2\u001b[0;31m     \u001b[0mrandom_rot_drop\u001b[0m\u001b[0;34m(\u001b[0m\u001b[0mcommand_client\u001b[0m\u001b[0;34m,\u001b[0m \u001b[0mmanipulation_api_client\u001b[0m\u001b[0;34m)\u001b[0m\u001b[0;34m\u001b[0m\u001b[0;34m\u001b[0m\u001b[0m\n\u001b[0m\u001b[1;32m      3\u001b[0m \u001b[0;34m\u001b[0m\u001b[0m\n\u001b[1;32m      4\u001b[0m     \u001b[0;31m#get_a_tform_b returns transformation such that a_coords = tform * b_coords\u001b[0m\u001b[0;34m\u001b[0m\u001b[0;34m\u001b[0m\u001b[0;34m\u001b[0m\u001b[0m\n\u001b[1;32m      5\u001b[0m     \u001b[0mframe_tree_snapshot\u001b[0m \u001b[0;34m=\u001b[0m \u001b[0mrobot\u001b[0m\u001b[0;34m.\u001b[0m\u001b[0mget_frame_tree_snapshot\u001b[0m\u001b[0;34m(\u001b[0m\u001b[0;34m)\u001b[0m\u001b[0;34m\u001b[0m\u001b[0;34m\u001b[0m\u001b[0m\n",
      "\u001b[0;32m/tmp/ipykernel_9102/2570640046.py\u001b[0m in \u001b[0;36mrandom_rot_drop\u001b[0;34m(command_client, manipulation_api_client)\u001b[0m\n\u001b[1;32m     22\u001b[0m     \u001b[0mcmd\u001b[0m \u001b[0;34m=\u001b[0m \u001b[0mRobotCommandBuilder\u001b[0m\u001b[0;34m.\u001b[0m\u001b[0mbuild_synchro_command\u001b[0m\u001b[0;34m(\u001b[0m\u001b[0marm_cmd\u001b[0m\u001b[0;34m,\u001b[0m \u001b[0mbody_cmd\u001b[0m\u001b[0;34m)\u001b[0m\u001b[0;34m\u001b[0m\u001b[0;34m\u001b[0m\u001b[0m\n\u001b[1;32m     23\u001b[0m     \u001b[0mcmd_id\u001b[0m \u001b[0;34m=\u001b[0m \u001b[0mcommand_client\u001b[0m\u001b[0;34m.\u001b[0m\u001b[0mrobot_command\u001b[0m\u001b[0;34m(\u001b[0m\u001b[0mcmd\u001b[0m\u001b[0;34m,\u001b[0m \u001b[0mend_time_secs\u001b[0m \u001b[0;34m=\u001b[0m \u001b[0mtime\u001b[0m\u001b[0;34m.\u001b[0m\u001b[0mtime\u001b[0m\u001b[0;34m(\u001b[0m\u001b[0;34m)\u001b[0m\u001b[0;34m+\u001b[0m\u001b[0mtimeout_sec\u001b[0m\u001b[0;34m)\u001b[0m\u001b[0;34m\u001b[0m\u001b[0;34m\u001b[0m\u001b[0m\n\u001b[0;32m---> 24\u001b[0;31m     \u001b[0mbdcrc\u001b[0m\u001b[0;34m.\u001b[0m\u001b[0mblock_until_arm_arrives\u001b[0m\u001b[0;34m(\u001b[0m\u001b[0mcommand_client\u001b[0m\u001b[0;34m,\u001b[0m \u001b[0mcmd_id\u001b[0m\u001b[0;34m,\u001b[0m \u001b[0mtimeout_sec\u001b[0m \u001b[0;34m=\u001b[0m \u001b[0mtime\u001b[0m\u001b[0;34m.\u001b[0m\u001b[0mtime\u001b[0m\u001b[0;34m(\u001b[0m\u001b[0;34m)\u001b[0m \u001b[0;34m+\u001b[0m \u001b[0;36m3.0\u001b[0m\u001b[0;34m)\u001b[0m\u001b[0;34m\u001b[0m\u001b[0;34m\u001b[0m\u001b[0m\n\u001b[0m\u001b[1;32m     25\u001b[0m     \u001b[0mtime\u001b[0m\u001b[0;34m.\u001b[0m\u001b[0msleep\u001b[0m\u001b[0;34m(\u001b[0m\u001b[0;36m0.5\u001b[0m\u001b[0;34m)\u001b[0m\u001b[0;34m\u001b[0m\u001b[0;34m\u001b[0m\u001b[0m\n\u001b[1;32m     26\u001b[0m \u001b[0;34m\u001b[0m\u001b[0m\n",
      "\u001b[0;32m~/mambaforge/envs/spotenv/lib/python3.7/site-packages/bosdyn/client/robot_command.py\u001b[0m in \u001b[0;36mblock_until_arm_arrives\u001b[0;34m(command_client, cmd_id, timeout_sec)\u001b[0m\n\u001b[1;32m   1759\u001b[0m                 \u001b[0;32mreturn\u001b[0m \u001b[0;32mFalse\u001b[0m\u001b[0;34m\u001b[0m\u001b[0;34m\u001b[0m\u001b[0m\n\u001b[1;32m   1760\u001b[0m \u001b[0;34m\u001b[0m\u001b[0m\n\u001b[0;32m-> 1761\u001b[0;31m         \u001b[0mtime\u001b[0m\u001b[0;34m.\u001b[0m\u001b[0msleep\u001b[0m\u001b[0;34m(\u001b[0m\u001b[0;36m0.1\u001b[0m\u001b[0;34m)\u001b[0m\u001b[0;34m\u001b[0m\u001b[0;34m\u001b[0m\u001b[0m\n\u001b[0m\u001b[1;32m   1762\u001b[0m         \u001b[0mnow\u001b[0m \u001b[0;34m=\u001b[0m \u001b[0mtime\u001b[0m\u001b[0;34m.\u001b[0m\u001b[0mtime\u001b[0m\u001b[0;34m(\u001b[0m\u001b[0;34m)\u001b[0m\u001b[0;34m\u001b[0m\u001b[0;34m\u001b[0m\u001b[0m\n\u001b[1;32m   1763\u001b[0m     \u001b[0;32mreturn\u001b[0m \u001b[0;32mFalse\u001b[0m\u001b[0;34m\u001b[0m\u001b[0;34m\u001b[0m\u001b[0m\n",
      "\u001b[0;31mKeyboardInterrupt\u001b[0m: "
     ]
    }
   ],
   "source": [
    "for i in range(4):\n",
    "    drop_cap_grasp(manipulation_api_client = manipulation_api_client,\n",
    "               command_client = command_client,\n",
    "               image_client = image_client,\n",
    "               robot_state_client = robot_state_client,\n",
    "               gl = gl,\n",
    "               det = rubiks_det)\n",
    "\n",
    "    upload_graph_and_snapshots(graph_nav_client, upload_filepath)\n",
    "    success = graph_localize_fiducial(command_client, graph_nav_client, robot_state_client, robot)\n",
    "    waypoint_list = create_waypoint_list(graph_nav_client)\n",
    "    \n",
    "    #wp_ind = np.random.choice(clear_waypoints)\n",
    "    wp_ind = clear_waypoints[i]\n",
    "    print(wp_ind)\n",
    "    nav_to_cmd_id = graph_nav_client.navigate_to(waypoint_list[wp_ind], cmd_duration = 15)\n",
    "    wait_until_finished_nav(graph_nav_client, nav_to_cmd_id)\n",
    "    \n",
    "    wp_loc_proto = graph_del_get_graph_loc(graph_nav_client)"
   ]
  },
  {
   "cell_type": "code",
   "execution_count": 92,
   "id": "a1c7daa3",
   "metadata": {},
   "outputs": [
    {
     "name": "stderr",
     "output_type": "stream",
     "text": [
      "WARNING:root:Upload complete! The robot is currently not localized to the map; please localize\n"
     ]
    }
   ],
   "source": [
    "upload_graph_and_snapshots(graph_nav_client, upload_filepath)\n",
    "success = graph_localize_fiducial(command_client, graph_nav_client, robot_state_client, robot)\n",
    "waypoint_list = create_waypoint_list(graph_nav_client)"
   ]
  },
  {
   "cell_type": "code",
   "execution_count": 94,
   "id": "067393a1",
   "metadata": {},
   "outputs": [],
   "source": [
    "nav_to_cmd_id = graph_nav_client.navigate_to(waypoint_list[0], cmd_duration = 15)"
   ]
  },
  {
   "cell_type": "code",
   "execution_count": 93,
   "id": "9590ef2e",
   "metadata": {},
   "outputs": [
    {
     "name": "stderr",
     "output_type": "stream",
     "text": [
      "WARNING:root:Upload complete! The robot is currently not localized to the map; please localize\n",
      "WARNING:root:Upload complete! The robot is currently not localized to the map; please localize\n"
     ]
    },
    {
     "ename": "KeyboardInterrupt",
     "evalue": "",
     "output_type": "error",
     "traceback": [
      "\u001b[0;31m---------------------------------------------------------------------------\u001b[0m",
      "\u001b[0;31mKeyboardInterrupt\u001b[0m                         Traceback (most recent call last)",
      "\u001b[0;32m/tmp/ipykernel_8703/3532434914.py\u001b[0m in \u001b[0;36m<module>\u001b[0;34m\u001b[0m\n\u001b[1;32m      1\u001b[0m \u001b[0mwp_ind_list\u001b[0m \u001b[0;34m=\u001b[0m \u001b[0;34m[\u001b[0m\u001b[0;36m0\u001b[0m\u001b[0;34m,\u001b[0m \u001b[0;36m8\u001b[0m\u001b[0;34m,\u001b[0m \u001b[0;36m10\u001b[0m\u001b[0;34m,\u001b[0m \u001b[0;36m12\u001b[0m\u001b[0;34m,\u001b[0m \u001b[0;36m15\u001b[0m\u001b[0;34m]\u001b[0m\u001b[0;34m\u001b[0m\u001b[0;34m\u001b[0m\u001b[0m\n\u001b[1;32m      2\u001b[0m \u001b[0;32mfor\u001b[0m \u001b[0mwp_ind\u001b[0m \u001b[0;32min\u001b[0m \u001b[0mwp_ind_list\u001b[0m\u001b[0;34m:\u001b[0m\u001b[0;34m\u001b[0m\u001b[0;34m\u001b[0m\u001b[0m\n\u001b[0;32m----> 3\u001b[0;31m     \u001b[0mblocking_stow\u001b[0m\u001b[0;34m(\u001b[0m\u001b[0mcommand_client\u001b[0m\u001b[0;34m)\u001b[0m\u001b[0;34m\u001b[0m\u001b[0;34m\u001b[0m\u001b[0m\n\u001b[0m\u001b[1;32m      4\u001b[0m     \u001b[0mnav_to_cmd_id\u001b[0m \u001b[0;34m=\u001b[0m \u001b[0mgraph_nav_client\u001b[0m\u001b[0;34m.\u001b[0m\u001b[0mnavigate_to\u001b[0m\u001b[0;34m(\u001b[0m\u001b[0mwaypoint_list\u001b[0m\u001b[0;34m[\u001b[0m\u001b[0mwp_ind\u001b[0m\u001b[0;34m]\u001b[0m\u001b[0;34m,\u001b[0m \u001b[0mcmd_duration\u001b[0m \u001b[0;34m=\u001b[0m \u001b[0;36m15\u001b[0m\u001b[0;34m)\u001b[0m\u001b[0;34m\u001b[0m\u001b[0;34m\u001b[0m\u001b[0m\n\u001b[1;32m      5\u001b[0m     \u001b[0mwait_until_finished_nav\u001b[0m\u001b[0;34m(\u001b[0m\u001b[0mgraph_nav_client\u001b[0m\u001b[0;34m,\u001b[0m \u001b[0mnav_to_cmd_id\u001b[0m\u001b[0;34m)\u001b[0m\u001b[0;34m\u001b[0m\u001b[0;34m\u001b[0m\u001b[0m\n",
      "\u001b[0;32m~/groundlight/bdspot/spot/spot_functions.py\u001b[0m in \u001b[0;36mblocking_stow\u001b[0;34m(command_client, timeout_sec)\u001b[0m\n\u001b[1;32m    275\u001b[0m     \u001b[0mcmd_id\u001b[0m \u001b[0;34m=\u001b[0m \u001b[0mcommand_client\u001b[0m\u001b[0;34m.\u001b[0m\u001b[0mrobot_command\u001b[0m\u001b[0;34m(\u001b[0m\u001b[0mcmd\u001b[0m\u001b[0;34m,\u001b[0m \u001b[0mend_time_secs\u001b[0m \u001b[0;34m=\u001b[0m \u001b[0mtime\u001b[0m\u001b[0;34m.\u001b[0m\u001b[0mtime\u001b[0m\u001b[0;34m(\u001b[0m\u001b[0;34m)\u001b[0m \u001b[0;34m+\u001b[0m \u001b[0mtimeout_sec\u001b[0m\u001b[0;34m)\u001b[0m\u001b[0;34m\u001b[0m\u001b[0;34m\u001b[0m\u001b[0m\n\u001b[1;32m    276\u001b[0m     success = bdcrc.block_until_arm_arrives(command_client, cmd_id, \n\u001b[0;32m--> 277\u001b[0;31m                                             timeout_sec = time.time() + timeout_sec)\n\u001b[0m\u001b[1;32m    278\u001b[0m     \u001b[0;32mreturn\u001b[0m \u001b[0msuccess\u001b[0m\u001b[0;34m\u001b[0m\u001b[0;34m\u001b[0m\u001b[0m\n\u001b[1;32m    279\u001b[0m \u001b[0;34m\u001b[0m\u001b[0m\n",
      "\u001b[0;32m~/mambaforge/envs/spotenv/lib/python3.7/site-packages/bosdyn/client/robot_command.py\u001b[0m in \u001b[0;36mblock_until_arm_arrives\u001b[0;34m(command_client, cmd_id, timeout_sec)\u001b[0m\n\u001b[1;32m   1759\u001b[0m                 \u001b[0;32mreturn\u001b[0m \u001b[0;32mFalse\u001b[0m\u001b[0;34m\u001b[0m\u001b[0;34m\u001b[0m\u001b[0m\n\u001b[1;32m   1760\u001b[0m \u001b[0;34m\u001b[0m\u001b[0m\n\u001b[0;32m-> 1761\u001b[0;31m         \u001b[0mtime\u001b[0m\u001b[0;34m.\u001b[0m\u001b[0msleep\u001b[0m\u001b[0;34m(\u001b[0m\u001b[0;36m0.1\u001b[0m\u001b[0;34m)\u001b[0m\u001b[0;34m\u001b[0m\u001b[0;34m\u001b[0m\u001b[0m\n\u001b[0m\u001b[1;32m   1762\u001b[0m         \u001b[0mnow\u001b[0m \u001b[0;34m=\u001b[0m \u001b[0mtime\u001b[0m\u001b[0;34m.\u001b[0m\u001b[0mtime\u001b[0m\u001b[0;34m(\u001b[0m\u001b[0;34m)\u001b[0m\u001b[0;34m\u001b[0m\u001b[0;34m\u001b[0m\u001b[0m\n\u001b[1;32m   1763\u001b[0m     \u001b[0;32mreturn\u001b[0m \u001b[0;32mFalse\u001b[0m\u001b[0;34m\u001b[0m\u001b[0;34m\u001b[0m\u001b[0m\n",
      "\u001b[0;31mKeyboardInterrupt\u001b[0m: "
     ]
    }
   ],
   "source": [
    "wp_ind_list = [0, 8, 10, 12, 15]\n",
    "for wp_ind in wp_ind_list:\n",
    "    blocking_stow(command_client)\n",
    "    nav_to_cmd_id = graph_nav_client.navigate_to(waypoint_list[wp_ind], cmd_duration = 15)\n",
    "    wait_until_finished_nav(graph_nav_client, nav_to_cmd_id)\n",
    "    prev_graph_state = graph_del_save_state(graph_nav_client, robot)\n",
    "    gripper_open(command_client)\n",
    "    rand_imgs_thru_det(command_client, image_client, gl, rubiks_det)\n",
    "    gripper_close(command_client)\n",
    "    upload_graph_and_snapshots(graph_nav_client, upload_filepath)\n",
    "    response = graph_localize_saved_state(graph_nav_client, robot, prev_graph_state)"
   ]
  },
  {
   "cell_type": "code",
   "execution_count": 66,
   "id": "60152876",
   "metadata": {},
   "outputs": [
    {
     "name": "stderr",
     "output_type": "stream",
     "text": [
      "WARNING:root:ARM already at desired location and orientation\n"
     ]
    }
   ],
   "source": [
    "move_to_and_look_at(command_client, [0.8,0,0.5], [1.2, 0, -0.5])\n"
   ]
  },
  {
   "cell_type": "code",
   "execution_count": 67,
   "id": "424d92b4",
   "metadata": {},
   "outputs": [],
   "source": [
    "hand_color_image = cap_hand_image(image_client, 'hand_color_image')"
   ]
  },
  {
   "cell_type": "code",
   "execution_count": 75,
   "id": "08292056",
   "metadata": {},
   "outputs": [
    {
     "name": "stderr",
     "output_type": "stream",
     "text": [
      "WARNING:root:ARM already at desired location and orientation\n"
     ]
    },
    {
     "ename": "KeyboardInterrupt",
     "evalue": "",
     "output_type": "error",
     "traceback": [
      "\u001b[0;31m---------------------------------------------------------------------------\u001b[0m",
      "\u001b[0;31mKeyboardInterrupt\u001b[0m                         Traceback (most recent call last)",
      "\u001b[0;32m/tmp/ipykernel_8703/3530684146.py\u001b[0m in \u001b[0;36m<module>\u001b[0;34m\u001b[0m\n\u001b[0;32m----> 1\u001b[0;31m \u001b[0mrand_imgs_thru_det\u001b[0m\u001b[0;34m(\u001b[0m\u001b[0mcommand_client\u001b[0m\u001b[0;34m,\u001b[0m \u001b[0mimage_client\u001b[0m\u001b[0;34m,\u001b[0m \u001b[0mgl\u001b[0m\u001b[0;34m,\u001b[0m \u001b[0mrubiks_det\u001b[0m\u001b[0;34m)\u001b[0m\u001b[0;34m\u001b[0m\u001b[0;34m\u001b[0m\u001b[0m\n\u001b[0m",
      "\u001b[0;32m/tmp/ipykernel_8703/2356698636.py\u001b[0m in \u001b[0;36mrand_imgs_thru_det\u001b[0;34m(command_client, image_client, gl, det)\u001b[0m\n\u001b[1;32m     11\u001b[0m             \u001b[0mmove_to_and_look_at\u001b[0m\u001b[0;34m(\u001b[0m\u001b[0mcommand_client\u001b[0m\u001b[0;34m,\u001b[0m \u001b[0mmove_to\u001b[0m\u001b[0;34m,\u001b[0m \u001b[0mlook_at\u001b[0m\u001b[0;34m,\u001b[0m \u001b[0mblocking\u001b[0m \u001b[0;34m=\u001b[0m \u001b[0;32mTrue\u001b[0m\u001b[0;34m)\u001b[0m\u001b[0;34m\u001b[0m\u001b[0;34m\u001b[0m\u001b[0m\n\u001b[1;32m     12\u001b[0m \u001b[0;34m\u001b[0m\u001b[0m\n\u001b[0;32m---> 13\u001b[0;31m             \u001b[0mtime\u001b[0m\u001b[0;34m.\u001b[0m\u001b[0msleep\u001b[0m\u001b[0;34m(\u001b[0m\u001b[0;36m0.4\u001b[0m\u001b[0;34m)\u001b[0m\u001b[0;34m\u001b[0m\u001b[0;34m\u001b[0m\u001b[0m\n\u001b[0m\u001b[1;32m     14\u001b[0m \u001b[0;34m\u001b[0m\u001b[0m\n\u001b[1;32m     15\u001b[0m             \u001b[0mhand_color_img\u001b[0m\u001b[0;34m,\u001b[0m \u001b[0mimg_response\u001b[0m \u001b[0;34m=\u001b[0m \u001b[0mcap_hand_image\u001b[0m\u001b[0;34m(\u001b[0m\u001b[0mimage_client\u001b[0m\u001b[0;34m,\u001b[0m \u001b[0msource\u001b[0m \u001b[0;34m=\u001b[0m \u001b[0;34m'hand_color_image'\u001b[0m\u001b[0;34m)\u001b[0m\u001b[0;34m\u001b[0m\u001b[0;34m\u001b[0m\u001b[0m\n",
      "\u001b[0;31mKeyboardInterrupt\u001b[0m: "
     ]
    }
   ],
   "source": []
  },
  {
   "cell_type": "code",
   "execution_count": 42,
   "id": "2e69a69d",
   "metadata": {},
   "outputs": [],
   "source": [
    "prev_graph_state = graph_del_save_state(graph_nav_client, robot)"
   ]
  },
  {
   "cell_type": "code",
   "execution_count": 43,
   "id": "eeaf0833",
   "metadata": {},
   "outputs": [],
   "source": [
    "move_robot_relative(command_client, robot, 1, -0.5, 0)"
   ]
  },
  {
   "cell_type": "code",
   "execution_count": 45,
   "id": "90330b4a",
   "metadata": {},
   "outputs": [
    {
     "name": "stderr",
     "output_type": "stream",
     "text": [
      "WARNING:root:Upload complete! The robot is currently not localized to the map; please localize\n"
     ]
    }
   ],
   "source": [
    "response = upload_graph_and_snapshots(graph_nav_client, upload_filepath)"
   ]
  },
  {
   "cell_type": "code",
   "execution_count": 47,
   "id": "0fc4c142",
   "metadata": {},
   "outputs": [],
   "source": [
    "response = graph_localize_saved_state(graph_nav_client, robot, prev_graph_state)"
   ]
  },
  {
   "cell_type": "code",
   "execution_count": null,
   "id": "92b1e3a2",
   "metadata": {},
   "outputs": [],
   "source": []
  },
  {
   "cell_type": "code",
   "execution_count": 174,
   "id": "1337dd84",
   "metadata": {},
   "outputs": [],
   "source": [
    "prev_loc_response = graph_nav_client.get_localization_state()\n",
    "prev_graph_loc_proto = prev_loc_response.localization\n",
    "\n",
    "prev_waypoint_id = prev_graph_loc_proto.waypoint_id\n",
    "\n",
    "prev_waypoint_to_body_proto = prev_graph_loc_proto.waypoint_tform_body\n",
    "prev_waypoint_to_body_se3 = bosdyn.client.math_helpers.SE3Pose.from_proto(prev_waypoint_to_body_proto)\n",
    "\n",
    "frame_tree_snapshot = robot.get_frame_tree_snapshot()\n",
    "prev_body_to_vision_se3 = bosdyn.client.frame_helpers.get_a_tform_b(frame_tree_snapshot, frame_a = 'vision', frame_b = 'body')\n",
    "\n",
    "vision_to_waypoint_se3 = (prev_waypoint_to_body_se3 * prev_body_to_vision_se3).inverse()"
   ]
  },
  {
   "cell_type": "code",
   "execution_count": 175,
   "id": "9f53cbb0",
   "metadata": {},
   "outputs": [],
   "source": [
    "clear_response = graph_nav_client.clear_graph()"
   ]
  },
  {
   "cell_type": "code",
   "execution_count": 176,
   "id": "42073058",
   "metadata": {},
   "outputs": [],
   "source": [
    "move_robot_relative(command_client, robot, 1, -0.5, 0)"
   ]
  },
  {
   "cell_type": "code",
   "execution_count": null,
   "id": "625c42bc",
   "metadata": {},
   "outputs": [],
   "source": []
  },
  {
   "cell_type": "code",
   "execution_count": 203,
   "id": "510b1468",
   "metadata": {},
   "outputs": [],
   "source": [
    "cmd = RobotCommandBuilder.synchro_stand_command(body_height = -0.0)\n",
    "cmd_id = command_client.robot_command(cmd, end_time_secs = time.time()+timeout_sec)"
   ]
  },
  {
   "cell_type": "code",
   "execution_count": 194,
   "id": "703f656c",
   "metadata": {},
   "outputs": [],
   "source": [
    "frame_tree_snapshot = robot.get_frame_tree_snapshot()\n",
    "\n",
    "#get_a_tform_b returns transformation such that a_coords = tform * b_coords\n",
    "body_to_vision_se3 = get_a_tform_b(frame_tree_snapshot, frame_a = 'vision', frame_b = 'body')\n",
    "body_wrt_waypoint_proto = (body_to_vision_se3 * vision_to_waypoint_se3).to_proto()"
   ]
  },
  {
   "cell_type": "code",
   "execution_count": 58,
   "id": "82a05789",
   "metadata": {},
   "outputs": [],
   "source": [
    "response = upload_graph_and_snapshots(graph_nav_client, upload_filepath)"
   ]
  },
  {
   "cell_type": "code",
   "execution_count": 213,
   "id": "d2ecdbf0",
   "metadata": {},
   "outputs": [],
   "source": [
    "fid_init_code_NO_FID = graph_nav_pb2.SetLocalizationRequest.FiducialInit.FIDUCIAL_INIT_NO_FIDUCIAL"
   ]
  },
  {
   "cell_type": "code",
   "execution_count": 215,
   "id": "3e3fc92e",
   "metadata": {},
   "outputs": [],
   "source": [
    "init_guess_loc = nav_pb2.Localization(waypoint_id = prev_waypoint_id,\n",
    "                                      waypoint_tform_body = body_wrt_waypoint_se3)"
   ]
  },
  {
   "cell_type": "code",
   "execution_count": 217,
   "id": "ff7ad9be",
   "metadata": {},
   "outputs": [],
   "source": [
    "response = graph_nav_client.set_localization(initial_guess_localization=init_guess_loc,\n",
    "                                  fiducial_init = fid_init_code_NO_FID)"
   ]
  },
  {
   "cell_type": "code",
   "execution_count": null,
   "id": "4f7ec7b4",
   "metadata": {},
   "outputs": [],
   "source": []
  },
  {
   "cell_type": "code",
   "execution_count": 147,
   "id": "e908246e",
   "metadata": {},
   "outputs": [
    {
     "data": {
      "text/plain": [
       "waypoint_id: \"east-borzoi-Qy+f458Vx4G9V2azQGXfvQ==\"\n",
       "waypoint_tform_body {\n",
       "  position {\n",
       "    x: -0.03689809303772129\n",
       "    y: 0.008745399235789625\n",
       "    z: 0.014877651766474487\n",
       "  }\n",
       "  rotation {\n",
       "    x: 0.003887769004423273\n",
       "    y: -0.003006873615987585\n",
       "    z: 0.0024820523091867905\n",
       "    w: 0.9999804523052581\n",
       "  }\n",
       "}\n",
       "timestamp {\n",
       "  seconds: 1657238434\n",
       "  nanos: 465764475\n",
       "}\n",
       "seed_tform_body {\n",
       "  position {\n",
       "    x: 2.1947273869739923\n",
       "    y: -4.1665980464764\n",
       "    z: 0.36236126821044307\n",
       "  }\n",
       "  rotation {\n",
       "    x: -0.0004398306078047513\n",
       "    y: 3.494274975483513e-05\n",
       "    z: -0.6608845824278025\n",
       "    w: 0.7504815241196132\n",
       "  }\n",
       "}"
      ]
     },
     "execution_count": 147,
     "metadata": {},
     "output_type": "execute_result"
    }
   ],
   "source": [
    "graph_loc_proto"
   ]
  },
  {
   "cell_type": "code",
   "execution_count": null,
   "id": "7a541f74",
   "metadata": {},
   "outputs": [],
   "source": []
  },
  {
   "cell_type": "code",
   "execution_count": null,
   "id": "45b3d970",
   "metadata": {},
   "outputs": [],
   "source": []
  },
  {
   "cell_type": "code",
   "execution_count": null,
   "id": "9d27321d",
   "metadata": {},
   "outputs": [],
   "source": []
  },
  {
   "cell_type": "code",
   "execution_count": 47,
   "id": "c0a18799",
   "metadata": {},
   "outputs": [],
   "source": [
    "cmd = RobotCommandBuilder.arm_stow_command()\n",
    "cmd_id = command_client.robot_command(cmd, end_time_secs = time.time()+timeout_sec)"
   ]
  },
  {
   "cell_type": "code",
   "execution_count": 36,
   "id": "cbcea41d",
   "metadata": {},
   "outputs": [],
   "source": [
    "    nav_to_cmd_id = graph_nav_client.navigate_to(waypoint_list[25], cmd_duration = 15)\n",
    "    wait_until_finished_nav(graph_nav_client, nav_to_cmd_id)"
   ]
  },
  {
   "cell_type": "code",
   "execution_count": 114,
   "id": "5bd72b4a",
   "metadata": {
    "collapsed": true
   },
   "outputs": [
    {
     "ename": "NameError",
     "evalue": "name 'obj_pos_vision_se3' is not defined",
     "output_type": "error",
     "traceback": [
      "\u001b[0;31m---------------------------------------------------------------------------\u001b[0m",
      "\u001b[0;31mNameError\u001b[0m                                 Traceback (most recent call last)",
      "\u001b[0;32m/tmp/ipykernel_9007/3140582784.py\u001b[0m in \u001b[0;36m<module>\u001b[0;34m\u001b[0m\n\u001b[1;32m      2\u001b[0m                             \u001b[0mcommand_client\u001b[0m \u001b[0;34m=\u001b[0m \u001b[0mcommand_client\u001b[0m\u001b[0;34m,\u001b[0m\u001b[0;34m\u001b[0m\u001b[0;34m\u001b[0m\u001b[0m\n\u001b[1;32m      3\u001b[0m                             \u001b[0mgraph_nav_client\u001b[0m \u001b[0;34m=\u001b[0m \u001b[0mgraph_nav_client\u001b[0m\u001b[0;34m,\u001b[0m\u001b[0;34m\u001b[0m\u001b[0;34m\u001b[0m\u001b[0m\n\u001b[0;32m----> 4\u001b[0;31m                             obj_pos_vision = obj_pos_vision_se3.position)\n\u001b[0m",
      "\u001b[0;31mNameError\u001b[0m: name 'obj_pos_vision_se3' is not defined"
     ]
    }
   ],
   "source": [
    "success = multiAttemptGrasp(manipulation_api_client = manipulation_api_client, \n",
    "                            command_client = command_client, \n",
    "                            graph_nav_client = graph_nav_client, \n",
    "                            obj_pos_vision = obj_pos_vision_se3.position)"
   ]
  },
  {
   "cell_type": "code",
   "execution_count": 81,
   "id": "cfa2556f",
   "metadata": {
    "collapsed": true
   },
   "outputs": [
    {
     "name": "stdout",
     "output_type": "stream",
     "text": [
      "0\n"
     ]
    },
    {
     "ename": "TypeError",
     "evalue": "Parameter to MergeFrom() must be instance of same class: expected bosdyn.api.Vec3 got str.",
     "output_type": "error",
     "traceback": [
      "\u001b[0;31m---------------------------------------------------------------------------\u001b[0m",
      "\u001b[0;31mTypeError\u001b[0m                                 Traceback (most recent call last)",
      "\u001b[0;32m/tmp/ipykernel_24955/2445034045.py\u001b[0m in \u001b[0;36m<module>\u001b[0;34m\u001b[0m\n\u001b[0;32m----> 1\u001b[0;31m \u001b[0mmultiAttemptGrasp\u001b[0m\u001b[0;34m(\u001b[0m\u001b[0mmanipulation_api_client\u001b[0m\u001b[0;34m,\u001b[0m \u001b[0mcommand_client\u001b[0m\u001b[0;34m,\u001b[0m \u001b[0mgraph_nav_client\u001b[0m\u001b[0;34m)\u001b[0m\u001b[0;34m\u001b[0m\u001b[0;34m\u001b[0m\u001b[0m\n\u001b[0m",
      "\u001b[0;32m/tmp/ipykernel_24955/3804474487.py\u001b[0m in \u001b[0;36mmultiAttemptGrasp\u001b[0;34m(manipulation_api_client, command_client, graph_nav_client, obj_pos_vision_se3)\u001b[0m\n\u001b[1;32m      3\u001b[0m         \u001b[0mprint\u001b[0m\u001b[0;34m(\u001b[0m\u001b[0mi\u001b[0m\u001b[0;34m)\u001b[0m\u001b[0;34m\u001b[0m\u001b[0;34m\u001b[0m\u001b[0m\n\u001b[1;32m      4\u001b[0m         grasp = manipulation_api_pb2.PickObject(frame_name = 'vision',\n\u001b[0;32m----> 5\u001b[0;31m                                                 object_rt_frame = obj_pos_vision_se3)\n\u001b[0m\u001b[1;32m      6\u001b[0m         \u001b[0mgrasp_request\u001b[0m \u001b[0;34m=\u001b[0m \u001b[0mmanipulation_api_pb2\u001b[0m\u001b[0;34m.\u001b[0m\u001b[0mManipulationApiRequest\u001b[0m\u001b[0;34m(\u001b[0m\u001b[0mpick_object\u001b[0m\u001b[0;34m=\u001b[0m\u001b[0mgrasp\u001b[0m\u001b[0;34m)\u001b[0m\u001b[0;34m\u001b[0m\u001b[0;34m\u001b[0m\u001b[0m\n\u001b[1;32m      7\u001b[0m         response, success = make_grasp(grasp_request, manipulation_api_client, \n",
      "\u001b[0;31mTypeError\u001b[0m: Parameter to MergeFrom() must be instance of same class: expected bosdyn.api.Vec3 got str."
     ]
    }
   ],
   "source": [
    "multiAttemptGrasp(manipulation_api_client, command_client, graph_nav_client)"
   ]
  },
  {
   "cell_type": "code",
   "execution_count": 27,
   "id": "ddb29acd",
   "metadata": {},
   "outputs": [],
   "source": []
  },
  {
   "cell_type": "code",
   "execution_count": null,
   "id": "b52e893c",
   "metadata": {},
   "outputs": [],
   "source": [
    "move()"
   ]
  },
  {
   "cell_type": "code",
   "execution_count": 97,
   "id": "63417668",
   "metadata": {},
   "outputs": [],
   "source": []
  },
  {
   "cell_type": "code",
   "execution_count": 101,
   "id": "44f3bd44",
   "metadata": {},
   "outputs": [],
   "source": []
  },
  {
   "cell_type": "code",
   "execution_count": 57,
   "id": "b7c358b4",
   "metadata": {},
   "outputs": [],
   "source": []
  },
  {
   "cell_type": "code",
   "execution_count": 110,
   "id": "e4bb2995",
   "metadata": {},
   "outputs": [],
   "source": []
  },
  {
   "cell_type": "code",
   "execution_count": 86,
   "id": "d11187cb",
   "metadata": {},
   "outputs": [],
   "source": [
    "logging.getLogger().setLevel(logging.WARNING)"
   ]
  },
  {
   "cell_type": "code",
   "execution_count": 45,
   "id": "24564fef",
   "metadata": {},
   "outputs": [
    {
     "name": "stderr",
     "output_type": "stream",
     "text": [
      "WARNING:root:Upload complete! The robot is currently not localized to the map; please localize\n"
     ]
    }
   ],
   "source": []
  },
  {
   "cell_type": "code",
   "execution_count": 46,
   "id": "8aa771bd",
   "metadata": {},
   "outputs": [],
   "source": [
    "nav_to_cmd_id = graph_nav_client.navigate_to(waypoint_list[8], cmd_duration = 15)"
   ]
  },
  {
   "cell_type": "code",
   "execution_count": 15,
   "id": "570443c4",
   "metadata": {},
   "outputs": [],
   "source": []
  },
  {
   "cell_type": "code",
   "execution_count": 26,
   "id": "01389fc0",
   "metadata": {},
   "outputs": [],
   "source": [
    "move_to = np.array([0.8, 0,-0.4])\n",
    "look_at = np.array([0.8, 0, -3])"
   ]
  },
  {
   "cell_type": "code",
   "execution_count": 27,
   "id": "67bbaf12",
   "metadata": {},
   "outputs": [],
   "source": [
    "move_to_and_look_at(command_client, move_to, look_at)"
   ]
  },
  {
   "cell_type": "code",
   "execution_count": 90,
   "id": "fde3df1b",
   "metadata": {},
   "outputs": [],
   "source": [
    "def get_walking_params(max_linear_vel, max_rotation_vel):\n",
    "    max_vel_linear = geometry_pb2.Vec2(x=max_linear_vel, y=max_linear_vel)\n",
    "    max_vel_se2 = geometry_pb2.SE2Velocity(linear=max_vel_linear,\n",
    "                                           angular=max_rotation_vel)\n",
    "    vel_limit = geometry_pb2.SE2VelocityLimit(max_vel=max_vel_se2)\n",
    "    params = RobotCommandBuilder.mobility_params()\n",
    "    params.vel_limit.CopyFrom(vel_limit)\n",
    "    return params"
   ]
  },
  {
   "cell_type": "code",
   "execution_count": 130,
   "id": "18713a2f",
   "metadata": {},
   "outputs": [],
   "source": [
    "params = get_walking_params(2,1.55)"
   ]
  },
  {
   "cell_type": "code",
   "execution_count": 183,
   "id": "116e9e63",
   "metadata": {},
   "outputs": [],
   "source": [
    "cmd = RobotCommandBuilder.battery_change_pose_command()\n",
    "cmd_id = command_client.robot_command(cmd, end_time_secs = time.time()+timeout_sec)"
   ]
  },
  {
   "cell_type": "code",
   "execution_count": 19,
   "id": "0db6c242",
   "metadata": {},
   "outputs": [],
   "source": [
    "move_robot_relative(command_client, robot, 1, 0, 0)"
   ]
  },
  {
   "cell_type": "code",
   "execution_count": 17,
   "id": "d38a252e",
   "metadata": {},
   "outputs": [
    {
     "data": {
      "text/plain": [
       "<function spot_functions.move_robot_relative(command_client, robot, x_meters, y_meters, theta_rad, timeout_sec=10, blocking=True)>"
      ]
     },
     "execution_count": 17,
     "metadata": {},
     "output_type": "execute_result"
    }
   ],
   "source": [
    "move_robot_relative"
   ]
  },
  {
   "cell_type": "code",
   "execution_count": null,
   "id": "71b9e763",
   "metadata": {},
   "outputs": [],
   "source": []
  }
 ],
 "metadata": {
  "kernelspec": {
   "display_name": "Python 3 (ipykernel)",
   "language": "python",
   "name": "python3"
  },
  "language_info": {
   "codemirror_mode": {
    "name": "ipython",
    "version": 3
   },
   "file_extension": ".py",
   "mimetype": "text/x-python",
   "name": "python",
   "nbconvert_exporter": "python",
   "pygments_lexer": "ipython3",
   "version": "3.7.12"
  }
 },
 "nbformat": 4,
 "nbformat_minor": 5
}
