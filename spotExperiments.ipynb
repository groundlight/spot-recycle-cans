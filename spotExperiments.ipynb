{
 "cells": [
  {
   "cell_type": "code",
   "execution_count": 104,
   "id": "ee719330",
   "metadata": {},
   "outputs": [],
   "source": [
    "import bosdyn.client\n",
    "import bosdyn.client.util\n",
    "import bosdyn.client.robot_command as bdcrc\n",
    "from bosdyn.client.robot_command import RobotCommandClient\n",
    "from bosdyn.geometry import EulerZXY\n",
    "from bosdyn.client.robot_command import RobotCommandBuilder\n",
    "from bosdyn.client.image import ImageClient\n",
    "from bosdyn.util import seconds_to_duration\n",
    "\n",
    "from bosdyn.client.world_object import WorldObjectClient\n",
    "from bosdyn.client.frame_helpers import get_a_tform_b, get_vision_tform_body, BODY_FRAME_NAME, VISION_FRAME_NAME\n",
    "\n",
    "from bosdyn.api import (arm_command_pb2, geometry_pb2, robot_command_pb2, synchronized_command_pb2,\n",
    "                        trajectory_pb2, world_object_pb2)\n",
    "\n",
    "import cv2\n",
    "from groundlight import Groundlight\n",
    "import pdb\n",
    "import time\n",
    "import numpy as np\n",
    "import matplotlib.pyplot as plt\n",
    "\n",
    "from copy import deepcopy\n",
    "\n",
    "from PIL import Image\n",
    "import io\n",
    "np.random.seed(0)"
   ]
  },
  {
   "cell_type": "markdown",
   "id": "f065cac4",
   "metadata": {},
   "source": [
    "### Setup"
   ]
  },
  {
   "cell_type": "code",
   "execution_count": 2,
   "id": "5048ae59",
   "metadata": {},
   "outputs": [],
   "source": [
    "#Setup\n",
    "sdk = bosdyn.client.create_standard_sdk('ASTRO')\n",
    "robot = sdk.create_robot('192.168.50.3')\n",
    "id_client = robot.ensure_client('robot-id')\n",
    "\n",
    "#Authenticate\n",
    "\n",
    "#works in python but not in notebook\n",
    "#bosdyn.client.util.authenticate(robot)\n",
    "\n",
    "#works everywhere\n",
    "robot.authenticate('user', 'r4kr99yw3hje')\n",
    "\n",
    "#State\n",
    "robot_state_client = robot.ensure_client('robot-state')\n",
    "\n",
    "#Create command client\n",
    "command_client = robot.ensure_client(RobotCommandClient.default_service_name)\n",
    "\n",
    "#image client\n",
    "image_client = robot.ensure_client(ImageClient.default_service_name)"
   ]
  },
  {
   "cell_type": "code",
   "execution_count": 105,
   "id": "c89706be",
   "metadata": {},
   "outputs": [],
   "source": [
    "world_object_client = robot.ensure_client(WorldObjectClient.default_service_name)"
   ]
  },
  {
   "cell_type": "markdown",
   "id": "47fd17e7",
   "metadata": {},
   "source": [
    "### Battery"
   ]
  },
  {
   "cell_type": "code",
   "execution_count": 3,
   "id": "8d8b93a0",
   "metadata": {},
   "outputs": [],
   "source": [
    "#Battery\n",
    "\n",
    "def getBattInfo():\n",
    "    \n",
    "    robot_state = robot_state_client.get_robot_state()\n",
    "    \n",
    "    battery_state = robot_state.battery_states[0]\n",
    "    \n",
    "    chargePercent = battery_state.charge_percentage\n",
    "    \n",
    "    runtimeRemaining = battery_state.estimated_runtime\n",
    "    \n",
    "    return chargePercent.value, runtimeRemaining.seconds"
   ]
  },
  {
   "cell_type": "code",
   "execution_count": 96,
   "id": "e399dae8",
   "metadata": {},
   "outputs": [
    {
     "name": "stdout",
     "output_type": "stream",
     "text": [
      "Battery at: 86.0 %. Robot has 4869 seconds left\n"
     ]
    }
   ],
   "source": [
    "chargePercent, runtimeRemaining = getBattInfo()\n",
    "\n",
    "print(\"Battery at:\", chargePercent, \"%. Robot has\", runtimeRemaining, \"seconds left\")"
   ]
  },
  {
   "cell_type": "markdown",
   "id": "0ba3f3e5",
   "metadata": {},
   "source": [
    "### Lease"
   ]
  },
  {
   "cell_type": "code",
   "execution_count": 5,
   "id": "3bc5517c",
   "metadata": {},
   "outputs": [],
   "source": [
    "lease_client = robot.ensure_client('lease')\n",
    "lease = lease_client.acquire()\n",
    "lease_keep_alive = bosdyn.client.lease.LeaseKeepAlive(lease_client)"
   ]
  },
  {
   "cell_type": "code",
   "execution_count": 65,
   "id": "05c64743",
   "metadata": {},
   "outputs": [
    {
     "name": "stdout",
     "output_type": "stream",
     "text": [
      "True\n"
     ]
    }
   ],
   "source": [
    "#Power on and time_sync\n",
    "\n",
    "robot.power_on(timeout_sec=20)\n",
    "\n",
    "print(robot.is_powered_on())\n",
    "\n",
    "robot.time_sync.wait_for_sync()"
   ]
  },
  {
   "cell_type": "markdown",
   "id": "430dc720",
   "metadata": {},
   "source": [
    "### Command"
   ]
  },
  {
   "cell_type": "code",
   "execution_count": 81,
   "id": "dfb4ed4c",
   "metadata": {},
   "outputs": [],
   "source": [
    "bdcrc.blocking_sit(command_client, timeout_sec = 10)"
   ]
  },
  {
   "cell_type": "markdown",
   "id": "9d7cd8ff",
   "metadata": {},
   "source": [
    "#### Commands:"
   ]
  },
  {
   "cell_type": "code",
   "execution_count": null,
   "id": "83408ebb",
   "metadata": {},
   "outputs": [],
   "source": [
    "#Works\n",
    "footprint_R_body = EulerZXY(yaw=0, roll=0, pitch=0)\n",
    "cmd = RobotCommandBuilder.synchro_stand_command(footprint_R_body=footprint_R_body, body_height = 0)"
   ]
  },
  {
   "cell_type": "code",
   "execution_count": 111,
   "id": "c05d29a1",
   "metadata": {},
   "outputs": [],
   "source": [
    "#Works\n",
    "cmd = RobotCommandBuilder.synchro_sit_command()"
   ]
  },
  {
   "cell_type": "code",
   "execution_count": 15,
   "id": "cb9850e4",
   "metadata": {},
   "outputs": [],
   "source": [
    "#Works\n",
    "cmd = RobotCommandBuilder.synchro_stand_command()"
   ]
  },
  {
   "cell_type": "code",
   "execution_count": 7,
   "id": "7a086244",
   "metadata": {},
   "outputs": [],
   "source": [
    "#Works\n",
    "cmd = RobotCommandBuilder.selfright_command()"
   ]
  },
  {
   "cell_type": "code",
   "execution_count": 23,
   "id": "ede199f4",
   "metadata": {},
   "outputs": [],
   "source": [
    "cmd = RobotCommandBuilder.arm_pose_command(0.75,0,0,1,0,0,0,'flat_body')"
   ]
  },
  {
   "cell_type": "code",
   "execution_count": 114,
   "id": "a48ee0fb",
   "metadata": {},
   "outputs": [],
   "source": [
    "cmd = RobotCommandBuilder.arm_stow_command()"
   ]
  },
  {
   "cell_type": "code",
   "execution_count": 13,
   "id": "0e243f4f",
   "metadata": {},
   "outputs": [],
   "source": [
    "#Works\n",
    "cmd = RobotCommandBuilder.claw_gripper_open_fraction_command(0.0)"
   ]
  },
  {
   "cell_type": "code",
   "execution_count": 25,
   "id": "fec82e42",
   "metadata": {},
   "outputs": [],
   "source": [
    "#Works\n",
    "cmd = RobotCommandBuilder.claw_gripper_open_fraction_command(1.0)"
   ]
  },
  {
   "cell_type": "code",
   "execution_count": null,
   "id": "ab1113c1",
   "metadata": {},
   "outputs": [],
   "source": [
    "#Works but requires end_time_secs = time.time() + x seconds\n",
    "cmd = RobotCommandBuilder.synchro_velocity_command(0, 0, 0.2)"
   ]
  },
  {
   "cell_type": "code",
   "execution_count": 61,
   "id": "1d386ea0",
   "metadata": {},
   "outputs": [],
   "source": [
    "#Also requires end_time_secs info\n",
    "frameTreeSnapshot = robot.get_frame_tree_snapshot()\n",
    "cmd = RobotCommandBuilder.synchro_trajectory_command_in_body_frame(0, 0, -np.pi/6, frame_tree_snapshot = frameTreeSnapshot)"
   ]
  },
  {
   "cell_type": "code",
   "execution_count": 112,
   "id": "7940c3bd",
   "metadata": {},
   "outputs": [],
   "source": [
    "cmd_id = command_client.robot_command(cmd, end_time_secs = time.time()+5)"
   ]
  },
  {
   "cell_type": "markdown",
   "id": "cdedc61e",
   "metadata": {},
   "source": [
    "### Arm Experimentation"
   ]
  },
  {
   "cell_type": "code",
   "execution_count": 39,
   "id": "c2590d10",
   "metadata": {},
   "outputs": [
    {
     "ename": "SyntaxError",
     "evalue": "invalid syntax (1711796558.py, line 1)",
     "output_type": "error",
     "traceback": [
      "\u001b[0;36m  File \u001b[0;32m\"/tmp/ipykernel_8833/1711796558.py\"\u001b[0;36m, line \u001b[0;32m1\u001b[0m\n\u001b[0;31m    position = geometry_pb2.Vec3(x=, y=y, z=z)\u001b[0m\n\u001b[0m                                   ^\u001b[0m\n\u001b[0;31mSyntaxError\u001b[0m\u001b[0;31m:\u001b[0m invalid syntax\n"
     ]
    }
   ],
   "source": [
    "position = geometry_pb2.Vec3(x=, y=y, z=z)\n",
    "rotation = geometry_pb2.Quaternion(w=qw, x=qx, y=qy, z=qz)\n",
    "hand_pose = geometry_pb2.SE3Pose(position=position, rotation=rotation)\n",
    "\n",
    "duration = seconds_to_duration(seconds)\n",
    "hand_pose_traj_point = trajectory_pb2.SE3TrajectoryPoint(pose=hand_pose,\n",
    "                                                         time_since_reference=duration)\n",
    "hand_trajectory = trajectory_pb2.SE3Trajectory(points=[hand_pose_traj_point])\n",
    "\n",
    "arm_cartesian_command = arm_command_pb2.ArmCartesianCommand.Request(\n",
    "    root_frame_name=frame_name, pose_trajectory_in_task=hand_trajectory)\n",
    "arm_command = arm_command_pb2.ArmCommand.Request(\n",
    "    arm_cartesian_command=arm_cartesian_command)\n",
    "synchronized_command = synchronized_command_pb2.SynchronizedCommand.Request(\n",
    "    arm_command=arm_command)\n",
    "robot_command = robot_command_pb2.RobotCommand(synchronized_command=synchronized_command)"
   ]
  },
  {
   "cell_type": "code",
   "execution_count": 63,
   "id": "a82dd3fd",
   "metadata": {},
   "outputs": [],
   "source": []
  },
  {
   "cell_type": "code",
   "execution_count": null,
   "id": "08e80ffd",
   "metadata": {},
   "outputs": [],
   "source": []
  },
  {
   "cell_type": "code",
   "execution_count": 185,
   "id": "80d5eaca",
   "metadata": {},
   "outputs": [],
   "source": [
    "cmd = RobotCommandBuilder.follow_arm_command()"
   ]
  },
  {
   "cell_type": "code",
   "execution_count": 186,
   "id": "cda0c599",
   "metadata": {},
   "outputs": [],
   "source": [
    "cmd_id = command_client.robot_command(cmd, end_time_secs = time.time()+5)"
   ]
  },
  {
   "cell_type": "code",
   "execution_count": 144,
   "id": "cf11493b",
   "metadata": {},
   "outputs": [
    {
     "name": "stdout",
     "output_type": "stream",
     "text": [
      "0.8195254015709299 0.17215149309793554 0.44248703846447957\n"
     ]
    }
   ],
   "source": []
  },
  {
   "cell_type": "code",
   "execution_count": 164,
   "id": "18fe37a2",
   "metadata": {},
   "outputs": [
    {
     "name": "stdout",
     "output_type": "stream",
     "text": [
      "0.6626630268284504 -0.270952385692003 0.48779749291885866\n"
     ]
    },
    {
     "data": {
      "text/plain": [
       "False"
      ]
     },
     "execution_count": 164,
     "metadata": {},
     "output_type": "execute_result"
    }
   ],
   "source": [
    "xPosRand = np.random.uniform(0.6,0.9)\n",
    "yPosRand = np.random.uniform(-0.4,0.4)\n",
    "zPosRand = np.random.uniform(-0.1,0.8)\n",
    "\n",
    "print(xPosRand, yPosRand, zPosRand)\n",
    "\n",
    "arm_pos_list = [xPosRand,yPosRand,zPosRand]\n",
    "dur_sec = 3\n",
    "\n",
    "duration = seconds_to_duration(dur_sec)\n",
    "\n",
    "\n",
    "arm_pos = geometry_pb2.Vec3(x=arm_pos_list[0], \n",
    "                            y=arm_pos_list[1], \n",
    "                            z=arm_pos_list[2])\n",
    "hand_pose = geometry_pb2.SE3Pose(position=arm_pos)\n",
    "hand_pose_traj_point = trajectory_pb2.SE3TrajectoryPoint(pose=hand_pose,\n",
    "                                                         time_since_reference=duration)\n",
    "hand_traj = trajectory_pb2.SE3Trajectory(points=[hand_pose_traj_point])\n",
    "\n",
    "\n",
    "\n",
    "gaze_pos_list = [1.5,0,-0.5]\n",
    "gaze_pos = geometry_pb2.Vec3(x=gaze_pos_list[0],\n",
    "                             y=gaze_pos_list[1],\n",
    "                             z=gaze_pos_list[2])\n",
    "gaze_pos_traj_point = trajectory_pb2.Vec3TrajectoryPoint(point=gaze_pos)\n",
    "gaze_traj = trajectory_pb2.Vec3Trajectory(points=[gaze_pos_traj_point])\n",
    "\n",
    "gaze_cmd = arm_command_pb2.GazeCommand.Request(target_trajectory_in_frame1=gaze_traj,\n",
    "                                               frame1_name='body',\n",
    "                                               tool_trajectory_in_frame2=hand_traj,\n",
    "                                               frame2_name='body')\n",
    "\n",
    "arm_command = arm_command_pb2.ArmCommand.Request(arm_gaze_command=gaze_cmd)\n",
    "synchronized_command = synchronized_command_pb2.SynchronizedCommand.Request(arm_command=arm_command)\n",
    "command = robot_command_pb2.RobotCommand(synchronized_command=synchronized_command)\n",
    "gaze_command_id = command_client.robot_command(command)\n",
    "bdcrc.block_until_arm_arrives(command_client, gaze_command_id, timeout_sec = time.time() + 3.0)"
   ]
  },
  {
   "cell_type": "code",
   "execution_count": null,
   "id": "30f16907",
   "metadata": {},
   "outputs": [],
   "source": []
  },
  {
   "cell_type": "code",
   "execution_count": null,
   "id": "da2700f4",
   "metadata": {},
   "outputs": [],
   "source": []
  },
  {
   "cell_type": "code",
   "execution_count": null,
   "id": "226307c2",
   "metadata": {},
   "outputs": [],
   "source": []
  },
  {
   "cell_type": "code",
   "execution_count": null,
   "id": "a969b836",
   "metadata": {},
   "outputs": [],
   "source": []
  },
  {
   "cell_type": "code",
   "execution_count": 292,
   "id": "000f848d",
   "metadata": {},
   "outputs": [],
   "source": [
    "cmd_id = command_client.robot_command(cmd, end_time_secs = time.time()+5)"
   ]
  },
  {
   "cell_type": "code",
   "execution_count": 44,
   "id": "a99f1941",
   "metadata": {},
   "outputs": [],
   "source": [
    "cmd = RobotCommandBuilder.arm_pose_command(-0.5,0,0.5,1,0,0,0,'flat_body')"
   ]
  },
  {
   "cell_type": "code",
   "execution_count": 27,
   "id": "3a9406f4",
   "metadata": {},
   "outputs": [],
   "source": [
    "cmd = RobotCommandBuilder.arm_gaze_command(3,0,0.5,'body')"
   ]
  },
  {
   "cell_type": "code",
   "execution_count": 105,
   "id": "796cae9b",
   "metadata": {},
   "outputs": [],
   "source": [
    "cmd = RobotCommandBuilder.arm_gaze_command(-0.5,0,0.5,'body')"
   ]
  },
  {
   "cell_type": "code",
   "execution_count": 106,
   "id": "1be0eb36",
   "metadata": {},
   "outputs": [],
   "source": [
    "cmd_id = command_client.robot_command(cmd, end_time_secs = time.time()+3)"
   ]
  },
  {
   "cell_type": "code",
   "execution_count": null,
   "id": "4f89293c",
   "metadata": {},
   "outputs": [],
   "source": []
  },
  {
   "cell_type": "code",
   "execution_count": null,
   "id": "f4aeb82f",
   "metadata": {},
   "outputs": [],
   "source": []
  },
  {
   "cell_type": "code",
   "execution_count": null,
   "id": "fb037572",
   "metadata": {},
   "outputs": [],
   "source": []
  },
  {
   "cell_type": "code",
   "execution_count": null,
   "id": "f1af2156",
   "metadata": {},
   "outputs": [],
   "source": []
  },
  {
   "cell_type": "code",
   "execution_count": null,
   "id": "387415c2",
   "metadata": {},
   "outputs": [],
   "source": []
  },
  {
   "cell_type": "code",
   "execution_count": null,
   "id": "d786a569",
   "metadata": {},
   "outputs": [],
   "source": []
  },
  {
   "cell_type": "code",
   "execution_count": null,
   "id": "edbafc42",
   "metadata": {},
   "outputs": [],
   "source": []
  },
  {
   "cell_type": "code",
   "execution_count": 58,
   "id": "3e45f911",
   "metadata": {},
   "outputs": [
    {
     "ename": "NameError",
     "evalue": "name 'odom_T_flat_body' is not defined",
     "output_type": "error",
     "traceback": [
      "\u001b[0;31m---------------------------------------------------------------------------\u001b[0m",
      "\u001b[0;31mNameError\u001b[0m                                 Traceback (most recent call last)",
      "\u001b[0;32m/tmp/ipykernel_6822/1271685942.py\u001b[0m in \u001b[0;36m<module>\u001b[0;34m\u001b[0m\n\u001b[1;32m     22\u001b[0m \u001b[0mtraj_time\u001b[0m \u001b[0;34m=\u001b[0m \u001b[0;36m5.5\u001b[0m  \u001b[0;31m# take 5.5 seconds to look from left to right.\u001b[0m\u001b[0;34m\u001b[0m\u001b[0;34m\u001b[0m\u001b[0m\n\u001b[1;32m     23\u001b[0m \u001b[0;34m\u001b[0m\u001b[0m\n\u001b[0;32m---> 24\u001b[0;31m \u001b[0mstart_pos_in_odom_tuple\u001b[0m \u001b[0;34m=\u001b[0m \u001b[0modom_T_flat_body\u001b[0m\u001b[0;34m.\u001b[0m\u001b[0mtransform_point\u001b[0m\u001b[0;34m(\u001b[0m\u001b[0mx\u001b[0m\u001b[0;34m=\u001b[0m\u001b[0mx\u001b[0m\u001b[0;34m,\u001b[0m \u001b[0my\u001b[0m\u001b[0;34m=\u001b[0m\u001b[0mstart_y\u001b[0m\u001b[0;34m,\u001b[0m \u001b[0mz\u001b[0m\u001b[0;34m=\u001b[0m\u001b[0mz\u001b[0m\u001b[0;34m)\u001b[0m\u001b[0;34m\u001b[0m\u001b[0;34m\u001b[0m\u001b[0m\n\u001b[0m\u001b[1;32m     25\u001b[0m start_pos_in_odom = geometry_pb2.Vec3(x=start_pos_in_odom_tuple[0],\n\u001b[1;32m     26\u001b[0m                                       \u001b[0my\u001b[0m\u001b[0;34m=\u001b[0m\u001b[0mstart_pos_in_odom_tuple\u001b[0m\u001b[0;34m[\u001b[0m\u001b[0;36m1\u001b[0m\u001b[0;34m]\u001b[0m\u001b[0;34m,\u001b[0m\u001b[0;34m\u001b[0m\u001b[0;34m\u001b[0m\u001b[0m\n",
      "\u001b[0;31mNameError\u001b[0m: name 'odom_T_flat_body' is not defined"
     ]
    }
   ],
   "source": [
    "from google.protobuf import duration_pb2\n",
    "from bosdyn.api import (arm_command_pb2, geometry_pb2, robot_command_pb2, synchronized_command_pb2,\n",
    "                        trajectory_pb2)\n",
    "\n",
    "from bosdyn.client.frame_helpers import GRAV_ALIGNED_BODY_FRAME_NAME, ODOM_FRAME_NAME, get_a_tform_b\n",
    "\n",
    "from bosdyn.client import math_helpers\n",
    "\n",
    "from bosdyn.client.robot_command import block_until_arm_arrives\n"
   ]
  },
  {
   "cell_type": "code",
   "execution_count": null,
   "id": "161e6df7",
   "metadata": {},
   "outputs": [],
   "source": []
  },
  {
   "cell_type": "code",
   "execution_count": null,
   "id": "0bd5b173",
   "metadata": {},
   "outputs": [],
   "source": []
  },
  {
   "cell_type": "code",
   "execution_count": null,
   "id": "b3e58101",
   "metadata": {},
   "outputs": [],
   "source": []
  },
  {
   "cell_type": "code",
   "execution_count": 158,
   "id": "892fdd67",
   "metadata": {},
   "outputs": [],
   "source": [
    "cmd = RobotCommandBuilder.create_arm_joint_trajectory_point(0,0,0,0,0,0)"
   ]
  },
  {
   "cell_type": "code",
   "execution_count": 114,
   "id": "f1bad9a4",
   "metadata": {},
   "outputs": [],
   "source": [
    "cmd = RobotCommandBuilder.follow_arm_command()"
   ]
  },
  {
   "cell_type": "code",
   "execution_count": 126,
   "id": "6807b16f",
   "metadata": {},
   "outputs": [],
   "source": []
  },
  {
   "cell_type": "code",
   "execution_count": null,
   "id": "9edf192b",
   "metadata": {},
   "outputs": [],
   "source": [
    "cmd = RobotCommandBuilder.arm_pose_command(0.75,0,0,1,0,0,0,'flat_body')"
   ]
  },
  {
   "cell_type": "code",
   "execution_count": 151,
   "id": "42f276f3",
   "metadata": {},
   "outputs": [],
   "source": [
    "cmd = RobotCommandBuilder.arm_gaze_command(-1,0,-0.5,'body')"
   ]
  },
  {
   "cell_type": "code",
   "execution_count": 162,
   "id": "12b432cb",
   "metadata": {},
   "outputs": [],
   "source": []
  },
  {
   "cell_type": "code",
   "execution_count": null,
   "id": "d21b1635",
   "metadata": {},
   "outputs": [],
   "source": [
    "cmd_id = command_client.robot_command(cmd, end_time_secs = time.time()+5)"
   ]
  },
  {
   "cell_type": "code",
   "execution_count": 73,
   "id": "36e59f21",
   "metadata": {},
   "outputs": [],
   "source": []
  },
  {
   "cell_type": "code",
   "execution_count": 7,
   "id": "3b59645f",
   "metadata": {},
   "outputs": [],
   "source": []
  },
  {
   "cell_type": "code",
   "execution_count": 102,
   "id": "cd0fbba3",
   "metadata": {},
   "outputs": [],
   "source": [
    "# while(True):\n",
    "#     #Works\n",
    "#     cmd = RobotCommandBuilder.claw_gripper_open_fraction_command(0.0)\n",
    "#     cmd_id = command_client.robot_command(cmd, end_time_secs = time.time()+5)\n",
    "\n",
    "#     time.sleep(0.5)\n",
    "\n",
    "#     #Works\n",
    "#     cmd = RobotCommandBuilder.claw_gripper_open_fraction_command(1.0)\n",
    "#     cmd_id = command_client.robot_command(cmd, end_time_secs = time.time()+5)\n",
    "\n",
    "#     time.sleep(0.5)"
   ]
  },
  {
   "cell_type": "code",
   "execution_count": null,
   "id": "28362daa",
   "metadata": {},
   "outputs": [],
   "source": []
  },
  {
   "cell_type": "code",
   "execution_count": 34,
   "id": "4010c100",
   "metadata": {},
   "outputs": [],
   "source": [
    "def pushup():\n",
    "    cmd = RobotCommandBuilder.synchro_stand_command(body_height = -0.5)\n",
    "    cmd_id = command_client.robot_command(cmd, end_time_secs = time.time()+2)\n",
    "    time.sleep(0.5)\n",
    "    cmd = RobotCommandBuilder.synchro_stand_command(body_height = 0)\n",
    "    cmd_id = command_client.robot_command(cmd, end_time_secs = time.time()+2)\n",
    "    time.sleep(0.5)"
   ]
  },
  {
   "cell_type": "code",
   "execution_count": 32,
   "id": "e3a85690",
   "metadata": {},
   "outputs": [],
   "source": [
    "def check_success(graph_nav_client, command_id=-1):\n",
    "    \"\"\"Use a navigation command id to get feedback from the robot and sit when command succeeds.\"\"\"\n",
    "    if command_id == -1:\n",
    "        # No command, so we have no status to check.\n",
    "        return False\n",
    "    status = graph_nav_client.navigation_feedback(command_id)\n",
    "    if status.status == graph_nav_pb2.NavigationFeedbackResponse.STATUS_REACHED_GOAL:\n",
    "        # Successfully completed the navigation commands!\n",
    "        return True\n",
    "    elif status.status == graph_nav_pb2.NavigationFeedbackResponse.STATUS_LOST:\n",
    "        print(\"Robot got lost when navigating the route, the robot will now sit down.\")\n",
    "        return True\n",
    "    elif status.status == graph_nav_pb2.NavigationFeedbackResponse.STATUS_STUCK:\n",
    "        print(\"Robot got stuck when navigating the route, the robot will now sit down.\")\n",
    "        return True\n",
    "    elif status.status == graph_nav_pb2.NavigationFeedbackResponse.STATUS_ROBOT_IMPAIRED:\n",
    "        print(\"Robot is impaired.\")\n",
    "        return True\n",
    "    else:\n",
    "        # Navigation command is not complete yet.\n",
    "        return False"
   ]
  },
  {
   "cell_type": "code",
   "execution_count": 33,
   "id": "c202651e",
   "metadata": {},
   "outputs": [],
   "source": [
    "#Image capture from hand cam and save, WORKS\n",
    "def capAndShowImage(image_client, saveName):\n",
    "    \n",
    "    image_response = image_client.get_image_from_sources([\"hand_color_image\"])[0]\n",
    "    image = Image.open(io.BytesIO(image_response.shot.image.data))\n",
    "    image.save(saveName)\n",
    "#     matImg = cv2.cvtColor(matImg, cv2.COLOR_BGR2RGB)\n",
    "#     plt.figure(figsize = (16,8))\n",
    "#     plt.imshow(matImg)\n",
    "#     plt.show()\n",
    "#    return image_response"
   ]
  },
  {
   "cell_type": "code",
   "execution_count": 18,
   "id": "ae591e93",
   "metadata": {},
   "outputs": [],
   "source": [
    "pushup()"
   ]
  },
  {
   "cell_type": "code",
   "execution_count": null,
   "id": "3208b3ef",
   "metadata": {},
   "outputs": [],
   "source": []
  },
  {
   "cell_type": "markdown",
   "id": "ec489688",
   "metadata": {},
   "source": [
    "### Image Classification tasks"
   ]
  },
  {
   "cell_type": "code",
   "execution_count": null,
   "id": "c1b225bc",
   "metadata": {},
   "outputs": [],
   "source": []
  },
  {
   "cell_type": "markdown",
   "id": "9ae8e7bf",
   "metadata": {},
   "source": [
    "# GL API + MOTION DEMO"
   ]
  },
  {
   "cell_type": "code",
   "execution_count": 31,
   "id": "9943db43",
   "metadata": {},
   "outputs": [],
   "source": [
    "GROUNDLIGHT_API_TOKEN = 'api_2AaZ8QiCOvUFeHLJWGg8NTCPOAJ_uBTv8nu8U82Nv59ZHhi134HkAAirX4dwZw'\n",
    "\n",
    "#gl = Groundlight(endpoint=\"https://device.integ.positronix.ai/device-api\")\n",
    "\n",
    "gl = Groundlight(api_token=GROUNDLIGHT_API_TOKEN)\n",
    "\n",
    "# Call an API method (e.g., retrieve a list of detectors)\n",
    "detectors = gl.list_detectors()\n",
    "\n",
    "det = detectors.results[0]"
   ]
  },
  {
   "cell_type": "code",
   "execution_count": 32,
   "id": "e64e16a6",
   "metadata": {},
   "outputs": [],
   "source": [
    "timeoutSec = 5"
   ]
  },
  {
   "cell_type": "code",
   "execution_count": 51,
   "id": "ea15cfe2",
   "metadata": {},
   "outputs": [],
   "source": [
    "capAndShowImage(image_client, 'handColorImage.jpg')"
   ]
  },
  {
   "cell_type": "code",
   "execution_count": 52,
   "id": "b99c49ae",
   "metadata": {},
   "outputs": [],
   "source": [
    "image_query = gl.submit_image_query(detector_id=det.id, image = \"handColorImage.jpg\")"
   ]
  },
  {
   "cell_type": "code",
   "execution_count": null,
   "id": "9b3a2d76",
   "metadata": {},
   "outputs": [],
   "source": []
  },
  {
   "cell_type": "code",
   "execution_count": null,
   "id": "946ee8a8",
   "metadata": {},
   "outputs": [],
   "source": [
    "list(image_response.shot.DESCRIPTOR.fields_by_name)"
   ]
  },
  {
   "cell_type": "code",
   "execution_count": null,
   "id": "f22969fd",
   "metadata": {},
   "outputs": [],
   "source": []
  },
  {
   "cell_type": "code",
   "execution_count": 71,
   "id": "940ddb50",
   "metadata": {},
   "outputs": [
    {
     "name": "stdout",
     "output_type": "stream",
     "text": [
      "1655321632\n",
      "1655321632\n"
     ]
    }
   ],
   "source": [
    "image_response = image_client.get_image_from_sources([\"hand_color_image\"])[0]\n",
    "print(image_response.shot.acquisition_time.seconds)\n",
    "\n",
    "image_response = image_client.get_image_from_sources([\"frontleft_fisheye_image\"])[0]\n",
    "print(image_response.shot.acquisition_time.seconds)"
   ]
  },
  {
   "cell_type": "code",
   "execution_count": 40,
   "id": "fb217eb8",
   "metadata": {},
   "outputs": [],
   "source": [
    "with open(upload_filepath + \"/graph\", \"rb\") as graph_file:\n",
    "    # Load the graph from disk.\n",
    "    data = graph_file.read()\n",
    "    current_graph = map_pb2.Graph()\n",
    "    current_graph.ParseFromString(data)"
   ]
  },
  {
   "cell_type": "code",
   "execution_count": 41,
   "id": "b74a8338",
   "metadata": {},
   "outputs": [],
   "source": [
    "response = graph_nav_client.upload_graph(lease=lease.lease_proto,\n",
    "                                               graph=current_graph,\n",
    "                                               generate_new_anchoring=False)"
   ]
  },
  {
   "cell_type": "code",
   "execution_count": 165,
   "id": "cfe7b371",
   "metadata": {},
   "outputs": [
    {
     "data": {
      "text/plain": [
       "['header', 'lease_use_result', 'status']"
      ]
     },
     "execution_count": 165,
     "metadata": {},
     "output_type": "execute_result"
    }
   ],
   "source": [
    "list(response.DESCRIPTOR.fields_by_name)"
   ]
  },
  {
   "cell_type": "code",
   "execution_count": 28,
   "id": "ff7c8681",
   "metadata": {},
   "outputs": [
    {
     "ename": "NameError",
     "evalue": "name 'graph_nav_client' is not defined",
     "output_type": "error",
     "traceback": [
      "\u001b[0;31m---------------------------------------------------------------------------\u001b[0m",
      "\u001b[0;31mNameError\u001b[0m                                 Traceback (most recent call last)",
      "\u001b[0;32m/tmp/ipykernel_9315/2441966706.py\u001b[0m in \u001b[0;36m<module>\u001b[0;34m\u001b[0m\n\u001b[0;32m----> 1\u001b[0;31m \u001b[0mresponse\u001b[0m \u001b[0;34m=\u001b[0m \u001b[0mgraph_nav_client\u001b[0m\u001b[0;34m.\u001b[0m\u001b[0mclear_graph\u001b[0m\u001b[0;34m(\u001b[0m\u001b[0;34m)\u001b[0m\u001b[0;34m\u001b[0m\u001b[0;34m\u001b[0m\u001b[0m\n\u001b[0m",
      "\u001b[0;31mNameError\u001b[0m: name 'graph_nav_client' is not defined"
     ]
    }
   ],
   "source": [
    "response = graph_nav_client.clear_graph()"
   ]
  },
  {
   "cell_type": "code",
   "execution_count": 53,
   "id": "e6d3c0ce",
   "metadata": {},
   "outputs": [
    {
     "name": "stdout",
     "output_type": "stream",
     "text": [
      "sent query through GL API 0\n",
      "sent query through GL API 1\n",
      "sent query through GL API 2\n",
      "sent query through GL API 3\n",
      "sent query through GL API 4\n",
      "sent query through GL API 5\n",
      "sent query through GL API 6\n",
      "sent query through GL API 7\n",
      "sent query through GL API 8\n",
      "sent query through GL API 9\n"
     ]
    }
   ],
   "source": [
    "for i in range(10):\n",
    "    time.sleep(2)\n",
    "    capAndShowImage(image_client, 'handColorImage.jpg')\n",
    "    image_query = gl.submit_image_query(detector_id=det.id, image = \"handColorImage.jpg\")\n",
    "    print('sent query through GL API', i)\n",
    "    \n",
    "    if image_query.result.label != 'FAIL':\n",
    "        pushup()\n",
    "#     # turn 180\n",
    "#     frameTreeSnapshot = robot.get_frame_tree_snapshot()\n",
    "#     cmd = RobotCommandBuilder.synchro_trajectory_command_in_body_frame(0, 0, 0.2, frame_tree_snapshot = frameTreeSnapshot)\n",
    "#     cmd_id = cmd_id = command_client.robot_command(cmd, end_time_secs = time.time()+timeOutSec)\n",
    "#     bdcrc.block_for_trajectory_cmd(command_client, cmd_id)"
   ]
  },
  {
   "cell_type": "code",
   "execution_count": null,
   "id": "3f4de0c1",
   "metadata": {},
   "outputs": [],
   "source": [
    "cubePossesed = False\n",
    "\n",
    "for loopNum in range(3):\n",
    "    for wpInd in [10, 9]:\n",
    "        nav_to_cmd_id = graph_nav_client.navigate_to(waypointDict[wpInd], timeoutSec)\n",
    "        waitUntilFinishedNav(nav_to_cmd_id)\n",
    "        if wpInd == 9:\n",
    "            frameTreeSnapshot = robot.get_frame_tree_snapshot()\n",
    "            cmd = RobotCommandBuilder.synchro_trajectory_command_in_body_frame(0, 0, np.pi/2, frame_tree_snapshot = frameTreeSnapshot)\n",
    "            cmd_id = cmd_id = command_client.robot_command(cmd, end_time_secs = time.time()+timeoutSec)\n",
    "            bdcrc.block_for_trajectory_cmd(command_client, cmd_id)\n",
    "            res = checkForCubeAndGrasp(det, graph_nav_client)\n",
    "            if(res):\n",
    "                cubePossessed = True\n",
    "            waypointDict = graphInit(graph_nav_client, upload_filepath)\n",
    "        elif wpInd == 10:\n",
    "            if cubePossesed:\n",
    "                cmd = RobotCommandBuilder.claw_gripper_open_fraction_command(1.0)\n",
    "                cmd_id = command_client.robot_command(cmd, end_time_secs = time.time()+timeoutSec)\n",
    "                cubePossesed = False\n",
    "                \n",
    "        "
   ]
  },
  {
   "cell_type": "code",
   "execution_count": 125,
   "id": "d6aed001",
   "metadata": {},
   "outputs": [],
   "source": [
    "timeoutSec = 5\n",
    "\n",
    "#Works\n",
    "cmd = RobotCommandBuilder.claw_gripper_open_fraction_command(1.0)\n",
    "cmd_id = command_client.robot_command(cmd, end_time_secs = time.time()+timeoutSec)\n",
    "\n",
    "for i in range(6):\n",
    "    \n",
    "    #forward two meters\n",
    "    frameTreeSnapshot = robot.get_frame_tree_snapshot()\n",
    "    cmd = RobotCommandBuilder.synchro_trajectory_command_in_body_frame(2, 0, 0, frame_tree_snapshot = frameTreeSnapshot)\n",
    "    cmd_id = cmd_id = command_client.robot_command(cmd, end_time_secs = time.time()+timeoutSec)\n",
    "    bdcrc.block_for_trajectory_cmd(command_client, cmd_id)\n",
    "    \n",
    "    # turn 180\n",
    "    frameTreeSnapshot = robot.get_frame_tree_snapshot()\n",
    "    cmd = RobotCommandBuilder.synchro_trajectory_command_in_body_frame(0, 0, np.pi, frame_tree_snapshot = frameTreeSnapshot)\n",
    "    cmd_id = cmd_id = command_client.robot_command(cmd, end_time_secs = time.time()+timeoutSec)\n",
    "    bdcrc.block_for_trajectory_cmd(command_client, cmd_id)"
   ]
  },
  {
   "cell_type": "code",
   "execution_count": 39,
   "id": "40fea1e2",
   "metadata": {},
   "outputs": [
    {
     "data": {
      "text/plain": [
       "anchoring {\n",
       "}"
      ]
     },
     "execution_count": 39,
     "metadata": {},
     "output_type": "execute_result"
    }
   ],
   "source": [
    "graph_nav_client.download_graph()"
   ]
  },
  {
   "cell_type": "code",
   "execution_count": null,
   "id": "1db194bc",
   "metadata": {},
   "outputs": [],
   "source": []
  },
  {
   "cell_type": "code",
   "execution_count": null,
   "id": "c97e019f",
   "metadata": {},
   "outputs": [],
   "source": []
  },
  {
   "cell_type": "code",
   "execution_count": 131,
   "id": "d13e1783",
   "metadata": {},
   "outputs": [],
   "source": []
  },
  {
   "cell_type": "code",
   "execution_count": 143,
   "id": "937d4a37",
   "metadata": {},
   "outputs": [],
   "source": []
  },
  {
   "cell_type": "code",
   "execution_count": null,
   "id": "3b321ad6",
   "metadata": {},
   "outputs": [],
   "source": []
  },
  {
   "cell_type": "code",
   "execution_count": null,
   "id": "5c88fb1f",
   "metadata": {},
   "outputs": [],
   "source": []
  },
  {
   "cell_type": "markdown",
   "id": "7e03e4f4",
   "metadata": {},
   "source": [
    "# GRAPH NAV, UPLOADING MAP STILL BREAKS ARM CAM"
   ]
  },
  {
   "cell_type": "code",
   "execution_count": null,
   "id": "74938bfd",
   "metadata": {},
   "outputs": [],
   "source": []
  },
  {
   "cell_type": "code",
   "execution_count": null,
   "id": "e829dd73",
   "metadata": {},
   "outputs": [],
   "source": []
  },
  {
   "cell_type": "code",
   "execution_count": null,
   "id": "cb3ec1e0",
   "metadata": {},
   "outputs": [],
   "source": []
  },
  {
   "cell_type": "markdown",
   "id": "5f1b4e72",
   "metadata": {},
   "source": [
    "### GraphNav "
   ]
  },
  {
   "cell_type": "code",
   "execution_count": 9,
   "id": "215eee48",
   "metadata": {},
   "outputs": [],
   "source": [
    "from bosdyn.client.graph_nav import GraphNavClient\n",
    "from bosdyn.api.graph_nav import graph_nav_pb2\n",
    "from bosdyn.api.graph_nav import map_pb2\n",
    "from bosdyn.api.graph_nav import nav_pb2\n",
    "from bosdyn.client.frame_helpers import get_odom_tform_body\n",
    "from bosdyn.client.exceptions import ResponseError\n",
    "from bosdyn.api import image_pb2"
   ]
  },
  {
   "cell_type": "code",
   "execution_count": 10,
   "id": "ec77411e",
   "metadata": {},
   "outputs": [],
   "source": [
    "graph_nav_client = robot.ensure_client(GraphNavClient.default_service_name)\n",
    "current_graph = None\n",
    "current_waypoint_snapshots = dict()\n",
    "current_edge_snapshots = dict()\n",
    "upload_filepath = \"/home/gluser/groundlight/bdspot/newGraph\""
   ]
  },
  {
   "cell_type": "code",
   "execution_count": 11,
   "id": "cb91eef5",
   "metadata": {},
   "outputs": [],
   "source": [
    "def upload_graph_and_snapshots(upload_filepath, current_graph, \n",
    "                               graph_nav_client, current_waypoint_snapshots, current_edge_snapshots):\n",
    "    \"\"\"Upload the graph and snapshots to the robot.\"\"\"\n",
    "    print(\"Loading the graph from disk into local storage...\")\n",
    "    with open(upload_filepath + \"/graph\", \"rb\") as graph_file:\n",
    "        # Load the graph from disk.\n",
    "        data = graph_file.read()\n",
    "        current_graph = map_pb2.Graph()\n",
    "        current_graph.ParseFromString(data)\n",
    "        print(\"Loaded graph has {} waypoints and {} edges\".format(\n",
    "            len(current_graph.waypoints), len(current_graph.edges)))\n",
    "    for waypoint in current_graph.waypoints:\n",
    "        # Load the waypoint snapshots from disk.\n",
    "        with open(upload_filepath + \"/waypoint_snapshots/{}\".format(waypoint.snapshot_id),\n",
    "                  \"rb\") as snapshot_file:\n",
    "            waypoint_snapshot = map_pb2.WaypointSnapshot()\n",
    "            waypoint_snapshot.ParseFromString(snapshot_file.read())\n",
    "            current_waypoint_snapshots[waypoint_snapshot.id] = waypoint_snapshot\n",
    "    for edge in current_graph.edges:\n",
    "        if len(edge.snapshot_id) == 0:\n",
    "            continue\n",
    "        # Load the edge snapshots from disk.\n",
    "        with open(upload_filepath + \"/edge_snapshots/{}\".format(edge.snapshot_id),\n",
    "                  \"rb\") as snapshot_file:\n",
    "            edge_snapshot = map_pb2.EdgeSnapshot()\n",
    "            edge_snapshot.ParseFromString(snapshot_file.read())\n",
    "            current_edge_snapshots[edge_snapshot.id] = edge_snapshot\n",
    "    # Upload the graph to the robot.\n",
    "    print(\"Uploading the graph and snapshots to the robot...\")\n",
    "    true_if_empty = not len(current_graph.anchoring.anchors)\n",
    "    response = graph_nav_client.upload_graph(lease=lease.lease_proto,\n",
    "                                                   graph=current_graph,\n",
    "                                                   generate_new_anchoring=true_if_empty)\n",
    "#    response = graph_nav_client.upload_graph(graph=current_graph)\n",
    "    \n",
    "    # Upload the snapshots to the robot.\n",
    "    \n",
    "    for snapshot_id in response.unknown_waypoint_snapshot_ids:\n",
    "        waypoint_snapshot = current_waypoint_snapshots[snapshot_id]\n",
    "        graph_nav_client.upload_waypoint_snapshot(waypoint_snapshot)\n",
    "        print(\"Uploaded {}\".format(waypoint_snapshot.id))\n",
    "    for snapshot_id in response.unknown_edge_snapshot_ids:\n",
    "        edge_snapshot = current_edge_snapshots[snapshot_id]\n",
    "        graph_nav_client.upload_edge_snapshot(edge_snapshot)\n",
    "        print(\"Uploaded {}\".format(edge_snapshot.id))\n",
    "\n",
    "    # The upload is complete! Check that the robot is localized to the graph,\n",
    "    # and if it is not, prompt the user to localize the robot before attempting\n",
    "    # any navigation commands.\n",
    "    localization_state = graph_nav_client.get_localization_state()\n",
    "    if not localization_state.localization.waypoint_id:\n",
    "        # The robot is not localized to the newly uploaded graph.\n",
    "        print(\"\\n\")\n",
    "        print(\"Upload complete! The robot is currently not localized to the map; please localize\", \\\n",
    "               \"the robot using commands (2) or (3) before attempting a navigation command.\")\n",
    "    return response"
   ]
  },
  {
   "cell_type": "code",
   "execution_count": 75,
   "id": "66f585df",
   "metadata": {},
   "outputs": [
    {
     "name": "stdout",
     "output_type": "stream",
     "text": [
      "Loading the graph from disk into local storage...\n",
      "Loaded graph has 27 waypoints and 29 edges\n",
      "Uploading the graph and snapshots to the robot...\n",
      "\n",
      "\n",
      "Upload complete! The robot is currently not localized to the map; please localize the robot using commands (2) or (3) before attempting a navigation command.\n"
     ]
    }
   ],
   "source": [
    "start_time = time.time()\n",
    "response = upload_graph_and_snapshots(upload_filepath, current_graph, \n",
    "                           graph_nav_client, current_waypoint_snapshots, current_edge_snapshots)\n",
    "end_time = time.time()"
   ]
  },
  {
   "cell_type": "code",
   "execution_count": 38,
   "id": "b77312bd",
   "metadata": {},
   "outputs": [],
   "source": [
    "# response = graph_nav_client.clear_graph()"
   ]
  },
  {
   "cell_type": "code",
   "execution_count": 13,
   "id": "20678a8a",
   "metadata": {},
   "outputs": [],
   "source": [
    "def set_initial_localization_fiducial(state_client, graph_nav_client):\n",
    "    \"\"\"Trigger localization when near a fiducial.\"\"\"\n",
    "    robot_state = state_client.get_robot_state()\n",
    "    current_odom_tform_body = get_odom_tform_body(\n",
    "        robot_state.kinematic_state.transforms_snapshot).to_proto()\n",
    "    \n",
    "    # Create an empty instance for initial localization since we are asking it to localize\n",
    "    # based on the nearest fiducial.\n",
    "    localization = nav_pb2.Localization()\n",
    "    graph_nav_client.set_localization(initial_guess_localization=localization,\n",
    "                                            ko_tform_body=current_odom_tform_body)"
   ]
  },
  {
   "cell_type": "code",
   "execution_count": 30,
   "id": "9edd4345",
   "metadata": {},
   "outputs": [],
   "source": [
    "def waitUntilFinishedNav(nav_to_cmd_id):\n",
    "    is_finished = False\n",
    "    prevTimeoutTimerSec = time.time()\n",
    "    while(not is_finished):\n",
    "        curTime = time.time()\n",
    "        if(curTime - prevTimeoutTimerSec > timeoutSec):\n",
    "            break\n",
    "        time.sleep(0.2)\n",
    "        is_finished = check_success(graph_nav_client, nav_to_cmd_id)"
   ]
  },
  {
   "cell_type": "code",
   "execution_count": 68,
   "id": "c8c936c6",
   "metadata": {},
   "outputs": [],
   "source": [
    "def spinInitFiducial(command_client, graph_nav_client, robot_state_client):\n",
    "    timeoutSec = 5\n",
    "\n",
    "    bdcrc.blocking_stand(command_client, timeout_sec = timeoutSec)\n",
    "    \n",
    "    for i in range(12):\n",
    "        print(\"attempt #: \", i)\n",
    "        frameTreeSnapshot = robot.get_frame_tree_snapshot()\n",
    "        cmd = RobotCommandBuilder.synchro_trajectory_command_in_body_frame(0, 0, np.pi/6, frame_tree_snapshot = frameTreeSnapshot)\n",
    "        cmd_id = cmd_id = command_client.robot_command(cmd, end_time_secs = time.time()+timeoutSec)\n",
    "        bdcrc.block_for_trajectory_cmd(command_client, cmd_id)\n",
    "        try:\n",
    "            set_initial_localization_fiducial(robot_state_client, graph_nav_client)\n",
    "            break\n",
    "        except ResponseError as e:\n",
    "            print(\"Error during fiducial localization init: \", e)"
   ]
  },
  {
   "cell_type": "code",
   "execution_count": 63,
   "id": "050664d8",
   "metadata": {},
   "outputs": [],
   "source": [
    "#Also requires end_time_secs info\n",
    "frameTreeSnapshot = robot.get_frame_tree_snapshot()\n",
    "cmd = RobotCommandBuilder.synchro_trajectory_command_in_body_frame(0, 0, -np.pi/6, frame_tree_snapshot = frameTreeSnapshot)"
   ]
  },
  {
   "cell_type": "code",
   "execution_count": 64,
   "id": "10141c78",
   "metadata": {},
   "outputs": [],
   "source": [
    "cmd_id = cmd_id = command_client.robot_command(cmd, end_time_secs = time.time()+5)"
   ]
  },
  {
   "cell_type": "code",
   "execution_count": 60,
   "id": "0198d906",
   "metadata": {},
   "outputs": [],
   "source": [
    "cmd = RobotCommandBuilder.synchro_trajectory_command_in_body_frame(0, 0, np.pi/6, frame_tree_snapshot = frameTreeSnapshot)\n",
    "cmd_id = cmd_id = command_client.robot_command(cmd, end_time_secs = time.time()+5)\n",
    "#bdcrc.block_for_trajectory_cmd(command_client, cmd_id)"
   ]
  },
  {
   "cell_type": "code",
   "execution_count": 20,
   "id": "79765733",
   "metadata": {},
   "outputs": [
    {
     "name": "stdout",
     "output_type": "stream",
     "text": [
      "Error during fiducial localization init:  bosdyn.api.graph_nav.SetLocalizationResponse (ResponseError): Code: 8 (STATUS_NO_MATCHING_FIDUCIAL)\n"
     ]
    }
   ],
   "source": [
    "try:\n",
    "    set_initial_localization_fiducial(robot_state_client, graph_nav_client)\n",
    "except ResponseError as e:\n",
    "    print(\"Error during fiducial localization init: \", e)"
   ]
  },
  {
   "cell_type": "code",
   "execution_count": 24,
   "id": "fc113927",
   "metadata": {},
   "outputs": [],
   "source": [
    "#Gets the current graph and reads off waypoints\n",
    "\n",
    "current_graph = graph_nav_client.download_graph()\n",
    "\n",
    "waypointList = [(waypoint.annotations.name,waypoint.id) for waypoint in current_graph.waypoints]\n",
    "\n",
    "waypointDict = dict()\n",
    "\n",
    "#make a dict and exclude default waypoints\n",
    "\n",
    "for waypointName, waypointId in waypointList:\n",
    "    \n",
    "    if(waypointName == 'default'):\n",
    "        continue\n",
    "    \n",
    "    waypointDict[int(waypointName[9:])] = waypointId"
   ]
  },
  {
   "cell_type": "code",
   "execution_count": 36,
   "id": "5cf2dd4f",
   "metadata": {
    "scrolled": false
   },
   "outputs": [
    {
     "name": "stdout",
     "output_type": "stream",
     "text": [
      "moving to: 0 with cmd_id: 24\n",
      "finished moving to: 0\n"
     ]
    }
   ],
   "source": [
    "timeoutSec = 10\n",
    "\n",
    "for wpInd in sorted(list(waypointDict.keys()))[0:1]:\n",
    "    nav_to_cmd_id = graph_nav_client.navigate_to(waypointDict[wpInd], timeoutSec)\n",
    "    print(\"moving to:\", wpInd, \"with cmd_id:\", nav_to_cmd_id)\n",
    "    is_finished = False\n",
    "    prevTimeoutTimerSec = time.time()\n",
    "    while(not is_finished):\n",
    "        curTime = time.time()\n",
    "        if(curTime - prevTimeoutTimerSec > timeoutSec):\n",
    "            break\n",
    "        time.sleep(0.2)\n",
    "        is_finished = check_success(graph_nav_client, nav_to_cmd_id)\n",
    "        \n",
    "    print(\"finished moving to:\", wpInd)\n",
    "    "
   ]
  },
  {
   "cell_type": "code",
   "execution_count": 98,
   "id": "e58bcfb2",
   "metadata": {},
   "outputs": [],
   "source": [
    "request_fiducials = [world_object_pb2.WORLD_OBJECT_APRILTAG]"
   ]
  },
  {
   "cell_type": "code",
   "execution_count": 107,
   "id": "4d0f3a01",
   "metadata": {},
   "outputs": [],
   "source": [
    "fiducial_objects = world_object_client.list_world_objects(\n",
    "            object_type=request_fiducials).world_objects"
   ]
  },
  {
   "cell_type": "code",
   "execution_count": 109,
   "id": "7b025241",
   "metadata": {},
   "outputs": [
    {
     "data": {
      "text/plain": [
       "id: 22\n",
       "name: \"world_obj_apriltag_583\"\n",
       "apriltag_properties {\n",
       "  tag_id: 583\n",
       "  dimensions {\n",
       "    x: 0.1459999978542328\n",
       "    y: 0.1459999978542328\n",
       "  }\n",
       "  frame_name_fiducial: \"fiducial_583\"\n",
       "  frame_name_fiducial_filtered: \"filtered_fiducial_583\"\n",
       "  detection_covariance {\n",
       "    matrix {\n",
       "      rows: 6\n",
       "      cols: 6\n",
       "      values: 0.0010554356595546513\n",
       "      values: -0.0005524812856049933\n",
       "      values: -0.00038865561918043995\n",
       "      values: 0.000560126071521994\n",
       "      values: -0.00010505305977088483\n",
       "      values: 0.0008553801664207153\n",
       "      values: -0.0005524812856049936\n",
       "      values: 0.0005799497829589058\n",
       "      values: -8.675788398989223e-05\n",
       "      values: -0.00019142884554062975\n",
       "      values: -0.0002610303638402707\n",
       "      values: -9.476722068416637e-05\n",
       "      values: -0.0003886556191804397\n",
       "      values: -8.675788398989246e-05\n",
       "      values: 0.0005138579058245023\n",
       "      values: -0.000352456968209605\n",
       "      values: 0.0004175498887450027\n",
       "      values: -0.0006837422843684991\n",
       "      values: 0.000560126071521994\n",
       "      values: -0.00019142884554062956\n",
       "      values: -0.0003524569682096051\n",
       "      values: 0.0003668446109591278\n",
       "      values: -0.0002057129317220312\n",
       "      values: 0.0005884896488811559\n",
       "      values: -0.00010505305977088453\n",
       "      values: -0.0002610303638402709\n",
       "      values: 0.0004175498887450026\n",
       "      values: -0.00020571293172203103\n",
       "      values: 0.0004117554309195126\n",
       "      values: -0.0004817781928975454\n",
       "      values: 0.0008553801664207148\n",
       "      values: -9.476722068416605e-05\n",
       "      values: -0.0006837422843684987\n",
       "      values: 0.0005884896488811555\n",
       "      values: -0.0004817781928975453\n",
       "      values: 0.001137529761219477\n",
       "    }\n",
       "    yaw_variance: 0.0005138579058245023\n",
       "    cov_xx: 0.0003668446109591278\n",
       "    cov_xy: -0.0002057129317220312\n",
       "    cov_xz: 0.0005884896488811559\n",
       "    cov_yx: -0.00020571293172203103\n",
       "    cov_yy: 0.0004117554309195126\n",
       "    cov_yz: -0.0004817781928975454\n",
       "    cov_zx: 0.0005884896488811555\n",
       "    cov_zy: -0.0004817781928975453\n",
       "    cov_zz: 0.001137529761219477\n",
       "  }\n",
       "  detection_covariance_reference_frame: \"vision\"\n",
       "  frame_name_camera: \"left_fisheye\"\n",
       "  fiducial_pose_status: STATUS_OK\n",
       "  fiducial_filtered_pose_status: STATUS_OK\n",
       "}\n",
       "image_properties {\n",
       "  camera_source: \"left_fisheye\"\n",
       "  coordinates {\n",
       "    vertexes {\n",
       "      x: 344.8848571777344\n",
       "      y: 328.54254150390625\n",
       "    }\n",
       "    vertexes {\n",
       "      x: 340.71844482421875\n",
       "      y: 281.857421875\n",
       "    }\n",
       "    vertexes {\n",
       "      x: 314.8428039550781\n",
       "      y: 291.81121826171875\n",
       "    }\n",
       "    vertexes {\n",
       "      x: 318.36175537109375\n",
       "      y: 331.74127197265625\n",
       "    }\n",
       "  }\n",
       "}\n",
       "acquisition_time {\n",
       "  seconds: 1655424640\n",
       "  nanos: 490683288\n",
       "}\n",
       "transforms_snapshot {\n",
       "  child_to_parent_edge_map {\n",
       "    key: \"body\"\n",
       "    value {\n",
       "      parent_tform_child {\n",
       "        position {\n",
       "        }\n",
       "        rotation {\n",
       "          w: 1.0\n",
       "        }\n",
       "      }\n",
       "    }\n",
       "  }\n",
       "  child_to_parent_edge_map {\n",
       "    key: \"fiducial_583\"\n",
       "    value {\n",
       "      parent_frame_name: \"left_fisheye\"\n",
       "      parent_tform_child {\n",
       "        position {\n",
       "          x: 0.011152696187925158\n",
       "          y: 0.3008823870762416\n",
       "          z: 0.8585208218944147\n",
       "        }\n",
       "        rotation {\n",
       "          x: -0.5179487061217473\n",
       "          y: -0.6040446598210618\n",
       "          z: 0.4660693483826074\n",
       "          w: -0.3868314222845363\n",
       "        }\n",
       "      }\n",
       "    }\n",
       "  }\n",
       "  child_to_parent_edge_map {\n",
       "    key: \"filtered_fiducial_583\"\n",
       "    value {\n",
       "      parent_frame_name: \"vision\"\n",
       "      parent_tform_child {\n",
       "        position {\n",
       "          x: 0.12262131689720349\n",
       "          y: -0.9389549746229344\n",
       "          z: -0.22037809714397436\n",
       "        }\n",
       "        rotation {\n",
       "          x: -0.0510648869835695\n",
       "          y: 0.012935701858752648\n",
       "          z: 0.7167596301973175\n",
       "          w: 0.6953277482268286\n",
       "        }\n",
       "      }\n",
       "    }\n",
       "  }\n",
       "  child_to_parent_edge_map {\n",
       "    key: \"head\"\n",
       "    value {\n",
       "      parent_frame_name: \"body\"\n",
       "      parent_tform_child {\n",
       "        position {\n",
       "        }\n",
       "        rotation {\n",
       "          w: 1.0\n",
       "        }\n",
       "      }\n",
       "    }\n",
       "  }\n",
       "  child_to_parent_edge_map {\n",
       "    key: \"left\"\n",
       "    value {\n",
       "      parent_frame_name: \"head\"\n",
       "      parent_tform_child {\n",
       "        position {\n",
       "          x: -0.16718179920862294\n",
       "          y: 0.10949528888336338\n",
       "          z: 0.036963334142547474\n",
       "        }\n",
       "        rotation {\n",
       "          x: -0.7934506442208836\n",
       "          y: -0.0029589401091396628\n",
       "          z: 0.0013455603116339064\n",
       "          w: 0.6086259190392265\n",
       "        }\n",
       "      }\n",
       "    }\n",
       "  }\n",
       "  child_to_parent_edge_map {\n",
       "    key: \"left_fisheye\"\n",
       "    value {\n",
       "      parent_frame_name: \"left\"\n",
       "      parent_tform_child {\n",
       "        position {\n",
       "          x: 0.0755651737236\n",
       "          y: -0.0016133004409599999\n",
       "          z: 0.00137197928187\n",
       "        }\n",
       "        rotation {\n",
       "          x: -0.0064142102328370604\n",
       "          y: -0.003624688529888339\n",
       "          z: 0.007936472699876362\n",
       "          w: 0.9999413642515417\n",
       "        }\n",
       "      }\n",
       "    }\n",
       "  }\n",
       "  child_to_parent_edge_map {\n",
       "    key: \"odom\"\n",
       "    value {\n",
       "      parent_frame_name: \"body\"\n",
       "      parent_tform_child {\n",
       "        position {\n",
       "          x: -0.7427158000567493\n",
       "          y: -0.031082937100540553\n",
       "          z: -0.4416979739760534\n",
       "        }\n",
       "        rotation {\n",
       "          x: -0.0011140642867935127\n",
       "          y: 0.00047261973120897534\n",
       "          z: 0.645208593393667\n",
       "          w: 0.7640055016178354\n",
       "        }\n",
       "      }\n",
       "    }\n",
       "  }\n",
       "  child_to_parent_edge_map {\n",
       "    key: \"vision\"\n",
       "    value {\n",
       "      parent_frame_name: \"body\"\n",
       "      parent_tform_child {\n",
       "        position {\n",
       "          x: -0.11640304237207351\n",
       "          y: -0.04958462726411872\n",
       "          z: -0.2922531198955968\n",
       "        }\n",
       "        rotation {\n",
       "          x: 0.00044002085835395693\n",
       "          y: -0.0011273376797186654\n",
       "          z: -0.9974045167942741\n",
       "          w: -0.07199142566848292\n",
       "        }\n",
       "      }\n",
       "    }\n",
       "  }\n",
       "}"
      ]
     },
     "execution_count": 109,
     "metadata": {},
     "output_type": "execute_result"
    }
   ],
   "source": [
    "fiducial_objects[0]"
   ]
  },
  {
   "cell_type": "code",
   "execution_count": 100,
   "id": "a4ab0e7a",
   "metadata": {},
   "outputs": [
    {
     "data": {
      "text/plain": [
       "2"
      ]
     },
     "execution_count": 100,
     "metadata": {},
     "output_type": "execute_result"
    }
   ],
   "source": [
    "request_fiducials[0]"
   ]
  },
  {
   "cell_type": "code",
   "execution_count": 70,
   "id": "3a5fca0c",
   "metadata": {},
   "outputs": [],
   "source": [
    "nav_to_cmd_id = graph_nav_client.navigate_to(waypointDict[10], timeoutSec)"
   ]
  },
  {
   "cell_type": "code",
   "execution_count": 95,
   "id": "9d9d26cb",
   "metadata": {},
   "outputs": [],
   "source": [
    "nav_to_cmd_id = graph_nav_client.navigate_to(waypointDict[9], timeoutSec)\n",
    "waitUntilFinishedNav(nav_to_cmd_id)\n",
    "\n",
    "cmd = RobotCommandBuilder.synchro_trajectory_command_in_body_frame(0, 0, np.pi/2, frame_tree_snapshot = frameTreeSnapshot)\n",
    "cmd_id = cmd_id = command_client.robot_command(cmd, end_time_secs = time.time()+timeoutSec)\n",
    "bdcrc.block_for_trajectory_cmd(command_client, cmd_id)\n",
    "\n",
    "graph_nav_client.clear_graph()"
   ]
  },
  {
   "cell_type": "code",
   "execution_count": 76,
   "id": "e827bfc5",
   "metadata": {},
   "outputs": [
    {
     "name": "stdout",
     "output_type": "stream",
     "text": [
      "attempt #:  0\n"
     ]
    }
   ],
   "source": [
    "spinInitFiducial(command_client, graph_nav_client, robot_state_client)"
   ]
  },
  {
   "cell_type": "code",
   "execution_count": null,
   "id": "ffe5cd49",
   "metadata": {},
   "outputs": [],
   "source": []
  }
 ],
 "metadata": {
  "kernelspec": {
   "display_name": "Python 3 (ipykernel)",
   "language": "python",
   "name": "python3"
  },
  "language_info": {
   "codemirror_mode": {
    "name": "ipython",
    "version": 3
   },
   "file_extension": ".py",
   "mimetype": "text/x-python",
   "name": "python",
   "nbconvert_exporter": "python",
   "pygments_lexer": "ipython3",
   "version": "3.7.12"
  }
 },
 "nbformat": 4,
 "nbformat_minor": 5
}
