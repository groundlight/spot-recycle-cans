{
 "cells": [
  {
   "cell_type": "code",
   "execution_count": 1,
   "id": "fef9da5b",
   "metadata": {},
   "outputs": [],
   "source": [
    "%load_ext autoreload\n",
    "%autoreload 2"
   ]
  },
  {
   "cell_type": "code",
   "execution_count": 2,
   "id": "44bf4a07",
   "metadata": {},
   "outputs": [],
   "source": [
    "from gl_functions import *\n",
    "from spot_functions import *\n",
    "from constants import timeout_sec, upload_filepath"
   ]
  },
  {
   "cell_type": "code",
   "execution_count": 3,
   "id": "abd86fea",
   "metadata": {},
   "outputs": [],
   "source": [
    "#### CONSTANTS ####\n",
    "all_wp_move_look = [(10, [0, 0, np.pi/4], [2, 0, 2.5]),\n",
    "                    (18, [0, 0, np.pi/2], [1, 0, 5.0]),\n",
    "                    (22, [0, 0, np.pi/3], [2, 0, 4.0]),\n",
    "                    (0 , [0, 0, np.pi/4], [3, 0 ,3.0])]"
   ]
  },
  {
   "cell_type": "code",
   "execution_count": 4,
   "id": "f7f49927",
   "metadata": {},
   "outputs": [],
   "source": [
    "sdk, robot, id_client, \\\n",
    "robot_state_client, command_client, \\\n",
    "image_client, graph_nav_client, \\\n",
    "world_object_client, manipulation_api_client = init_robot('192.168.50.3')"
   ]
  },
  {
   "cell_type": "code",
   "execution_count": 5,
   "id": "46e8242b",
   "metadata": {},
   "outputs": [],
   "source": [
    "lease_client, lease, lease_keep_alive = get_lease(robot)"
   ]
  },
  {
   "cell_type": "code",
   "execution_count": 6,
   "id": "4c8d95c2",
   "metadata": {},
   "outputs": [],
   "source": [
    "gl = gl_init()\n",
    "light_det = gl.list_detectors().results[0]"
   ]
  },
  {
   "cell_type": "code",
   "execution_count": 182,
   "id": "38bdb81f",
   "metadata": {},
   "outputs": [
    {
     "name": "stdout",
     "output_type": "stream",
     "text": [
      "Battery at: 38.0 %. Robot has 2147 seconds left\n"
     ]
    },
    {
     "data": {
      "text/plain": [
       "(38.0, 2147)"
      ]
     },
     "execution_count": 182,
     "metadata": {},
     "output_type": "execute_result"
    }
   ],
   "source": [
    "get_batt_info(robot_state_client)"
   ]
  },
  {
   "cell_type": "code",
   "execution_count": 186,
   "id": "c053ee7d",
   "metadata": {},
   "outputs": [
    {
     "ename": "FaultedError",
     "evalue": "bosdyn.api.PowerCommandResponse (FaultedError): Cannot power on due to a fault; inspect FaultState for more info.",
     "output_type": "error",
     "traceback": [
      "\u001b[0;31m---------------------------------------------------------------------------\u001b[0m",
      "\u001b[0;31mFaultedError\u001b[0m                              Traceback (most recent call last)",
      "\u001b[0;32m/tmp/ipykernel_8660/4238369363.py\u001b[0m in \u001b[0;36m<module>\u001b[0;34m\u001b[0m\n\u001b[0;32m----> 1\u001b[0;31m \u001b[0msuccess\u001b[0m \u001b[0;34m=\u001b[0m \u001b[0mpower_on\u001b[0m\u001b[0;34m(\u001b[0m\u001b[0mrobot\u001b[0m\u001b[0;34m)\u001b[0m\u001b[0;34m\u001b[0m\u001b[0;34m\u001b[0m\u001b[0m\n\u001b[0m",
      "\u001b[0;32m~/groundlight/bdspot/spot/spot_functions.py\u001b[0m in \u001b[0;36mpower_on\u001b[0;34m(robot)\u001b[0m\n\u001b[1;32m     87\u001b[0m \u001b[0;34m\u001b[0m\u001b[0m\n\u001b[1;32m     88\u001b[0m \u001b[0;32mdef\u001b[0m \u001b[0mpower_on\u001b[0m\u001b[0;34m(\u001b[0m\u001b[0mrobot\u001b[0m\u001b[0;34m)\u001b[0m\u001b[0;34m:\u001b[0m\u001b[0;34m\u001b[0m\u001b[0;34m\u001b[0m\u001b[0m\n\u001b[0;32m---> 89\u001b[0;31m     \u001b[0mrobot\u001b[0m\u001b[0;34m.\u001b[0m\u001b[0mpower_on\u001b[0m\u001b[0;34m(\u001b[0m\u001b[0mtimeout_sec\u001b[0m\u001b[0;34m=\u001b[0m\u001b[0;36m20\u001b[0m\u001b[0;34m)\u001b[0m\u001b[0;34m\u001b[0m\u001b[0;34m\u001b[0m\u001b[0m\n\u001b[0m\u001b[1;32m     90\u001b[0m     \u001b[0mlogging\u001b[0m\u001b[0;34m.\u001b[0m\u001b[0minfo\u001b[0m\u001b[0;34m(\u001b[0m\u001b[0mrobot\u001b[0m\u001b[0;34m.\u001b[0m\u001b[0mis_powered_on\u001b[0m\u001b[0;34m(\u001b[0m\u001b[0;34m)\u001b[0m\u001b[0;34m)\u001b[0m\u001b[0;34m\u001b[0m\u001b[0;34m\u001b[0m\u001b[0m\n\u001b[1;32m     91\u001b[0m     \u001b[0mrobot\u001b[0m\u001b[0;34m.\u001b[0m\u001b[0mtime_sync\u001b[0m\u001b[0;34m.\u001b[0m\u001b[0mwait_for_sync\u001b[0m\u001b[0;34m(\u001b[0m\u001b[0;34m)\u001b[0m\u001b[0;34m\u001b[0m\u001b[0;34m\u001b[0m\u001b[0m\n",
      "\u001b[0;32m~/mambaforge/envs/spotenv/lib/python3.7/site-packages/bosdyn/client/robot.py\u001b[0m in \u001b[0;36mpower_on\u001b[0;34m(self, timeout_sec, update_frequency, timeout)\u001b[0m\n\u001b[1;32m    575\u001b[0m         \u001b[0mservice_name\u001b[0m \u001b[0;34m=\u001b[0m \u001b[0mPowerClient\u001b[0m\u001b[0;34m.\u001b[0m\u001b[0mdefault_service_name\u001b[0m\u001b[0;34m\u001b[0m\u001b[0;34m\u001b[0m\u001b[0m\n\u001b[1;32m    576\u001b[0m         \u001b[0mclient\u001b[0m \u001b[0;34m=\u001b[0m \u001b[0mself\u001b[0m\u001b[0;34m.\u001b[0m\u001b[0mensure_client\u001b[0m\u001b[0;34m(\u001b[0m\u001b[0mservice_name\u001b[0m\u001b[0;34m)\u001b[0m\u001b[0;34m\u001b[0m\u001b[0;34m\u001b[0m\u001b[0m\n\u001b[0;32m--> 577\u001b[0;31m         \u001b[0mpkg_power_on\u001b[0m\u001b[0;34m(\u001b[0m\u001b[0mclient\u001b[0m\u001b[0;34m,\u001b[0m \u001b[0mtimeout_sec\u001b[0m\u001b[0;34m,\u001b[0m \u001b[0mupdate_frequency\u001b[0m\u001b[0;34m,\u001b[0m \u001b[0mtimeout\u001b[0m\u001b[0;34m=\u001b[0m\u001b[0mtimeout\u001b[0m\u001b[0;34m)\u001b[0m\u001b[0;34m\u001b[0m\u001b[0;34m\u001b[0m\u001b[0m\n\u001b[0m\u001b[1;32m    578\u001b[0m \u001b[0;34m\u001b[0m\u001b[0m\n\u001b[1;32m    579\u001b[0m     \u001b[0;32mdef\u001b[0m \u001b[0mpower_off\u001b[0m\u001b[0;34m(\u001b[0m\u001b[0mself\u001b[0m\u001b[0;34m,\u001b[0m \u001b[0mcut_immediately\u001b[0m\u001b[0;34m=\u001b[0m\u001b[0;32mFalse\u001b[0m\u001b[0;34m,\u001b[0m \u001b[0mtimeout_sec\u001b[0m\u001b[0;34m=\u001b[0m\u001b[0;36m20\u001b[0m\u001b[0;34m,\u001b[0m \u001b[0mupdate_frequency\u001b[0m\u001b[0;34m=\u001b[0m\u001b[0;36m1.0\u001b[0m\u001b[0;34m,\u001b[0m \u001b[0mtimeout\u001b[0m\u001b[0;34m=\u001b[0m\u001b[0;32mNone\u001b[0m\u001b[0;34m)\u001b[0m\u001b[0;34m:\u001b[0m\u001b[0;34m\u001b[0m\u001b[0;34m\u001b[0m\u001b[0m\n",
      "\u001b[0;32m~/mambaforge/envs/spotenv/lib/python3.7/site-packages/deprecated/classic.py\u001b[0m in \u001b[0;36mwrapper_function\u001b[0;34m(wrapped_, instance_, args_, kwargs_)\u001b[0m\n\u001b[1;32m    283\u001b[0m                 \u001b[0;32melse\u001b[0m\u001b[0;34m:\u001b[0m\u001b[0;34m\u001b[0m\u001b[0;34m\u001b[0m\u001b[0m\n\u001b[1;32m    284\u001b[0m                     \u001b[0mwarnings\u001b[0m\u001b[0;34m.\u001b[0m\u001b[0mwarn\u001b[0m\u001b[0;34m(\u001b[0m\u001b[0mmsg\u001b[0m\u001b[0;34m,\u001b[0m \u001b[0mcategory\u001b[0m\u001b[0;34m=\u001b[0m\u001b[0mcategory\u001b[0m\u001b[0;34m,\u001b[0m \u001b[0mstacklevel\u001b[0m\u001b[0;34m=\u001b[0m\u001b[0m_routine_stacklevel\u001b[0m\u001b[0;34m)\u001b[0m\u001b[0;34m\u001b[0m\u001b[0;34m\u001b[0m\u001b[0m\n\u001b[0;32m--> 285\u001b[0;31m                 \u001b[0;32mreturn\u001b[0m \u001b[0mwrapped_\u001b[0m\u001b[0;34m(\u001b[0m\u001b[0;34m*\u001b[0m\u001b[0margs_\u001b[0m\u001b[0;34m,\u001b[0m \u001b[0;34m**\u001b[0m\u001b[0mkwargs_\u001b[0m\u001b[0;34m)\u001b[0m\u001b[0;34m\u001b[0m\u001b[0;34m\u001b[0m\u001b[0m\n\u001b[0m\u001b[1;32m    286\u001b[0m \u001b[0;34m\u001b[0m\u001b[0m\n\u001b[1;32m    287\u001b[0m             \u001b[0;32mreturn\u001b[0m \u001b[0mwrapper_function\u001b[0m\u001b[0;34m(\u001b[0m\u001b[0mwrapped\u001b[0m\u001b[0;34m)\u001b[0m\u001b[0;34m\u001b[0m\u001b[0;34m\u001b[0m\u001b[0m\n",
      "\u001b[0;32m~/mambaforge/envs/spotenv/lib/python3.7/site-packages/bosdyn/client/power.py\u001b[0m in \u001b[0;36mpower_on\u001b[0;34m(power_client, timeout_sec, update_frequency, **kwargs)\u001b[0m\n\u001b[1;32m    230\u001b[0m \u001b[0;32mdef\u001b[0m \u001b[0mpower_on\u001b[0m\u001b[0;34m(\u001b[0m\u001b[0mpower_client\u001b[0m\u001b[0;34m,\u001b[0m \u001b[0mtimeout_sec\u001b[0m\u001b[0;34m=\u001b[0m\u001b[0;36m30\u001b[0m\u001b[0;34m,\u001b[0m \u001b[0mupdate_frequency\u001b[0m\u001b[0;34m=\u001b[0m\u001b[0;36m1.0\u001b[0m\u001b[0;34m,\u001b[0m \u001b[0;34m**\u001b[0m\u001b[0mkwargs\u001b[0m\u001b[0;34m)\u001b[0m\u001b[0;34m:\u001b[0m\u001b[0;34m\u001b[0m\u001b[0;34m\u001b[0m\u001b[0m\n\u001b[1;32m    231\u001b[0m     \u001b[0;34m\"\"\"Power on robot motors. See power_on_motors().\"\"\"\u001b[0m\u001b[0;34m\u001b[0m\u001b[0;34m\u001b[0m\u001b[0m\n\u001b[0;32m--> 232\u001b[0;31m     \u001b[0mpower_on_motors\u001b[0m\u001b[0;34m(\u001b[0m\u001b[0mpower_client\u001b[0m\u001b[0;34m,\u001b[0m \u001b[0mtimeout_sec\u001b[0m\u001b[0;34m,\u001b[0m \u001b[0mupdate_frequency\u001b[0m\u001b[0;34m,\u001b[0m \u001b[0;34m**\u001b[0m\u001b[0mkwargs\u001b[0m\u001b[0;34m)\u001b[0m\u001b[0;34m\u001b[0m\u001b[0;34m\u001b[0m\u001b[0m\n\u001b[0m\u001b[1;32m    233\u001b[0m \u001b[0;34m\u001b[0m\u001b[0m\n\u001b[1;32m    234\u001b[0m \u001b[0;34m\u001b[0m\u001b[0m\n",
      "\u001b[0;32m~/mambaforge/envs/spotenv/lib/python3.7/site-packages/bosdyn/client/power.py\u001b[0m in \u001b[0;36mpower_on_motors\u001b[0;34m(power_client, timeout_sec, update_frequency, **kwargs)\u001b[0m\n\u001b[1;32m    255\u001b[0m     \"\"\"\n\u001b[1;32m    256\u001b[0m     \u001b[0mrequest\u001b[0m \u001b[0;34m=\u001b[0m \u001b[0mpower_pb2\u001b[0m\u001b[0;34m.\u001b[0m\u001b[0mPowerCommandRequest\u001b[0m\u001b[0;34m.\u001b[0m\u001b[0mREQUEST_ON_MOTORS\u001b[0m\u001b[0;34m\u001b[0m\u001b[0;34m\u001b[0m\u001b[0m\n\u001b[0;32m--> 257\u001b[0;31m     \u001b[0m_power_command\u001b[0m\u001b[0;34m(\u001b[0m\u001b[0mpower_client\u001b[0m\u001b[0;34m,\u001b[0m \u001b[0mrequest\u001b[0m\u001b[0;34m,\u001b[0m \u001b[0mtimeout_sec\u001b[0m\u001b[0;34m,\u001b[0m \u001b[0mupdate_frequency\u001b[0m\u001b[0;34m,\u001b[0m \u001b[0;34m**\u001b[0m\u001b[0mkwargs\u001b[0m\u001b[0;34m)\u001b[0m\u001b[0;34m\u001b[0m\u001b[0;34m\u001b[0m\u001b[0m\n\u001b[0m\u001b[1;32m    258\u001b[0m \u001b[0;34m\u001b[0m\u001b[0m\n\u001b[1;32m    259\u001b[0m \u001b[0;34m\u001b[0m\u001b[0m\n",
      "\u001b[0;32m~/mambaforge/envs/spotenv/lib/python3.7/site-packages/bosdyn/client/power.py\u001b[0m in \u001b[0;36m_power_command\u001b[0;34m(power_client, request, timeout_sec, update_frequency, expect_grpc_timeout, **kwargs)\u001b[0m\n\u001b[1;32m    450\u001b[0m \u001b[0;34m\u001b[0m\u001b[0m\n\u001b[1;32m    451\u001b[0m     \u001b[0;32mtry\u001b[0m\u001b[0;34m:\u001b[0m\u001b[0;34m\u001b[0m\u001b[0;34m\u001b[0m\u001b[0m\n\u001b[0;32m--> 452\u001b[0;31m         \u001b[0mresponse\u001b[0m \u001b[0;34m=\u001b[0m \u001b[0mpower_client\u001b[0m\u001b[0;34m.\u001b[0m\u001b[0mpower_command\u001b[0m\u001b[0;34m(\u001b[0m\u001b[0mrequest\u001b[0m\u001b[0;34m,\u001b[0m \u001b[0;34m**\u001b[0m\u001b[0mkwargs\u001b[0m\u001b[0;34m)\u001b[0m\u001b[0;34m\u001b[0m\u001b[0;34m\u001b[0m\u001b[0m\n\u001b[0m\u001b[1;32m    453\u001b[0m     \u001b[0;32mexcept\u001b[0m \u001b[0mTimedOutError\u001b[0m \u001b[0;32mas\u001b[0m \u001b[0me\u001b[0m\u001b[0;34m:\u001b[0m\u001b[0;34m\u001b[0m\u001b[0;34m\u001b[0m\u001b[0m\n\u001b[1;32m    454\u001b[0m         \u001b[0;32mif\u001b[0m \u001b[0mexpect_grpc_timeout\u001b[0m\u001b[0;34m:\u001b[0m\u001b[0;34m\u001b[0m\u001b[0;34m\u001b[0m\u001b[0m\n",
      "\u001b[0;32m~/mambaforge/envs/spotenv/lib/python3.7/site-packages/bosdyn/client/power.py\u001b[0m in \u001b[0;36mpower_command\u001b[0;34m(self, request, lease, **kwargs)\u001b[0m\n\u001b[1;32m     85\u001b[0m         \u001b[0mreq\u001b[0m \u001b[0;34m=\u001b[0m \u001b[0mself\u001b[0m\u001b[0;34m.\u001b[0m\u001b[0m_power_command_request\u001b[0m\u001b[0;34m(\u001b[0m\u001b[0mlease\u001b[0m\u001b[0;34m,\u001b[0m \u001b[0mrequest\u001b[0m\u001b[0;34m)\u001b[0m\u001b[0;34m\u001b[0m\u001b[0;34m\u001b[0m\u001b[0m\n\u001b[1;32m     86\u001b[0m         return self.call(self._stub.PowerCommand, req, None, _power_command_error_from_response,\n\u001b[0;32m---> 87\u001b[0;31m                          **kwargs)\n\u001b[0m\u001b[1;32m     88\u001b[0m \u001b[0;34m\u001b[0m\u001b[0m\n\u001b[1;32m     89\u001b[0m     \u001b[0;32mdef\u001b[0m \u001b[0mpower_command_async\u001b[0m\u001b[0;34m(\u001b[0m\u001b[0mself\u001b[0m\u001b[0;34m,\u001b[0m \u001b[0mrequest\u001b[0m\u001b[0;34m,\u001b[0m \u001b[0mlease\u001b[0m\u001b[0;34m=\u001b[0m\u001b[0;32mNone\u001b[0m\u001b[0;34m,\u001b[0m \u001b[0;34m**\u001b[0m\u001b[0mkwargs\u001b[0m\u001b[0;34m)\u001b[0m\u001b[0;34m:\u001b[0m\u001b[0;34m\u001b[0m\u001b[0;34m\u001b[0m\u001b[0m\n",
      "\u001b[0;32m~/mambaforge/envs/spotenv/lib/python3.7/site-packages/bosdyn/client/common.py\u001b[0m in \u001b[0;36mprocessor\u001b[0;34m(self, rpc_method, request, value_from_response, error_from_response, **kwargs)\u001b[0m\n\u001b[1;32m    233\u001b[0m \u001b[0;34m\u001b[0m\u001b[0m\n\u001b[1;32m    234\u001b[0m         return func(self, rpc_method, request, value_from_response=value_from_response,\n\u001b[0;32m--> 235\u001b[0;31m                     error_from_response=error_from_response, **kwargs)\n\u001b[0m\u001b[1;32m    236\u001b[0m \u001b[0;34m\u001b[0m\u001b[0m\n\u001b[1;32m    237\u001b[0m     \u001b[0;32mreturn\u001b[0m \u001b[0mprocessor\u001b[0m\u001b[0;34m\u001b[0m\u001b[0;34m\u001b[0m\u001b[0m\n",
      "\u001b[0;32m~/mambaforge/envs/spotenv/lib/python3.7/site-packages/bosdyn/client/common.py\u001b[0m in \u001b[0;36mcall\u001b[0;34m(self, rpc_method, request, value_from_response, error_from_response, **kwargs)\u001b[0m\n\u001b[1;32m    355\u001b[0m             logger.debug('response: %s %s', rpc_method._method,\n\u001b[1;32m    356\u001b[0m                          self.response_trim_for_log(response))\n\u001b[0;32m--> 357\u001b[0;31m             \u001b[0;32mreturn\u001b[0m \u001b[0mself\u001b[0m\u001b[0;34m.\u001b[0m\u001b[0mhandle_response\u001b[0m\u001b[0;34m(\u001b[0m\u001b[0mresponse\u001b[0m\u001b[0;34m,\u001b[0m \u001b[0merror_from_response\u001b[0m\u001b[0;34m,\u001b[0m \u001b[0mvalue_from_response\u001b[0m\u001b[0;34m)\u001b[0m\u001b[0;34m\u001b[0m\u001b[0;34m\u001b[0m\u001b[0m\n\u001b[0m\u001b[1;32m    358\u001b[0m \u001b[0;34m\u001b[0m\u001b[0m\n\u001b[1;32m    359\u001b[0m     \u001b[0;32mdef\u001b[0m \u001b[0mhandle_response\u001b[0m\u001b[0;34m(\u001b[0m\u001b[0mself\u001b[0m\u001b[0;34m,\u001b[0m \u001b[0mresponse\u001b[0m\u001b[0;34m,\u001b[0m \u001b[0merror_from_response\u001b[0m\u001b[0;34m,\u001b[0m \u001b[0mvalue_from_response\u001b[0m\u001b[0;34m)\u001b[0m\u001b[0;34m:\u001b[0m\u001b[0;34m\u001b[0m\u001b[0;34m\u001b[0m\u001b[0m\n",
      "\u001b[0;32m~/mambaforge/envs/spotenv/lib/python3.7/site-packages/bosdyn/client/common.py\u001b[0m in \u001b[0;36mhandle_response\u001b[0;34m(self, response, error_from_response, value_from_response)\u001b[0m\n\u001b[1;32m    363\u001b[0m             \u001b[0mexc\u001b[0m \u001b[0;34m=\u001b[0m \u001b[0;32mNone\u001b[0m\u001b[0;34m\u001b[0m\u001b[0;34m\u001b[0m\u001b[0m\n\u001b[1;32m    364\u001b[0m         \u001b[0;32mif\u001b[0m \u001b[0mexc\u001b[0m \u001b[0;32mis\u001b[0m \u001b[0;32mnot\u001b[0m \u001b[0;32mNone\u001b[0m\u001b[0;34m:\u001b[0m\u001b[0;34m\u001b[0m\u001b[0;34m\u001b[0m\u001b[0m\n\u001b[0;32m--> 365\u001b[0;31m             \u001b[0;32mraise\u001b[0m \u001b[0mexc\u001b[0m  \u001b[0;31m# pylint: disable=raising-bad-type\u001b[0m\u001b[0;34m\u001b[0m\u001b[0;34m\u001b[0m\u001b[0m\n\u001b[0m\u001b[1;32m    366\u001b[0m         \u001b[0;32mif\u001b[0m \u001b[0mvalue_from_response\u001b[0m \u001b[0;32mis\u001b[0m \u001b[0;32mNone\u001b[0m\u001b[0;34m:\u001b[0m\u001b[0;34m\u001b[0m\u001b[0;34m\u001b[0m\u001b[0m\n\u001b[1;32m    367\u001b[0m             \u001b[0;32mreturn\u001b[0m \u001b[0mresponse\u001b[0m\u001b[0;34m\u001b[0m\u001b[0;34m\u001b[0m\u001b[0m\n",
      "\u001b[0;31mFaultedError\u001b[0m: bosdyn.api.PowerCommandResponse (FaultedError): Cannot power on due to a fault; inspect FaultState for more info."
     ]
    }
   ],
   "source": [
    "success = power_on(robot)"
   ]
  },
  {
   "cell_type": "code",
   "execution_count": null,
   "id": "119f1144",
   "metadata": {},
   "outputs": [],
   "source": [
    "bdcrc.blocking_selfright(command_client, timeout_sec = 20)"
   ]
  },
  {
   "cell_type": "code",
   "execution_count": null,
   "id": "1e96cb1c",
   "metadata": {},
   "outputs": [],
   "source": [
    "bdcrc.blocking_stand(command_client, timeout_sec = 20)"
   ]
  },
  {
   "cell_type": "code",
   "execution_count": 166,
   "id": "9adefc4e",
   "metadata": {},
   "outputs": [
    {
     "name": "stderr",
     "output_type": "stream",
     "text": [
      "WARNING:root:Upload complete! The robot is currently not localized to the map; please localize\n"
     ]
    }
   ],
   "source": [
    "blocking_stow(command_client)\n",
    "\n",
    "response = upload_graph_and_snapshots(graph_nav_client, upload_filepath)\n",
    "success = graph_localize_fiducial(command_client, graph_nav_client, robot_state_client, robot)\n",
    "waypoint_list = create_waypoint_list(graph_nav_client)\n"
   ]
  },
  {
   "cell_type": "code",
   "execution_count": 176,
   "id": "611a2df5",
   "metadata": {},
   "outputs": [],
   "source": [
    "nav_to_cmd_id = graph_nav_client.navigate_to(waypoint_list[0], cmd_duration = 15)\n",
    "wait_until_finished_nav(graph_nav_client, nav_to_cmd_id)"
   ]
  },
  {
   "cell_type": "code",
   "execution_count": 177,
   "id": "e7cb916a",
   "metadata": {},
   "outputs": [],
   "source": [
    "move_robot_relative(command_client, robot, 1, -0.2, np.pi/2)"
   ]
  },
  {
   "cell_type": "code",
   "execution_count": 178,
   "id": "86cca0b4",
   "metadata": {},
   "outputs": [],
   "source": [
    "prev_graph_state = graph_del_save_state(graph_nav_client, robot)"
   ]
  },
  {
   "cell_type": "code",
   "execution_count": 179,
   "id": "e9bfbec9",
   "metadata": {},
   "outputs": [],
   "source": [
    "move_robot_relative(command_client, robot, 0.4, -2, np.pi/3)"
   ]
  },
  {
   "cell_type": "code",
   "execution_count": 174,
   "id": "b82bb1f7",
   "metadata": {},
   "outputs": [],
   "source": [
    "response = upload_graph_and_snapshots(graph_nav_client, upload_filepath)\n",
    "response = graph_localize_saved_state(graph_nav_client, robot, prev_graph_state)"
   ]
  },
  {
   "cell_type": "code",
   "execution_count": null,
   "id": "ac2e0d0c",
   "metadata": {},
   "outputs": [],
   "source": []
  },
  {
   "cell_type": "code",
   "execution_count": 126,
   "id": "04cfb982",
   "metadata": {},
   "outputs": [],
   "source": [
    "prev_frame_tree_snapshot = robot.get_frame_tree_snapshot()\n",
    "#prev_vision_wrt_body_se3 = get_a_tform_b(prev_frame_tree_snapshot, frame_a = 'body', frame_b = 'vision')\n",
    "\n",
    "prev_loc_response = graph_nav_client.get_localization_state()\n",
    "prev_waypoint_tform_body_proto = prev_loc_response.localization.waypoint_tform_body\n",
    "prev_waypoint_tform_body_se3 = bosdyn.client.math_helpers.SE3Pose.from_proto(prev_waypoint_tform_body_proto)\n",
    "prev_body_tform_waypoint_proto = prev_waypoint_tform_body_se3.inverse().to_proto()\n",
    "prev_waypoint_id = prev_loc_response.localization.waypoint_id\n",
    "\n",
    "prev_fts_with_waypoint = real_frame_add(prev_frame_tree_snapshot, \n",
    "                                    prev_body_tform_waypoint_proto,\n",
    "                                    'body',\n",
    "                                    'waypoint')\n",
    "\n",
    "vision_tform_waypoint = get_a_tform_b(prev_fts_with_waypoint, 'vision', 'waypoint')"
   ]
  },
  {
   "cell_type": "code",
   "execution_count": 135,
   "id": "540fe017",
   "metadata": {},
   "outputs": [
    {
     "data": {
      "text/plain": [
       "<bosdyn.client.math_helpers.SE3Pose at 0x7f501c2050>"
      ]
     },
     "execution_count": 135,
     "metadata": {},
     "output_type": "execute_result"
    }
   ],
   "source": [
    "vision_tform_waypoint"
   ]
  },
  {
   "cell_type": "code",
   "execution_count": 127,
   "id": "7ca4e35c",
   "metadata": {},
   "outputs": [],
   "source": [
    "response = graph_nav_client.clear_graph()"
   ]
  },
  {
   "cell_type": "code",
   "execution_count": 128,
   "id": "12c795dc",
   "metadata": {},
   "outputs": [],
   "source": [
    "move_robot_relative(command_client, robot, 0, -0.5, np.pi/3)"
   ]
  },
  {
   "cell_type": "code",
   "execution_count": 129,
   "id": "27e5b6fd",
   "metadata": {},
   "outputs": [],
   "source": [
    "frame_tree_snapshot = robot.get_frame_tree_snapshot()\n",
    "\n",
    "fts_with_waypoint = real_frame_add(frame_tree_snapshot, \n",
    "                                   vision_tform_waypoint.to_proto(),\n",
    "                                   'vision',\n",
    "                                   'waypoint')\n",
    "\n",
    "waypoint_tform_body_proto = get_a_tform_b(fts_with_waypoint, 'waypoint', 'body').to_proto()"
   ]
  },
  {
   "cell_type": "code",
   "execution_count": 130,
   "id": "1c8faeae",
   "metadata": {},
   "outputs": [
    {
     "name": "stderr",
     "output_type": "stream",
     "text": [
      "WARNING:root:Upload complete! The robot is currently not localized to the map; please localize\n"
     ]
    }
   ],
   "source": [
    "fid_init_code_NO_FID = graph_nav_pb2.SetLocalizationRequest.FiducialInit.FIDUCIAL_INIT_NO_FIDUCIAL\n",
    "\n",
    "init_guess_loc = nav_pb2.Localization(waypoint_id = prev_waypoint_id,\n",
    "                                      waypoint_tform_body = waypoint_tform_body_proto)\n",
    "\n",
    "response = upload_graph_and_snapshots(graph_nav_client, upload_filepath)\n",
    "\n",
    "response = graph_nav_client.set_localization(initial_guess_localization=init_guess_loc,\n",
    "                              fiducial_init = fid_init_code_NO_FID)"
   ]
  },
  {
   "cell_type": "code",
   "execution_count": 131,
   "id": "dfa21cea",
   "metadata": {},
   "outputs": [
    {
     "data": {
      "text/plain": [
       "waypoint_id: \"mono-eagle-pUcEzJeZxsXlz.HlH7T7yA==\"\n",
       "waypoint_tform_body {\n",
       "  position {\n",
       "    x: 0.3118391676124863\n",
       "    y: -0.3239014827730545\n",
       "    z: -0.01856264091242215\n",
       "  }\n",
       "  rotation {\n",
       "    x: 0.010777151399914578\n",
       "    y: -0.007631501074881512\n",
       "    z: -0.8535470346646697\n",
       "    w: -0.5208483631592995\n",
       "  }\n",
       "}"
      ]
     },
     "execution_count": 131,
     "metadata": {},
     "output_type": "execute_result"
    }
   ],
   "source": [
    "response"
   ]
  },
  {
   "cell_type": "code",
   "execution_count": 133,
   "id": "18c7257b",
   "metadata": {},
   "outputs": [
    {
     "data": {
      "text/plain": [
       "'mono-eagle-pUcEzJeZxsXlz.HlH7T7yA=='"
      ]
     },
     "execution_count": 133,
     "metadata": {},
     "output_type": "execute_result"
    }
   ],
   "source": [
    "waypoint_list[9]"
   ]
  },
  {
   "cell_type": "code",
   "execution_count": 134,
   "id": "88d3ed11",
   "metadata": {},
   "outputs": [],
   "source": [
    "nav_to_cmd_id = graph_nav_client.navigate_to(waypoint_list[8], cmd_duration = 15)\n",
    "wait_until_finished_nav(graph_nav_client, nav_to_cmd_id)"
   ]
  },
  {
   "cell_type": "code",
   "execution_count": 24,
   "id": "cdb2d039",
   "metadata": {},
   "outputs": [],
   "source": [
    "current_graph = graph_nav_client.download_graph()"
   ]
  },
  {
   "cell_type": "code",
   "execution_count": 29,
   "id": "6e3ec67c",
   "metadata": {},
   "outputs": [
    {
     "data": {
      "text/plain": [
       "['waypoints', 'edges', 'anchoring']"
      ]
     },
     "execution_count": 29,
     "metadata": {},
     "output_type": "execute_result"
    }
   ],
   "source": [
    "list(current_graph.DESCRIPTOR.fields_by_name)"
   ]
  },
  {
   "cell_type": "code",
   "execution_count": 37,
   "id": "88554bb9",
   "metadata": {},
   "outputs": [
    {
     "data": {
      "text/plain": [
       "child_to_parent_edge_map {\n",
       "  key: \"body\"\n",
       "  value {\n",
       "    parent_tform_child {\n",
       "      position {\n",
       "      }\n",
       "      rotation {\n",
       "        w: 1.0\n",
       "      }\n",
       "    }\n",
       "  }\n",
       "}\n",
       "child_to_parent_edge_map {\n",
       "  key: \"flat_body\"\n",
       "  value {\n",
       "    parent_frame_name: \"body\"\n",
       "    parent_tform_child {\n",
       "      position {\n",
       "      }\n",
       "      rotation {\n",
       "        x: 0.0035347850061953068\n",
       "        y: 0.0005604380858130753\n",
       "        z: 1.9257468011346646e-06\n",
       "        w: 0.999993622303009\n",
       "      }\n",
       "    }\n",
       "  }\n",
       "}\n",
       "child_to_parent_edge_map {\n",
       "  key: \"gpe\"\n",
       "  value {\n",
       "    parent_frame_name: \"odom\"\n",
       "    parent_tform_child {\n",
       "      position {\n",
       "        x: 1.5602593421936035\n",
       "        y: 0.9091336727142334\n",
       "        z: -0.23126977682113647\n",
       "      }\n",
       "      rotation {\n",
       "        x: 0.001912608160637319\n",
       "        y: 0.0013491030549630523\n",
       "        z: 2.5803124117373955e-06\n",
       "        w: 0.9999972581863403\n",
       "      }\n",
       "    }\n",
       "  }\n",
       "}\n",
       "child_to_parent_edge_map {\n",
       "  key: \"hand\"\n",
       "  value {\n",
       "    parent_frame_name: \"body\"\n",
       "    parent_tform_child {\n",
       "      position {\n",
       "        x: 0.5540702939033508\n",
       "        y: 1.871894346550107e-05\n",
       "        z: 0.2594054639339447\n",
       "      }\n",
       "      rotation {\n",
       "        x: -0.006080960389226675\n",
       "        y: 0.011374056339263916\n",
       "        z: 9.723448602017015e-05\n",
       "        w: 0.9999167919158936\n",
       "      }\n",
       "    }\n",
       "  }\n",
       "}\n",
       "child_to_parent_edge_map {\n",
       "  key: \"link_wr1\"\n",
       "  value {\n",
       "    parent_frame_name: \"body\"\n",
       "    parent_tform_child {\n",
       "      position {\n",
       "        x: 0.35855090618133545\n",
       "        y: 7.743081368971616e-06\n",
       "        z: 0.26385417580604553\n",
       "      }\n",
       "      rotation {\n",
       "        x: -0.006080960389226675\n",
       "        y: 0.011374056339263916\n",
       "        z: 9.723448602017015e-05\n",
       "        w: 0.9999167919158936\n",
       "      }\n",
       "    }\n",
       "  }\n",
       "}\n",
       "child_to_parent_edge_map {\n",
       "  key: \"odom\"\n",
       "  value {\n",
       "    parent_frame_name: \"body\"\n",
       "    parent_tform_child {\n",
       "      position {\n",
       "        x: 1.7658751010894775\n",
       "        y: -0.37414562702178955\n",
       "        z: -0.28671810030937195\n",
       "      }\n",
       "      rotation {\n",
       "        x: -0.0017967714229598641\n",
       "        y: 0.0030952233355492353\n",
       "        z: -0.9327856302261353\n",
       "        w: -0.3604138493537903\n",
       "      }\n",
       "    }\n",
       "  }\n",
       "}\n",
       "child_to_parent_edge_map {\n",
       "  key: \"vision\"\n",
       "  value {\n",
       "    parent_frame_name: \"body\"\n",
       "    parent_tform_child {\n",
       "      position {\n",
       "        x: 1.776056170463562\n",
       "        y: -0.23072421550750732\n",
       "        z: -0.2989647388458252\n",
       "      }\n",
       "      rotation {\n",
       "        x: 0.0009813212091103196\n",
       "        y: 0.003441775217652321\n",
       "        z: -0.9068672060966492\n",
       "        w: 0.4214012920856476\n",
       "      }\n",
       "    }\n",
       "  }\n",
       "}"
      ]
     },
     "execution_count": 37,
     "metadata": {},
     "output_type": "execute_result"
    }
   ],
   "source": [
    "prev_loc_response.robot_kinematics.transforms_snapshot"
   ]
  },
  {
   "cell_type": "code",
   "execution_count": 140,
   "id": "e7f469cb",
   "metadata": {},
   "outputs": [
    {
     "data": {
      "text/plain": [
       "anchors {\n",
       "  id: \"apodal-aphid-sziFphCcuV+rd8cpxqEbkw==\"\n",
       "  seed_tform_waypoint {\n",
       "    position {\n",
       "      x: 1.5760424479846835\n",
       "      y: -3.1721811880210447\n",
       "      z: 0.34087623689057606\n",
       "    }\n",
       "    rotation {\n",
       "      x: 0.00819316783004938\n",
       "      y: 0.0071058028037067535\n",
       "      z: -0.6568205968961189\n",
       "      w: 0.7539688432583809\n",
       "    }\n",
       "  }\n",
       "}\n",
       "anchors {\n",
       "  id: \"averse-camel-cjfcW+r8KsgZy36RB3R51A==\"\n",
       "  seed_tform_waypoint {\n",
       "    position {\n",
       "      x: -1.6197538828906595\n",
       "      y: -3.2474428231663324\n",
       "      z: 0.32528016760392964\n",
       "    }\n",
       "    rotation {\n",
       "      x: 0.0003728482478630516\n",
       "      y: 0.0031400851750743946\n",
       "      z: 0.697322581403387\n",
       "      w: 0.7167504467196377\n",
       "    }\n",
       "  }\n",
       "}\n",
       "anchors {\n",
       "  id: \"banned-dayfly-PJb.wb5lyGb9AAv9M7bcbg==\"\n",
       "  seed_tform_waypoint {\n",
       "    position {\n",
       "      x: -1.2418929326322292\n",
       "      y: 1.2314549356932\n",
       "      z: 0.3680433686765155\n",
       "    }\n",
       "    rotation {\n",
       "      x: -0.000798685536128824\n",
       "      y: 0.005753985058187916\n",
       "      z: 0.021868743592423592\n",
       "      w: 0.9997439731306479\n",
       "    }\n",
       "  }\n",
       "}\n",
       "anchors {\n",
       "  id: \"bluish-cur-TLfPnmOegj3taK4pNlrRLg==\"\n",
       "  seed_tform_waypoint {\n",
       "    position {\n",
       "      x: 0.45421523989970125\n",
       "      y: 0.5298152117368968\n",
       "      z: 0.40507460844813065\n",
       "    }\n",
       "    rotation {\n",
       "      x: 0.0017012658259550602\n",
       "      y: 0.0003354946111466507\n",
       "      z: -0.04245777830082282\n",
       "      w: 0.9990967571760573\n",
       "    }\n",
       "  }\n",
       "}\n",
       "anchors {\n",
       "  id: \"buried-hawk-y70r5rXTr5l477vQ7AEGxg==\"\n",
       "  seed_tform_waypoint {\n",
       "    position {\n",
       "      x: 0.5908017030700552\n",
       "      y: 0.16499831450786928\n",
       "      z: 0.3499079899807731\n",
       "    }\n",
       "    rotation {\n",
       "      x: 0.0021442518754676574\n",
       "      y: 0.005716434153645495\n",
       "      z: -0.4579403009483699\n",
       "      w: 0.8889619816225094\n",
       "    }\n",
       "  }\n",
       "}\n",
       "anchors {\n",
       "  id: \"bushed-amoeba-KShqu6fAia9ltv4q2j9zaA==\"\n",
       "  seed_tform_waypoint {\n",
       "    position {\n",
       "      x: -1.5253206143428275\n",
       "      y: -1.2590557774658264\n",
       "      z: 0.34959448331741044\n",
       "    }\n",
       "    rotation {\n",
       "      x: -0.0005075939555573083\n",
       "      y: 0.0024303533688757196\n",
       "      z: 0.6988544839899822\n",
       "      w: 0.7152596255230417\n",
       "    }\n",
       "  }\n",
       "}\n",
       "anchors {\n",
       "  id: \"cedarn-sloth-T0vJxEwImudBI6HssgLGsA==\"\n",
       "  seed_tform_waypoint {\n",
       "    position {\n",
       "      x: -0.2243123420643501\n",
       "      y: 0.6000566005049163\n",
       "      z: 0.24914858169977508\n",
       "    }\n",
       "    rotation {\n",
       "      x: 0.006795432017619511\n",
       "      y: 0.0020995369507619964\n",
       "      z: 0.017500932345845734\n",
       "      w: 0.9998215497854167\n",
       "    }\n",
       "  }\n",
       "}\n",
       "anchors {\n",
       "  id: \"chaffy-otus-q7ltSqxPKGN7Ue2cNc5eEw==\"\n",
       "  seed_tform_waypoint {\n",
       "    position {\n",
       "      x: 1.5410396583191017\n",
       "      y: -1.1708297941212253\n",
       "      z: 0.3347490497372529\n",
       "    }\n",
       "    rotation {\n",
       "      x: 0.003756966898816388\n",
       "      y: 0.00034170498670811655\n",
       "      z: -0.6746074739683352\n",
       "      w: 0.7381669419878293\n",
       "    }\n",
       "  }\n",
       "}\n",
       "anchors {\n",
       "  id: \"dapper-impala-RJ6uuxKMT5j1wa3yJCT9kA==\"\n",
       "  seed_tform_waypoint {\n",
       "    position {\n",
       "      x: 0.48786611931454077\n",
       "      y: 1.057843523637299\n",
       "      z: 0.4598878852057689\n",
       "    }\n",
       "    rotation {\n",
       "      x: 0.00043152724827544883\n",
       "      y: -0.009539560598651211\n",
       "      z: -0.04037491274274241\n",
       "      w: 0.9991389678061979\n",
       "    }\n",
       "  }\n",
       "}\n",
       "anchors {\n",
       "  id: \"east-borzoi-Qy+f458Vx4G9V2azQGXfvQ==\"\n",
       "  seed_tform_waypoint {\n",
       "    position {\n",
       "      x: 2.1903949645551286\n",
       "      y: -4.20421986634898\n",
       "      z: 0.34735712452895223\n",
       "    }\n",
       "    rotation {\n",
       "      x: -0.001370423163717239\n",
       "      y: 0.004859862735109843\n",
       "      z: -0.6627414025238463\n",
       "      w: 0.7488312623342801\n",
       "    }\n",
       "  }\n",
       "}\n",
       "anchors {\n",
       "  id: \"etched-beaver-9ph.v1Qh921ZtHSRjNspiQ==\"\n",
       "  seed_tform_waypoint {\n",
       "    position {\n",
       "      x: -1.5856156395287133\n",
       "      y: 0.7335897651329509\n",
       "      z: 0.38449674566576286\n",
       "    }\n",
       "    rotation {\n",
       "      x: -0.003457777506509178\n",
       "      y: -2.4787759529275193e-05\n",
       "      z: 0.6963044271542337\n",
       "      w: 0.7177382862966877\n",
       "    }\n",
       "  }\n",
       "}\n",
       "anchors {\n",
       "  id: \"fleecy-hyrax-eXumUTD8CD.s9R3QDrkSfw==\"\n",
       "  seed_tform_waypoint {\n",
       "    position {\n",
       "      x: -0.23745978562465708\n",
       "      y: -6.027552645530117\n",
       "      z: 0.3457189402409667\n",
       "    }\n",
       "    rotation {\n",
       "      x: -0.004651799878440173\n",
       "      y: 0.000662676441613517\n",
       "      z: 0.9993588406747612\n",
       "      w: 0.03549135506452353\n",
       "    }\n",
       "  }\n",
       "}\n",
       "anchors {\n",
       "  id: \"grainy-goat-F8VT1GWeQvG0B9i3o+QvBA==\"\n",
       "  seed_tform_waypoint {\n",
       "    position {\n",
       "      x: -1.57132171478062\n",
       "      y: -5.285175447249418\n",
       "      z: 0.3238118660131739\n",
       "    }\n",
       "    rotation {\n",
       "      x: -0.003092986222744374\n",
       "      y: 0.00012365560353192127\n",
       "      z: 0.6902392593551472\n",
       "      w: 0.7235745542821043\n",
       "    }\n",
       "  }\n",
       "}\n",
       "anchors {\n",
       "  id: \"irate-trout-UigWe557+A7.KQ.n7nWo7Q==\"\n",
       "  seed_tform_waypoint {\n",
       "    position {\n",
       "      x: -0.11717825688650951\n",
       "      y: 1.3471814862377784\n",
       "      z: 0.2914259476435216\n",
       "    }\n",
       "    rotation {\n",
       "      x: 0.018849891702382174\n",
       "      y: 0.015505658568570103\n",
       "      z: 0.013308222707866187\n",
       "      w: 0.9996134989802414\n",
       "    }\n",
       "  }\n",
       "}\n",
       "anchors {\n",
       "  id: \"jinxed-anole-hdHN57APYGpgjbgV6BmrTw==\"\n",
       "  seed_tform_waypoint {\n",
       "    position {\n",
       "      x: 0.17686333775531538\n",
       "      y: 0.5021414093009564\n",
       "      z: 0.23341533707879408\n",
       "    }\n",
       "    rotation {\n",
       "      x: -0.003590872209338018\n",
       "      y: 0.001465234181789101\n",
       "      z: 0.019677119479708696\n",
       "      w: 0.9997988646195544\n",
       "    }\n",
       "  }\n",
       "}\n",
       "anchors {\n",
       "  id: \"mono-eagle-pUcEzJeZxsXlz.HlH7T7yA==\"\n",
       "  seed_tform_waypoint {\n",
       "    position {\n",
       "      x: 1.7833790417897104\n",
       "      y: -4.301585620930208\n",
       "      z: 0.34567260399289895\n",
       "    }\n",
       "    rotation {\n",
       "      x: 0.0030686645053205077\n",
       "      y: -0.0010024538395071963\n",
       "      z: -0.6619781656691528\n",
       "      w: 0.749516121509868\n",
       "    }\n",
       "  }\n",
       "}\n",
       "anchors {\n",
       "  id: \"null-brahma-2knzkERnplmte+aHKtuTkg==\"\n",
       "  seed_tform_waypoint {\n",
       "    position {\n",
       "      x: 0.15746101451034936\n",
       "      y: 0.8004617148836022\n",
       "      z: 0.2130461824637469\n",
       "    }\n",
       "    rotation {\n",
       "      x: 0.00048433521820415555\n",
       "      y: 0.002824205289901991\n",
       "      z: 0.019425113200307435\n",
       "      w: 0.9998072085462437\n",
       "    }\n",
       "  }\n",
       "}\n",
       "anchors {\n",
       "  id: \"okay-hyla-Qu.sdlBpkQrWTvTN4bxCgg==\"\n",
       "  seed_tform_waypoint {\n",
       "    position {\n",
       "      x: 0.46658283552092733\n",
       "      y: 1.058282541796699\n",
       "      z: 0.0915895128238754\n",
       "    }\n",
       "    rotation {\n",
       "      x: 0.007263036602299697\n",
       "      y: -0.005336680868071639\n",
       "      z: -0.04473013431251901\n",
       "      w: 0.9989584491964668\n",
       "    }\n",
       "  }\n",
       "}\n",
       "anchors {\n",
       "  id: \"peaky-manx-6NNT3fZPCEliPX3riR71fw==\"\n",
       "  seed_tform_waypoint {\n",
       "    position {\n",
       "      x: -1.0524669215415206\n",
       "      y: -5.993569447960149\n",
       "      z: 0.32808966984748295\n",
       "    }\n",
       "    rotation {\n",
       "      x: -0.0035580355673919643\n",
       "      y: 0.0035004857058561854\n",
       "      z: 0.9431895454273782\n",
       "      w: 0.332217770321296\n",
       "    }\n",
       "  }\n",
       "}\n",
       "anchors {\n",
       "  id: \"proto-mink-icoUiIJfb9GhI2oWi5OzUw==\"\n",
       "  seed_tform_waypoint {\n",
       "    position {\n",
       "      x: 1.4608071431311056\n",
       "      y: -4.372992862254188\n",
       "      z: 0.3481799800612518\n",
       "    }\n",
       "    rotation {\n",
       "      x: 0.005918011572769427\n",
       "      y: -0.0013949145213993754\n",
       "      z: -0.6615738376883985\n",
       "      w: 0.7498553256834176\n",
       "    }\n",
       "  }\n",
       "}\n",
       "anchors {\n",
       "  id: \"pursy-dayfly-GnCp66Z5TfgK7x0jhfJZ7Q==\"\n",
       "  seed_tform_waypoint {\n",
       "    position {\n",
       "      x: 1.7627249811717924\n",
       "      y: -6.185569317589203\n",
       "      z: 0.36176943120436184\n",
       "    }\n",
       "    rotation {\n",
       "      x: -5.139919343815962e-05\n",
       "      y: 0.0015120901649011058\n",
       "      z: 0.9993548036921798\n",
       "      w: 0.03588217101472485\n",
       "    }\n",
       "  }\n",
       "}\n",
       "anchors {\n",
       "  id: \"reborn-lamb-y5Nt6v5f5RSiOEertY1ckg==\"\n",
       "  seed_tform_waypoint {\n",
       "    position {\n",
       "      x: -0.7616884770932753\n",
       "      y: -6.062169547742123\n",
       "      z: 0.3368210381723502\n",
       "    }\n",
       "    rotation {\n",
       "      x: -0.005005545171513047\n",
       "      y: -0.0005207913481817206\n",
       "      z: 0.9991967413460402\n",
       "      w: 0.03975573258160349\n",
       "    }\n",
       "  }\n",
       "}\n",
       "anchors {\n",
       "  id: \"rum-bird-NH4n31yFDRj.uefuFQYUMQ==\"\n",
       "  seed_tform_waypoint {\n",
       "    position {\n",
       "      x: -0.4603038570547335\n",
       "      y: -6.085474268401332\n",
       "      z: -0.04831455240579964\n",
       "    }\n",
       "    rotation {\n",
       "      x: -0.002719024905205034\n",
       "      y: -0.002372870957652756\n",
       "      z: 0.9990228130009032\n",
       "      w: 0.0440481476265438\n",
       "    }\n",
       "  }\n",
       "}\n",
       "anchors {\n",
       "  id: \"silvan-scarab-z5eqk1VDUJEr2fmW6Jm0zA==\"\n",
       "  seed_tform_waypoint {\n",
       "    position {\n",
       "      x: 2.061400864482227\n",
       "      y: -6.193810501164185\n",
       "      z: 0.3615188900557536\n",
       "    }\n",
       "    rotation {\n",
       "      x: -0.0031628169804862427\n",
       "      y: -0.0029272769760694214\n",
       "      z: -0.8512425843417138\n",
       "      w: 0.5247458811518986\n",
       "    }\n",
       "  }\n",
       "}\n",
       "anchors {\n",
       "  id: \"spiral-krill-Sy4zkEcUbjay6ecghRHk8Q==\"\n",
       "  seed_tform_waypoint {\n",
       "    position {\n",
       "      x: -1.3044657704274305\n",
       "      y: -5.188490619518163\n",
       "      z: 0.3165447436365576\n",
       "    }\n",
       "    rotation {\n",
       "      x: -0.002948398792049881\n",
       "      y: 0.003524774757818442\n",
       "      z: 0.7758580181897115\n",
       "      w: 0.6308909969024133\n",
       "    }\n",
       "  }\n",
       "}\n",
       "anchors {\n",
       "  id: \"ten-swan-VjdbLLlbW7VfUpmq8VeTSQ==\"\n",
       "  seed_tform_waypoint {\n",
       "    position {\n",
       "      x: 0.19706798383541907\n",
       "      y: 0.5998079748614317\n",
       "      z: 0.3872379712939371\n",
       "    }\n",
       "    rotation {\n",
       "      x: -0.003264458757400767\n",
       "      y: -0.00040860648602350643\n",
       "      z: -0.045045353440116294\n",
       "      w: 0.998979525557564\n",
       "    }\n",
       "  }\n",
       "}\n",
       "anchors {\n",
       "  id: \"veined-tick-13OagqQIhO6axF2hbtl8yQ==\"\n",
       "  seed_tform_waypoint {\n",
       "    position {\n",
       "      x: -1.5810600405798687\n",
       "      y: 1.2399540842279728\n",
       "      z: 0.3706392634966487\n",
       "    }\n",
       "    rotation {\n",
       "      x: 0.002978525023383499\n",
       "      y: -0.004144210596377882\n",
       "      z: 0.46058033917587565\n",
       "      w: 0.8876033492809645\n",
       "    }\n",
       "  }\n",
       "}\n",
       "objects {\n",
       "  id: \"581\"\n",
       "  seed_tform_object {\n",
       "    position {\n",
       "      x: -1.4727906377041304\n",
       "      y: -6.131262897688588\n",
       "      z: -0.15237511387966116\n",
       "    }\n",
       "    rotation {\n",
       "      x: -0.024217514653988657\n",
       "      y: -0.005828035513133306\n",
       "      z: -0.7399884679397974\n",
       "      w: 0.6721578242207771\n",
       "    }\n",
       "  }\n",
       "}\n",
       "objects {\n",
       "  id: \"582\"\n",
       "  seed_tform_object {\n",
       "    position {\n",
       "      x: -3.9199211093206583\n",
       "      y: 1.1907168274630304\n",
       "      z: 0.4237150349039324\n",
       "    }\n",
       "    rotation {\n",
       "      x: 0.6967352445032455\n",
       "      y: -0.1521666940366978\n",
       "      z: 0.6800273005406523\n",
       "      w: 0.17020041916528275\n",
       "    }\n",
       "  }\n",
       "}\n",
       "objects {\n",
       "  id: \"583\"\n",
       "  seed_tform_object {\n",
       "    position {\n",
       "      x: 2.6637844803593342\n",
       "      y: -4.069405313518366\n",
       "      z: -0.17468909674818234\n",
       "    }\n",
       "    rotation {\n",
       "      x: -0.029412689487051134\n",
       "      y: -0.0024922501402653706\n",
       "      z: 0.9995330979086374\n",
       "      w: 0.007873550949963849\n",
       "    }\n",
       "  }\n",
       "}\n",
       "objects {\n",
       "  id: \"584\"\n",
       "  seed_tform_object {\n",
       "    position {\n",
       "      x: 0.7246500038531122\n",
       "      y: -2.1486733991976013\n",
       "      z: 0.5014263381393633\n",
       "    }\n",
       "    rotation {\n",
       "      x: 0.5414895035518446\n",
       "      y: 0.5039345372807372\n",
       "      z: 0.5048486283007697\n",
       "      w: -0.444934702749554\n",
       "    }\n",
       "  }\n",
       "}\n",
       "objects {\n",
       "  id: \"585\"\n",
       "  seed_tform_object {\n",
       "    position {\n",
       "      x: 2.65118153698215\n",
       "      y: -5.791888168653256\n",
       "      z: -0.14762334639752905\n",
       "    }\n",
       "    rotation {\n",
       "      x: 0.0012057255334223783\n",
       "      y: -0.022254995889627455\n",
       "      z: -0.7075268832809108\n",
       "      w: 0.7063346909816768\n",
       "    }\n",
       "  }\n",
       "}\n",
       "objects {\n",
       "  id: \"586\"\n",
       "  seed_tform_object {\n",
       "    position {\n",
       "      x: -0.007363412193797471\n",
       "      y: -0.046119765556094865\n",
       "      z: -0.22343351811197054\n",
       "    }\n",
       "    rotation {\n",
       "      x: -0.03713788155419145\n",
       "      y: 0.016966297273949358\n",
       "      z: -0.04689153945606073\n",
       "      w: 0.9980651812571759\n",
       "    }\n",
       "  }\n",
       "}"
      ]
     },
     "execution_count": 140,
     "metadata": {},
     "output_type": "execute_result"
    }
   ],
   "source": [
    "current_graph.anchoring"
   ]
  },
  {
   "cell_type": "code",
   "execution_count": null,
   "id": "f6890f38",
   "metadata": {},
   "outputs": [],
   "source": []
  },
  {
   "cell_type": "code",
   "execution_count": 13,
   "id": "76d5ebb0",
   "metadata": {},
   "outputs": [],
   "source": [
    "prev_loc_response = graph_nav_client.get_localization_state()\n",
    "prev_graph_loc_proto = prev_loc_response.localization\n",
    "\n",
    "prev_waypoint_id = prev_graph_loc_proto.waypoint_id\n",
    "\n",
    "prev_body_wrt_waypoint_proto = prev_graph_loc_proto.waypoint_tform_body\n",
    "prev_body_wrt_waypoint_se3 = bosdyn.client.math_helpers.SE3Pose.from_proto(\n",
    "    prev_body_wrt_waypoint_proto)\n",
    "\n",
    "prev_frame_tree_snapshot = robot.get_frame_tree_snapshot()\n",
    "prev_vision_wrt_body_se3 = get_a_tform_b(prev_frame_tree_snapshot, frame_a = 'body', frame_b = 'vision')\n",
    "\n",
    "vision_wrt_waypoint_se3 = (prev_vision_wrt_body_se3 * prev_body_wrt_waypoint_se3)\n",
    "# prev_graph_state = {'prev_waypoint_id':prev_waypoint_id, \n",
    "#                     'vision_to_waypoint_se3': vision_to_waypoint_se3,\n",
    "#                     'prev_body_wrt_waypoint_se3': prev_body_wrt_waypoint_se3}"
   ]
  },
  {
   "cell_type": "code",
   "execution_count": 14,
   "id": "0de162d3",
   "metadata": {},
   "outputs": [],
   "source": [
    "vision_wrt_waypoint_se3 = prev_vision_wrt_body_se3 * prev_body_wrt_waypoint_se3"
   ]
  },
  {
   "cell_type": "code",
   "execution_count": 15,
   "id": "ba428e3b",
   "metadata": {},
   "outputs": [],
   "source": [
    "move_robot_relative(command_client, robot, 0.8,0,np.pi/2)"
   ]
  },
  {
   "cell_type": "code",
   "execution_count": 257,
   "id": "efd8d5e9",
   "metadata": {},
   "outputs": [],
   "source": [
    "# move_robot_relative(command_client, robot,0,0,232*np.pi/180)"
   ]
  },
  {
   "cell_type": "code",
   "execution_count": 16,
   "id": "4b3deae4",
   "metadata": {},
   "outputs": [],
   "source": [
    "frame_tree_snapshot = robot.get_frame_tree_snapshot()\n",
    "body_wrt_vision_se3 = get_a_tform_b(frame_tree_snapshot, frame_a = 'vision', frame_b = 'body')"
   ]
  },
  {
   "cell_type": "code",
   "execution_count": 18,
   "id": "8e5e1bac",
   "metadata": {},
   "outputs": [
    {
     "data": {
      "text/plain": [
       "position {\n",
       "  x: 0.6564040848204789\n",
       "  y: -0.05674467650074774\n",
       "  z: 0.006177651296188025\n",
       "}\n",
       "rotation {\n",
       "  x: 0.00287228816064919\n",
       "  y: -0.003603355356269125\n",
       "  z: -0.00805602304170006\n",
       "  w: 0.9999559518467156\n",
       "}"
      ]
     },
     "execution_count": 18,
     "metadata": {},
     "output_type": "execute_result"
    }
   ],
   "source": [
    "prev_body_wrt_waypoint_proto"
   ]
  },
  {
   "cell_type": "code",
   "execution_count": 26,
   "id": "dc3f0fe6",
   "metadata": {},
   "outputs": [
    {
     "data": {
      "text/plain": [
       "position {\n",
       "  x: -0.49830392362308473\n",
       "  y: 2.014986948942526\n",
       "  z: 0.004389346150220408\n",
       "}\n",
       "rotation {\n",
       "  x: 0.00580432017521404\n",
       "  y: -0.0029056665021753953\n",
       "  z: 0.7000428433727102\n",
       "  w: 0.7140701398165175\n",
       "}"
      ]
     },
     "execution_count": 26,
     "metadata": {},
     "output_type": "execute_result"
    }
   ],
   "source": [
    "body_wrt_waypoint_se3.inverse().to_proto()"
   ]
  },
  {
   "cell_type": "code",
   "execution_count": 21,
   "id": "70d07875",
   "metadata": {},
   "outputs": [
    {
     "data": {
      "text/plain": [
       "position {\n",
       "  x: -0.8931301297386003\n",
       "  y: 0.9557345602139401\n",
       "  z: 0.3029740269415822\n",
       "}\n",
       "rotation {\n",
       "  x: -0.0011382473167032003\n",
       "  y: -0.0011360186617821455\n",
       "  z: 0.9312471151351929\n",
       "  w: -0.36438482999801636\n",
       "}"
      ]
     },
     "execution_count": 21,
     "metadata": {},
     "output_type": "execute_result"
    }
   ],
   "source": [
    "body_wrt_vision_se3.to_proto()"
   ]
  },
  {
   "cell_type": "code",
   "execution_count": 250,
   "id": "b34288b8",
   "metadata": {},
   "outputs": [],
   "source": [
    "response = upload_graph_and_snapshots(graph_nav_client, upload_filepath)"
   ]
  },
  {
   "cell_type": "code",
   "execution_count": 22,
   "id": "0b92ede8",
   "metadata": {},
   "outputs": [],
   "source": [
    "fid_init_code_NO_FID = graph_nav_pb2.SetLocalizationRequest.FiducialInit.FIDUCIAL_INIT_NO_FIDUCIAL\n",
    "\n",
    "# frame_tree_snapshot = robot.get_frame_tree_snapshot()\n",
    "# #get_a_tform_b returns transformation such that a_coords = tform * b_coords\n",
    "# body_to_vision_se3 = get_a_tform_b(frame_tree_snapshot, frame_a = 'vision', frame_b = 'body')\n",
    "# body_wrt_waypoint_proto = (body_to_vision_se3 * vision_to_waypoint_se3).to_proto()\n",
    "\n",
    "body_wrt_waypoint_se3 = (body_wrt_vision_se3 * vision_wrt_waypoint_se3).inverse()\n",
    "body_wrt_waypoint_proto = body_wrt_waypoint_se3.to_proto()\n",
    "\n",
    "\n",
    "# init_guess_loc = nav_pb2.Localization(waypoint_id = prev_waypoint_id,\n",
    "#                                   waypoint_tform_body = body_wrt_waypoint_proto)\n",
    "\n",
    "# response = graph_nav_client.set_localization(initial_guess_localization=init_guess_loc,\n",
    "#                               fiducial_init = fid_init_code_NO_FID)"
   ]
  },
  {
   "cell_type": "code",
   "execution_count": null,
   "id": "ca116770",
   "metadata": {},
   "outputs": [],
   "source": []
  },
  {
   "cell_type": "code",
   "execution_count": 260,
   "id": "b2fdf451",
   "metadata": {},
   "outputs": [
    {
     "data": {
      "text/plain": [
       "position {\n",
       "  x: -1.5529113437677817\n",
       "  y: -0.10633248635573772\n",
       "  z: -0.0030849759646797005\n",
       "}\n",
       "rotation {\n",
       "  x: -0.0016134210476990768\n",
       "  y: 0.0009332780906984008\n",
       "  z: -0.27925347152924895\n",
       "  w: 0.9602157939731498\n",
       "}"
      ]
     },
     "execution_count": 260,
     "metadata": {},
     "output_type": "execute_result"
    }
   ],
   "source": [
    "body_wrt_waypoint_proto"
   ]
  },
  {
   "cell_type": "code",
   "execution_count": null,
   "id": "9432843f",
   "metadata": {},
   "outputs": [],
   "source": []
  },
  {
   "cell_type": "code",
   "execution_count": 261,
   "id": "cfb1bc64",
   "metadata": {},
   "outputs": [
    {
     "name": "stdout",
     "output_type": "stream",
     "text": [
      "z y x\n",
      "[-32.43   0.05  -0.21]\n"
     ]
    }
   ],
   "source": [
    "quat = bosdyn.client.math_helpers.Quat.from_proto(body_wrt_waypoint_proto.rotation)\n",
    "angles = np.array([quat.to_yaw(), quat.to_pitch(), quat.to_roll()])\n",
    "print('z','y', 'x')\n",
    "print(np.round(angles * 180/np.pi,2))"
   ]
  },
  {
   "cell_type": "code",
   "execution_count": 92,
   "id": "5a342a12",
   "metadata": {},
   "outputs": [
    {
     "name": "stderr",
     "output_type": "stream",
     "text": [
      "WARNING:root:Upload complete! The robot is currently not localized to the map; please localize\n"
     ]
    }
   ],
   "source": [
    "response = upload_graph_and_snapshots(graph_nav_client, upload_filepath)\n",
    "#response = graph_localize_saved_state(graph_nav_client, robot, prev_graph_state)"
   ]
  },
  {
   "cell_type": "code",
   "execution_count": 94,
   "id": "5a7cc4e4",
   "metadata": {},
   "outputs": [
    {
     "ename": "InvalidRequestError",
     "evalue": "bosdyn.api.graph_nav.SetLocalizationResponse (InvalidRequestError): to_waypoint not set?",
     "output_type": "error",
     "traceback": [
      "\u001b[0;31m---------------------------------------------------------------------------\u001b[0m",
      "\u001b[0;31mInvalidRequestError\u001b[0m                       Traceback (most recent call last)",
      "\u001b[0;32m/tmp/ipykernel_28416/2457876792.py\u001b[0m in \u001b[0;36m<module>\u001b[0;34m\u001b[0m\n\u001b[0;32m----> 1\u001b[0;31m \u001b[0mresponse\u001b[0m \u001b[0;34m=\u001b[0m \u001b[0mgraph_localize_saved_state\u001b[0m\u001b[0;34m(\u001b[0m\u001b[0mgraph_nav_client\u001b[0m\u001b[0;34m,\u001b[0m \u001b[0mrobot\u001b[0m\u001b[0;34m,\u001b[0m \u001b[0mprev_graph_state\u001b[0m\u001b[0;34m)\u001b[0m\u001b[0;34m\u001b[0m\u001b[0;34m\u001b[0m\u001b[0m\n\u001b[0m",
      "\u001b[0;32m~/groundlight/bdspot/spot/spot_functions.py\u001b[0m in \u001b[0;36mgraph_localize_saved_state\u001b[0;34m(graph_nav_client, robot, prev_graph_state)\u001b[0m\n\u001b[1;32m    450\u001b[0m \u001b[0;34m\u001b[0m\u001b[0m\n\u001b[1;32m    451\u001b[0m     response = graph_nav_client.set_localization(initial_guess_localization=init_guess_loc,\n\u001b[0;32m--> 452\u001b[0;31m                                   fiducial_init = fid_init_code_NO_FID)\n\u001b[0m\u001b[1;32m    453\u001b[0m     \u001b[0;32mreturn\u001b[0m \u001b[0mresponse\u001b[0m\u001b[0;34m\u001b[0m\u001b[0;34m\u001b[0m\u001b[0m\n\u001b[1;32m    454\u001b[0m \u001b[0;34m\u001b[0m\u001b[0m\n",
      "\u001b[0;32m~/mambaforge/envs/spotenv/lib/python3.7/site-packages/bosdyn/client/graph_nav.py\u001b[0m in \u001b[0;36mset_localization\u001b[0;34m(self, initial_guess_localization, ko_tform_body, max_distance, max_yaw, fiducial_init, use_fiducial_id, refine_fiducial_result_with_icp, do_ambiguity_check, **kwargs)\u001b[0m\n\u001b[1;32m     79\u001b[0m                                                    )\n\u001b[1;32m     80\u001b[0m         return self.call(self._stub.SetLocalization, req, _localization_from_response,\n\u001b[0;32m---> 81\u001b[0;31m                          _set_localization_error, **kwargs)\n\u001b[0m\u001b[1;32m     82\u001b[0m \u001b[0;34m\u001b[0m\u001b[0m\n\u001b[1;32m     83\u001b[0m     def set_localization_async(\n",
      "\u001b[0;32m~/mambaforge/envs/spotenv/lib/python3.7/site-packages/bosdyn/client/common.py\u001b[0m in \u001b[0;36mprocessor\u001b[0;34m(self, rpc_method, request, value_from_response, error_from_response, **kwargs)\u001b[0m\n\u001b[1;32m    233\u001b[0m \u001b[0;34m\u001b[0m\u001b[0m\n\u001b[1;32m    234\u001b[0m         return func(self, rpc_method, request, value_from_response=value_from_response,\n\u001b[0;32m--> 235\u001b[0;31m                     error_from_response=error_from_response, **kwargs)\n\u001b[0m\u001b[1;32m    236\u001b[0m \u001b[0;34m\u001b[0m\u001b[0m\n\u001b[1;32m    237\u001b[0m     \u001b[0;32mreturn\u001b[0m \u001b[0mprocessor\u001b[0m\u001b[0;34m\u001b[0m\u001b[0;34m\u001b[0m\u001b[0m\n",
      "\u001b[0;32m~/mambaforge/envs/spotenv/lib/python3.7/site-packages/bosdyn/client/common.py\u001b[0m in \u001b[0;36mcall\u001b[0;34m(self, rpc_method, request, value_from_response, error_from_response, **kwargs)\u001b[0m\n\u001b[1;32m    355\u001b[0m             logger.debug('response: %s %s', rpc_method._method,\n\u001b[1;32m    356\u001b[0m                          self.response_trim_for_log(response))\n\u001b[0;32m--> 357\u001b[0;31m             \u001b[0;32mreturn\u001b[0m \u001b[0mself\u001b[0m\u001b[0;34m.\u001b[0m\u001b[0mhandle_response\u001b[0m\u001b[0;34m(\u001b[0m\u001b[0mresponse\u001b[0m\u001b[0;34m,\u001b[0m \u001b[0merror_from_response\u001b[0m\u001b[0;34m,\u001b[0m \u001b[0mvalue_from_response\u001b[0m\u001b[0;34m)\u001b[0m\u001b[0;34m\u001b[0m\u001b[0;34m\u001b[0m\u001b[0m\n\u001b[0m\u001b[1;32m    358\u001b[0m \u001b[0;34m\u001b[0m\u001b[0m\n\u001b[1;32m    359\u001b[0m     \u001b[0;32mdef\u001b[0m \u001b[0mhandle_response\u001b[0m\u001b[0;34m(\u001b[0m\u001b[0mself\u001b[0m\u001b[0;34m,\u001b[0m \u001b[0mresponse\u001b[0m\u001b[0;34m,\u001b[0m \u001b[0merror_from_response\u001b[0m\u001b[0;34m,\u001b[0m \u001b[0mvalue_from_response\u001b[0m\u001b[0;34m)\u001b[0m\u001b[0;34m:\u001b[0m\u001b[0;34m\u001b[0m\u001b[0;34m\u001b[0m\u001b[0m\n",
      "\u001b[0;32m~/mambaforge/envs/spotenv/lib/python3.7/site-packages/bosdyn/client/common.py\u001b[0m in \u001b[0;36mhandle_response\u001b[0;34m(self, response, error_from_response, value_from_response)\u001b[0m\n\u001b[1;32m    363\u001b[0m             \u001b[0mexc\u001b[0m \u001b[0;34m=\u001b[0m \u001b[0;32mNone\u001b[0m\u001b[0;34m\u001b[0m\u001b[0;34m\u001b[0m\u001b[0m\n\u001b[1;32m    364\u001b[0m         \u001b[0;32mif\u001b[0m \u001b[0mexc\u001b[0m \u001b[0;32mis\u001b[0m \u001b[0;32mnot\u001b[0m \u001b[0;32mNone\u001b[0m\u001b[0;34m:\u001b[0m\u001b[0;34m\u001b[0m\u001b[0;34m\u001b[0m\u001b[0m\n\u001b[0;32m--> 365\u001b[0;31m             \u001b[0;32mraise\u001b[0m \u001b[0mexc\u001b[0m  \u001b[0;31m# pylint: disable=raising-bad-type\u001b[0m\u001b[0;34m\u001b[0m\u001b[0;34m\u001b[0m\u001b[0m\n\u001b[0m\u001b[1;32m    366\u001b[0m         \u001b[0;32mif\u001b[0m \u001b[0mvalue_from_response\u001b[0m \u001b[0;32mis\u001b[0m \u001b[0;32mNone\u001b[0m\u001b[0;34m:\u001b[0m\u001b[0;34m\u001b[0m\u001b[0;34m\u001b[0m\u001b[0m\n\u001b[1;32m    367\u001b[0m             \u001b[0;32mreturn\u001b[0m \u001b[0mresponse\u001b[0m\u001b[0;34m\u001b[0m\u001b[0;34m\u001b[0m\u001b[0m\n",
      "\u001b[0;31mInvalidRequestError\u001b[0m: bosdyn.api.graph_nav.SetLocalizationResponse (InvalidRequestError): to_waypoint not set?"
     ]
    }
   ],
   "source": [
    "response = graph_localize_saved_state(graph_nav_client, robot, prev_graph_state)"
   ]
  },
  {
   "cell_type": "code",
   "execution_count": 102,
   "id": "2428be37",
   "metadata": {},
   "outputs": [],
   "source": []
  },
  {
   "cell_type": "code",
   "execution_count": 43,
   "id": "ee56aafb",
   "metadata": {},
   "outputs": [],
   "source": [
    "def rand_imgs_thru_det(command_client, image_client, gl, det, look_at, num_images = 4):\n",
    "    for i in range(num_images):\n",
    "        move_to = [np.random.uniform(0.3,1),\n",
    "               np.random.uniform(-0.1,0.1),\n",
    "               np.random.uniform(0.4,0.8)]\n",
    "\n",
    "        blocking_stow(command_client)\n",
    "\n",
    "        move_to_and_look_at(command_client, move_to, look_at)\n",
    "        \n",
    "        time.sleep(0.5)\n",
    "        \n",
    "        hand_color_image, _ = cap_hand_image(image_client, \"hand_color_image\")\n",
    "        \n",
    "        image_query = mat_thru_det(gl, det, hand_color_image)"
   ]
  },
  {
   "cell_type": "code",
   "execution_count": 44,
   "id": "597eb483",
   "metadata": {},
   "outputs": [
    {
     "name": "stdout",
     "output_type": "stream",
     "text": [
      "10 [0, 0, 0.7853981633974483] [2, 0, 2.5]\n"
     ]
    },
    {
     "name": "stderr",
     "output_type": "stream",
     "text": [
      "WARNING:root:Upload complete! The robot is currently not localized to the map; please localize\n"
     ]
    },
    {
     "name": "stdout",
     "output_type": "stream",
     "text": [
      "18 [0, 0, 1.5707963267948966] [1, 0, 5.0]\n"
     ]
    },
    {
     "ename": "KeyboardInterrupt",
     "evalue": "",
     "output_type": "error",
     "traceback": [
      "\u001b[0;31m---------------------------------------------------------------------------\u001b[0m",
      "\u001b[0;31mKeyboardInterrupt\u001b[0m                         Traceback (most recent call last)",
      "\u001b[0;32m/tmp/ipykernel_8760/2478563675.py\u001b[0m in \u001b[0;36m<module>\u001b[0;34m\u001b[0m\n\u001b[1;32m      9\u001b[0m     \u001b[0;31m#move_to_and_look_at(command_client, [0.8, 0, 0.6], look_at)\u001b[0m\u001b[0;34m\u001b[0m\u001b[0;34m\u001b[0m\u001b[0;34m\u001b[0m\u001b[0m\n\u001b[1;32m     10\u001b[0m     \u001b[0mgripper_open\u001b[0m\u001b[0;34m(\u001b[0m\u001b[0mcommand_client\u001b[0m\u001b[0;34m)\u001b[0m\u001b[0;34m\u001b[0m\u001b[0;34m\u001b[0m\u001b[0m\n\u001b[0;32m---> 11\u001b[0;31m     \u001b[0mrand_imgs_thru_det\u001b[0m\u001b[0;34m(\u001b[0m\u001b[0mcommand_client\u001b[0m\u001b[0;34m,\u001b[0m \u001b[0mimage_client\u001b[0m\u001b[0;34m,\u001b[0m \u001b[0mgl\u001b[0m\u001b[0;34m,\u001b[0m \u001b[0mlight_det\u001b[0m\u001b[0;34m,\u001b[0m \u001b[0mlook_at\u001b[0m\u001b[0;34m)\u001b[0m\u001b[0;34m\u001b[0m\u001b[0;34m\u001b[0m\u001b[0m\n\u001b[0m\u001b[1;32m     12\u001b[0m     \u001b[0mblocking_stow\u001b[0m\u001b[0;34m(\u001b[0m\u001b[0mcommand_client\u001b[0m\u001b[0;34m)\u001b[0m\u001b[0;34m\u001b[0m\u001b[0;34m\u001b[0m\u001b[0m\n\u001b[1;32m     13\u001b[0m \u001b[0;34m\u001b[0m\u001b[0m\n",
      "\u001b[0;32m/tmp/ipykernel_8760/2920003556.py\u001b[0m in \u001b[0;36mrand_imgs_thru_det\u001b[0;34m(command_client, image_client, gl, det, look_at, num_images)\u001b[0m\n\u001b[1;32m      9\u001b[0m         \u001b[0mmove_to_and_look_at\u001b[0m\u001b[0;34m(\u001b[0m\u001b[0mcommand_client\u001b[0m\u001b[0;34m,\u001b[0m \u001b[0mmove_to\u001b[0m\u001b[0;34m,\u001b[0m \u001b[0mlook_at\u001b[0m\u001b[0;34m)\u001b[0m\u001b[0;34m\u001b[0m\u001b[0;34m\u001b[0m\u001b[0m\n\u001b[1;32m     10\u001b[0m \u001b[0;34m\u001b[0m\u001b[0m\n\u001b[0;32m---> 11\u001b[0;31m         \u001b[0mtime\u001b[0m\u001b[0;34m.\u001b[0m\u001b[0msleep\u001b[0m\u001b[0;34m(\u001b[0m\u001b[0;36m0.5\u001b[0m\u001b[0;34m)\u001b[0m\u001b[0;34m\u001b[0m\u001b[0;34m\u001b[0m\u001b[0m\n\u001b[0m\u001b[1;32m     12\u001b[0m \u001b[0;34m\u001b[0m\u001b[0m\n\u001b[1;32m     13\u001b[0m         \u001b[0mhand_color_image\u001b[0m\u001b[0;34m,\u001b[0m \u001b[0m_\u001b[0m \u001b[0;34m=\u001b[0m \u001b[0mcap_hand_image\u001b[0m\u001b[0;34m(\u001b[0m\u001b[0mimage_client\u001b[0m\u001b[0;34m,\u001b[0m \u001b[0;34m\"hand_color_image\"\u001b[0m\u001b[0;34m)\u001b[0m\u001b[0;34m\u001b[0m\u001b[0;34m\u001b[0m\u001b[0m\n",
      "\u001b[0;31mKeyboardInterrupt\u001b[0m: "
     ]
    }
   ],
   "source": [
    "for wp, move, look_at in all_wp_move_look:\n",
    "    print(wp, move, look_at)\n",
    "    nav_to_cmd_id = graph_nav_client.navigate_to(waypoint_list[wp], cmd_duration = 15)\n",
    "    wait_until_finished_nav(graph_nav_client, nav_to_cmd_id)\n",
    "    move_robot_relative(command_client, robot, move[0], move[1], move[2])\n",
    "    \n",
    "    prev_graph_state = graph_del_save_state(graph_nav_client, robot)\n",
    "    \n",
    "    #move_to_and_look_at(command_client, [0.8, 0, 0.6], look_at)\n",
    "    gripper_open(command_client)\n",
    "    rand_imgs_thru_det(command_client, image_client, gl, light_det, look_at)\n",
    "    blocking_stow(command_client)\n",
    "    \n",
    "    response = upload_graph_and_snapshots(graph_nav_client, upload_filepath)\n",
    "    response = graph_localize_saved_state(graph_nav_client, robot, prev_graph_state)"
   ]
  },
  {
   "cell_type": "code",
   "execution_count": 47,
   "id": "495c5a53",
   "metadata": {},
   "outputs": [
    {
     "data": {
      "text/plain": [
       "True"
      ]
     },
     "execution_count": 47,
     "metadata": {},
     "output_type": "execute_result"
    }
   ],
   "source": [
    "blocking_stow(command_client)"
   ]
  },
  {
   "cell_type": "code",
   "execution_count": 15,
   "id": "b2c14637",
   "metadata": {},
   "outputs": [],
   "source": [
    "# [2,0,2.5] for 10\n",
    "\n",
    "# [1,0,5] for 18\n",
    "\n",
    "# [2, 0, 4] for 22\n",
    "\n",
    "# [3, 0, 3] for 0\n",
    "\n",
    "\n"
   ]
  },
  {
   "cell_type": "code",
   "execution_count": null,
   "id": "f13f8ba5",
   "metadata": {},
   "outputs": [],
   "source": []
  },
  {
   "cell_type": "code",
   "execution_count": 70,
   "id": "34dcc1e2",
   "metadata": {},
   "outputs": [
    {
     "name": "stderr",
     "output_type": "stream",
     "text": [
      "WARNING:root:Robot got lost when navigating the route, the robot will now sit down.\n"
     ]
    },
    {
     "ename": "KeyboardInterrupt",
     "evalue": "",
     "output_type": "error",
     "traceback": [
      "\u001b[0;31m---------------------------------------------------------------------------\u001b[0m",
      "\u001b[0;31mKeyboardInterrupt\u001b[0m                         Traceback (most recent call last)",
      "\u001b[0;32m/tmp/ipykernel_18580/2194785819.py\u001b[0m in \u001b[0;36m<module>\u001b[0;34m\u001b[0m\n\u001b[1;32m      1\u001b[0m \u001b[0mnav_to_cmd_id\u001b[0m \u001b[0;34m=\u001b[0m \u001b[0mgraph_nav_client\u001b[0m\u001b[0;34m.\u001b[0m\u001b[0mnavigate_to\u001b[0m\u001b[0;34m(\u001b[0m\u001b[0mwaypoint_list\u001b[0m\u001b[0;34m[\u001b[0m\u001b[0;36m0\u001b[0m\u001b[0;34m]\u001b[0m\u001b[0;34m,\u001b[0m \u001b[0mcmd_duration\u001b[0m \u001b[0;34m=\u001b[0m \u001b[0;36m15\u001b[0m\u001b[0;34m)\u001b[0m\u001b[0;34m\u001b[0m\u001b[0;34m\u001b[0m\u001b[0m\n\u001b[1;32m      2\u001b[0m \u001b[0mwait_until_finished_nav\u001b[0m\u001b[0;34m(\u001b[0m\u001b[0mgraph_nav_client\u001b[0m\u001b[0;34m,\u001b[0m \u001b[0mnav_to_cmd_id\u001b[0m\u001b[0;34m)\u001b[0m\u001b[0;34m\u001b[0m\u001b[0;34m\u001b[0m\u001b[0m\n\u001b[0;32m----> 3\u001b[0;31m \u001b[0mmove_robot_relative\u001b[0m\u001b[0;34m(\u001b[0m\u001b[0mcommand_client\u001b[0m\u001b[0;34m,\u001b[0m \u001b[0mrobot\u001b[0m\u001b[0;34m,\u001b[0m \u001b[0;36m0\u001b[0m\u001b[0;34m,\u001b[0m \u001b[0;36m0\u001b[0m\u001b[0;34m,\u001b[0m \u001b[0mnp\u001b[0m\u001b[0;34m.\u001b[0m\u001b[0mpi\u001b[0m\u001b[0;34m/\u001b[0m\u001b[0;36m4\u001b[0m\u001b[0;34m)\u001b[0m\u001b[0;34m\u001b[0m\u001b[0;34m\u001b[0m\u001b[0m\n\u001b[0m",
      "\u001b[0;32m~/groundlight/bdspot/spot/spot_functions.py\u001b[0m in \u001b[0;36mmove_robot_relative\u001b[0;34m(command_client, robot, x_meters, y_meters, theta_rad, timeout_sec, blocking)\u001b[0m\n\u001b[1;32m    128\u001b[0m     \u001b[0mcmd_id\u001b[0m \u001b[0;34m=\u001b[0m \u001b[0mcmd_id\u001b[0m \u001b[0;34m=\u001b[0m \u001b[0mcommand_client\u001b[0m\u001b[0;34m.\u001b[0m\u001b[0mrobot_command\u001b[0m\u001b[0;34m(\u001b[0m\u001b[0mcmd\u001b[0m\u001b[0;34m,\u001b[0m \u001b[0mend_time_secs\u001b[0m \u001b[0;34m=\u001b[0m \u001b[0mtime\u001b[0m\u001b[0;34m.\u001b[0m\u001b[0mtime\u001b[0m\u001b[0;34m(\u001b[0m\u001b[0;34m)\u001b[0m\u001b[0;34m+\u001b[0m\u001b[0mtimeout_sec\u001b[0m\u001b[0;34m)\u001b[0m\u001b[0;34m\u001b[0m\u001b[0;34m\u001b[0m\u001b[0m\n\u001b[1;32m    129\u001b[0m     \u001b[0;32mif\u001b[0m \u001b[0mblocking\u001b[0m\u001b[0;34m:\u001b[0m\u001b[0;34m\u001b[0m\u001b[0;34m\u001b[0m\u001b[0m\n\u001b[0;32m--> 130\u001b[0;31m         \u001b[0mbdcrc\u001b[0m\u001b[0;34m.\u001b[0m\u001b[0mblock_for_trajectory_cmd\u001b[0m\u001b[0;34m(\u001b[0m\u001b[0mcommand_client\u001b[0m\u001b[0;34m,\u001b[0m \u001b[0mcmd_id\u001b[0m\u001b[0;34m,\u001b[0m \u001b[0mtimeout_sec\u001b[0m \u001b[0;34m=\u001b[0m \u001b[0mtimeout_sec\u001b[0m\u001b[0;34m)\u001b[0m\u001b[0;34m\u001b[0m\u001b[0;34m\u001b[0m\u001b[0m\n\u001b[0m\u001b[1;32m    131\u001b[0m \u001b[0;34m\u001b[0m\u001b[0m\n\u001b[1;32m    132\u001b[0m def make_grasp(grasp_request,\n",
      "\u001b[0;32m~/mambaforge/envs/spotenv/lib/python3.7/site-packages/bosdyn/client/robot_command.py\u001b[0m in \u001b[0;36mblock_for_trajectory_cmd\u001b[0;34m(command_client, cmd_id, trajectory_end_statuses, body_movement_statuses, feedback_interval_secs, timeout_sec, logger)\u001b[0m\n\u001b[1;32m   1818\u001b[0m                 \u001b[0;32mreturn\u001b[0m \u001b[0;32mTrue\u001b[0m\u001b[0;34m\u001b[0m\u001b[0;34m\u001b[0m\u001b[0m\n\u001b[1;32m   1819\u001b[0m \u001b[0;34m\u001b[0m\u001b[0m\n\u001b[0;32m-> 1820\u001b[0;31m         \u001b[0mtime\u001b[0m\u001b[0;34m.\u001b[0m\u001b[0msleep\u001b[0m\u001b[0;34m(\u001b[0m\u001b[0mfeedback_interval_secs\u001b[0m\u001b[0;34m)\u001b[0m\u001b[0;34m\u001b[0m\u001b[0;34m\u001b[0m\u001b[0m\n\u001b[0m\u001b[1;32m   1821\u001b[0m         \u001b[0mnow\u001b[0m \u001b[0;34m=\u001b[0m \u001b[0mtime\u001b[0m\u001b[0;34m.\u001b[0m\u001b[0mtime\u001b[0m\u001b[0;34m(\u001b[0m\u001b[0;34m)\u001b[0m\u001b[0;34m\u001b[0m\u001b[0;34m\u001b[0m\u001b[0m\n\u001b[1;32m   1822\u001b[0m \u001b[0;34m\u001b[0m\u001b[0m\n",
      "\u001b[0;31mKeyboardInterrupt\u001b[0m: "
     ]
    }
   ],
   "source": [
    "nav_to_cmd_id = graph_nav_client.navigate_to(waypoint_list[0], cmd_duration = 15)\n",
    "wait_until_finished_nav(graph_nav_client, nav_to_cmd_id)\n",
    "move_robot_relative(command_client, robot, 0, 0, np.pi/4)"
   ]
  },
  {
   "cell_type": "code",
   "execution_count": 56,
   "id": "1b51c910",
   "metadata": {},
   "outputs": [],
   "source": [
    "move_to_and_look_at(command_client, [0.8,0,0.5], [3, 0, 3])"
   ]
  },
  {
   "cell_type": "code",
   "execution_count": 72,
   "id": "1dc11f7c",
   "metadata": {},
   "outputs": [],
   "source": [
    "move_robot_relative(command_client, robot, 0, -2, 0)"
   ]
  },
  {
   "cell_type": "code",
   "execution_count": null,
   "id": "2d439251",
   "metadata": {},
   "outputs": [],
   "source": [
    "wp_ind_list = [0, 8, 10, 12, 15]\n",
    "for wp_ind in wp_ind_list:\n",
    "    blocking_stow(command_client)\n",
    "    nav_to_cmd_id = graph_nav_client.navigate_to(waypoint_list[wp_ind], cmd_duration = 15)\n",
    "    wait_until_finished_nav(graph_nav_client, nav_to_cmd_id)\n",
    "    prev_graph_state = graph_del_save_state(graph_nav_client, robot)\n",
    "    gripper_open(command_client)\n",
    "    rand_imgs_thru_det(command_client, image_client, gl, rubiks_det)\n",
    "    gripper_close(command_client)\n",
    "    upload_graph_and_snapshots(graph_nav_client, upload_filepath)\n",
    "    response = graph_localize_saved_state(graph_nav_client, robot, prev_graph_state)"
   ]
  }
 ],
 "metadata": {
  "kernelspec": {
   "display_name": "Python 3 (ipykernel)",
   "language": "python",
   "name": "python3"
  },
  "language_info": {
   "codemirror_mode": {
    "name": "ipython",
    "version": 3
   },
   "file_extension": ".py",
   "mimetype": "text/x-python",
   "name": "python",
   "nbconvert_exporter": "python",
   "pygments_lexer": "ipython3",
   "version": "3.7.12"
  }
 },
 "nbformat": 4,
 "nbformat_minor": 5
}
