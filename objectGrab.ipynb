{
 "cells": [
  {
   "cell_type": "code",
   "execution_count": 1,
   "id": "1eb7f821",
   "metadata": {},
   "outputs": [],
   "source": [
    "import bosdyn.client\n",
    "import bosdyn.client.util\n",
    "import bosdyn.client.robot_command as bdcrc\n",
    "from bosdyn.client.robot_command import RobotCommandBuilder\n",
    "from bosdyn.client.robot_command import RobotCommandClient\n",
    "from bosdyn.client.image import ImageClient\n",
    "from bosdyn.client.manipulation_api_client import ManipulationApiClient\n",
    "\n",
    "from bosdyn.util import seconds_to_duration\n",
    "from bosdyn.geometry import EulerZXY\n",
    "\n",
    "from bosdyn.client.world_object import WorldObjectClient\n",
    "from bosdyn.client.frame_helpers import get_a_tform_b, get_vision_tform_body, BODY_FRAME_NAME, VISION_FRAME_NAME\n",
    "\n",
    "from bosdyn.api import (arm_command_pb2, geometry_pb2, robot_command_pb2, synchronized_command_pb2,\n",
    "                        trajectory_pb2, world_object_pb2, manipulation_api_pb2, image_pb2, estop_pb2, robot_state_pb2)\n",
    "\n",
    "import cv2\n",
    "from groundlight import Groundlight\n",
    "import pdb\n",
    "import time\n",
    "import numpy as np\n",
    "import matplotlib.pyplot as plt\n",
    "\n",
    "from copy import deepcopy\n",
    "\n",
    "from PIL import Image\n",
    "import io\n",
    "np.random.seed(0)"
   ]
  },
  {
   "cell_type": "code",
   "execution_count": 2,
   "id": "37ac2725",
   "metadata": {},
   "outputs": [],
   "source": [
    "#Setup\n",
    "sdk = bosdyn.client.create_standard_sdk('ASTRO')\n",
    "robot = sdk.create_robot('192.168.50.3')\n",
    "id_client = robot.ensure_client('robot-id')\n",
    "\n",
    "#Authenticate\n",
    "\n",
    "robot.authenticate('user', 'r4kr99yw3hje')\n",
    "\n",
    "#State\n",
    "robot_state_client = robot.ensure_client('robot-state')\n",
    "\n",
    "#Create command client\n",
    "command_client = robot.ensure_client(RobotCommandClient.default_service_name)\n",
    "\n",
    "#image client\n",
    "image_client = robot.ensure_client(ImageClient.default_service_name)\n",
    "\n",
    "#world image client\n",
    "world_object_client = robot.ensure_client(WorldObjectClient.default_service_name)\n",
    "\n",
    "#manipulation api client\n",
    "manipulation_api_client = robot.ensure_client(ManipulationApiClient.default_service_name)"
   ]
  },
  {
   "cell_type": "code",
   "execution_count": 3,
   "id": "e2b09673",
   "metadata": {},
   "outputs": [],
   "source": [
    "def getBattInfo():\n",
    "    \n",
    "    robot_state = robot_state_client.get_robot_state()\n",
    "    \n",
    "    battery_state = robot_state.battery_states[0]\n",
    "    \n",
    "    chargePercent = battery_state.charge_percentage\n",
    "    \n",
    "    runtimeRemaining = battery_state.estimated_runtime\n",
    "    \n",
    "    return chargePercent.value, runtimeRemaining.seconds"
   ]
  },
  {
   "cell_type": "code",
   "execution_count": 128,
   "id": "a46da1b6",
   "metadata": {},
   "outputs": [
    {
     "name": "stdout",
     "output_type": "stream",
     "text": [
      "Battery at: 16.0 %. Robot has 918 seconds left\n"
     ]
    }
   ],
   "source": [
    "chargePercent, runtimeRemaining = getBattInfo()\n",
    "\n",
    "print(\"Battery at:\", chargePercent, \"%. Robot has\", runtimeRemaining, \"seconds left\")"
   ]
  },
  {
   "cell_type": "code",
   "execution_count": 5,
   "id": "60d7d99d",
   "metadata": {},
   "outputs": [],
   "source": [
    "lease_client = robot.ensure_client('lease')\n",
    "lease = lease_client.acquire()\n",
    "lease_keep_alive = bosdyn.client.lease.LeaseKeepAlive(lease_client)"
   ]
  },
  {
   "cell_type": "code",
   "execution_count": 7,
   "id": "8198eaab",
   "metadata": {},
   "outputs": [
    {
     "name": "stdout",
     "output_type": "stream",
     "text": [
      "True\n"
     ]
    }
   ],
   "source": [
    "#Power on and time_sync\n",
    "\n",
    "robot.power_on(timeout_sec=20)\n",
    "\n",
    "print(robot.is_powered_on())\n",
    "\n",
    "robot.time_sync.wait_for_sync()"
   ]
  },
  {
   "cell_type": "code",
   "execution_count": 8,
   "id": "d29d5879",
   "metadata": {},
   "outputs": [],
   "source": [
    "from bosdyn.client.graph_nav import GraphNavClient\n",
    "from bosdyn.api.graph_nav import graph_nav_pb2\n",
    "from bosdyn.api.graph_nav import map_pb2\n",
    "from bosdyn.api.graph_nav import nav_pb2\n",
    "from bosdyn.client.frame_helpers import get_odom_tform_body\n",
    "from bosdyn.client.exceptions import ResponseError\n",
    "from bosdyn.api import image_pb2"
   ]
  },
  {
   "cell_type": "code",
   "execution_count": 9,
   "id": "58d57bd0",
   "metadata": {},
   "outputs": [],
   "source": [
    "graph_nav_client = robot.ensure_client(GraphNavClient.default_service_name)\n",
    "upload_filepath = \"/home/gluser/groundlight/bdspot/newGraph\"\n",
    "timeoutSec = 10"
   ]
  },
  {
   "cell_type": "code",
   "execution_count": 10,
   "id": "71caea59",
   "metadata": {},
   "outputs": [],
   "source": [
    "def upload_graph_and_snapshots(upload_filepath, current_graph, \n",
    "                               graph_nav_client, current_waypoint_snapshots, current_edge_snapshots):\n",
    "    \"\"\"Upload the graph and snapshots to the robot.\"\"\"\n",
    "    print(\"Loading the graph from disk into local storage...\")\n",
    "    with open(upload_filepath + \"/graph\", \"rb\") as graph_file:\n",
    "        # Load the graph from disk.\n",
    "        data = graph_file.read()\n",
    "        current_graph = map_pb2.Graph()\n",
    "        current_graph.ParseFromString(data)\n",
    "        print(\"Loaded graph has {} waypoints and {} edges\".format(\n",
    "            len(current_graph.waypoints), len(current_graph.edges)))\n",
    "    for waypoint in current_graph.waypoints:\n",
    "        # Load the waypoint snapshots from disk.\n",
    "        with open(upload_filepath + \"/waypoint_snapshots/{}\".format(waypoint.snapshot_id),\n",
    "                  \"rb\") as snapshot_file:\n",
    "            waypoint_snapshot = map_pb2.WaypointSnapshot()\n",
    "            waypoint_snapshot.ParseFromString(snapshot_file.read())\n",
    "            current_waypoint_snapshots[waypoint_snapshot.id] = waypoint_snapshot\n",
    "    for edge in current_graph.edges:\n",
    "        if len(edge.snapshot_id) == 0:\n",
    "            continue\n",
    "        # Load the edge snapshots from disk.\n",
    "        with open(upload_filepath + \"/edge_snapshots/{}\".format(edge.snapshot_id),\n",
    "                  \"rb\") as snapshot_file:\n",
    "            edge_snapshot = map_pb2.EdgeSnapshot()\n",
    "            edge_snapshot.ParseFromString(snapshot_file.read())\n",
    "            current_edge_snapshots[edge_snapshot.id] = edge_snapshot\n",
    "    # Upload the graph to the robot.\n",
    "    print(\"Uploading the graph and snapshots to the robot...\")\n",
    "    true_if_empty = not len(current_graph.anchoring.anchors)\n",
    "    response = graph_nav_client.upload_graph(lease=lease.lease_proto,\n",
    "                                                   graph=current_graph,\n",
    "                                                   generate_new_anchoring=true_if_empty)\n",
    "#    response = graph_nav_client.upload_graph(graph=current_graph)\n",
    "    \n",
    "    # Upload the snapshots to the robot.\n",
    "    \n",
    "    for snapshot_id in response.unknown_waypoint_snapshot_ids:\n",
    "        waypoint_snapshot = current_waypoint_snapshots[snapshot_id]\n",
    "        graph_nav_client.upload_waypoint_snapshot(waypoint_snapshot)\n",
    "        print(\"Uploaded {}\".format(waypoint_snapshot.id))\n",
    "    for snapshot_id in response.unknown_edge_snapshot_ids:\n",
    "        edge_snapshot = current_edge_snapshots[snapshot_id]\n",
    "        graph_nav_client.upload_edge_snapshot(edge_snapshot)\n",
    "        print(\"Uploaded {}\".format(edge_snapshot.id))\n",
    "\n",
    "    # The upload is complete! Check that the robot is localized to the graph,\n",
    "    # and if it is not, prompt the user to localize the robot before attempting\n",
    "    # any navigation commands.\n",
    "    localization_state = graph_nav_client.get_localization_state()\n",
    "    if not localization_state.localization.waypoint_id:\n",
    "        # The robot is not localized to the newly uploaded graph.\n",
    "        print(\"\\n\")\n",
    "        print(\"Upload complete! The robot is currently not localized to the map; please localize\", \\\n",
    "               \"the robot using commands (2) or (3) before attempting a navigation command.\")\n",
    "    return response"
   ]
  },
  {
   "cell_type": "code",
   "execution_count": 11,
   "id": "26dceba3",
   "metadata": {},
   "outputs": [],
   "source": [
    "def set_initial_localization_fiducial(state_client, graph_nav_client):\n",
    "    \"\"\"Trigger localization when near a fiducial.\"\"\"\n",
    "    robot_state = state_client.get_robot_state()\n",
    "    current_odom_tform_body = get_odom_tform_body(\n",
    "        robot_state.kinematic_state.transforms_snapshot).to_proto()\n",
    "    \n",
    "    # Create an empty instance for initial localization since we are asking it to localize\n",
    "    # based on the nearest fiducial.\n",
    "    localization = nav_pb2.Localization()\n",
    "    graph_nav_client.set_localization(initial_guess_localization=localization,\n",
    "                                            ko_tform_body=current_odom_tform_body)"
   ]
  },
  {
   "cell_type": "code",
   "execution_count": 12,
   "id": "dd8a93d8",
   "metadata": {},
   "outputs": [],
   "source": [
    "def check_success(graph_nav_client, command_id=-1):\n",
    "    \"\"\"Use a navigation command id to get feedback from the robot and sit when command succeeds.\"\"\"\n",
    "    if command_id == -1:\n",
    "        # No command, so we have no status to check.\n",
    "        return False\n",
    "    status = graph_nav_client.navigation_feedback(command_id)\n",
    "    if status.status == graph_nav_pb2.NavigationFeedbackResponse.STATUS_REACHED_GOAL:\n",
    "        # Successfully completed the navigation commands!\n",
    "        return True\n",
    "    elif status.status == graph_nav_pb2.NavigationFeedbackResponse.STATUS_LOST:\n",
    "        print(\"Robot got lost when navigating the route, the robot will now sit down.\")\n",
    "        return True\n",
    "    elif status.status == graph_nav_pb2.NavigationFeedbackResponse.STATUS_STUCK:\n",
    "        print(\"Robot got stuck when navigating the route, the robot will now sit down.\")\n",
    "        return True\n",
    "    elif status.status == graph_nav_pb2.NavigationFeedbackResponse.STATUS_ROBOT_IMPAIRED:\n",
    "        print(\"Robot is impaired.\")\n",
    "        return True\n",
    "    else:\n",
    "        # Navigation command is not complete yet.\n",
    "        return False"
   ]
  },
  {
   "cell_type": "code",
   "execution_count": 13,
   "id": "d68a8d17",
   "metadata": {},
   "outputs": [],
   "source": [
    "def waitUntilFinishedNav(nav_to_cmd_id):\n",
    "    is_finished = False\n",
    "    prevTimeoutTimerSec = time.time()\n",
    "    while(not is_finished):\n",
    "        curTime = time.time()\n",
    "        if(curTime - prevTimeoutTimerSec > timeoutSec):\n",
    "            break\n",
    "        time.sleep(0.2)\n",
    "        is_finished = check_success(graph_nav_client, nav_to_cmd_id)"
   ]
  },
  {
   "cell_type": "code",
   "execution_count": 14,
   "id": "fc0affac",
   "metadata": {},
   "outputs": [],
   "source": [
    "def spinInitFiducial(command_client, graph_nav_client, robot_state_client):\n",
    "    timeoutSec = 5\n",
    "\n",
    "    bdcrc.blocking_stand(command_client, timeout_sec = timeoutSec)\n",
    "    \n",
    "    for i in range(3):\n",
    "        for j in range(4):\n",
    "            print(\"attempt #: \", i*4+j)\n",
    "            try:\n",
    "                set_initial_localization_fiducial(robot_state_client, graph_nav_client)\n",
    "                print(\"SUCCESS: initialized location to using nearest fiducial\")\n",
    "                return\n",
    "            except ResponseError as e:\n",
    "                print(\"Error during fiducial localization init: \", e)\n",
    "            frameTreeSnapshot = robot.get_frame_tree_snapshot()\n",
    "            cmd = RobotCommandBuilder.synchro_trajectory_command_in_body_frame(0, 0, np.pi/6, frame_tree_snapshot = frameTreeSnapshot)\n",
    "            cmd_id = cmd_id = command_client.robot_command(cmd, end_time_secs = time.time()+timeoutSec)\n",
    "            bdcrc.block_for_trajectory_cmd(command_client, cmd_id)\n",
    "        frameTreeSnapshot = robot.get_frame_tree_snapshot()\n",
    "        \n",
    "        cmd = RobotCommandBuilder.synchro_trajectory_command_in_body_frame(0, 0.5, 0, frame_tree_snapshot = frameTreeSnapshot)\n",
    "        cmd_id = cmd_id = command_client.robot_command(cmd, end_time_secs = time.time()+timeoutSec)\n",
    "        bdcrc.block_for_trajectory_cmd(command_client, cmd_id)\n",
    "    print(\"FAILED: could not find nearby fiducial\")\n",
    "       "
   ]
  },
  {
   "cell_type": "code",
   "execution_count": 14,
   "id": "0809d382",
   "metadata": {},
   "outputs": [],
   "source": [
    "# frameTreeSnapshot = robot.get_frame_tree_snapshot()\n",
    "# cmd = RobotCommandBuilder.synchro_trajectory_command_in_body_frame(1, -0.5, 0, frame_tree_snapshot = frameTreeSnapshot)\n",
    "# cmd_id = cmd_id = command_client.robot_command(cmd, end_time_secs = time.time()+timeoutSec)\n",
    "# bdcrc.block_for_trajectory_cmd(command_client, cmd_id)"
   ]
  },
  {
   "cell_type": "code",
   "execution_count": 15,
   "id": "48cdef0a",
   "metadata": {},
   "outputs": [],
   "source": [
    "def moveToAndLookAt(moveTo, lookAt, blocking = True):\n",
    "    \"\"\"Takes in two 3 element arrays\n",
    "        First is the coordinates for the gripper to move to\n",
    "        Second is the coordinates for the gripper to look at\n",
    "    \"\"\"\n",
    "\n",
    "    arm_pos_list = [moveTo[0],moveTo[1],moveTo[2]]\n",
    "    dur_sec = 3\n",
    "\n",
    "    duration = seconds_to_duration(dur_sec)\n",
    "\n",
    "\n",
    "    arm_pos = geometry_pb2.Vec3(x=arm_pos_list[0], \n",
    "                                y=arm_pos_list[1], \n",
    "                                z=arm_pos_list[2])\n",
    "    hand_pose = geometry_pb2.SE3Pose(position=arm_pos)\n",
    "    hand_pose_traj_point = trajectory_pb2.SE3TrajectoryPoint(pose=hand_pose,\n",
    "                                                             time_since_reference=duration)\n",
    "    hand_traj = trajectory_pb2.SE3Trajectory(points=[hand_pose_traj_point])\n",
    "\n",
    "\n",
    "    gaze_pos_list = [lookAt[0],lookAt[1],lookAt[2]]\n",
    "    gaze_pos = geometry_pb2.Vec3(x=gaze_pos_list[0],\n",
    "                                 y=gaze_pos_list[1],\n",
    "                                 z=gaze_pos_list[2])\n",
    "    gaze_pos_traj_point = trajectory_pb2.Vec3TrajectoryPoint(point=gaze_pos)\n",
    "    gaze_traj = trajectory_pb2.Vec3Trajectory(points=[gaze_pos_traj_point])\n",
    "\n",
    "    gaze_cmd = arm_command_pb2.GazeCommand.Request(target_trajectory_in_frame1=gaze_traj,\n",
    "                                                   frame1_name='body',\n",
    "                                                   tool_trajectory_in_frame2=hand_traj,\n",
    "                                                   frame2_name='body')\n",
    "\n",
    "    arm_command = arm_command_pb2.ArmCommand.Request(arm_gaze_command=gaze_cmd)\n",
    "    synchronized_command = synchronized_command_pb2.SynchronizedCommand.Request(arm_command=arm_command)\n",
    "    command = robot_command_pb2.RobotCommand(synchronized_command=synchronized_command)\n",
    "    gaze_command_id = command_client.robot_command(command)\n",
    "    if(blocking):\n",
    "        bdcrc.block_until_arm_arrives(command_client, gaze_command_id, timeout_sec = time.time() + 3.0)"
   ]
  },
  {
   "cell_type": "code",
   "execution_count": 16,
   "id": "7cb34044",
   "metadata": {},
   "outputs": [],
   "source": [
    "#Image capture from hand cam and save, WORKS\n",
    "def capAndShowImage(image_client, saveName):\n",
    "    \n",
    "    image_response = image_client.get_image_from_sources([\"hand_color_image\"])[0]\n",
    "    image = Image.open(io.BytesIO(image_response.shot.image.data))\n",
    "    image.save(saveName)"
   ]
  },
  {
   "cell_type": "code",
   "execution_count": 17,
   "id": "31d91cc4",
   "metadata": {},
   "outputs": [],
   "source": [
    "def graphInit(graph_nav_client, upload_filepath):\n",
    "    \n",
    "    current_graph = None\n",
    "    current_waypoint_snapshots = dict()\n",
    "    current_edge_snapshots = dict()\n",
    "    \n",
    "    response = upload_graph_and_snapshots(upload_filepath, current_graph, \n",
    "                               graph_nav_client, current_waypoint_snapshots, current_edge_snapshots)\n",
    "\n",
    "    spinInitFiducial(command_client, graph_nav_client, robot_state_client)\n",
    "\n",
    "    #Gets the current graph and reads off waypoints\n",
    "    current_graph = graph_nav_client.download_graph()\n",
    "    waypointList = [(waypoint.annotations.name,waypoint.id) for waypoint in current_graph.waypoints]\n",
    "    waypointDict = dict()\n",
    "    #make a dict and exclude default waypoints\n",
    "    for waypointName, waypointId in waypointList:\n",
    "        if(waypointName == 'default'):\n",
    "            continue\n",
    "        waypointDict[int(waypointName[9:])] = waypointId\n",
    "    \n",
    "    return waypointDict"
   ]
  },
  {
   "cell_type": "code",
   "execution_count": 18,
   "id": "ffa4f7a6",
   "metadata": {},
   "outputs": [],
   "source": [
    "def makeGLAPICall(det, graph_nav_client):\n",
    "    \n",
    "    #MUST CLEAR GRAPH PRIOR TO RUNNING, ARM CAMERA DOES NOT WORK IF GRAPH IS NOT CLEAR\n",
    "    graph_nav_client.clear_graph()\n",
    "\n",
    "    cmd = RobotCommandBuilder.claw_gripper_open_fraction_command(1.0)\n",
    "    cmd_id = command_client.robot_command(cmd, end_time_secs = time.time()+timeoutSec)\n",
    "    print('Gripper opening')\n",
    "\n",
    "    moveToAndLookAt([0.61,0,0.5],[1,0,-0.5], True)\n",
    "    print('looking down')\n",
    "\n",
    "    capAndShowImage(image_client, 'handColorImage.jpg')\n",
    "    image_query = gl.submit_image_query(detector_id=det.id, image = \"handColorImage.jpg\")\n",
    "    \n",
    "    return image_query"
   ]
  },
  {
   "cell_type": "code",
   "execution_count": 124,
   "id": "8cf5354b",
   "metadata": {},
   "outputs": [],
   "source": [
    "def localizeObject():\n",
    "    request_fiducials = [world_object_pb2.WORLD_OBJECT_APRILTAG]\n",
    "    fiducial_objects = world_object_client.list_world_objects(\n",
    "                object_type=request_fiducials).world_objects\n",
    "\n",
    "    fid = None\n",
    "    for fiducial_obj in fiducial_objects:\n",
    "        if fiducial_obj.apriltag_properties.tag_id == 583:\n",
    "            fid = fiducial_obj\n",
    "\n",
    "    fid_tree_snapshot = fid.transforms_snapshot\n",
    "    frame_tree_snapshot = robot.get_frame_tree_snapshot()\n",
    "    \n",
    "    #get_a_tform_b returns transformation such that a_coords = tform * b_coords\n",
    "\n",
    "    fidToBody = bosdyn.client.frame_helpers.get_a_tform_b(fid_tree_snapshot, frame_a = 'body', frame_b ='filtered_fiducial_583')\n",
    "    \n",
    "    #obj fiducial\n",
    "    # Position must be accurate to about 0.03m in x,y for a reliable grasp\n",
    "    obj_pose_fid_frame_se2 = bosdyn.client.math_helpers.SE2Pose(-0.25,0,0)\n",
    "\n",
    "    obj_pose_fid_frame_se3 = bosdyn.client.math_helpers.SE3Pose.from_se2(obj_pose_fid_frame_se2)\n",
    "    #print(obj_pose_fid_frame_se3)\n",
    "\n",
    "    obj_pose_body_frame_se3 = (fidToBody * obj_pose_fid_frame_se3)\n",
    "    #print(obj_pose_body_frame_se3)\n",
    "\n",
    "    obj_loc_body_frame_proto = obj_pose_body_frame_se3.to_proto().position\n",
    "    #print(obj_loc_body_frame_proto)\n",
    "\n",
    "    grasp = manipulation_api_pb2.PickObject(frame_name = 'body', object_rt_frame = obj_loc_body_frame_proto)\n",
    "\n",
    "    grasp_request = manipulation_api_pb2.ManipulationApiRequest(pick_object = grasp)\n",
    "    \n",
    "    return grasp_request"
   ]
  },
  {
   "cell_type": "code",
   "execution_count": 125,
   "id": "f71c363b",
   "metadata": {},
   "outputs": [],
   "source": [
    "def makeGrasp(grasp_request, graph_nav_client):\n",
    "    \n",
    "    graph_nav_client.clear_graph()\n",
    "    \n",
    "    cmd_response = manipulation_api_client.manipulation_api_command(\n",
    "    manipulation_api_request = grasp_request)\n",
    "\n",
    "    # Get feedback from the robot\n",
    "    while True:\n",
    "        feedback_request = manipulation_api_pb2.ManipulationApiFeedbackRequest(\n",
    "            manipulation_cmd_id=cmd_response.manipulation_cmd_id)\n",
    "\n",
    "        # Send the request\n",
    "        response = manipulation_api_client.manipulation_api_feedback_command(\n",
    "            manipulation_api_feedback_request=feedback_request)\n",
    "\n",
    "        print('Current state: ',\n",
    "              manipulation_api_pb2.ManipulationFeedbackState.Name(response.current_state))\n",
    "\n",
    "        if response.current_state == manipulation_api_pb2.MANIP_STATE_GRASP_SUCCEEDED or response.current_state == manipulation_api_pb2.MANIP_STATE_GRASP_FAILED:\n",
    "            break\n",
    "\n",
    "        time.sleep(0.25)\n",
    "\n",
    "    #creates carry override\n",
    "    carry_override_rq = manipulation_api_pb2.ApiGraspedCarryStateOverride(override_request = 3)\n",
    "\n",
    "    #creates override\n",
    "    override_rq = manipulation_api_pb2.ApiGraspOverrideRequest(\n",
    "        carry_state_override = carry_override_rq)\n",
    "\n",
    "    #sends override so object can be stowed and carried\n",
    "    response = manipulation_api_client.grasp_override_command(grasp_override_request = override_rq)\n",
    "    \n",
    "    cmd = RobotCommandBuilder.arm_stow_command()\n",
    "    cmd_id = command_client.robot_command(cmd, end_time_secs = time.time()+5)"
   ]
  },
  {
   "cell_type": "code",
   "execution_count": 126,
   "id": "ebd66884",
   "metadata": {},
   "outputs": [],
   "source": [
    "def checkForCubeAndGrasp(det, graph_nav_client):\n",
    "    image_query = makeGLAPICall(det, graph_nav_client)\n",
    "\n",
    "    grasp_request = None\n",
    "    if image_query.result.label == 'PASS':\n",
    "        grasp_request = localizeObject()\n",
    "        print(\"RUBIK'S CUBE FOUND and localized\")\n",
    "        makeGrasp(grasp_request, graph_nav_client)\n",
    "        print(\"GRASP MADE\")\n",
    "        return True\n",
    "    else:\n",
    "        print(\"NO RUBIK'S CUBE FOUND, continuing walk\")\n",
    "        cmd = RobotCommandBuilder.claw_gripper_open_fraction_command(0.0)\n",
    "        cmd = RobotCommandBuilder.arm_stow_command()\n",
    "        cmd_id = command_client.robot_command(cmd, end_time_secs = time.time()+5)\n",
    "        return False\n",
    "\n",
    "\n",
    "\n"
   ]
  },
  {
   "cell_type": "code",
   "execution_count": 90,
   "id": "a458cc16",
   "metadata": {},
   "outputs": [
    {
     "name": "stdout",
     "output_type": "stream",
     "text": [
      "Loading the graph from disk into local storage...\n",
      "Loaded graph has 27 waypoints and 29 edges\n",
      "Uploading the graph and snapshots to the robot...\n",
      "\n",
      "\n",
      "Upload complete! The robot is currently not localized to the map; please localize the robot using commands (2) or (3) before attempting a navigation command.\n",
      "attempt #:  0\n",
      "Error during fiducial localization init:  bosdyn.api.graph_nav.SetLocalizationResponse (ResponseError): Code: 8 (STATUS_NO_MATCHING_FIDUCIAL)\n",
      "attempt #:  1\n",
      "Error during fiducial localization init:  bosdyn.api.graph_nav.SetLocalizationResponse (ResponseError): Code: 8 (STATUS_NO_MATCHING_FIDUCIAL)\n",
      "attempt #:  2\n",
      "Error during fiducial localization init:  bosdyn.api.graph_nav.SetLocalizationResponse (ResponseError): Code: 8 (STATUS_NO_MATCHING_FIDUCIAL)\n",
      "attempt #:  3\n",
      "Error during fiducial localization init:  bosdyn.api.graph_nav.SetLocalizationResponse (ResponseError): Code: 8 (STATUS_NO_MATCHING_FIDUCIAL)\n",
      "attempt #:  4\n",
      "SUCCESS: initialized location to using nearest fiducial\n",
      "INITALIZED GRAPH\n",
      "________________\n",
      "\n",
      "INITALIZED GL API WITH DETECTOR:\n",
      "id='det_2AfzCuEk3TEhUr5TgkmqDTqRYpp' type=<DetectorTypeEnum.detector: 'detector'> created_at=datetime.datetime(2022, 6, 16, 14, 35, 3, 97079, tzinfo=tzoffset(None, -25200)) name='rubiksCube' query=\"Is it a Rubik's cube?\" group_name='__DEFAULT' confidence_threshold=0.75\n"
     ]
    }
   ],
   "source": [
    "cmd = RobotCommandBuilder.arm_stow_command()\n",
    "cmd_id = command_client.robot_command(cmd, end_time_secs = time.time()+5)\n",
    "\n",
    "\n",
    "cmd = RobotCommandBuilder.claw_gripper_open_fraction_command(0.0)\n",
    "cmd_id = command_client.robot_command(cmd, end_time_secs = time.time()+5)\n",
    "\n",
    "bdcrc.blocking_stand(command_client, timeout_sec = timeoutSec)\n",
    "\n",
    "# InitializeGraph\n",
    "waypointDict = graphInit(graph_nav_client, upload_filepath)\n",
    "\n",
    "print('INITALIZED GRAPH')\n",
    "print(\"________________\")\n",
    "print(\"\")\n",
    "\n",
    "# Initialize Groundlight API\n",
    "\n",
    "GROUNDLIGHT_API_TOKEN = 'api_2AaZ8QiCOvUFeHLJWGg8NTCPOAJ_uBTv8nu8U82Nv59ZHhi134HkAAirX4dwZw'\n",
    "gl = Groundlight(api_token=GROUNDLIGHT_API_TOKEN)\n",
    "\n",
    "detectors = gl.list_detectors()\n",
    "\n",
    "det = detectors.results[0]\n",
    "print(\"INITALIZED GL API WITH DETECTOR:\")\n",
    "print(det)\n"
   ]
  },
  {
   "cell_type": "code",
   "execution_count": 33,
   "id": "16e9098c",
   "metadata": {
    "collapsed": true
   },
   "outputs": [
    {
     "name": "stdout",
     "output_type": "stream",
     "text": [
      "waypoint index: 10 False\n",
      "waypoint index: 9 False\n",
      "Gripper opening\n",
      "looking down\n",
      "NO RUBIK'S CUBE FOUND, continuing walk\n",
      "Loading the graph from disk into local storage...\n",
      "Loaded graph has 27 waypoints and 29 edges\n",
      "Uploading the graph and snapshots to the robot...\n",
      "\n",
      "\n",
      "Upload complete! The robot is currently not localized to the map; please localize the robot using commands (2) or (3) before attempting a navigation command.\n",
      "attempt #:  0\n",
      "SUCCESS: initialized location to using nearest fiducial\n",
      "waypoint index: 10 False\n",
      "waypoint index: 9 False\n",
      "Gripper opening\n",
      "looking down\n",
      "RUBIK'S CUBE FOUND and localized\n",
      "GRASP MADE\n",
      "Loading the graph from disk into local storage...\n",
      "Loaded graph has 27 waypoints and 29 edges\n",
      "Uploading the graph and snapshots to the robot...\n",
      "\n",
      "\n",
      "Upload complete! The robot is currently not localized to the map; please localize the robot using commands (2) or (3) before attempting a navigation command.\n",
      "attempt #:  0\n",
      "SUCCESS: initialized location to using nearest fiducial\n",
      "waypoint index: 10 True\n",
      "CUBE POSSESSED\n",
      "CUBE DROPPED\n",
      "waypoint index: 9 False\n",
      "Gripper opening\n",
      "looking down\n",
      "NO RUBIK'S CUBE FOUND, continuing walk\n",
      "Loading the graph from disk into local storage...\n",
      "Loaded graph has 27 waypoints and 29 edges\n",
      "Uploading the graph and snapshots to the robot...\n",
      "\n",
      "\n",
      "Upload complete! The robot is currently not localized to the map; please localize the robot using commands (2) or (3) before attempting a navigation command.\n",
      "attempt #:  0\n",
      "SUCCESS: initialized location to using nearest fiducial\n"
     ]
    }
   ],
   "source": [
    "hasCube = False\n",
    "\n",
    "for loopNum in range(3):\n",
    "    for wpInd in [10, 9]:\n",
    "        print('waypoint index:', wpInd, hasCube)\n",
    "        nav_to_cmd_id = graph_nav_client.navigate_to(waypointDict[wpInd], timeoutSec)\n",
    "        waitUntilFinishedNav(nav_to_cmd_id)\n",
    "        if wpInd == 9:\n",
    "            frameTreeSnapshot = robot.get_frame_tree_snapshot()\n",
    "            cmd = RobotCommandBuilder.synchro_trajectory_command_in_body_frame(0, 0, np.pi/2, frame_tree_snapshot = frameTreeSnapshot)\n",
    "            cmd_id = cmd_id = command_client.robot_command(cmd, end_time_secs = time.time()+timeoutSec)\n",
    "            bdcrc.block_for_trajectory_cmd(command_client, cmd_id)\n",
    "            res = checkForCubeAndGrasp(det, graph_nav_client)\n",
    "            if(res):\n",
    "                hasCube = True\n",
    "            waypointDict = graphInit(graph_nav_client, upload_filepath)\n",
    "        elif wpInd == 10:\n",
    "            if hasCube:\n",
    "                print('CUBE POSSESSED')\n",
    "                cmd = RobotCommandBuilder.claw_gripper_open_fraction_command(1.0)\n",
    "                cmd_id = command_client.robot_command(cmd, end_time_secs = time.time()+timeoutSec)\n",
    "                print('CUBE DROPPED')\n",
    "                hasCube = False\n",
    "                \n",
    "        "
   ]
  },
  {
   "cell_type": "code",
   "execution_count": 116,
   "id": "4398f067",
   "metadata": {},
   "outputs": [
    {
     "name": "stdout",
     "output_type": "stream",
     "text": [
      "Loading the graph from disk into local storage...\n",
      "Loaded graph has 27 waypoints and 29 edges\n",
      "Uploading the graph and snapshots to the robot...\n",
      "\n",
      "\n",
      "Upload complete! The robot is currently not localized to the map; please localize the robot using commands (2) or (3) before attempting a navigation command.\n",
      "attempt #:  0\n",
      "Error during fiducial localization init:  bosdyn.api.graph_nav.SetLocalizationResponse (ResponseError): Code: 8 (STATUS_NO_MATCHING_FIDUCIAL)\n",
      "attempt #:  1\n",
      "Error during fiducial localization init:  bosdyn.api.graph_nav.SetLocalizationResponse (ResponseError): Code: 8 (STATUS_NO_MATCHING_FIDUCIAL)\n",
      "attempt #:  2\n",
      "Error during fiducial localization init:  bosdyn.api.graph_nav.SetLocalizationResponse (ResponseError): Code: 8 (STATUS_NO_MATCHING_FIDUCIAL)\n",
      "attempt #:  3\n",
      "Error during fiducial localization init:  bosdyn.api.graph_nav.SetLocalizationResponse (ResponseError): Code: 8 (STATUS_NO_MATCHING_FIDUCIAL)\n",
      "attempt #:  4\n",
      "SUCCESS: initialized location to using nearest fiducial\n"
     ]
    }
   ],
   "source": [
    "waypointDict = graphInit(graph_nav_client, upload_filepath)\n",
    "nav_to_cmd_id = graph_nav_client.navigate_to(waypointDict[10], timeoutSec)\n",
    "waitUntilFinishedNav(nav_to_cmd_id)"
   ]
  },
  {
   "cell_type": "code",
   "execution_count": 117,
   "id": "1a8d7330",
   "metadata": {},
   "outputs": [
    {
     "data": {
      "text/plain": [
       "True"
      ]
     },
     "execution_count": 117,
     "metadata": {},
     "output_type": "execute_result"
    }
   ],
   "source": [
    "nav_to_cmd_id = graph_nav_client.navigate_to(waypointDict[9], timeoutSec)\n",
    "waitUntilFinishedNav(nav_to_cmd_id)\n",
    "frameTreeSnapshot = robot.get_frame_tree_snapshot()\n",
    "cmd = RobotCommandBuilder.synchro_trajectory_command_in_body_frame(0, 0, np.pi/2, frame_tree_snapshot = frameTreeSnapshot)\n",
    "cmd_id = cmd_id = command_client.robot_command(cmd, end_time_secs = time.time()+timeoutSec)\n",
    "bdcrc.block_for_trajectory_cmd(command_client, cmd_id)"
   ]
  },
  {
   "cell_type": "code",
   "execution_count": 121,
   "id": "a1e9a90b",
   "metadata": {},
   "outputs": [
    {
     "name": "stdout",
     "output_type": "stream",
     "text": [
      "Gripper opening\n",
      "looking down\n",
      "RUBIK'S CUBE FOUND and localized\n",
      "Current state:  MANIP_STATE_SEARCHING_FOR_GRASP\n",
      "Current state:  MANIP_STATE_SEARCHING_FOR_GRASP\n",
      "Current state:  MANIP_STATE_MOVING_TO_GRASP\n",
      "Current state:  MANIP_STATE_MOVING_TO_GRASP\n",
      "Current state:  MANIP_STATE_MOVING_TO_GRASP\n",
      "Current state:  MANIP_STATE_MOVING_TO_GRASP\n",
      "Current state:  MANIP_STATE_MOVING_TO_GRASP\n",
      "Current state:  MANIP_STATE_MOVING_TO_GRASP\n",
      "Current state:  MANIP_STATE_MOVING_TO_GRASP\n",
      "Current state:  MANIP_STATE_MOVING_TO_GRASP\n",
      "Current state:  MANIP_STATE_MOVING_TO_GRASP\n",
      "Current state:  MANIP_STATE_MOVING_TO_GRASP\n",
      "Current state:  MANIP_STATE_MOVING_TO_GRASP\n",
      "Current state:  MANIP_STATE_MOVING_TO_GRASP\n",
      "Current state:  MANIP_STATE_MOVING_TO_GRASP\n",
      "Current state:  MANIP_STATE_MOVING_TO_GRASP\n",
      "Current state:  MANIP_STATE_MOVING_TO_GRASP\n",
      "Current state:  MANIP_STATE_MOVING_TO_GRASP\n",
      "Current state:  MANIP_STATE_MOVING_TO_GRASP\n",
      "Current state:  MANIP_STATE_MOVING_TO_GRASP\n",
      "Current state:  MANIP_STATE_MOVING_TO_GRASP\n",
      "Current state:  MANIP_STATE_MOVING_TO_GRASP\n",
      "Current state:  MANIP_STATE_MOVING_TO_GRASP\n",
      "Current state:  MANIP_STATE_MOVING_TO_GRASP\n",
      "Current state:  MANIP_STATE_MOVING_TO_GRASP\n",
      "Current state:  MANIP_STATE_MOVING_TO_GRASP\n",
      "Current state:  MANIP_STATE_GRASP_SUCCEEDED\n",
      "GRASP MADE\n"
     ]
    }
   ],
   "source": [
    "res = checkForCubeAndGrasp(det, graph_nav_client)"
   ]
  },
  {
   "cell_type": "code",
   "execution_count": 123,
   "id": "e9cd4401",
   "metadata": {},
   "outputs": [],
   "source": [
    "cmd = RobotCommandBuilder.arm_stow_command()\n",
    "cmd_id = command_client.robot_command(cmd, end_time_secs = time.time()+5)\n",
    "bdcrc.block_until_arm_arrives(command_client, cmd_id, timeout_sec = time.time() + 3.0)\n",
    "\n",
    "bdcrc.blocking_sit(command_client, timeout_sec = timeoutSec)\n",
    "\n",
    "cmd = RobotCommandBuilder.claw_gripper_open_fraction_command(1.0)\n",
    "cmd_id = command_client.robot_command(cmd, end_time_secs = time.time()+timeoutSec)"
   ]
  },
  {
   "cell_type": "code",
   "execution_count": null,
   "id": "b8f61168",
   "metadata": {},
   "outputs": [],
   "source": []
  },
  {
   "cell_type": "code",
   "execution_count": 297,
   "id": "35ef7e32",
   "metadata": {},
   "outputs": [],
   "source": [
    "cmd = RobotCommandBuilder.claw_gripper_open_fraction_command(1.0)\n",
    "cmd_id = command_client.robot_command(cmd, end_time_secs = time.time()+timeoutSec)"
   ]
  },
  {
   "cell_type": "code",
   "execution_count": 309,
   "id": "e92d5ce2",
   "metadata": {},
   "outputs": [
    {
     "ename": "RobotNotLocalizedToRouteError",
     "evalue": "bosdyn.api.graph_nav.NavigateToResponse (RobotNotLocalizedToRouteError): The current localization doesn't refer to any waypoint in the route (possibly uninitialized localization).",
     "output_type": "error",
     "traceback": [
      "\u001b[0;31m---------------------------------------------------------------------------\u001b[0m",
      "\u001b[0;31mRobotNotLocalizedToRouteError\u001b[0m             Traceback (most recent call last)",
      "\u001b[0;32m/tmp/ipykernel_9045/862688592.py\u001b[0m in \u001b[0;36m<module>\u001b[0;34m\u001b[0m\n\u001b[0;32m----> 1\u001b[0;31m \u001b[0mnav_to_cmd_id\u001b[0m \u001b[0;34m=\u001b[0m \u001b[0mgraph_nav_client\u001b[0m\u001b[0;34m.\u001b[0m\u001b[0mnavigate_to\u001b[0m\u001b[0;34m(\u001b[0m\u001b[0mwaypointDict\u001b[0m\u001b[0;34m[\u001b[0m\u001b[0;36m10\u001b[0m\u001b[0;34m]\u001b[0m\u001b[0;34m,\u001b[0m \u001b[0mtimeoutSec\u001b[0m\u001b[0;34m)\u001b[0m\u001b[0;34m\u001b[0m\u001b[0;34m\u001b[0m\u001b[0m\n\u001b[0m",
      "\u001b[0;32m~/mambaforge/envs/spotenv/lib/python3.7/site-packages/bosdyn/client/graph_nav.py\u001b[0m in \u001b[0;36mnavigate_to\u001b[0;34m(self, destination_waypoint_id, cmd_duration, route_params, travel_params, leases, timesync_endpoint, command_id, destination_waypoint_tform_body_goal, **kwargs)\u001b[0m\n\u001b[1;32m    258\u001b[0m         return self.call(self._stub.NavigateTo, request,\n\u001b[1;32m    259\u001b[0m                          \u001b[0mvalue_from_response\u001b[0m\u001b[0;34m=\u001b[0m\u001b[0m_command_id_from_navigate_route_response\u001b[0m\u001b[0;34m,\u001b[0m\u001b[0;34m\u001b[0m\u001b[0;34m\u001b[0m\u001b[0m\n\u001b[0;32m--> 260\u001b[0;31m                          error_from_response=_navigate_to_error, **kwargs)\n\u001b[0m\u001b[1;32m    261\u001b[0m \u001b[0;34m\u001b[0m\u001b[0m\n\u001b[1;32m    262\u001b[0m     def navigate_to_async(self, destination_waypoint_id, cmd_duration, route_params=None,\n",
      "\u001b[0;32m~/mambaforge/envs/spotenv/lib/python3.7/site-packages/bosdyn/client/common.py\u001b[0m in \u001b[0;36mprocessor\u001b[0;34m(self, rpc_method, request, value_from_response, error_from_response, **kwargs)\u001b[0m\n\u001b[1;32m    233\u001b[0m \u001b[0;34m\u001b[0m\u001b[0m\n\u001b[1;32m    234\u001b[0m         return func(self, rpc_method, request, value_from_response=value_from_response,\n\u001b[0;32m--> 235\u001b[0;31m                     error_from_response=error_from_response, **kwargs)\n\u001b[0m\u001b[1;32m    236\u001b[0m \u001b[0;34m\u001b[0m\u001b[0m\n\u001b[1;32m    237\u001b[0m     \u001b[0;32mreturn\u001b[0m \u001b[0mprocessor\u001b[0m\u001b[0;34m\u001b[0m\u001b[0;34m\u001b[0m\u001b[0m\n",
      "\u001b[0;32m~/mambaforge/envs/spotenv/lib/python3.7/site-packages/bosdyn/client/common.py\u001b[0m in \u001b[0;36mcall\u001b[0;34m(self, rpc_method, request, value_from_response, error_from_response, **kwargs)\u001b[0m\n\u001b[1;32m    355\u001b[0m             logger.debug('response: %s %s', rpc_method._method,\n\u001b[1;32m    356\u001b[0m                          self.response_trim_for_log(response))\n\u001b[0;32m--> 357\u001b[0;31m             \u001b[0;32mreturn\u001b[0m \u001b[0mself\u001b[0m\u001b[0;34m.\u001b[0m\u001b[0mhandle_response\u001b[0m\u001b[0;34m(\u001b[0m\u001b[0mresponse\u001b[0m\u001b[0;34m,\u001b[0m \u001b[0merror_from_response\u001b[0m\u001b[0;34m,\u001b[0m \u001b[0mvalue_from_response\u001b[0m\u001b[0;34m)\u001b[0m\u001b[0;34m\u001b[0m\u001b[0;34m\u001b[0m\u001b[0m\n\u001b[0m\u001b[1;32m    358\u001b[0m \u001b[0;34m\u001b[0m\u001b[0m\n\u001b[1;32m    359\u001b[0m     \u001b[0;32mdef\u001b[0m \u001b[0mhandle_response\u001b[0m\u001b[0;34m(\u001b[0m\u001b[0mself\u001b[0m\u001b[0;34m,\u001b[0m \u001b[0mresponse\u001b[0m\u001b[0;34m,\u001b[0m \u001b[0merror_from_response\u001b[0m\u001b[0;34m,\u001b[0m \u001b[0mvalue_from_response\u001b[0m\u001b[0;34m)\u001b[0m\u001b[0;34m:\u001b[0m\u001b[0;34m\u001b[0m\u001b[0;34m\u001b[0m\u001b[0m\n",
      "\u001b[0;32m~/mambaforge/envs/spotenv/lib/python3.7/site-packages/bosdyn/client/common.py\u001b[0m in \u001b[0;36mhandle_response\u001b[0;34m(self, response, error_from_response, value_from_response)\u001b[0m\n\u001b[1;32m    363\u001b[0m             \u001b[0mexc\u001b[0m \u001b[0;34m=\u001b[0m \u001b[0;32mNone\u001b[0m\u001b[0;34m\u001b[0m\u001b[0;34m\u001b[0m\u001b[0m\n\u001b[1;32m    364\u001b[0m         \u001b[0;32mif\u001b[0m \u001b[0mexc\u001b[0m \u001b[0;32mis\u001b[0m \u001b[0;32mnot\u001b[0m \u001b[0;32mNone\u001b[0m\u001b[0;34m:\u001b[0m\u001b[0;34m\u001b[0m\u001b[0;34m\u001b[0m\u001b[0m\n\u001b[0;32m--> 365\u001b[0;31m             \u001b[0;32mraise\u001b[0m \u001b[0mexc\u001b[0m  \u001b[0;31m# pylint: disable=raising-bad-type\u001b[0m\u001b[0;34m\u001b[0m\u001b[0;34m\u001b[0m\u001b[0m\n\u001b[0m\u001b[1;32m    366\u001b[0m         \u001b[0;32mif\u001b[0m \u001b[0mvalue_from_response\u001b[0m \u001b[0;32mis\u001b[0m \u001b[0;32mNone\u001b[0m\u001b[0;34m:\u001b[0m\u001b[0;34m\u001b[0m\u001b[0;34m\u001b[0m\u001b[0m\n\u001b[1;32m    367\u001b[0m             \u001b[0;32mreturn\u001b[0m \u001b[0mresponse\u001b[0m\u001b[0;34m\u001b[0m\u001b[0;34m\u001b[0m\u001b[0m\n",
      "\u001b[0;31mRobotNotLocalizedToRouteError\u001b[0m: bosdyn.api.graph_nav.NavigateToResponse (RobotNotLocalizedToRouteError): The current localization doesn't refer to any waypoint in the route (possibly uninitialized localization)."
     ]
    }
   ],
   "source": [
    "nav_to_cmd_id = graph_nav_client.navigate_to(waypointDict[10], timeoutSec)"
   ]
  },
  {
   "cell_type": "code",
   "execution_count": 240,
   "id": "036bcdb2",
   "metadata": {},
   "outputs": [
    {
     "data": {
      "text/plain": [
       "True"
      ]
     },
     "execution_count": 240,
     "metadata": {},
     "output_type": "execute_result"
    }
   ],
   "source": [
    "nav_to_cmd_id = graph_nav_client.navigate_to(waypointDict[9], timeoutSec)\n",
    "waitUntilFinishedNav(nav_to_cmd_id)\n",
    "\n"
   ]
  },
  {
   "cell_type": "code",
   "execution_count": 249,
   "id": "42a59f7e",
   "metadata": {},
   "outputs": [
    {
     "name": "stdout",
     "output_type": "stream",
     "text": [
      "Arm Ready\n",
      "Gripper opening\n",
      "looking down\n",
      "NO RUBIK'S CUBE FOUND, continuing walk\n"
     ]
    },
    {
     "ename": "AttributeError",
     "evalue": "type object 'RobotCommandBuilder' has no attribute 'gripper_close_command'",
     "output_type": "error",
     "traceback": [
      "\u001b[0;31m---------------------------------------------------------------------------\u001b[0m",
      "\u001b[0;31mAttributeError\u001b[0m                            Traceback (most recent call last)",
      "\u001b[0;32m/tmp/ipykernel_9045/1209487296.py\u001b[0m in \u001b[0;36m<module>\u001b[0;34m\u001b[0m\n\u001b[1;32m     14\u001b[0m \u001b[0;34m\u001b[0m\u001b[0m\n\u001b[1;32m     15\u001b[0m \u001b[0mcmdA\u001b[0m \u001b[0;34m=\u001b[0m \u001b[0mRobotCommandBuilder\u001b[0m\u001b[0;34m.\u001b[0m\u001b[0marm_stow_command\u001b[0m\u001b[0;34m(\u001b[0m\u001b[0;34m)\u001b[0m\u001b[0;34m\u001b[0m\u001b[0;34m\u001b[0m\u001b[0m\n\u001b[0;32m---> 16\u001b[0;31m \u001b[0mcmdG\u001b[0m \u001b[0;34m=\u001b[0m \u001b[0mRobotCommandBuilder\u001b[0m\u001b[0;34m.\u001b[0m\u001b[0mgripper_close_command\u001b[0m\u001b[0;34m(\u001b[0m\u001b[0;34m)\u001b[0m\u001b[0;34m\u001b[0m\u001b[0;34m\u001b[0m\u001b[0m\n\u001b[0m\u001b[1;32m     17\u001b[0m \u001b[0mcmd_id\u001b[0m \u001b[0;34m=\u001b[0m \u001b[0mcommand_client\u001b[0m\u001b[0;34m.\u001b[0m\u001b[0mrobot_command\u001b[0m\u001b[0;34m(\u001b[0m\u001b[0mcmd\u001b[0m\u001b[0;34m,\u001b[0m \u001b[0mend_time_secs\u001b[0m \u001b[0;34m=\u001b[0m \u001b[0mtime\u001b[0m\u001b[0;34m.\u001b[0m\u001b[0mtime\u001b[0m\u001b[0;34m(\u001b[0m\u001b[0;34m)\u001b[0m\u001b[0;34m+\u001b[0m\u001b[0;36m5\u001b[0m\u001b[0;34m)\u001b[0m\u001b[0;34m\u001b[0m\u001b[0;34m\u001b[0m\u001b[0m\n",
      "\u001b[0;31mAttributeError\u001b[0m: type object 'RobotCommandBuilder' has no attribute 'gripper_close_command'"
     ]
    }
   ],
   "source": [
    "# image_query = makeGLAPICall(det, graph_nav_client)\n",
    "\n",
    "# grasp_request = None\n",
    "# if image_query.result.label == 'PASS':\n",
    "#     grasp_request = localizeObject()\n",
    "#     print(\"RUBIK'S CUBE FOUND and localized\")\n",
    "# else:\n",
    "#     print(\"NO RUBIK'S CUBE FOUND, continuing walk\")\n",
    "#     cmd = RobotCommandBuilder.claw_gripper_open_fraction_command(0.0)\n",
    "    \n",
    "    \n",
    "# if grasp_request is not None:\n",
    "#     makeGrasp(grasp_request)\n",
    "#     print(\"GRASP MADE\")\n",
    "    \n",
    "    \n",
    "# cmd = RobotCommandBuilder.arm_stow_command()\n",
    "# cmd_id = command_client.robot_command(cmd, end_time_secs = time.time()+5)\n",
    "\n",
    "# waypointDict = graphInit(graph_nav_client, upload_filepath)\n",
    "# nav_to_cmd_id = graph_nav_client.navigate_to(waypointDict[10], timeoutSec)"
   ]
  },
  {
   "cell_type": "code",
   "execution_count": 36,
   "id": "09ebcb08",
   "metadata": {},
   "outputs": [],
   "source": []
  },
  {
   "cell_type": "code",
   "execution_count": null,
   "id": "5001586d",
   "metadata": {},
   "outputs": [],
   "source": []
  }
 ],
 "metadata": {
  "kernelspec": {
   "display_name": "Python 3 (ipykernel)",
   "language": "python",
   "name": "python3"
  },
  "language_info": {
   "codemirror_mode": {
    "name": "ipython",
    "version": 3
   },
   "file_extension": ".py",
   "mimetype": "text/x-python",
   "name": "python",
   "nbconvert_exporter": "python",
   "pygments_lexer": "ipython3",
   "version": "3.7.12"
  }
 },
 "nbformat": 4,
 "nbformat_minor": 5
}
